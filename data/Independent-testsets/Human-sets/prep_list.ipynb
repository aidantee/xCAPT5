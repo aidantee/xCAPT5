{
 "cells": [
  {
   "cell_type": "code",
   "execution_count": 1,
   "metadata": {},
   "outputs": [],
   "source": [
    "import pandas as pd\n",
    "import numpy as np"
   ]
  },
  {
   "cell_type": "code",
   "execution_count": 2,
   "metadata": {},
   "outputs": [],
   "source": [
    "species = 'ecoli'\n",
    "kind = 'test'\n",
    "dataset_name = f'{species}_{kind}_sub.tsv'"
   ]
  },
  {
   "cell_type": "code",
   "execution_count": 4,
   "metadata": {},
   "outputs": [
    {
     "data": {
      "text/html": [
       "<div>\n",
       "<style scoped>\n",
       "    .dataframe tbody tr th:only-of-type {\n",
       "        vertical-align: middle;\n",
       "    }\n",
       "\n",
       "    .dataframe tbody tr th {\n",
       "        vertical-align: top;\n",
       "    }\n",
       "\n",
       "    .dataframe thead th {\n",
       "        text-align: right;\n",
       "    }\n",
       "</style>\n",
       "<table border=\"1\" class=\"dataframe\">\n",
       "  <thead>\n",
       "    <tr style=\"text-align: right;\">\n",
       "      <th></th>\n",
       "      <th>p1</th>\n",
       "      <th>p2</th>\n",
       "      <th>label</th>\n",
       "    </tr>\n",
       "  </thead>\n",
       "  <tbody>\n",
       "    <tr>\n",
       "      <th>0</th>\n",
       "      <td>362663.ecp:ECP_3516</td>\n",
       "      <td>362663.ECP_3470</td>\n",
       "      <td>0.0</td>\n",
       "    </tr>\n",
       "    <tr>\n",
       "      <th>1</th>\n",
       "      <td>362663.ECP_0458</td>\n",
       "      <td>362663.ECP_4383</td>\n",
       "      <td>0.0</td>\n",
       "    </tr>\n",
       "    <tr>\n",
       "      <th>2</th>\n",
       "      <td>362663.ECP_4224</td>\n",
       "      <td>362663.ecp:ECP_3555</td>\n",
       "      <td>0.0</td>\n",
       "    </tr>\n",
       "    <tr>\n",
       "      <th>3</th>\n",
       "      <td>362663.ECP_0126</td>\n",
       "      <td>362663.ECP_4126</td>\n",
       "      <td>0.0</td>\n",
       "    </tr>\n",
       "    <tr>\n",
       "      <th>4</th>\n",
       "      <td>362663.ECP_1421</td>\n",
       "      <td>362663.ecp:ECP_2915</td>\n",
       "      <td>1.0</td>\n",
       "    </tr>\n",
       "    <tr>\n",
       "      <th>...</th>\n",
       "      <td>...</td>\n",
       "      <td>...</td>\n",
       "      <td>...</td>\n",
       "    </tr>\n",
       "    <tr>\n",
       "      <th>5995</th>\n",
       "      <td>362663.ecp:ECP_1996</td>\n",
       "      <td>362663.ECP_2562</td>\n",
       "      <td>0.0</td>\n",
       "    </tr>\n",
       "    <tr>\n",
       "      <th>5996</th>\n",
       "      <td>362663.ECP_0699</td>\n",
       "      <td>362663.ecp:ECP_3313</td>\n",
       "      <td>0.0</td>\n",
       "    </tr>\n",
       "    <tr>\n",
       "      <th>5997</th>\n",
       "      <td>362663.ECP_1355</td>\n",
       "      <td>362663.ECP_0013</td>\n",
       "      <td>0.0</td>\n",
       "    </tr>\n",
       "    <tr>\n",
       "      <th>5998</th>\n",
       "      <td>362663.ECP_0878</td>\n",
       "      <td>362663.ecp:ECP_1449</td>\n",
       "      <td>0.0</td>\n",
       "    </tr>\n",
       "    <tr>\n",
       "      <th>5999</th>\n",
       "      <td>362663.ECP_2039</td>\n",
       "      <td>362663.ECP_3553</td>\n",
       "      <td>0.0</td>\n",
       "    </tr>\n",
       "  </tbody>\n",
       "</table>\n",
       "<p>6000 rows × 3 columns</p>\n",
       "</div>"
      ],
      "text/plain": [
       "                       p1                   p2  label\n",
       "0     362663.ecp:ECP_3516      362663.ECP_3470    0.0\n",
       "1         362663.ECP_0458      362663.ECP_4383    0.0\n",
       "2         362663.ECP_4224  362663.ecp:ECP_3555    0.0\n",
       "3         362663.ECP_0126      362663.ECP_4126    0.0\n",
       "4         362663.ECP_1421  362663.ecp:ECP_2915    1.0\n",
       "...                   ...                  ...    ...\n",
       "5995  362663.ecp:ECP_1996      362663.ECP_2562    0.0\n",
       "5996      362663.ECP_0699  362663.ecp:ECP_3313    0.0\n",
       "5997      362663.ECP_1355      362663.ECP_0013    0.0\n",
       "5998      362663.ECP_0878  362663.ecp:ECP_1449    0.0\n",
       "5999      362663.ECP_2039      362663.ECP_3553    0.0\n",
       "\n",
       "[6000 rows x 3 columns]"
      ]
     },
     "execution_count": 4,
     "metadata": {},
     "output_type": "execute_result"
    }
   ],
   "source": [
    "df = pd.read_csv(dataset_name, header=None, sep='\\t')\n",
    "df.columns = ['p1', 'p2', 'label']\n",
    "df"
   ]
  },
  {
   "cell_type": "code",
   "execution_count": 5,
   "metadata": {},
   "outputs": [],
   "source": [
    "list_unique_id = list( set(list(df['p1'].values)+list(df['p2']))  )\n",
    "pd.DataFrame(list_unique_id).to_csv(f'list_{species}_{kind}.txt', header=None, index=None)"
   ]
  },
  {
   "cell_type": "code",
   "execution_count": null,
   "metadata": {},
   "outputs": [],
   "source": []
  }
 ],
 "metadata": {
  "interpreter": {
   "hash": "e7bd760b05497710bf53f80c0ec7300a1e0138a492c59321878284c883f3e91e"
  },
  "kernelspec": {
   "display_name": "Python 3.9.7 ('base')",
   "language": "python",
   "name": "python3"
  },
  "language_info": {
   "codemirror_mode": {
    "name": "ipython",
    "version": 3
   },
   "file_extension": ".py",
   "mimetype": "text/x-python",
   "name": "python",
   "nbconvert_exporter": "python",
   "pygments_lexer": "ipython3",
   "version": "3.9.7"
  },
  "orig_nbformat": 4
 },
 "nbformat": 4,
 "nbformat_minor": 2
}
