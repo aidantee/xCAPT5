{
 "cells": [
  {
   "cell_type": "code",
   "execution_count": 1,
   "metadata": {},
   "outputs": [],
   "source": [
    "import pandas as pd\n",
    "import numpy as np"
   ]
  },
  {
   "cell_type": "code",
   "execution_count": 2,
   "metadata": {},
   "outputs": [],
   "source": [
    "species='mouse'\n",
    "kind = 'test'\n",
    "dataset_name = f'{species}_{kind}.tsv'\n",
    "subset_size = 1000"
   ]
  },
  {
   "cell_type": "code",
   "execution_count": 3,
   "metadata": {},
   "outputs": [
    {
     "data": {
      "text/html": [
       "<div>\n",
       "<style scoped>\n",
       "    .dataframe tbody tr th:only-of-type {\n",
       "        vertical-align: middle;\n",
       "    }\n",
       "\n",
       "    .dataframe tbody tr th {\n",
       "        vertical-align: top;\n",
       "    }\n",
       "\n",
       "    .dataframe thead th {\n",
       "        text-align: right;\n",
       "    }\n",
       "</style>\n",
       "<table border=\"1\" class=\"dataframe\">\n",
       "  <thead>\n",
       "    <tr style=\"text-align: right;\">\n",
       "      <th></th>\n",
       "      <th>p1</th>\n",
       "      <th>p1</th>\n",
       "      <th>label</th>\n",
       "    </tr>\n",
       "  </thead>\n",
       "  <tbody>\n",
       "    <tr>\n",
       "      <th>0</th>\n",
       "      <td>10090.ENSMUSP00000002551</td>\n",
       "      <td>10090.ENSMUSP00000044178</td>\n",
       "      <td>1.0</td>\n",
       "    </tr>\n",
       "    <tr>\n",
       "      <th>1</th>\n",
       "      <td>10090.ENSMUSP00000106249</td>\n",
       "      <td>10090.ENSMUSP00000110731</td>\n",
       "      <td>1.0</td>\n",
       "    </tr>\n",
       "    <tr>\n",
       "      <th>2</th>\n",
       "      <td>10090.ENSMUSP00000109313</td>\n",
       "      <td>10090.ENSMUSP00000055941</td>\n",
       "      <td>1.0</td>\n",
       "    </tr>\n",
       "    <tr>\n",
       "      <th>3</th>\n",
       "      <td>10090.ENSMUSP00000124695</td>\n",
       "      <td>10090.ENSMUSP00000117609</td>\n",
       "      <td>1.0</td>\n",
       "    </tr>\n",
       "    <tr>\n",
       "      <th>4</th>\n",
       "      <td>10090.ENSMUSP00000139467</td>\n",
       "      <td>10090.ENSMUSP00000120807</td>\n",
       "      <td>1.0</td>\n",
       "    </tr>\n",
       "    <tr>\n",
       "      <th>...</th>\n",
       "      <td>...</td>\n",
       "      <td>...</td>\n",
       "      <td>...</td>\n",
       "    </tr>\n",
       "    <tr>\n",
       "      <th>54995</th>\n",
       "      <td>10090.ENSMUSP00000103485</td>\n",
       "      <td>10090.ENSMUSP00000123630</td>\n",
       "      <td>0.0</td>\n",
       "    </tr>\n",
       "    <tr>\n",
       "      <th>54996</th>\n",
       "      <td>10090.ENSMUSP00000078819</td>\n",
       "      <td>10090.ENSMUSP00000105575</td>\n",
       "      <td>0.0</td>\n",
       "    </tr>\n",
       "    <tr>\n",
       "      <th>54997</th>\n",
       "      <td>10090.ENSMUSP00000083664</td>\n",
       "      <td>10090.ENSMUSP00000129149</td>\n",
       "      <td>0.0</td>\n",
       "    </tr>\n",
       "    <tr>\n",
       "      <th>54998</th>\n",
       "      <td>10090.ENSMUSP00000129372</td>\n",
       "      <td>10090.ENSMUSP00000139742</td>\n",
       "      <td>0.0</td>\n",
       "    </tr>\n",
       "    <tr>\n",
       "      <th>54999</th>\n",
       "      <td>10090.ENSMUSP00000049466</td>\n",
       "      <td>10090.ENSMUSP00000105678</td>\n",
       "      <td>0.0</td>\n",
       "    </tr>\n",
       "  </tbody>\n",
       "</table>\n",
       "<p>55000 rows × 3 columns</p>\n",
       "</div>"
      ],
      "text/plain": [
       "                             p1                        p1  label\n",
       "0      10090.ENSMUSP00000002551  10090.ENSMUSP00000044178    1.0\n",
       "1      10090.ENSMUSP00000106249  10090.ENSMUSP00000110731    1.0\n",
       "2      10090.ENSMUSP00000109313  10090.ENSMUSP00000055941    1.0\n",
       "3      10090.ENSMUSP00000124695  10090.ENSMUSP00000117609    1.0\n",
       "4      10090.ENSMUSP00000139467  10090.ENSMUSP00000120807    1.0\n",
       "...                         ...                       ...    ...\n",
       "54995  10090.ENSMUSP00000103485  10090.ENSMUSP00000123630    0.0\n",
       "54996  10090.ENSMUSP00000078819  10090.ENSMUSP00000105575    0.0\n",
       "54997  10090.ENSMUSP00000083664  10090.ENSMUSP00000129149    0.0\n",
       "54998  10090.ENSMUSP00000129372  10090.ENSMUSP00000139742    0.0\n",
       "54999  10090.ENSMUSP00000049466  10090.ENSMUSP00000105678    0.0\n",
       "\n",
       "[55000 rows x 3 columns]"
      ]
     },
     "execution_count": 3,
     "metadata": {},
     "output_type": "execute_result"
    }
   ],
   "source": [
    "df = pd.read_csv(dataset_name, header=None, sep='\\t')\n",
    "df.columns = ['p1', 'p1', 'label']\n",
    "df"
   ]
  },
  {
   "cell_type": "code",
   "execution_count": 4,
   "metadata": {},
   "outputs": [],
   "source": [
    "df_shuffled = df.sample(frac=1, random_state=42).reset_index(drop=True)\n",
    "df_subset_shuffled = df_shuffled[:subset_size]\n",
    "df_subset_shuffled.to_csv(f'{species}_{kind}_sub.tsv', header=None, index=None, sep='\\t')"
   ]
  },
  {
   "cell_type": "code",
   "execution_count": 17,
   "metadata": {},
   "outputs": [
    {
     "data": {
      "text/plain": [
       "9"
      ]
     },
     "execution_count": 17,
     "metadata": {},
     "output_type": "execute_result"
    }
   ],
   "source": []
  }
 ],
 "metadata": {
  "interpreter": {
   "hash": "e7bd760b05497710bf53f80c0ec7300a1e0138a492c59321878284c883f3e91e"
  },
  "kernelspec": {
   "display_name": "Python 3.9.7 ('base')",
   "language": "python",
   "name": "python3"
  },
  "language_info": {
   "codemirror_mode": {
    "name": "ipython",
    "version": 3
   },
   "file_extension": ".py",
   "mimetype": "text/x-python",
   "name": "python",
   "nbconvert_exporter": "python",
   "pygments_lexer": "ipython3",
   "version": "3.9.5"
  },
  "orig_nbformat": 4
 },
 "nbformat": 4,
 "nbformat_minor": 2
}
