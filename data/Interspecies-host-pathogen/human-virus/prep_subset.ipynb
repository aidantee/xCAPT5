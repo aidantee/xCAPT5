{
 "cells": [
  {
   "cell_type": "code",
   "execution_count": 3,
   "metadata": {},
   "outputs": [],
   "source": [
    "import pandas as pd\n",
    "import numpy as np"
   ]
  },
  {
   "cell_type": "code",
   "execution_count": 4,
   "metadata": {},
   "outputs": [],
   "source": [
    "species='ecoli'\n",
    "kind = 'test'\n",
    "dataset_name = f'{species}_{kind}.tsv'\n",
    "subset_size = 6000"
   ]
  },
  {
   "cell_type": "code",
   "execution_count": 5,
   "metadata": {},
   "outputs": [
    {
     "data": {
      "text/html": [
       "<div>\n",
       "<style scoped>\n",
       "    .dataframe tbody tr th:only-of-type {\n",
       "        vertical-align: middle;\n",
       "    }\n",
       "\n",
       "    .dataframe tbody tr th {\n",
       "        vertical-align: top;\n",
       "    }\n",
       "\n",
       "    .dataframe thead th {\n",
       "        text-align: right;\n",
       "    }\n",
       "</style>\n",
       "<table border=\"1\" class=\"dataframe\">\n",
       "  <thead>\n",
       "    <tr style=\"text-align: right;\">\n",
       "      <th></th>\n",
       "      <th>p1</th>\n",
       "      <th>p1</th>\n",
       "      <th>label</th>\n",
       "    </tr>\n",
       "  </thead>\n",
       "  <tbody>\n",
       "    <tr>\n",
       "      <th>0</th>\n",
       "      <td>362663.ECP_3406</td>\n",
       "      <td>362663.ECP_4448</td>\n",
       "      <td>1.0</td>\n",
       "    </tr>\n",
       "    <tr>\n",
       "      <th>1</th>\n",
       "      <td>362663.ECP_0442</td>\n",
       "      <td>362663.ecp:ECP_0985</td>\n",
       "      <td>1.0</td>\n",
       "    </tr>\n",
       "    <tr>\n",
       "      <th>2</th>\n",
       "      <td>362663.ECP_3384</td>\n",
       "      <td>362663.ECP_4447</td>\n",
       "      <td>1.0</td>\n",
       "    </tr>\n",
       "    <tr>\n",
       "      <th>3</th>\n",
       "      <td>362663.ECP_0161</td>\n",
       "      <td>362663.ecp:ECP_3117</td>\n",
       "      <td>1.0</td>\n",
       "    </tr>\n",
       "    <tr>\n",
       "      <th>4</th>\n",
       "      <td>362663.ecp:ECP_1481</td>\n",
       "      <td>362663.ECP_2475</td>\n",
       "      <td>1.0</td>\n",
       "    </tr>\n",
       "    <tr>\n",
       "      <th>...</th>\n",
       "      <td>...</td>\n",
       "      <td>...</td>\n",
       "      <td>...</td>\n",
       "    </tr>\n",
       "    <tr>\n",
       "      <th>21995</th>\n",
       "      <td>362663.ECP_2384</td>\n",
       "      <td>362663.ECP_2922</td>\n",
       "      <td>0.0</td>\n",
       "    </tr>\n",
       "    <tr>\n",
       "      <th>21996</th>\n",
       "      <td>362663.ECP_1743</td>\n",
       "      <td>362663.ECP_1562</td>\n",
       "      <td>0.0</td>\n",
       "    </tr>\n",
       "    <tr>\n",
       "      <th>21997</th>\n",
       "      <td>362663.ECP_3662</td>\n",
       "      <td>362663.ECP_4685</td>\n",
       "      <td>0.0</td>\n",
       "    </tr>\n",
       "    <tr>\n",
       "      <th>21998</th>\n",
       "      <td>362663.ECP_3212</td>\n",
       "      <td>362663.ECP_3077</td>\n",
       "      <td>0.0</td>\n",
       "    </tr>\n",
       "    <tr>\n",
       "      <th>21999</th>\n",
       "      <td>362663.ECP_3645</td>\n",
       "      <td>362663.ECP_0650</td>\n",
       "      <td>0.0</td>\n",
       "    </tr>\n",
       "  </tbody>\n",
       "</table>\n",
       "<p>22000 rows × 3 columns</p>\n",
       "</div>"
      ],
      "text/plain": [
       "                        p1                   p1  label\n",
       "0          362663.ECP_3406      362663.ECP_4448    1.0\n",
       "1          362663.ECP_0442  362663.ecp:ECP_0985    1.0\n",
       "2          362663.ECP_3384      362663.ECP_4447    1.0\n",
       "3          362663.ECP_0161  362663.ecp:ECP_3117    1.0\n",
       "4      362663.ecp:ECP_1481      362663.ECP_2475    1.0\n",
       "...                    ...                  ...    ...\n",
       "21995      362663.ECP_2384      362663.ECP_2922    0.0\n",
       "21996      362663.ECP_1743      362663.ECP_1562    0.0\n",
       "21997      362663.ECP_3662      362663.ECP_4685    0.0\n",
       "21998      362663.ECP_3212      362663.ECP_3077    0.0\n",
       "21999      362663.ECP_3645      362663.ECP_0650    0.0\n",
       "\n",
       "[22000 rows x 3 columns]"
      ]
     },
     "execution_count": 5,
     "metadata": {},
     "output_type": "execute_result"
    }
   ],
   "source": [
    "df = pd.read_csv(dataset_name, header=None, sep='\\t')\n",
    "df.columns = ['p1', 'p1', 'label']\n",
    "df"
   ]
  },
  {
   "cell_type": "code",
   "execution_count": 6,
   "metadata": {},
   "outputs": [],
   "source": [
    "df_shuffled = df.sample(frac=1, random_state=42).reset_index(drop=True)\n",
    "df_subset_shuffled = df_shuffled[:subset_size]\n",
    "df_subset_shuffled.to_csv(f'{species}_{kind}_sub.tsv', header=None, index=None, sep='\\t')"
   ]
  },
  {
   "cell_type": "code",
   "execution_count": 17,
   "metadata": {},
   "outputs": [
    {
     "data": {
      "text/plain": [
       "9"
      ]
     },
     "execution_count": 17,
     "metadata": {},
     "output_type": "execute_result"
    }
   ],
   "source": []
  }
 ],
 "metadata": {
  "interpreter": {
   "hash": "e7bd760b05497710bf53f80c0ec7300a1e0138a492c59321878284c883f3e91e"
  },
  "kernelspec": {
   "display_name": "Python 3.9.7 ('base')",
   "language": "python",
   "name": "python3"
  },
  "language_info": {
   "codemirror_mode": {
    "name": "ipython",
    "version": 3
   },
   "file_extension": ".py",
   "mimetype": "text/x-python",
   "name": "python",
   "nbconvert_exporter": "python",
   "pygments_lexer": "ipython3",
   "version": "3.9.7"
  },
  "orig_nbformat": 4
 },
 "nbformat": 4,
 "nbformat_minor": 2
}
