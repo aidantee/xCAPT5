{
 "cells": [
  {
   "cell_type": "code",
   "execution_count": 1,
   "metadata": {},
   "outputs": [],
   "source": [
    "import pandas as pd\n",
    "import numpy as np"
   ]
  },
  {
   "cell_type": "code",
   "execution_count": 5,
   "metadata": {},
   "outputs": [
    {
     "data": {
      "text/html": [
       "<div>\n",
       "<style scoped>\n",
       "    .dataframe tbody tr th:only-of-type {\n",
       "        vertical-align: middle;\n",
       "    }\n",
       "\n",
       "    .dataframe tbody tr th {\n",
       "        vertical-align: top;\n",
       "    }\n",
       "\n",
       "    .dataframe thead th {\n",
       "        text-align: right;\n",
       "    }\n",
       "</style>\n",
       "<table border=\"1\" class=\"dataframe\">\n",
       "  <thead>\n",
       "    <tr style=\"text-align: right;\">\n",
       "      <th></th>\n",
       "      <th>p1</th>\n",
       "      <th>p2</th>\n",
       "      <th>label</th>\n",
       "    </tr>\n",
       "  </thead>\n",
       "  <tbody>\n",
       "    <tr>\n",
       "      <th>0</th>\n",
       "      <td>P53049</td>\n",
       "      <td>P09435</td>\n",
       "      <td>1</td>\n",
       "    </tr>\n",
       "    <tr>\n",
       "      <th>1</th>\n",
       "      <td>Q08949</td>\n",
       "      <td>P38089</td>\n",
       "      <td>1</td>\n",
       "    </tr>\n",
       "    <tr>\n",
       "      <th>2</th>\n",
       "      <td>P02293</td>\n",
       "      <td>P00560</td>\n",
       "      <td>1</td>\n",
       "    </tr>\n",
       "    <tr>\n",
       "      <th>3</th>\n",
       "      <td>P53199</td>\n",
       "      <td>P53043</td>\n",
       "      <td>1</td>\n",
       "    </tr>\n",
       "    <tr>\n",
       "      <th>4</th>\n",
       "      <td>P47093</td>\n",
       "      <td>P37370</td>\n",
       "      <td>1</td>\n",
       "    </tr>\n",
       "  </tbody>\n",
       "</table>\n",
       "</div>"
      ],
      "text/plain": [
       "       p1      p2  label\n",
       "0  P53049  P09435      1\n",
       "1  Q08949  P38089      1\n",
       "2  P02293  P00560      1\n",
       "3  P53199  P53043      1\n",
       "4  P47093  P37370      1"
      ]
     },
     "execution_count": 5,
     "metadata": {},
     "output_type": "execute_result"
    }
   ],
   "source": [
    "yeast_pairs = pd.read_csv('yeast_pairs.tsv', sep='\\t', header=None)\n",
    "yeast_pairs.columns = ['p1', 'p2', 'label']\n",
    "yeast_pairs.head()"
   ]
  },
  {
   "cell_type": "code",
   "execution_count": 12,
   "metadata": {},
   "outputs": [],
   "source": [
    "yeast_df = yeast_pairs.sample(frac=1).reset_index(drop=True)\n",
    "yeast_len = len(yeast_df)\n",
    "train_dataset = yeast_df.iloc[:int(yeast_len*4/5),:]\n",
    "test_dataset = yeast_df.iloc[int(yeast_len*4/5):,:]\n",
    "train_dataset.to_csv('yeast_train.tsv', header=None, sep='\\t', index=None)\n",
    "test_dataset.to_csv('yeast_test.tsv', header=None, sep='\\t', index=None)\n"
   ]
  }
 ],
 "metadata": {
  "interpreter": {
   "hash": "e7bd760b05497710bf53f80c0ec7300a1e0138a492c59321878284c883f3e91e"
  },
  "kernelspec": {
   "display_name": "Python 3.8.8 64-bit ('base': conda)",
   "language": "python",
   "name": "python3"
  },
  "language_info": {
   "codemirror_mode": {
    "name": "ipython",
    "version": 3
   },
   "file_extension": ".py",
   "mimetype": "text/x-python",
   "name": "python",
   "nbconvert_exporter": "python",
   "pygments_lexer": "ipython3",
   "version": "3.8.8"
  },
  "orig_nbformat": 4
 },
 "nbformat": 4,
 "nbformat_minor": 2
}
