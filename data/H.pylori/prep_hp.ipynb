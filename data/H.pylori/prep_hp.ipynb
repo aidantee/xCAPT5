{
 "cells": [
  {
   "cell_type": "code",
   "execution_count": 1,
   "metadata": {},
   "outputs": [],
   "source": [
    "import numpy as np\n",
    "import pandas as pd"
   ]
  },
  {
   "cell_type": "code",
   "execution_count": 15,
   "metadata": {},
   "outputs": [],
   "source": [
    "df_hp = pd.read_csv('HELICO_pairs.txt', header=None, sep='\\t')\n",
    "df_hp.columns = ['id_p1', 'id_p2']\n",
    "df_hp['label'] = [1]*1458+[0]*1458\n",
    "df_hp.to_csv('hp_pairs.tsv', sep='\\t', header=None, index=None)\n"
   ]
  },
  {
   "cell_type": "code",
   "execution_count": 31,
   "metadata": {},
   "outputs": [],
   "source": [
    "with open('HELICO_seq.txt') as file:\n",
    "    seqs = [line.rstrip() for line in file]\n",
    "\n",
    "id = [i for i in range(1570)]\n",
    "\n",
    "df_hp_id_seq = pd.DataFrame({'id': id, 'seq': seqs})\n",
    "df_hp_id_seq.to_csv('hp_dict.tsv', sep='\\t', header=None, index=None)"
   ]
  }
 ],
 "metadata": {
  "interpreter": {
   "hash": "b1860b0749c296e5778f18730f1c295135ee6edb15da82c988eaa73838fd1e3f"
  },
  "kernelspec": {
   "display_name": "Python 3.9.5 64-bit (conda)",
   "language": "python",
   "name": "python3"
  },
  "language_info": {
   "codemirror_mode": {
    "name": "ipython",
    "version": 3
   },
   "file_extension": ".py",
   "mimetype": "text/x-python",
   "name": "python",
   "nbconvert_exporter": "python",
   "pygments_lexer": "ipython3",
   "version": "3.9.5"
  },
  "orig_nbformat": 4
 },
 "nbformat": 4,
 "nbformat_minor": 2
}
