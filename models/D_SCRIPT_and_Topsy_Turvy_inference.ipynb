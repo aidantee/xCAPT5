{
  "cells": [
    {
      "cell_type": "markdown",
      "metadata": {
        "id": "-6CM-cOfY7fq"
      },
      "source": [
        "### Check GPU hardware"
      ]
    },
    {
      "cell_type": "code",
      "execution_count": 7,
      "metadata": {
        "colab": {
          "base_uri": "https://localhost:8080/"
        },
        "id": "cNNQihr0y9Tv",
        "outputId": "7086f3d5-7841-4d2c-d945-fe58225821c4"
      },
      "outputs": [
        {
          "output_type": "stream",
          "name": "stdout",
          "text": [
            "Sat Jun  3 09:53:53 2023       \n",
            "+-----------------------------------------------------------------------------+\n",
            "| NVIDIA-SMI 525.85.12    Driver Version: 525.85.12    CUDA Version: 12.0     |\n",
            "|-------------------------------+----------------------+----------------------+\n",
            "| GPU  Name        Persistence-M| Bus-Id        Disp.A | Volatile Uncorr. ECC |\n",
            "| Fan  Temp  Perf  Pwr:Usage/Cap|         Memory-Usage | GPU-Util  Compute M. |\n",
            "|                               |                      |               MIG M. |\n",
            "|===============================+======================+======================|\n",
            "|   0  Tesla T4            Off  | 00000000:00:04.0 Off |                    0 |\n",
            "| N/A   40C    P8    11W /  70W |      0MiB / 15360MiB |      0%      Default |\n",
            "|                               |                      |                  N/A |\n",
            "+-------------------------------+----------------------+----------------------+\n",
            "                                                                               \n",
            "+-----------------------------------------------------------------------------+\n",
            "| Processes:                                                                  |\n",
            "|  GPU   GI   CI        PID   Type   Process name                  GPU Memory |\n",
            "|        ID   ID                                                   Usage      |\n",
            "|=============================================================================|\n",
            "|  No running processes found                                                 |\n",
            "+-----------------------------------------------------------------------------+\n"
          ]
        }
      ],
      "source": [
        "!nvidia-smi"
      ]
    },
    {
      "cell_type": "markdown",
      "metadata": {
        "id": "EEnKElYqY_-n"
      },
      "source": [
        "### Install D-SCRIPT"
      ]
    },
    {
      "cell_type": "code",
      "execution_count": 4,
      "metadata": {
        "id": "CgXp5ZBzqqTK",
        "colab": {
          "base_uri": "https://localhost:8080/"
        },
        "outputId": "4d18eefb-c1ae-4afa-ae3d-dcaa30f2768f"
      },
      "outputs": [
        {
          "output_type": "stream",
          "name": "stdout",
          "text": [
            "Looking in indexes: https://pypi.org/simple, https://us-python.pkg.dev/colab-wheels/public/simple/\n",
            "Requirement already satisfied: dscript in /usr/local/lib/python3.10/dist-packages (0.2.4)\n",
            "Requirement already satisfied: numpy in /usr/local/lib/python3.10/dist-packages (from dscript) (1.22.4)\n",
            "Requirement already satisfied: scipy in /usr/local/lib/python3.10/dist-packages (from dscript) (1.10.1)\n",
            "Requirement already satisfied: pandas in /usr/local/lib/python3.10/dist-packages (from dscript) (1.5.3)\n",
            "Requirement already satisfied: torch>=1.11 in /usr/local/lib/python3.10/dist-packages (from dscript) (2.0.1+cu118)\n",
            "Requirement already satisfied: biopython in /usr/local/lib/python3.10/dist-packages (from dscript) (1.81)\n",
            "Requirement already satisfied: matplotlib in /usr/local/lib/python3.10/dist-packages (from dscript) (3.7.1)\n",
            "Requirement already satisfied: seaborn in /usr/local/lib/python3.10/dist-packages (from dscript) (0.12.2)\n",
            "Requirement already satisfied: tqdm in /usr/local/lib/python3.10/dist-packages (from dscript) (4.65.0)\n",
            "Requirement already satisfied: scikit-learn in /usr/local/lib/python3.10/dist-packages (from dscript) (1.2.2)\n",
            "Requirement already satisfied: h5py in /usr/local/lib/python3.10/dist-packages (from dscript) (3.8.0)\n",
            "Requirement already satisfied: filelock in /usr/local/lib/python3.10/dist-packages (from torch>=1.11->dscript) (3.12.0)\n",
            "Requirement already satisfied: typing-extensions in /usr/local/lib/python3.10/dist-packages (from torch>=1.11->dscript) (4.5.0)\n",
            "Requirement already satisfied: sympy in /usr/local/lib/python3.10/dist-packages (from torch>=1.11->dscript) (1.11.1)\n",
            "Requirement already satisfied: networkx in /usr/local/lib/python3.10/dist-packages (from torch>=1.11->dscript) (3.1)\n",
            "Requirement already satisfied: jinja2 in /usr/local/lib/python3.10/dist-packages (from torch>=1.11->dscript) (3.1.2)\n",
            "Requirement already satisfied: triton==2.0.0 in /usr/local/lib/python3.10/dist-packages (from torch>=1.11->dscript) (2.0.0)\n",
            "Requirement already satisfied: cmake in /usr/local/lib/python3.10/dist-packages (from triton==2.0.0->torch>=1.11->dscript) (3.25.2)\n",
            "Requirement already satisfied: lit in /usr/local/lib/python3.10/dist-packages (from triton==2.0.0->torch>=1.11->dscript) (16.0.5)\n",
            "Requirement already satisfied: contourpy>=1.0.1 in /usr/local/lib/python3.10/dist-packages (from matplotlib->dscript) (1.0.7)\n",
            "Requirement already satisfied: cycler>=0.10 in /usr/local/lib/python3.10/dist-packages (from matplotlib->dscript) (0.11.0)\n",
            "Requirement already satisfied: fonttools>=4.22.0 in /usr/local/lib/python3.10/dist-packages (from matplotlib->dscript) (4.39.3)\n",
            "Requirement already satisfied: kiwisolver>=1.0.1 in /usr/local/lib/python3.10/dist-packages (from matplotlib->dscript) (1.4.4)\n",
            "Requirement already satisfied: packaging>=20.0 in /usr/local/lib/python3.10/dist-packages (from matplotlib->dscript) (23.1)\n",
            "Requirement already satisfied: pillow>=6.2.0 in /usr/local/lib/python3.10/dist-packages (from matplotlib->dscript) (8.4.0)\n",
            "Requirement already satisfied: pyparsing>=2.3.1 in /usr/local/lib/python3.10/dist-packages (from matplotlib->dscript) (3.0.9)\n",
            "Requirement already satisfied: python-dateutil>=2.7 in /usr/local/lib/python3.10/dist-packages (from matplotlib->dscript) (2.8.2)\n",
            "Requirement already satisfied: pytz>=2020.1 in /usr/local/lib/python3.10/dist-packages (from pandas->dscript) (2022.7.1)\n",
            "Requirement already satisfied: joblib>=1.1.1 in /usr/local/lib/python3.10/dist-packages (from scikit-learn->dscript) (1.2.0)\n",
            "Requirement already satisfied: threadpoolctl>=2.0.0 in /usr/local/lib/python3.10/dist-packages (from scikit-learn->dscript) (3.1.0)\n",
            "Requirement already satisfied: six>=1.5 in /usr/local/lib/python3.10/dist-packages (from python-dateutil>=2.7->matplotlib->dscript) (1.16.0)\n",
            "Requirement already satisfied: MarkupSafe>=2.0 in /usr/local/lib/python3.10/dist-packages (from jinja2->torch>=1.11->dscript) (2.1.2)\n",
            "Requirement already satisfied: mpmath>=0.19 in /usr/local/lib/python3.10/dist-packages (from sympy->torch>=1.11->dscript) (1.3.0)\n"
          ]
        }
      ],
      "source": [
        "!pip install dscript"
      ]
    },
    {
      "cell_type": "markdown",
      "source": [
        "### Download trained models"
      ],
      "metadata": {
        "id": "CWbtOrgFiwtm"
      }
    },
    {
      "cell_type": "code",
      "source": [
        "# Download Human D-SCRIPT model \n",
        "!wget http://cb.csail.mit.edu/cb/dscript/data/models/human_v1.sav\n",
        "\n",
        "# Download Human Topsy-Turvy model\n",
        "!wget http://cb.csail.mit.edu/cb/dscript/data/models/topsy_turvy_v1.sav"
      ],
      "metadata": {
        "colab": {
          "base_uri": "https://localhost:8080/"
        },
        "id": "6zpdGarDi1EC",
        "outputId": "afa1634c-69a2-4bb0-b49f-0c2d2f82d27b"
      },
      "execution_count": 5,
      "outputs": [
        {
          "output_type": "stream",
          "name": "stdout",
          "text": [
            "--2023-06-03 09:16:52--  http://cb.csail.mit.edu/cb/dscript/data/models/human_v1.sav\n",
            "Resolving cb.csail.mit.edu (cb.csail.mit.edu)... 128.30.2.148\n",
            "Connecting to cb.csail.mit.edu (cb.csail.mit.edu)|128.30.2.148|:80... connected.\n",
            "HTTP request sent, awaiting response... 200 OK\n",
            "Length: 2542758 (2.4M)\n",
            "Saving to: ‘human_v1.sav.1’\n",
            "\n",
            "human_v1.sav.1      100%[===================>]   2.42M  1.55MB/s    in 1.6s    \n",
            "\n",
            "2023-06-03 09:16:54 (1.55 MB/s) - ‘human_v1.sav.1’ saved [2542758/2542758]\n",
            "\n",
            "--2023-06-03 09:16:54--  http://cb.csail.mit.edu/cb/dscript/data/models/topsy_turvy_v1.sav\n",
            "Resolving cb.csail.mit.edu (cb.csail.mit.edu)... 128.30.2.148\n",
            "Connecting to cb.csail.mit.edu (cb.csail.mit.edu)|128.30.2.148|:80... connected.\n",
            "HTTP request sent, awaiting response... 200 OK\n",
            "Length: 2526505 (2.4M)\n",
            "Saving to: ‘topsy_turvy_v1.sav’\n",
            "\n",
            "topsy_turvy_v1.sav  100%[===================>]   2.41M  1.54MB/s    in 1.6s    \n",
            "\n",
            "2023-06-03 09:16:56 (1.54 MB/s) - ‘topsy_turvy_v1.sav’ saved [2526505/2526505]\n",
            "\n"
          ]
        }
      ]
    },
    {
      "cell_type": "markdown",
      "metadata": {
        "id": "r1kMZHiUJWv1"
      },
      "source": [
        "### Download sequence and interaction files for test datasets"
      ]
    },
    {
      "cell_type": "code",
      "execution_count": 6,
      "metadata": {
        "colab": {
          "base_uri": "https://localhost:8080/"
        },
        "id": "JdLmVxtpgpQB",
        "outputId": "ba1f732c-42e0-4f7d-a330-e427379f4c8d"
      },
      "outputs": [
        {
          "output_type": "stream",
          "name": "stdout",
          "text": [
            "--2023-06-03 09:53:52--  https://raw.githubusercontent.com/anhvt00/MCAPS/master/data/Dscript-data/pairs/ecoli_test.tsv\n",
            "Resolving raw.githubusercontent.com (raw.githubusercontent.com)... 185.199.109.133, 185.199.111.133, 185.199.110.133, ...\n",
            "Connecting to raw.githubusercontent.com (raw.githubusercontent.com)|185.199.109.133|:443... connected.\n",
            "HTTP request sent, awaiting response... 200 OK\n",
            "Length: 812468 (793K) [text/plain]\n",
            "Saving to: ‘ecoli_test.tsv’\n",
            "\n",
            "ecoli_test.tsv      100%[===================>] 793.43K  --.-KB/s    in 0.007s  \n",
            "\n",
            "2023-06-03 09:53:52 (111 MB/s) - ‘ecoli_test.tsv’ saved [812468/812468]\n",
            "\n",
            "--2023-06-03 09:53:52--  https://raw.githubusercontent.com/anhvt00/MCAPS/master/data/Dscript-data/seqs/ecoli.fasta\n",
            "Resolving raw.githubusercontent.com (raw.githubusercontent.com)... 185.199.108.133, 185.199.109.133, 185.199.110.133, ...\n",
            "Connecting to raw.githubusercontent.com (raw.githubusercontent.com)|185.199.108.133|:443... connected.\n",
            "HTTP request sent, awaiting response... 200 OK\n",
            "Length: 5413511 (5.2M) [text/plain]\n",
            "Saving to: ‘ecoli.fasta’\n",
            "\n",
            "ecoli.fasta         100%[===================>]   5.16M  --.-KB/s    in 0.02s   \n",
            "\n",
            "2023-06-03 09:53:53 (289 MB/s) - ‘ecoli.fasta’ saved [5413511/5413511]\n",
            "\n"
          ]
        }
      ],
      "source": [
        "!wget https://raw.githubusercontent.com/anhvt00/MCAPS/master/data/Dscript-data/pairs/ecoli_test.tsv\n",
        "!wget https://raw.githubusercontent.com/anhvt00/MCAPS/master/data/Dscript-data/seqs/ecoli.fasta\n"
      ]
    },
    {
      "cell_type": "markdown",
      "source": [
        "### Generate embeddings"
      ],
      "metadata": {
        "id": "00w2RRSsq10I"
      }
    },
    {
      "cell_type": "code",
      "source": [
        "!dscript embed --seqs ecoli.fasta -o ecoli.h5 -d 0"
      ],
      "metadata": {
        "colab": {
          "base_uri": "https://localhost:8080/"
        },
        "id": "JYx8fl6Eq4fi",
        "outputId": "e94ac97c-c87b-4afa-b15b-165c1bd92f0f"
      },
      "execution_count": 8,
      "outputs": [
        {
          "output_type": "stream",
          "name": "stdout",
          "text": [
            "[2023-06-03-09:54:42] # Using CUDA device 0 - Tesla T4\n",
            "[2023-06-03-09:54:42] # Loading Model...\n",
            "[2023-06-03-09:54:42] Downloading model lm_v1 from http://cb.csail.mit.edu/cb/dscript/data/models/dscript_lm_v1.pt...\n",
            "[2023-06-03-09:55:11] # Loading Sequences...\n",
            "100% 17722/17722 [00:00<00:00, 42725.29it/s]\n",
            "[2023-06-03-09:55:12] # 17722 Sequences Loaded\n",
            "[2023-06-03-09:55:12] # Approximate Storage Required (varies by average sequence length): ~141.776GB\n",
            "[2023-06-03-09:55:12] # Storing to ecoli.h5...\n",
            " 93% 16442/17722 [23:49<01:51, 11.50it/s]\n",
            "Traceback (most recent call last):\n",
            "  File \"/usr/local/lib/python3.10/dist-packages/dscript/language_model.py\", line 110, in embed_from_fasta\n",
            "    dset[:] = z.cpu().numpy()\n",
            "  File \"h5py/_objects.pyx\", line 54, in h5py._objects.with_phil.wrapper\n",
            "  File \"h5py/_objects.pyx\", line 55, in h5py._objects.with_phil.wrapper\n",
            "  File \"/usr/local/lib/python3.10/dist-packages/h5py/_hl/dataset.py\", line 1009, in __setitem__\n",
            "    self.id.write(mspace, fspace, val, mtype, dxpl=self._dxpl)\n",
            "  File \"h5py/_objects.pyx\", line 54, in h5py._objects.with_phil.wrapper\n",
            "  File \"h5py/_objects.pyx\", line 55, in h5py._objects.with_phil.wrapper\n",
            "  File \"h5py/h5d.pyx\", line 280, in h5py.h5d.DatasetID.write\n",
            "  File \"h5py/_proxy.pyx\", line 114, in h5py._proxy.dset_rw\n",
            "OSError: [Errno 28] Can't write data (file write failed: time = Sat Jun  3 10:19:01 2023\n",
            ", filename = 'ecoli.h5', file descriptor = 36, errno = 28, error message = 'No space left on device', buf = 0x772183cc, total write size = 3316, bytes this sub-write = 3316, bytes actually written = 18446744073709551615, offset = 0)\n",
            "\n",
            "During handling of the above exception, another exception occurred:\n",
            "\n",
            "Traceback (most recent call last):\n",
            "  File \"/usr/local/bin/dscript\", line 8, in <module>\n",
            "    sys.exit(main())\n",
            "  File \"/usr/local/lib/python3.10/dist-packages/dscript/__main__.py\", line 77, in main\n",
            "    args.func(args)\n",
            "  File \"/usr/local/lib/python3.10/dist-packages/dscript/commands/embed.py\", line 47, in main\n",
            "    embed_from_fasta(inPath, outPath, device, verbose=True)\n",
            "  File \"/usr/local/lib/python3.10/dist-packages/dscript/language_model.py\", line 98, in embed_from_fasta\n",
            "    with torch.no_grad(), h5py.File(outputPath, \"a\") as h5fi:\n",
            "  File \"h5py/_objects.pyx\", line 54, in h5py._objects.with_phil.wrapper\n",
            "  File \"h5py/_objects.pyx\", line 55, in h5py._objects.with_phil.wrapper\n",
            "  File \"/usr/local/lib/python3.10/dist-packages/h5py/_hl/files.py\", line 604, in __exit__\n",
            "    self.close()\n",
            "  File \"/usr/local/lib/python3.10/dist-packages/h5py/_hl/files.py\", line 585, in close\n",
            "    self.id._close_open_objects(h5f.OBJ_LOCAL | ~h5f.OBJ_FILE)\n",
            "  File \"h5py/_objects.pyx\", line 54, in h5py._objects.with_phil.wrapper\n",
            "  File \"h5py/_objects.pyx\", line 55, in h5py._objects.with_phil.wrapper\n",
            "  File \"h5py/h5f.pyx\", line 360, in h5py.h5f.FileID._close_open_objects\n",
            "RuntimeError: Can't decrement id ref count (file write failed: time = Sat Jun  3 10:19:01 2023\n",
            ", filename = 'ecoli.h5', file descriptor = 36, errno = 28, error message = 'No space left on device', buf = 0x76474520, total write size = 27792, bytes this sub-write = 27792, bytes actually written = 18446744073709551615, offset = 0)\n",
            "Traceback (most recent call last):\n",
            "  File \"h5py/_objects.pyx\", line 201, in h5py._objects.ObjectID.__dealloc__\n",
            "RuntimeError: Disable slist on flush dest failure failed (file write failed: time = Sat Jun  3 10:19:01 2023\n",
            ", filename = 'ecoli.h5', file descriptor = 36, errno = 28, error message = 'No space left on device', buf = 0x7798e4ca, total write size = 4414, bytes this sub-write = 4414, bytes actually written = 18446744073709551615, offset = 0)\n",
            "Exception ignored in: 'h5py._objects.ObjectID.__dealloc__'\n",
            "Traceback (most recent call last):\n",
            "  File \"h5py/_objects.pyx\", line 201, in h5py._objects.ObjectID.__dealloc__\n",
            "RuntimeError: Disable slist on flush dest failure failed (file write failed: time = Sat Jun  3 10:19:01 2023\n",
            ", filename = 'ecoli.h5', file descriptor = 36, errno = 28, error message = 'No space left on device', buf = 0x7798e4ca, total write size = 4414, bytes this sub-write = 4414, bytes actually written = 18446744073709551615, offset = 0)\n"
          ]
        }
      ]
    },
    {
      "cell_type": "markdown",
      "source": [
        "### Evaluate on test dataset"
      ],
      "metadata": {
        "id": "3v5ZkUXlr5DK"
      }
    },
    {
      "cell_type": "code",
      "source": [
        "# Evaluate with Human D-SCRIPT model \n",
        "!dscript evaluate --model human_v1.sav --test ecoli_test.tsv --embedding ecoli.h5 --outfile ecoli_dscript\n",
        "\n",
        "# Evaluate with Human Topsy-Turvy model\n",
        "!dscript evaluate --model topsy_turvy_v1.sav --test ecoli_test.tsv --embedding ecoli.h5 --outfile ecoli_topsy_turvy\n"
      ],
      "metadata": {
        "id": "dJLNH1IZvi2N"
      },
      "execution_count": null,
      "outputs": []
    }
  ],
  "metadata": {
    "accelerator": "GPU",
    "colab": {
      "provenance": [],
      "machine_shape": "hm"
    },
    "kernelspec": {
      "display_name": "Python 3",
      "language": "python",
      "name": "python3"
    },
    "language_info": {
      "codemirror_mode": {
        "name": "ipython",
        "version": 3
      },
      "file_extension": ".py",
      "mimetype": "text/x-python",
      "name": "python",
      "nbconvert_exporter": "python",
      "pygments_lexer": "ipython3",
      "version": "3.8.10"
    }
  },
  "nbformat": 4,
  "nbformat_minor": 0
}