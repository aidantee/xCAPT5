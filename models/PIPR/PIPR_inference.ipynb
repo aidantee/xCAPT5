{
  "cells": [
    {
      "cell_type": "markdown",
      "metadata": {
        "id": "wz47D5H_R0UR"
      },
      "source": [
        "### Check GPU hardware"
      ]
    },
    {
      "cell_type": "code",
      "execution_count": null,
      "metadata": {
        "colab": {
          "base_uri": "https://localhost:8080/"
        },
        "id": "w8kCH-Zfj2J_",
        "outputId": "1cc0f315-7c50-48af-9bd9-688896a2b6b6"
      },
      "outputs": [
        {
          "output_type": "stream",
          "name": "stdout",
          "text": [
            "Wed Dec 21 10:18:55 2022       \n",
            "+-----------------------------------------------------------------------------+\n",
            "| NVIDIA-SMI 460.32.03    Driver Version: 460.32.03    CUDA Version: 11.2     |\n",
            "|-------------------------------+----------------------+----------------------+\n",
            "| GPU  Name        Persistence-M| Bus-Id        Disp.A | Volatile Uncorr. ECC |\n",
            "| Fan  Temp  Perf  Pwr:Usage/Cap|         Memory-Usage | GPU-Util  Compute M. |\n",
            "|                               |                      |               MIG M. |\n",
            "|===============================+======================+======================|\n",
            "|   0  Tesla T4            Off  | 00000000:00:04.0 Off |                    0 |\n",
            "| N/A   45C    P0    26W /  70W |      0MiB / 15109MiB |      0%      Default |\n",
            "|                               |                      |                  N/A |\n",
            "+-------------------------------+----------------------+----------------------+\n",
            "                                                                               \n",
            "+-----------------------------------------------------------------------------+\n",
            "| Processes:                                                                  |\n",
            "|  GPU   GI   CI        PID   Type   Process name                  GPU Memory |\n",
            "|        ID   ID                                                   Usage      |\n",
            "|=============================================================================|\n",
            "|  No running processes found                                                 |\n",
            "+-----------------------------------------------------------------------------+\n"
          ]
        }
      ],
      "source": [
        "!nvidia-smi"
      ]
    },
    {
      "cell_type": "markdown",
      "metadata": {
        "id": "-chmuAHjK8D0"
      },
      "source": [
        "### Download datasets and embeddings"
      ]
    },
    {
      "cell_type": "code",
      "execution_count": null,
      "metadata": {
        "colab": {
          "base_uri": "https://localhost:8080/"
        },
        "id": "SrKgkXJA3wPb",
        "outputId": "b07e7215-a75b-4eed-ea80-67a6e72f98ff"
      },
      "outputs": [
        {
          "output_type": "stream",
          "name": "stdout",
          "text": [
            "--2022-12-21 10:18:55--  https://raw.githubusercontent.com/anhvt00/S-HNBM/master/data/Golden-standard-datasets/Pan-2010/pan_pairs.tsv\n",
            "Resolving raw.githubusercontent.com (raw.githubusercontent.com)... 185.199.108.133, 185.199.109.133, 185.199.110.133, ...\n",
            "Connecting to raw.githubusercontent.com (raw.githubusercontent.com)|185.199.108.133|:443... connected.\n",
            "HTTP request sent, awaiting response... 200 OK\n",
            "Length: 990256 (967K) [text/plain]\n",
            "Saving to: ‘pan_pairs.tsv’\n",
            "\n",
            "pan_pairs.tsv       100%[===================>] 967.05K  --.-KB/s    in 0.007s  \n",
            "\n",
            "2022-12-21 10:18:55 (127 MB/s) - ‘pan_pairs.tsv’ saved [990256/990256]\n",
            "\n",
            "--2022-12-21 10:18:56--  https://raw.githubusercontent.com/anhvt00/S-HNBM/master/data/Golden-standard-datasets/Pan-2010/pan_dict.tsv\n",
            "Resolving raw.githubusercontent.com (raw.githubusercontent.com)... 185.199.108.133, 185.199.109.133, 185.199.110.133, ...\n",
            "Connecting to raw.githubusercontent.com (raw.githubusercontent.com)|185.199.108.133|:443... connected.\n",
            "HTTP request sent, awaiting response... 200 OK\n",
            "Length: 5012967 (4.8M) [text/plain]\n",
            "Saving to: ‘pan_dict.tsv’\n",
            "\n",
            "pan_dict.tsv        100%[===================>]   4.78M  --.-KB/s    in 0.01s   \n",
            "\n",
            "2022-12-21 10:18:56 (388 MB/s) - ‘pan_dict.tsv’ saved [5012967/5012967]\n",
            "\n",
            "--2022-12-21 10:18:56--  https://raw.githubusercontent.com/anhvt00/PIPR/master/embeddings/seq2tensor.py\n",
            "Resolving raw.githubusercontent.com (raw.githubusercontent.com)... 185.199.108.133, 185.199.109.133, 185.199.110.133, ...\n",
            "Connecting to raw.githubusercontent.com (raw.githubusercontent.com)|185.199.108.133|:443... connected.\n",
            "HTTP request sent, awaiting response... 200 OK\n",
            "Length: 1104 (1.1K) [text/plain]\n",
            "Saving to: ‘seq2tensor.py’\n",
            "\n",
            "seq2tensor.py       100%[===================>]   1.08K  --.-KB/s    in 0s      \n",
            "\n",
            "2022-12-21 10:18:57 (90.5 MB/s) - ‘seq2tensor.py’ saved [1104/1104]\n",
            "\n",
            "--2022-12-21 10:18:57--  https://raw.githubusercontent.com/anhvt00/S-HNBM/master/data/Dscript-data/pairs/human_train.tsv\n",
            "Resolving raw.githubusercontent.com (raw.githubusercontent.com)... 185.199.108.133, 185.199.109.133, 185.199.110.133, ...\n",
            "Connecting to raw.githubusercontent.com (raw.githubusercontent.com)|185.199.108.133|:443... connected.\n",
            "HTTP request sent, awaiting response... 200 OK\n",
            "Length: 18558848 (18M) [text/plain]\n",
            "Saving to: ‘human_train.tsv’\n",
            "\n",
            "human_train.tsv     100%[===================>]  17.70M  --.-KB/s    in 0.03s   \n",
            "\n",
            "2022-12-21 10:18:59 (512 MB/s) - ‘human_train.tsv’ saved [18558848/18558848]\n",
            "\n",
            "--2022-12-21 10:18:59--  https://raw.githubusercontent.com/anhvt00/S-HNBM/master/data/Dscript-data/seqs/human_dict.tsv\n",
            "Resolving raw.githubusercontent.com (raw.githubusercontent.com)... 185.199.109.133, 185.199.110.133, 185.199.108.133, ...\n",
            "Connecting to raw.githubusercontent.com (raw.githubusercontent.com)|185.199.109.133|:443... connected.\n",
            "HTTP request sent, awaiting response... 200 OK\n",
            "Length: 30858114 (29M) [text/plain]\n",
            "Saving to: ‘human_dict.tsv’\n",
            "\n",
            "human_dict.tsv      100%[===================>]  29.43M  --.-KB/s    in 0.07s   \n",
            "\n",
            "2022-12-21 10:19:02 (406 MB/s) - ‘human_dict.tsv’ saved [30858114/30858114]\n",
            "\n",
            "--2022-12-21 10:19:02--  https://raw.githubusercontent.com/anhvt00/PIPR/master/embeddings/ac5_aph.txt\n",
            "Resolving raw.githubusercontent.com (raw.githubusercontent.com)... 185.199.108.133, 185.199.109.133, 185.199.110.133, ...\n",
            "Connecting to raw.githubusercontent.com (raw.githubusercontent.com)|185.199.108.133|:443... connected.\n",
            "HTTP request sent, awaiting response... 200 OK\n",
            "Length: 2335 (2.3K) [text/plain]\n",
            "Saving to: ‘ac5_aph.txt’\n",
            "\n",
            "ac5_aph.txt         100%[===================>]   2.28K  --.-KB/s    in 0s      \n",
            "\n",
            "2022-12-21 10:19:02 (59.9 MB/s) - ‘ac5_aph.txt’ saved [2335/2335]\n",
            "\n"
          ]
        }
      ],
      "source": [
        "!wget https://raw.githubusercontent.com/anhvt00/S-HNBM/master/data/Golden-standard-datasets/Pan-2010/pan_pairs.tsv\n",
        "!wget https://raw.githubusercontent.com/anhvt00/S-HNBM/master/data/Golden-standard-datasets/Pan-2010/pan_dict.tsv\n",
        "\n",
        "# Download file seq2tensor.py for converting protein sequences to tensors\n",
        "!wget https://raw.githubusercontent.com/anhvt00/PIPR/master/embeddings/seq2tensor.py\n",
        "\n",
        "!wget https://raw.githubusercontent.com/anhvt00/S-HNBM/master/data/Dscript-data/pairs/human_train.tsv\n",
        "!wget https://raw.githubusercontent.com/anhvt00/S-HNBM/master/data/Dscript-data/seqs/human_dict.tsv\n",
        "\n",
        "# Download file ac5_aph.txt for ac5_aph embedding \n",
        "!wget https://raw.githubusercontent.com/anhvt00/PIPR/master/embeddings/ac5_aph.txt\n",
        "\n"
      ]
    },
    {
      "cell_type": "markdown",
      "metadata": {
        "id": "UiMnInVvlEjY"
      },
      "source": [
        "### Import libraries "
      ]
    },
    {
      "cell_type": "code",
      "execution_count": null,
      "metadata": {
        "id": "FBCZs6wgdV7E"
      },
      "outputs": [],
      "source": [
        "# Libraries for system and debug\n",
        "import sys\n",
        "import pdb\n",
        "import os\n",
        "from datetime import datetime\n",
        "\n",
        "# Class for converting sequences to tensors\n",
        "from seq2tensor import s2t\n",
        "\n",
        "# Libraries for neural network training\n",
        "import tensorflow as tf\n",
        "from tensorflow.keras.models import Model\n",
        "from tensorflow.keras.layers import Dense, GRU, LSTM, Bidirectional, Input, Conv1D, Conv2D\n",
        "from tensorflow.keras.layers import Add, Flatten, subtract, multiply, concatenate\n",
        "from tensorflow.keras.layers import MaxPooling1D, AveragePooling1D, GlobalAveragePooling1D, MaxPooling2D\n",
        "from tensorflow.keras.optimizers import Adam, RMSprop\n",
        "from tensorflow.keras.layers import Dropout, BatchNormalization\n",
        "from tensorflow.keras.utils import Sequence\n",
        "from tensorflow.keras import mixed_precision\n",
        "from tensorflow import keras\n",
        "from tensorboard.plugins.hparams import api as hp\n",
        "from tensorflow.keras.utils import get_custom_objects\n",
        "from tensorflow.keras.layers import Activation\n",
        "from keras.callbacks import ModelCheckpoint\n",
        "from tensorflow.keras import regularizers\n",
        "from sklearn.metrics import roc_curve, precision_recall_curve, roc_auc_score, average_precision_score, auc\n",
        "import matplotlib.pyplot as plt\n",
        "\n",
        "# Import accessory modules\n",
        "import numpy as np\n",
        "import h5py\n",
        "import gc\n",
        "from tqdm import tqdm\n",
        "\n",
        "\n",
        "seq_size = 2000\n",
        "dim = 13\n",
        "N_EPOCHS = 100\n",
        "BATCH_SIZE = 256\n",
        "DTYPE='float16'\n",
        "\n",
        "acc_list = []\n",
        "recall_list = []\n",
        "prec_list = []\n",
        "spec_list = []\n",
        "f1_list = []\n",
        "mcc_list = []\n",
        "auc_list = []\n",
        "prc_list = []\n",
        "dnn_fpr_list = []\n",
        "dnn_tpr_list = []\n",
        "dnn_fpr = []\n",
        "dnn_tpr = []\n",
        "dnn_prc_prec = []\n",
        "dnn_prc_recall = []"
      ]
    },
    {
      "cell_type": "markdown",
      "metadata": {
        "id": "mjxFKiABLDob"
      },
      "source": [
        "### Set CUDA environment variables"
      ]
    },
    {
      "cell_type": "code",
      "execution_count": null,
      "metadata": {
        "colab": {
          "base_uri": "https://localhost:8080/"
        },
        "id": "vjvCG7HCp0Af",
        "outputId": "871fe57c-7c3f-4323-a5ad-67d4cd188eb0"
      },
      "outputs": [
        {
          "output_type": "stream",
          "name": "stdout",
          "text": [
            "1 Physical GPUs, 1 Logical GPUs\n"
          ]
        }
      ],
      "source": [
        "### Setting RAM GPU for training growth \n",
        "gpus = tf.config.list_physical_devices('GPU')\n",
        "if gpus:\n",
        "  try:\n",
        "    # Currently, memory growth needs to be the same across GPUs\n",
        "    for gpu in gpus:\n",
        "      tf.config.experimental.set_memory_growth(gpu, True)\n",
        "    logical_gpus = tf.config.list_logical_devices('GPU')\n",
        "    print(len(gpus), \"Physical GPUs,\", len(logical_gpus), \"Logical GPUs\")\n",
        "  except RuntimeError as e:\n",
        "    # Memory growth must be set before GPUs have been initialized\n",
        "    print(e)\n",
        "\n",
        "\n",
        "\n",
        "\n",
        "\n",
        "# ============================================\n",
        "# Optimisation Flags - Do not remove\n",
        "# ============================================\n",
        "\n",
        "# Disables caching (when set to 1) or enables caching (when set to 0) for just-in-time-compilation. When disabled,\n",
        "# no binary code is added to or retrieved from the cache.\n",
        "os.environ['CUDA_CACHE_DISABLE'] = '0' # orig is 0\n",
        "\n",
        "# When set to 1, forces the device driver to ignore any binary code embedded in an application \n",
        "# (see Application Compatibility) and to just-in-time compile embedded PTX code instead.\n",
        "# If a kernel does not have embedded PTX code, it will fail to load. This environment variable can be used to\n",
        "# validate that PTX code is embedded in an application and that its just-in-time compilation works as expected to guarantee application \n",
        "# forward compatibility with future architectures.\n",
        "os.environ['CUDA_FORCE_PTX_JIT'] = '1'# no orig\n",
        "\n",
        "\n",
        "os.environ['HOROVOD_GPU_ALLREDUCE'] = 'NCCL'\n",
        "\n",
        "os.environ['TF_CPP_MIN_LOG_LEVEL'] = '3'\n",
        "\n",
        "os.environ['TF_GPU_THREAD_MODE'] = 'gpu_private'\n",
        "os.environ['TF_GPU_THREAD_COUNT']='1'\n",
        "\n",
        "os.environ['TF_USE_CUDNN_BATCHNORM_SPATIAL_PERSISTENT'] = '1'\n",
        "\n",
        "os.environ['TF_ADJUST_HUE_FUSED'] = '1'\n",
        "os.environ['TF_ADJUST_SATURATION_FUSED'] = '1'\n",
        "os.environ['TF_ENABLE_WINOGRAD_NONFUSED'] = '1'\n",
        "\n",
        "os.environ['TF_SYNC_ON_FINISH'] = '0'\n",
        "os.environ['TF_AUTOTUNE_THRESHOLD'] = '2'\n",
        "os.environ['TF_DISABLE_NVTX_RANGES'] = '1'\n",
        "os.environ[\"TF_ENABLE_AUTO_MIXED_PRECISION_GRAPH_REWRITE\"] = \"1\"\n",
        "\n",
        "\n",
        "\n",
        "# =================================================\n",
        "mixed_precision.set_global_policy('mixed_float16')"
      ]
    },
    {
      "cell_type": "markdown",
      "metadata": {
        "id": "TRvlZNzVipPt"
      },
      "source": [
        "### Architecture of PIPR"
      ]
    },
    {
      "cell_type": "code",
      "execution_count": null,
      "metadata": {
        "id": "QnH_6e2tHjTg",
        "colab": {
          "base_uri": "https://localhost:8080/",
          "height": 1000
        },
        "outputId": "d4688457-c5db-40fd-8f96-7b67007fce79"
      },
      "outputs": [
        {
          "output_type": "execute_result",
          "data": {
            "image/png": "[encoded data removed]",
            "text/plain": [
              "<IPython.core.display.Image object>"
            ]
          },
          "metadata": {},
          "execution_count": 5
        }
      ],
      "source": [
        "def build_model():\n",
        "    # Input of sequence tensor representations \n",
        "    seq_input1 = Input(shape=(seq_size, dim), name='seq1')\n",
        "    seq_input2 = Input(shape=(seq_size, dim), name='seq2')\n",
        "\n",
        "    # Define Conv1D and Bi-RNN (GRU/LSTM) use in architecture\n",
        "    l1=Conv1D(50, 3)\n",
        "    r1=Bidirectional(GRU(50, return_sequences=True))\n",
        "    l2=Conv1D(50, 3)\n",
        "    r2=Bidirectional(GRU(50, return_sequences=True))\n",
        "    l3=Conv1D(50, 3)\n",
        "    r3=Bidirectional(GRU(50, return_sequences=True))\n",
        "    l4=Conv1D(50, 3)\n",
        "    r4=Bidirectional(GRU(50, return_sequences=True))\n",
        "    l5=Conv1D(50, 3)\n",
        "    r5=Bidirectional(GRU(50, return_sequences=True))\n",
        "    l6=Conv1D(50, 3)\n",
        "    \n",
        "    # Siamese architecture\n",
        "\n",
        "    ### 1st sibling\n",
        "\n",
        "    # 1st Block RCNN \n",
        "    s1=MaxPooling1D(3)(l1(seq_input1))\n",
        "    s1=concatenate([r1(s1), s1])\n",
        "\n",
        "    # 2nd Block RCNN\n",
        "    s1=MaxPooling1D(3)(l2(s1))\n",
        "    s1=concatenate([r2(s1), s1])\n",
        "\n",
        "    # 3rd Block RCNN\n",
        "    s1=MaxPooling1D(3)(l3(s1))\n",
        "    s1=concatenate([r3(s1), s1])\n",
        "\n",
        "    # 4th Block RCNN \n",
        "    s1=MaxPooling1D(3)(l4(s1))\n",
        "    s1=concatenate([r4(s1), s1])\n",
        "\n",
        "    # 5th Block RCNN\n",
        "    s1=MaxPooling1D(3)(l5(s1))\n",
        "    s1=concatenate([r5(s1), s1])\n",
        "    \n",
        "    # Last convolution\n",
        "    s1=l6(s1)\n",
        "    s1=GlobalAveragePooling1D()(s1)\n",
        "\n",
        "    ### 2nd sibling\n",
        "\n",
        "    # 1st block RCNN\n",
        "    s2=MaxPooling1D(3)(l1(seq_input2))\n",
        "    s2=concatenate([r1(s2), s2])\n",
        "\n",
        "    # 2nd block RCNN\n",
        "    s2=MaxPooling1D(3)(l2(s2))\n",
        "    s2=concatenate([r2(s2), s2])\n",
        "\n",
        "    # 3rd block RCNN\n",
        "    s2=MaxPooling1D(3)(l3(s2))\n",
        "    s2=concatenate([r3(s2), s2])\n",
        "\n",
        "    # 4th block RCNN\n",
        "    s2=MaxPooling1D(3)(l4(s2))\n",
        "    s2=concatenate([r4(s2), s2])\n",
        "\n",
        "    # 5th block RCNN\n",
        "    s2=MaxPooling1D(3)(l5(s2))\n",
        "    s2=concatenate([r5(s2), s2])\n",
        "\n",
        "    # Last convolution\n",
        "    s2=l6(s2)\n",
        "    s2=GlobalAveragePooling1D()(s2)\n",
        "\n",
        "    ### Combine two siblings of siamese architecture\n",
        "    merge_text = multiply([s1, s2])\n",
        "    \n",
        "\n",
        "    #### MLP Part\n",
        "    \n",
        "    # First dense\n",
        "    x = Dense(100)(merge_text)\n",
        "    x = tf.keras.layers.LeakyReLU(alpha=.3)(x)\n",
        "\n",
        "    # Second dense\n",
        "    x = Dense(int((50+7)/2))(x)\n",
        "    x = tf.keras.layers.LeakyReLU(alpha=.3)(x)\n",
        "\n",
        "    # Last softmax\n",
        "    main_output = Dense(2, activation='softmax')(x)\n",
        "\n",
        "    # Combine to form functional model\n",
        "    merge_model = Model(inputs=[seq_input1, seq_input2], outputs=[main_output])\n",
        "    merge_model.compile(optimizer=Adam(learning_rate=.001, amsgrad=True, epsilon=1e-6), loss='categorical_crossentropy', metrics=['accuracy'])\n",
        "    return merge_model\n",
        "\n",
        "model = build_model()\n",
        "tf.keras.utils.plot_model(model, to_file='model.png', show_shapes=True)"
      ]
    },
    {
      "cell_type": "markdown",
      "metadata": {
        "id": "JZEZwCFdv7fQ"
      },
      "source": [
        "## Training phase"
      ]
    },
    {
      "cell_type": "markdown",
      "metadata": {
        "id": "Dt5Ioho3-PeT"
      },
      "source": [
        "#### Read dataset file"
      ]
    },
    {
      "cell_type": "code",
      "execution_count": null,
      "metadata": {
        "colab": {
          "base_uri": "https://localhost:8080/"
        },
        "id": "f7c2V2EG9lkJ",
        "outputId": "e01ddb1a-3e8b-4f44-df8d-1394acaa13bd"
      },
      "outputs": [
        {
          "output_type": "stream",
          "name": "stderr",
          "text": [
            "61891it [00:00, 472395.21it/s]\n",
            "100%|██████████| 8347/8347 [00:03<00:00, 2762.28it/s]\n",
            "100%|██████████| 61891/61891 [00:00<00:00, 1900808.89it/s]\n",
            "100%|██████████| 61891/61891 [00:00<00:00, 2149739.71it/s]\n"
          ]
        }
      ],
      "source": [
        "id2seq_file = 'pan_dict.tsv'\n",
        "id2index = {}\n",
        "seqs = []\n",
        "index = 0\n",
        "sid1_index = 0\n",
        "sid2_index = 1\n",
        "ds_file = 'pan_pairs.tsv'\n",
        "label_index = 2\n",
        "use_emb = 'ac5_aph.txt'\n",
        "\n",
        "\n",
        "# Create line variable as a list of protein sequences with index is the number of protein sequences\n",
        "# id2index is a dictionary of protein id and incremental index number \n",
        "for line in open(id2seq_file):\n",
        "    line = line.strip().split('\\t')\n",
        "    id2index[line[0]] = index\n",
        "    seqs.append(line[1])\n",
        "    index += 1\n",
        "\n",
        "seq_array = []\n",
        "id2_aid = {}\n",
        "sid = 0\n",
        "\n",
        "seq2t = s2t(use_emb)\n",
        "\n",
        "max_data = -1\n",
        "limit_data = max_data > 0\n",
        "raw_data = []\n",
        "skip_head = False\n",
        "x = None\n",
        "count = 0\n",
        "\n",
        "# Create sequence array as a list of protein strings\n",
        "for line in tqdm(open(ds_file)):\n",
        "    if skip_head:\n",
        "        skip_head = False\n",
        "        continue\n",
        "    line = line.rstrip('\\n').rstrip('\\r').split('\\t')\n",
        "    if id2index.get(line[sid1_index]) is None or id2index.get(line[sid2_index]) is None:\n",
        "        continue\n",
        "    if id2_aid.get(line[sid1_index]) is None:\n",
        "        id2_aid[line[sid1_index]] = sid\n",
        "        sid += 1\n",
        "        seq_array.append(seqs[id2index[line[sid1_index]]])\n",
        "    line[sid1_index] = id2_aid[line[sid1_index]]\n",
        "    if id2_aid.get(line[sid2_index]) is None:\n",
        "        id2_aid[line[sid2_index]] = sid\n",
        "        sid += 1\n",
        "        seq_array.append(seqs[id2index[line[sid2_index]]])\n",
        "    line[sid2_index] = id2_aid[line[sid2_index]]\n",
        "    raw_data.append(line)\n",
        "    if limit_data:\n",
        "        count += 1\n",
        "        if count >= max_data:\n",
        "            break\n",
        "\n",
        "len_m_seq = np.array([len(line.split()) for line in seq_array])\n",
        "avg_m_seq = int(np.average(len_m_seq)) + 1\n",
        "max_m_seq = max(len_m_seq)\n",
        "dim = seq2t.dim\n",
        "\n",
        "# seq_tensor is tensor representation of dataset having shape of (number_of_sequences, padding_length, embedding_dim_of_aa)\n",
        "# Random for distribution of class labels\n",
        "np.random.seed(42)\n",
        "np.random.shuffle(raw_data)\n",
        "seq_tensor = np.array([seq2t.embed_normalized(line, seq_size) for line in tqdm(seq_array)])\n",
        "\n",
        "# Extract index of 1st and 2nd sequences in pairs\n",
        "seq_index1 = np.array([line[sid1_index] for line in tqdm(raw_data)])\n",
        "seq_index2 = np.array([line[sid2_index] for line in tqdm(raw_data)])\n",
        "\n",
        "# Assign labels for pairs of sequences\n",
        "class_map = {'0':1,'1':0}\n",
        "class_labels = np.zeros((len(raw_data), 2))\n",
        "for i in range(len(raw_data)):\n",
        "    class_labels[i][class_map[raw_data[i][label_index]]] = 1\n"
      ]
    },
    {
      "cell_type": "markdown",
      "metadata": {
        "id": "wgZh_9Ew-Olp"
      },
      "source": [
        "#### Create train dataset "
      ]
    },
    {
      "cell_type": "code",
      "execution_count": null,
      "metadata": {
        "id": "eqDoZ8vVBPOc"
      },
      "outputs": [],
      "source": [
        "def generator_pair_general(seq_tensor, seq_index1, seq_index2, class_labels):\n",
        "  for index in range(len(seq_index1)):\n",
        "    yield {\"seq1\": seq_tensor[seq_index1[index]], \"seq2\": seq_tensor[seq_index2[index]]}, class_labels[index]"
      ]
    },
    {
      "cell_type": "code",
      "execution_count": null,
      "metadata": {
        "id": "e7TO9IBB-7bC"
      },
      "outputs": [],
      "source": [
        "train_dataset = tf.data.Dataset.from_generator(generator_pair_general, args=[seq_tensor, seq_index1, seq_index2, class_labels], output_types=({\"seq1\": DTYPE, \"seq2\": DTYPE}, DTYPE), output_shapes = ({\"seq1\": (seq_size, dim), \"seq2\": (seq_size, dim)}, (2,)) )\n",
        "train_dataset = train_dataset.shuffle(BATCH_SIZE*4).batch(BATCH_SIZE)\n",
        "train_dataset = train_dataset.prefetch(tf.data.AUTOTUNE)"
      ]
    },
    {
      "cell_type": "markdown",
      "metadata": {
        "id": "-DRvK1tF_0cr"
      },
      "source": [
        "#### Fit model on dataset"
      ]
    },
    {
      "cell_type": "code",
      "execution_count": null,
      "metadata": {
        "id": "KQb6qIx3-v6c",
        "colab": {
          "base_uri": "https://localhost:8080/"
        },
        "outputId": "4409fb3c-46b4-4b31-a64b-3d1b3cd34207"
      },
      "outputs": [
        {
          "output_type": "stream",
          "name": "stdout",
          "text": [
            "Epoch 1/5\n",
            "242/242 [==============================] - 141s 440ms/step - loss: 0.6740 - accuracy: 0.5871\n",
            "Epoch 2/5\n",
            "242/242 [==============================] - 106s 435ms/step - loss: 0.6370 - accuracy: 0.6409\n",
            "Epoch 3/5\n",
            "242/242 [==============================] - 106s 435ms/step - loss: 0.2712 - accuracy: 0.8910\n",
            "Epoch 4/5\n",
            "242/242 [==============================] - 106s 434ms/step - loss: 0.1275 - accuracy: 0.9582\n",
            "Epoch 5/5\n",
            "242/242 [==============================] - 106s 434ms/step - loss: 0.0981 - accuracy: 0.9695\n",
            "Epoch 1/5\n",
            "242/242 [==============================] - 106s 435ms/step - loss: 0.0784 - accuracy: 0.9777\n",
            "Epoch 2/5\n",
            "242/242 [==============================] - 106s 437ms/step - loss: 0.0667 - accuracy: 0.9810\n",
            "Epoch 3/5\n",
            "242/242 [==============================] - 106s 437ms/step - loss: 0.0581 - accuracy: 0.9834\n",
            "Epoch 4/5\n",
            "242/242 [==============================] - 106s 435ms/step - loss: 0.0520 - accuracy: 0.9850\n",
            "Epoch 5/5\n",
            "242/242 [==============================] - 106s 434ms/step - loss: 0.0481 - accuracy: 0.9861\n",
            "Epoch 1/5\n",
            "242/242 [==============================] - 106s 434ms/step - loss: 0.0447 - accuracy: 0.9867\n",
            "Epoch 2/5\n",
            "242/242 [==============================] - 106s 435ms/step - loss: 0.0415 - accuracy: 0.9875\n",
            "Epoch 3/5\n",
            "242/242 [==============================] - 106s 437ms/step - loss: 0.0432 - accuracy: 0.9870\n",
            "Epoch 4/5\n",
            "242/242 [==============================] - 106s 437ms/step - loss: 0.0343 - accuracy: 0.9892\n",
            "Epoch 5/5\n",
            "242/242 [==============================] - 106s 435ms/step - loss: 0.0322 - accuracy: 0.9900\n",
            "Epoch 1/5\n",
            "242/242 [==============================] - 106s 434ms/step - loss: 0.0284 - accuracy: 0.9908\n",
            "Epoch 2/5\n",
            "242/242 [==============================] - 106s 434ms/step - loss: 0.0345 - accuracy: 0.9885\n",
            "Epoch 3/5\n",
            "242/242 [==============================] - 106s 435ms/step - loss: 0.0282 - accuracy: 0.9912\n",
            "Epoch 4/5\n",
            "242/242 [==============================] - 106s 437ms/step - loss: 0.0257 - accuracy: 0.9916\n",
            "Epoch 5/5\n",
            "242/242 [==============================] - 106s 437ms/step - loss: 0.0259 - accuracy: 0.9916\n",
            "Epoch 1/5\n",
            "242/242 [==============================] - 106s 438ms/step - loss: 0.0258 - accuracy: 0.9920\n",
            "Epoch 2/5\n",
            "242/242 [==============================] - 106s 436ms/step - loss: 0.0228 - accuracy: 0.9924\n",
            "Epoch 3/5\n",
            "242/242 [==============================] - 106s 436ms/step - loss: 0.0235 - accuracy: 0.9921\n",
            "Epoch 4/5\n",
            "242/242 [==============================] - 107s 438ms/step - loss: 0.0224 - accuracy: 0.9926\n",
            "Epoch 5/5\n",
            "242/242 [==============================] - 107s 439ms/step - loss: 0.0218 - accuracy: 0.9925\n",
            "Epoch 1/5\n",
            "242/242 [==============================] - 107s 439ms/step - loss: 0.0195 - accuracy: 0.9933\n",
            "Epoch 2/5\n",
            "242/242 [==============================] - 107s 438ms/step - loss: 0.0212 - accuracy: 0.9929\n",
            "Epoch 3/5\n",
            "242/242 [==============================] - 106s 435ms/step - loss: 0.0205 - accuracy: 0.9928\n",
            "Epoch 4/5\n",
            "242/242 [==============================] - 106s 434ms/step - loss: 0.0190 - accuracy: 0.9932\n",
            "Epoch 5/5\n",
            "242/242 [==============================] - 106s 434ms/step - loss: 0.0147 - accuracy: 0.9950\n",
            "Epoch 1/5\n",
            "242/242 [==============================] - 106s 436ms/step - loss: 0.0202 - accuracy: 0.9933\n",
            "Epoch 2/5\n",
            "242/242 [==============================] - 106s 437ms/step - loss: 0.0217 - accuracy: 0.9927\n",
            "Epoch 3/5\n",
            "242/242 [==============================] - 106s 436ms/step - loss: 0.0164 - accuracy: 0.9940\n",
            "Epoch 4/5\n",
            "242/242 [==============================] - 106s 435ms/step - loss: 0.0161 - accuracy: 0.9942\n",
            "Epoch 5/5\n",
            "242/242 [==============================] - 106s 434ms/step - loss: 0.0156 - accuracy: 0.9947\n",
            "Epoch 1/5\n",
            "242/242 [==============================] - 105s 434ms/step - loss: 0.0113 - accuracy: 0.9958\n",
            "Epoch 2/5\n",
            "242/242 [==============================] - 106s 434ms/step - loss: 0.0113 - accuracy: 0.9957\n",
            "Epoch 3/5\n",
            "242/242 [==============================] - 106s 434ms/step - loss: 0.0142 - accuracy: 0.9947\n",
            "Epoch 4/5\n",
            "242/242 [==============================] - 105s 434ms/step - loss: 0.0112 - accuracy: 0.9959\n",
            "Epoch 5/5\n",
            "242/242 [==============================] - 105s 433ms/step - loss: 0.0144 - accuracy: 0.9950\n"
          ]
        }
      ],
      "source": [
        "# path='/content/PIPR_best_model_on_pan.hdf5'\n",
        "merge_model = None\n",
        "merge_model = build_model()\n",
        "# if os.path.isfile(path):\n",
        "  # merge_model.load_weights(path)\n",
        "merge_model.compile(optimizer=Adam(learning_rate=.001, amsgrad=True, epsilon=1e-6), loss='categorical_crossentropy', metrics=['accuracy'])\n",
        "\n",
        "# Fit model\n",
        "for i in range(8):\n",
        "  hist = merge_model.fit(train_dataset, epochs=5)"
      ]
    },
    {
      "cell_type": "code",
      "source": [
        "merge_model.save('pipr_best_on_pan.hdf5')"
      ],
      "metadata": {
        "id": "k8ojn1wMUvqE"
      },
      "execution_count": null,
      "outputs": []
    },
    {
      "cell_type": "code",
      "source": [
        "merge_model.load_weights('pipr_best_on_pan.hdf5')"
      ],
      "metadata": {
        "id": "Ycu6iJQ_U_Ru"
      },
      "execution_count": null,
      "outputs": []
    },
    {
      "cell_type": "markdown",
      "metadata": {
        "id": "WxnJBQk0CDMp"
      },
      "source": [
        "## Inference phase"
      ]
    },
    {
      "cell_type": "markdown",
      "source": [
        "### Inference on intraspecies dataset (Human)"
      ],
      "metadata": {
        "id": "UtszNy1uyM1G"
      }
    },
    {
      "cell_type": "markdown",
      "metadata": {
        "id": "qmIjcOdrD7iR"
      },
      "source": [
        "### HPRD"
      ]
    },
    {
      "cell_type": "markdown",
      "metadata": {
        "id": "zal6oSwdFEh3"
      },
      "source": [
        "#### Read dataset"
      ]
    },
    {
      "cell_type": "code",
      "execution_count": null,
      "metadata": {
        "colab": {
          "base_uri": "https://localhost:8080/"
        },
        "id": "X9gcHxCgFDAK",
        "outputId": "1ab84e3a-5829-4203-ca97-d14ee2a31e37"
      },
      "outputs": [
        {
          "output_type": "stream",
          "name": "stderr",
          "text": [
            "3516it [00:00, 386031.43it/s]\n",
            "100%|██████████| 2747/2747 [00:00<00:00, 3749.52it/s]\n",
            "100%|██████████| 3516/3516 [00:00<00:00, 1603999.66it/s]\n",
            "100%|██████████| 3516/3516 [00:00<00:00, 2141616.74it/s]\n"
          ]
        }
      ],
      "source": [
        "id2seq_file = 'hprd_dict.tsv'\n",
        "id2index = {}\n",
        "seqs = []\n",
        "index = 0\n",
        "sid1_index = 0\n",
        "sid2_index = 1\n",
        "ds_file = 'hprd_pairs.tsv'\n",
        "label_index = 2\n",
        "use_emb = 'ac5_aph.txt'\n",
        "\n",
        "if not os.path.isfile(ds_file) or not os.path.isfile(id2seq_file):\n",
        "  !wget https://raw.githubusercontent.com/anhvt00/S-HNBM/master/data/Independent-testsets/Human-sets/HPRD/hprd_pairs.tsv\n",
        "  !wget https://raw.githubusercontent.com/anhvt00/S-HNBM/master/data/Independent-testsets/Human-sets/HPRD/hprd_dict.tsv\n",
        "\n",
        "\n",
        "# Create line variable as a list of protein sequences with index is the number of protein sequences\n",
        "# id2index is a dictionary of protein id and incremental index number \n",
        "for line in open(id2seq_file):\n",
        "    line = line.strip().split('\\t')\n",
        "    id2index[line[0]] = index\n",
        "    seqs.append(line[1])\n",
        "    index += 1\n",
        "\n",
        "seq_array = []\n",
        "id2_aid = {}\n",
        "sid = 0\n",
        "\n",
        "seq2t = s2t(use_emb)\n",
        "\n",
        "max_data = -1\n",
        "limit_data = max_data > 0\n",
        "raw_data = []\n",
        "skip_head = False\n",
        "x = None\n",
        "count = 0\n",
        "\n",
        "# Create sequence array as a list of protein strings\n",
        "for line in tqdm(open(ds_file)):\n",
        "    if skip_head:\n",
        "        skip_head = False\n",
        "        continue\n",
        "    line = line.rstrip('\\n').rstrip('\\r').split('\\t')\n",
        "    if id2index.get(line[sid1_index]) is None or id2index.get(line[sid2_index]) is None:\n",
        "        continue\n",
        "    if id2_aid.get(line[sid1_index]) is None:\n",
        "        id2_aid[line[sid1_index]] = sid\n",
        "        sid += 1\n",
        "        seq_array.append(seqs[id2index[line[sid1_index]]])\n",
        "    line[sid1_index] = id2_aid[line[sid1_index]]\n",
        "    if id2_aid.get(line[sid2_index]) is None:\n",
        "        id2_aid[line[sid2_index]] = sid\n",
        "        sid += 1\n",
        "        seq_array.append(seqs[id2index[line[sid2_index]]])\n",
        "    line[sid2_index] = id2_aid[line[sid2_index]]\n",
        "    raw_data.append(line)\n",
        "    if limit_data:\n",
        "        count += 1\n",
        "        if count >= max_data:\n",
        "            break\n",
        "\n",
        "len_m_seq = np.array([len(line.split()) for line in seq_array])\n",
        "avg_m_seq = int(np.average(len_m_seq)) + 1\n",
        "max_m_seq = max(len_m_seq)\n",
        "dim = seq2t.dim\n",
        "\n",
        "# seq_tensor is tensor representation of dataset having shape of (number_of_sequences, padding_length, embedding_dim_of_aa)\n",
        "# Random for distribution of class labels\n",
        "np.random.seed(42)\n",
        "np.random.shuffle(raw_data)\n",
        "seq_tensor = np.array([seq2t.embed_normalized(line, seq_size) for line in tqdm(seq_array)])\n",
        "\n",
        "# Extract index of 1st and 2nd sequences in pairs\n",
        "seq_index1 = np.array([line[sid1_index] for line in tqdm(raw_data)])\n",
        "seq_index2 = np.array([line[sid2_index] for line in tqdm(raw_data)])\n",
        "\n",
        "# Assign labels for pairs of sequences\n",
        "class_map = {'0':1,'1':0}\n",
        "class_labels = np.zeros((len(raw_data), 2))\n",
        "for i in range(len(raw_data)):\n",
        "    class_labels[i][class_map[raw_data[i][label_index]]] = 1\n"
      ]
    },
    {
      "cell_type": "markdown",
      "metadata": {
        "id": "omlgJ5dZrsTp"
      },
      "source": [
        "#### Create test dataset"
      ]
    },
    {
      "cell_type": "code",
      "execution_count": null,
      "metadata": {
        "id": "C7pp21AtGOh8",
        "colab": {
          "base_uri": "https://localhost:8080/"
        },
        "outputId": "f029189d-f5eb-4ad7-8102-9b4fcc8ff1cb"
      },
      "outputs": [
        {
          "output_type": "stream",
          "name": "stdout",
          "text": [
            "14/14 [==============================] - 7s 135ms/step\n"
          ]
        }
      ],
      "source": [
        "def generator_pair_general(seq_tensor, seq_index1, seq_index2, class_labels):\n",
        "  for index in range(len(seq_index1)):\n",
        "    yield {\"seq1\": seq_tensor[seq_index1[index]], \"seq2\": seq_tensor[seq_index2[index]]}, class_labels[index]\n",
        "pred_dataset = tf.data.Dataset.from_generator(generator_pair_general, args=[seq_tensor, seq_index1, seq_index2, class_labels], output_types=({\"seq1\": DTYPE, \"seq2\": DTYPE}, DTYPE), output_shapes = ({\"seq1\": (seq_size, dim), \"seq2\": (seq_size, dim)}, (2,)) )\n",
        "pred_dataset = pred_dataset.batch(BATCH_SIZE)\n",
        "pred_dataset = pred_dataset.prefetch(tf.data.AUTOTUNE)\n",
        "pred = merge_model.predict(pred_dataset)"
      ]
    },
    {
      "cell_type": "markdown",
      "source": [
        "#### Inference on test dataset"
      ],
      "metadata": {
        "id": "SJXeZtriv40S"
      }
    },
    {
      "cell_type": "code",
      "execution_count": null,
      "metadata": {
        "colab": {
          "base_uri": "https://localhost:8080/"
        },
        "id": "FQFwe5lUI1ig",
        "outputId": "d79776fb-e64d-4635-eb01-67ec3c777ec4"
      },
      "outputs": [
        {
          "output_type": "stream",
          "name": "stdout",
          "text": [
            "======================= manual compute ==============\n",
            "accuracy: 0.9092718998862344, precision: 1.0, recall: 0.9092718998862344, specificity: 0.0 ,f1-score: 0.9524802621778639, mcc: nan, auc: nan, prc: 1.0\n",
            "0.9092718998862344\t1.0\t0.9092718998862344\t0.0\t0.9524802621778639\tnan\tnan\t1.0\n"
          ]
        }
      ],
      "source": [
        "# Use for average score\n",
        "num_hit = 0.\n",
        "num_total = 0.\n",
        "num_pos = 0.\n",
        "num_true_pos = 0.\n",
        "num_false_pos = 0.\n",
        "num_true_neg = 0.\n",
        "num_false_neg = 0.\n",
        "\n",
        "# # Performance metrics\n",
        "for i in range(len(class_labels)):\n",
        "    num_total += 1\n",
        "    if np.argmax(class_labels[i]) == np.argmax(pred[i]):\n",
        "        num_hit += 1\n",
        "    if class_labels[i][0] > 0.:\n",
        "        num_pos += 1.\n",
        "        if pred[i][0] > pred[i][1]:\n",
        "            num_true_pos += 1              \n",
        "        else:                  \n",
        "            num_false_neg += 1\n",
        "    else:\n",
        "        if pred[i][0] > pred[i][1]:\n",
        "            num_false_pos += 1\n",
        "        else:\n",
        "            num_true_neg += 1\n",
        "\n",
        "accuracy = num_hit / num_total\n",
        "prec = num_true_pos / (num_true_pos + num_false_pos)\n",
        "recall = num_true_pos / num_pos\n",
        "spec = num_true_neg / (num_true_neg + num_false_neg)\n",
        "f1 = 2. * prec * recall / (prec + recall)\n",
        "\n",
        "try:\n",
        "  mcc = (num_true_pos * num_true_neg - num_false_pos * num_false_neg) / ((num_true_pos + num_true_neg) * (num_true_pos + num_false_neg) * (num_false_pos + num_true_neg) * (num_false_pos + num_false_neg)) ** 0.5\n",
        "except ZeroDivisionError:\n",
        "  mcc = 'nan'\n",
        "\n",
        "try:\n",
        "  auc = roc_auc_score(class_labels[:,0], pred[:,0])\n",
        "except ValueError:\n",
        "  auc = 'nan'\n",
        "prc = average_precision_score(class_labels[:,0], pred[:,0])\n",
        "\n",
        "print(\"======================= manual compute ==============\")\n",
        "print (f'accuracy: {accuracy}, precision: {prec}, recall: {recall}, specificity: {spec} ,f1-score: {f1}, mcc: {mcc}, auc: {auc}, prc: {prc}')\n",
        "\n",
        "print(str(accuracy) + \"\\t\" + str(prec) + \"\\t\" + str(recall) + \"\\t\" + str(spec) + \"\\t\" + str(f1) + '\\t' + str(mcc) + '\\t' + str(auc) + '\\t' + str(prc))\n"
      ]
    },
    {
      "cell_type": "markdown",
      "metadata": {
        "id": "KRreiaO1wCNX"
      },
      "source": [
        "### DIP"
      ]
    },
    {
      "cell_type": "markdown",
      "metadata": {
        "id": "ugPnBOFnwCNX"
      },
      "source": [
        "#### Read dataset"
      ]
    },
    {
      "cell_type": "code",
      "execution_count": null,
      "metadata": {
        "colab": {
          "base_uri": "https://localhost:8080/"
        },
        "outputId": "c54fe9aa-abda-4a1e-da55-4daa5c8a64db",
        "id": "hq1-crSbwCNX"
      },
      "outputs": [
        {
          "output_type": "stream",
          "name": "stdout",
          "text": [
            "--2022-12-21 06:12:42--  https://raw.githubusercontent.com/anhvt00/S-HNBM/master/data/Independent-testsets/Human-sets/DIP/dip_pairs.tsv\n",
            "Resolving raw.githubusercontent.com (raw.githubusercontent.com)... 185.199.110.133, 185.199.111.133, 185.199.108.133, ...\n",
            "Connecting to raw.githubusercontent.com (raw.githubusercontent.com)|185.199.110.133|:443... connected.\n",
            "HTTP request sent, awaiting response... 200 OK\n",
            "Length: 23488 (23K) [text/plain]\n",
            "Saving to: ‘dip_pairs.tsv’\n",
            "\n",
            "dip_pairs.tsv       100%[===================>]  22.94K  --.-KB/s    in 0.002s  \n",
            "\n",
            "2022-12-21 06:12:42 (11.3 MB/s) - ‘dip_pairs.tsv’ saved [23488/23488]\n",
            "\n",
            "--2022-12-21 06:12:42--  https://raw.githubusercontent.com/anhvt00/S-HNBM/master/data/Independent-testsets/Human-sets/DIP/dip_dict.tsv\n",
            "Resolving raw.githubusercontent.com (raw.githubusercontent.com)... 185.199.108.133, 185.199.109.133, 185.199.110.133, ...\n",
            "Connecting to raw.githubusercontent.com (raw.githubusercontent.com)|185.199.108.133|:443... connected.\n",
            "HTTP request sent, awaiting response... 200 OK\n",
            "Length: 1262993 (1.2M) [text/plain]\n",
            "Saving to: ‘dip_dict.tsv’\n",
            "\n",
            "dip_dict.tsv        100%[===================>]   1.20M  --.-KB/s    in 0.07s   \n",
            "\n",
            "2022-12-21 06:12:43 (18.4 MB/s) - ‘dip_dict.tsv’ saved [1262993/1262993]\n",
            "\n"
          ]
        },
        {
          "output_type": "stream",
          "name": "stderr",
          "text": [
            "1468it [00:00, 314835.52it/s]\n",
            "100%|██████████| 1312/1312 [00:00<00:00, 3269.21it/s]\n",
            "100%|██████████| 1468/1468 [00:00<00:00, 1575950.42it/s]\n",
            "100%|██████████| 1468/1468 [00:00<00:00, 1314806.38it/s]\n"
          ]
        }
      ],
      "source": [
        "id2seq_file = 'dip_dict.tsv'\n",
        "id2index = {}\n",
        "seqs = []\n",
        "index = 0\n",
        "sid1_index = 0\n",
        "sid2_index = 1\n",
        "ds_file = 'dip_pairs.tsv'\n",
        "label_index = 2\n",
        "use_emb = 'ac5_aph.txt'\n",
        "\n",
        "if not os.path.isfile(ds_file) or not os.path.isfile(id2seq_file):\n",
        "  !wget https://raw.githubusercontent.com/anhvt00/S-HNBM/master/data/Independent-testsets/Human-sets/DIP/dip_pairs.tsv\n",
        "  !wget https://raw.githubusercontent.com/anhvt00/S-HNBM/master/data/Independent-testsets/Human-sets/DIP/dip_dict.tsv\n",
        "\n",
        "\n",
        "# Create line variable as a list of protein sequences with index is the number of protein sequences\n",
        "# id2index is a dictionary of protein id and incremental index number \n",
        "for line in open(id2seq_file):\n",
        "    line = line.strip().split('\\t')\n",
        "    id2index[line[0]] = index\n",
        "    seqs.append(line[1])\n",
        "    index += 1\n",
        "\n",
        "seq_array = []\n",
        "id2_aid = {}\n",
        "sid = 0\n",
        "\n",
        "seq2t = s2t(use_emb)\n",
        "\n",
        "max_data = -1\n",
        "limit_data = max_data > 0\n",
        "raw_data = []\n",
        "skip_head = False\n",
        "x = None\n",
        "count = 0\n",
        "\n",
        "# Create sequence array as a list of protein strings\n",
        "for line in tqdm(open(ds_file)):\n",
        "    if skip_head:\n",
        "        skip_head = False\n",
        "        continue\n",
        "    line = line.rstrip('\\n').rstrip('\\r').split('\\t')\n",
        "    if id2index.get(line[sid1_index]) is None or id2index.get(line[sid2_index]) is None:\n",
        "        continue\n",
        "    if id2_aid.get(line[sid1_index]) is None:\n",
        "        id2_aid[line[sid1_index]] = sid\n",
        "        sid += 1\n",
        "        seq_array.append(seqs[id2index[line[sid1_index]]])\n",
        "    line[sid1_index] = id2_aid[line[sid1_index]]\n",
        "    if id2_aid.get(line[sid2_index]) is None:\n",
        "        id2_aid[line[sid2_index]] = sid\n",
        "        sid += 1\n",
        "        seq_array.append(seqs[id2index[line[sid2_index]]])\n",
        "    line[sid2_index] = id2_aid[line[sid2_index]]\n",
        "    raw_data.append(line)\n",
        "    if limit_data:\n",
        "        count += 1\n",
        "        if count >= max_data:\n",
        "            break\n",
        "\n",
        "len_m_seq = np.array([len(line.split()) for line in seq_array])\n",
        "avg_m_seq = int(np.average(len_m_seq)) + 1\n",
        "max_m_seq = max(len_m_seq)\n",
        "dim = seq2t.dim\n",
        "\n",
        "# seq_tensor is tensor representation of dataset having shape of (number_of_sequences, padding_length, embedding_dim_of_aa)\n",
        "# Random for distribution of class labels\n",
        "np.random.seed(42)\n",
        "np.random.shuffle(raw_data)\n",
        "seq_tensor = np.array([seq2t.embed_normalized(line, seq_size) for line in tqdm(seq_array)])\n",
        "\n",
        "# Extract index of 1st and 2nd sequences in pairs\n",
        "seq_index1 = np.array([line[sid1_index] for line in tqdm(raw_data)])\n",
        "seq_index2 = np.array([line[sid2_index] for line in tqdm(raw_data)])\n",
        "\n",
        "# Assign labels for pairs of sequences\n",
        "class_map = {'0':1,'1':0}\n",
        "class_labels = np.zeros((len(raw_data), 2))\n",
        "for i in range(len(raw_data)):\n",
        "    class_labels[i][class_map[raw_data[i][label_index]]] = 1\n"
      ]
    },
    {
      "cell_type": "markdown",
      "metadata": {
        "id": "1TyvqDqUwCNY"
      },
      "source": [
        "#### Create test dataset"
      ]
    },
    {
      "cell_type": "code",
      "execution_count": null,
      "metadata": {
        "colab": {
          "base_uri": "https://localhost:8080/"
        },
        "outputId": "e1a98554-a8c5-486c-85cc-ffc6a863c2af",
        "id": "DGdXC7tcwCNY"
      },
      "outputs": [
        {
          "output_type": "stream",
          "name": "stdout",
          "text": [
            "6/6 [==============================] - 1s 143ms/step\n"
          ]
        }
      ],
      "source": [
        "def generator_pair_general(seq_tensor, seq_index1, seq_index2, class_labels):\n",
        "  for index in range(len(seq_index1)):\n",
        "    yield {\"seq1\": seq_tensor[seq_index1[index]], \"seq2\": seq_tensor[seq_index2[index]]}, class_labels[index]\n",
        "pred_dataset = tf.data.Dataset.from_generator(generator_pair_general, args=[seq_tensor, seq_index1, seq_index2, class_labels], output_types=({\"seq1\": DTYPE, \"seq2\": DTYPE}, DTYPE), output_shapes = ({\"seq1\": (seq_size, dim), \"seq2\": (seq_size, dim)}, (2,)) )\n",
        "pred_dataset = pred_dataset.batch(BATCH_SIZE)\n",
        "pred_dataset = pred_dataset.prefetch(tf.data.AUTOTUNE)\n",
        "pred = merge_model.predict(pred_dataset)"
      ]
    },
    {
      "cell_type": "markdown",
      "source": [
        "#### Inference on test dataset"
      ],
      "metadata": {
        "id": "VlwDDZlbwCNY"
      }
    },
    {
      "cell_type": "code",
      "execution_count": null,
      "metadata": {
        "colab": {
          "base_uri": "https://localhost:8080/"
        },
        "outputId": "cf47ef3d-a833-4703-e977-4b8b8d395798",
        "id": "HxM1jVnWwCNY"
      },
      "outputs": [
        {
          "output_type": "stream",
          "name": "stdout",
          "text": [
            "======================= manual compute ==============\n",
            "accuracy: 0.912125340599455, precision: 1.0, recall: 0.912125340599455, specificity: 0.0 ,f1-score: 0.9540434627716424, mcc: nan, auc: nan, prc: 1.0\n",
            "0.912125340599455\t1.0\t0.912125340599455\t0.0\t0.9540434627716424\tnan\tnan\t1.0\n"
          ]
        }
      ],
      "source": [
        "# Use for average score\n",
        "num_hit = 0.\n",
        "num_total = 0.\n",
        "num_pos = 0.\n",
        "num_true_pos = 0.\n",
        "num_false_pos = 0.\n",
        "num_true_neg = 0.\n",
        "num_false_neg = 0.\n",
        "\n",
        "# # Performance metrics\n",
        "for i in range(len(class_labels)):\n",
        "    num_total += 1\n",
        "    if np.argmax(class_labels[i]) == np.argmax(pred[i]):\n",
        "        num_hit += 1\n",
        "    if class_labels[i][0] > 0.:\n",
        "        num_pos += 1.\n",
        "        if pred[i][0] > pred[i][1]:\n",
        "            num_true_pos += 1              \n",
        "        else:                  \n",
        "            num_false_neg += 1\n",
        "    else:\n",
        "        if pred[i][0] > pred[i][1]:\n",
        "            num_false_pos += 1\n",
        "        else:\n",
        "            num_true_neg += 1\n",
        "\n",
        "accuracy = num_hit / num_total\n",
        "prec = num_true_pos / (num_true_pos + num_false_pos)\n",
        "recall = num_true_pos / num_pos\n",
        "spec = num_true_neg / (num_true_neg + num_false_neg)\n",
        "f1 = 2. * prec * recall / (prec + recall)\n",
        "\n",
        "try:\n",
        "  mcc = (num_true_pos * num_true_neg - num_false_pos * num_false_neg) / ((num_true_pos + num_true_neg) * (num_true_pos + num_false_neg) * (num_false_pos + num_true_neg) * (num_false_pos + num_false_neg)) ** 0.5\n",
        "except ZeroDivisionError:\n",
        "  mcc = 'nan'\n",
        "\n",
        "try:\n",
        "  auc = roc_auc_score(class_labels[:,0], pred[:,0])\n",
        "except ValueError:\n",
        "  auc = 'nan'\n",
        "prc = average_precision_score(class_labels[:,0], pred[:,0])\n",
        "\n",
        "print(\"======================= manual compute ==============\")\n",
        "print (f'accuracy: {accuracy}, precision: {prec}, recall: {recall}, specificity: {spec} ,f1-score: {f1}, mcc: {mcc}, auc: {auc}, prc: {prc}')\n",
        "\n",
        "print(str(accuracy) + \"\\t\" + str(prec) + \"\\t\" + str(recall) + \"\\t\" + str(spec) + \"\\t\" + str(f1) + '\\t' + str(mcc) + '\\t' + str(auc) + '\\t' + str(prc))\n"
      ]
    },
    {
      "cell_type": "markdown",
      "metadata": {
        "id": "Db30SIPVwX6H"
      },
      "source": [
        "### HIPPIE HQ\n"
      ]
    },
    {
      "cell_type": "markdown",
      "metadata": {
        "id": "9ToHkR6gwX6I"
      },
      "source": [
        "#### Read dataset"
      ]
    },
    {
      "cell_type": "code",
      "execution_count": null,
      "metadata": {
        "colab": {
          "base_uri": "https://localhost:8080/"
        },
        "outputId": "84ac9394-56e0-415f-94b4-e6793f7abed3",
        "id": "lOF-zBMvwX6J"
      },
      "outputs": [
        {
          "output_type": "stream",
          "name": "stdout",
          "text": [
            "--2022-12-21 06:12:45--  https://raw.githubusercontent.com/anhvt00/S-HNBM/master/data/Independent-testsets/Human-sets/HIPPIE/HQ/hiphq_dict.tsv\n",
            "Resolving raw.githubusercontent.com (raw.githubusercontent.com)... 185.199.109.133, 185.199.111.133, 185.199.108.133, ...\n",
            "Connecting to raw.githubusercontent.com (raw.githubusercontent.com)|185.199.109.133|:443... connected.\n",
            "HTTP request sent, awaiting response... 200 OK\n",
            "Length: 4151340 (4.0M) [text/plain]\n",
            "Saving to: ‘hiphq_dict.tsv’\n",
            "\n",
            "hiphq_dict.tsv      100%[===================>]   3.96M  --.-KB/s    in 0.09s   \n",
            "\n",
            "2022-12-21 06:12:46 (44.1 MB/s) - ‘hiphq_dict.tsv’ saved [4151340/4151340]\n",
            "\n",
            "--2022-12-21 06:12:46--  https://raw.githubusercontent.com/anhvt00/S-HNBM/master/data/Independent-testsets/Human-sets/HIPPIE/HQ/hiphq_pairs.tsv\n",
            "Resolving raw.githubusercontent.com (raw.githubusercontent.com)... 185.199.111.133, 185.199.108.133, 185.199.109.133, ...\n",
            "Connecting to raw.githubusercontent.com (raw.githubusercontent.com)|185.199.111.133|:443... connected.\n",
            "HTTP request sent, awaiting response... 200 OK\n",
            "Length: 247824 (242K) [text/plain]\n",
            "Saving to: ‘hiphq_pairs.tsv’\n",
            "\n",
            "hiphq_pairs.tsv     100%[===================>] 242.02K  --.-KB/s    in 0.04s   \n",
            "\n",
            "2022-12-21 06:12:47 (6.45 MB/s) - ‘hiphq_pairs.tsv’ saved [247824/247824]\n",
            "\n"
          ]
        },
        {
          "output_type": "stream",
          "name": "stderr",
          "text": [
            "15489it [00:00, 420818.73it/s]\n",
            "100%|██████████| 5517/5517 [00:01<00:00, 2769.73it/s]\n",
            "100%|██████████| 15489/15489 [00:00<00:00, 1171416.27it/s]\n",
            "100%|██████████| 15489/15489 [00:00<00:00, 1989087.13it/s]\n"
          ]
        }
      ],
      "source": [
        "id2seq_file = 'hiphq_dict.tsv'\n",
        "id2index = {}\n",
        "seqs = []\n",
        "index = 0\n",
        "sid1_index = 0\n",
        "sid2_index = 1\n",
        "ds_file = 'hiphq_pairs.tsv'\n",
        "label_index = 2\n",
        "use_emb = 'ac5_aph.txt'\n",
        "\n",
        "if not os.path.isfile(ds_file) or not os.path.isfile(id2seq_file):\n",
        "  !wget https://raw.githubusercontent.com/anhvt00/S-HNBM/master/data/Independent-testsets/Human-sets/HIPPIE/HQ/hiphq_dict.tsv\n",
        "  !wget https://raw.githubusercontent.com/anhvt00/S-HNBM/master/data/Independent-testsets/Human-sets/HIPPIE/HQ/hiphq_pairs.tsv\n",
        "\n",
        "\n",
        "# Create line variable as a list of protein sequences with index is the number of protein sequences\n",
        "# id2index is a dictionary of protein id and incremental index number \n",
        "for line in open(id2seq_file):\n",
        "    line = line.strip().split('\\t')\n",
        "    id2index[line[0]] = index\n",
        "    seqs.append(line[1])\n",
        "    index += 1\n",
        "\n",
        "seq_array = []\n",
        "id2_aid = {}\n",
        "sid = 0\n",
        "\n",
        "seq2t = s2t(use_emb)\n",
        "\n",
        "max_data = -1\n",
        "limit_data = max_data > 0\n",
        "raw_data = []\n",
        "skip_head = False\n",
        "x = None\n",
        "count = 0\n",
        "\n",
        "# Create sequence array as a list of protein strings\n",
        "for line in tqdm(open(ds_file)):\n",
        "    if skip_head:\n",
        "        skip_head = False\n",
        "        continue\n",
        "    line = line.rstrip('\\n').rstrip('\\r').split('\\t')\n",
        "    if id2index.get(line[sid1_index]) is None or id2index.get(line[sid2_index]) is None:\n",
        "        continue\n",
        "    if id2_aid.get(line[sid1_index]) is None:\n",
        "        id2_aid[line[sid1_index]] = sid\n",
        "        sid += 1\n",
        "        seq_array.append(seqs[id2index[line[sid1_index]]])\n",
        "    line[sid1_index] = id2_aid[line[sid1_index]]\n",
        "    if id2_aid.get(line[sid2_index]) is None:\n",
        "        id2_aid[line[sid2_index]] = sid\n",
        "        sid += 1\n",
        "        seq_array.append(seqs[id2index[line[sid2_index]]])\n",
        "    line[sid2_index] = id2_aid[line[sid2_index]]\n",
        "    raw_data.append(line)\n",
        "    if limit_data:\n",
        "        count += 1\n",
        "        if count >= max_data:\n",
        "            break\n",
        "\n",
        "len_m_seq = np.array([len(line.split()) for line in seq_array])\n",
        "avg_m_seq = int(np.average(len_m_seq)) + 1\n",
        "max_m_seq = max(len_m_seq)\n",
        "dim = seq2t.dim\n",
        "\n",
        "# seq_tensor is tensor representation of dataset having shape of (number_of_sequences, padding_length, embedding_dim_of_aa)\n",
        "# Random for distribution of class labels\n",
        "np.random.seed(42)\n",
        "np.random.shuffle(raw_data)\n",
        "seq_tensor = np.array([seq2t.embed_normalized(line, seq_size) for line in tqdm(seq_array)])\n",
        "\n",
        "# Extract index of 1st and 2nd sequences in pairs\n",
        "seq_index1 = np.array([line[sid1_index] for line in tqdm(raw_data)])\n",
        "seq_index2 = np.array([line[sid2_index] for line in tqdm(raw_data)])\n",
        "\n",
        "# Assign labels for pairs of sequences\n",
        "class_map = {'0':1,'1':0}\n",
        "class_labels = np.zeros((len(raw_data), 2))\n",
        "for i in range(len(raw_data)):\n",
        "    class_labels[i][class_map[raw_data[i][label_index]]] = 1\n"
      ]
    },
    {
      "cell_type": "markdown",
      "metadata": {
        "id": "6mHbNnZ6wX6K"
      },
      "source": [
        "#### Create test dataset"
      ]
    },
    {
      "cell_type": "code",
      "execution_count": null,
      "metadata": {
        "colab": {
          "base_uri": "https://localhost:8080/"
        },
        "outputId": "30a9be86-fcc9-4919-8c5f-a0016b113d7a",
        "id": "C0ooPmBjwX6L"
      },
      "outputs": [
        {
          "output_type": "stream",
          "name": "stdout",
          "text": [
            "61/61 [==============================] - 9s 130ms/step\n"
          ]
        }
      ],
      "source": [
        "def generator_pair_general(seq_tensor, seq_index1, seq_index2, class_labels):\n",
        "  for index in range(len(seq_index1)):\n",
        "    yield {\"seq1\": seq_tensor[seq_index1[index]], \"seq2\": seq_tensor[seq_index2[index]]}, class_labels[index]\n",
        "pred_dataset = tf.data.Dataset.from_generator(generator_pair_general, args=[seq_tensor, seq_index1, seq_index2, class_labels], output_types=({\"seq1\": DTYPE, \"seq2\": DTYPE}, DTYPE), output_shapes = ({\"seq1\": (seq_size, dim), \"seq2\": (seq_size, dim)}, (2,)) )\n",
        "pred_dataset = pred_dataset.batch(BATCH_SIZE)\n",
        "pred_dataset = pred_dataset.prefetch(tf.data.AUTOTUNE)\n",
        "pred = merge_model.predict(pred_dataset)"
      ]
    },
    {
      "cell_type": "markdown",
      "source": [
        "#### Inference on test dataset"
      ],
      "metadata": {
        "id": "nEN14LI1wX6M"
      }
    },
    {
      "cell_type": "code",
      "execution_count": null,
      "metadata": {
        "colab": {
          "base_uri": "https://localhost:8080/"
        },
        "outputId": "eab1109a-85ae-4e53-b36b-e125f398dae8",
        "id": "YTpXI60kwX6M"
      },
      "outputs": [
        {
          "output_type": "stream",
          "name": "stdout",
          "text": [
            "======================= manual compute ==============\n",
            "accuracy: 0.9059332429466073, precision: 1.0, recall: 0.9059332429466073, specificity: 0.0 ,f1-score: 0.9506453033433826, mcc: nan, auc: nan, prc: 1.0\n",
            "0.9059332429466073\t1.0\t0.9059332429466073\t0.0\t0.9506453033433826\tnan\tnan\t1.0\n"
          ]
        }
      ],
      "source": [
        "# Use for average score\n",
        "num_hit = 0.\n",
        "num_total = 0.\n",
        "num_pos = 0.\n",
        "num_true_pos = 0.\n",
        "num_false_pos = 0.\n",
        "num_true_neg = 0.\n",
        "num_false_neg = 0.\n",
        "\n",
        "# # Performance metrics\n",
        "for i in range(len(class_labels)):\n",
        "    num_total += 1\n",
        "    if np.argmax(class_labels[i]) == np.argmax(pred[i]):\n",
        "        num_hit += 1\n",
        "    if class_labels[i][0] > 0.:\n",
        "        num_pos += 1.\n",
        "        if pred[i][0] > pred[i][1]:\n",
        "            num_true_pos += 1              \n",
        "        else:                  \n",
        "            num_false_neg += 1\n",
        "    else:\n",
        "        if pred[i][0] > pred[i][1]:\n",
        "            num_false_pos += 1\n",
        "        else:\n",
        "            num_true_neg += 1\n",
        "\n",
        "accuracy = num_hit / num_total\n",
        "prec = num_true_pos / (num_true_pos + num_false_pos)\n",
        "recall = num_true_pos / num_pos\n",
        "spec = num_true_neg / (num_true_neg + num_false_neg)\n",
        "f1 = 2. * prec * recall / (prec + recall)\n",
        "\n",
        "try:\n",
        "  mcc = (num_true_pos * num_true_neg - num_false_pos * num_false_neg) / ((num_true_pos + num_true_neg) * (num_true_pos + num_false_neg) * (num_false_pos + num_true_neg) * (num_false_pos + num_false_neg)) ** 0.5\n",
        "except ZeroDivisionError:\n",
        "  mcc = 'nan'\n",
        "\n",
        "try:\n",
        "  auc = roc_auc_score(class_labels[:,0], pred[:,0])\n",
        "except ValueError:\n",
        "  auc = 'nan'\n",
        "prc = average_precision_score(class_labels[:,0], pred[:,0])\n",
        "\n",
        "print(\"======================= manual compute ==============\")\n",
        "print (f'accuracy: {accuracy}, precision: {prec}, recall: {recall}, specificity: {spec} ,f1-score: {f1}, mcc: {mcc}, auc: {auc}, prc: {prc}')\n",
        "\n",
        "print(str(accuracy) + \"\\t\" + str(prec) + \"\\t\" + str(recall) + \"\\t\" + str(spec) + \"\\t\" + str(f1) + '\\t' + str(mcc) + '\\t' + str(auc) + '\\t' + str(prc))\n"
      ]
    },
    {
      "cell_type": "markdown",
      "metadata": {
        "id": "_5oLTDROxszm"
      },
      "source": [
        "### HIPPIE LQ\n"
      ]
    },
    {
      "cell_type": "markdown",
      "metadata": {
        "id": "nEftt6Dyxszn"
      },
      "source": [
        "#### Read dataset"
      ]
    },
    {
      "cell_type": "code",
      "execution_count": null,
      "metadata": {
        "colab": {
          "base_uri": "https://localhost:8080/"
        },
        "outputId": "5388a4bd-f4f0-46b7-b3ac-7e35aad18091",
        "id": "U1h1RU1txszn"
      },
      "outputs": [
        {
          "output_type": "stream",
          "name": "stdout",
          "text": [
            "--2022-12-21 06:12:59--  https://raw.githubusercontent.com/anhvt00/S-HNBM/master/data/Independent-testsets/Human-sets/HIPPIE/LQ/hiplq_dict.tsv\n",
            "Resolving raw.githubusercontent.com (raw.githubusercontent.com)... 185.199.108.133, 185.199.109.133, 185.199.111.133, ...\n",
            "Connecting to raw.githubusercontent.com (raw.githubusercontent.com)|185.199.108.133|:443... connected.\n",
            "HTTP request sent, awaiting response... 200 OK\n",
            "Length: 6837915 (6.5M) [text/plain]\n",
            "Saving to: ‘hiplq_dict.tsv’\n",
            "\n",
            "hiplq_dict.tsv      100%[===================>]   6.52M  --.-KB/s    in 0.1s    \n",
            "\n",
            "2022-12-21 06:13:00 (50.2 MB/s) - ‘hiplq_dict.tsv’ saved [6837915/6837915]\n",
            "\n",
            "--2022-12-21 06:13:00--  https://raw.githubusercontent.com/anhvt00/S-HNBM/master/data/Independent-testsets/Human-sets/HIPPIE/LQ/hiplq_pairs.tsv\n",
            "Resolving raw.githubusercontent.com (raw.githubusercontent.com)... 185.199.108.133, 185.199.109.133, 185.199.110.133, ...\n",
            "Connecting to raw.githubusercontent.com (raw.githubusercontent.com)|185.199.108.133|:443... connected.\n",
            "HTTP request sent, awaiting response... 200 OK\n",
            "Length: 1626980 (1.6M) [text/plain]\n",
            "Saving to: ‘hiplq_pairs.tsv’\n",
            "\n",
            "hiplq_pairs.tsv     100%[===================>]   1.55M  --.-KB/s    in 0.07s   \n",
            "\n",
            "2022-12-21 06:13:01 (22.9 MB/s) - ‘hiplq_pairs.tsv’ saved [1626980/1626980]\n",
            "\n"
          ]
        },
        {
          "output_type": "stream",
          "name": "stderr",
          "text": [
            "101684it [00:00, 164158.68it/s]\n",
            "100%|██████████| 10011/10011 [00:03<00:00, 3149.63it/s]\n",
            "100%|██████████| 101684/101684 [00:00<00:00, 1798238.45it/s]\n",
            "100%|██████████| 101684/101684 [00:00<00:00, 2018149.94it/s]\n"
          ]
        }
      ],
      "source": [
        "id2seq_file = 'hiplq_dict.tsv'\n",
        "id2index = {}\n",
        "seqs = []\n",
        "index = 0\n",
        "sid1_index = 0\n",
        "sid2_index = 1\n",
        "ds_file = 'hiplq_pairs.tsv'\n",
        "label_index = 2\n",
        "use_emb = 'ac5_aph.txt'\n",
        "\n",
        "if not os.path.isfile(ds_file) or not os.path.isfile(id2seq_file):\n",
        "  !wget https://raw.githubusercontent.com/anhvt00/S-HNBM/master/data/Independent-testsets/Human-sets/HIPPIE/LQ/hiplq_dict.tsv\n",
        "  !wget https://raw.githubusercontent.com/anhvt00/S-HNBM/master/data/Independent-testsets/Human-sets/HIPPIE/LQ/hiplq_pairs.tsv\n",
        "\n",
        "\n",
        "# Create line variable as a list of protein sequences with index is the number of protein sequences\n",
        "# id2index is a dictionary of protein id and incremental index number \n",
        "for line in open(id2seq_file):\n",
        "    line = line.strip().split('\\t')\n",
        "    id2index[line[0]] = index\n",
        "    seqs.append(line[1])\n",
        "    index += 1\n",
        "\n",
        "seq_array = []\n",
        "id2_aid = {}\n",
        "sid = 0\n",
        "\n",
        "seq2t = s2t(use_emb)\n",
        "\n",
        "max_data = -1\n",
        "limit_data = max_data > 0\n",
        "raw_data = []\n",
        "skip_head = False\n",
        "x = None\n",
        "count = 0\n",
        "\n",
        "# Create sequence array as a list of protein strings\n",
        "for line in tqdm(open(ds_file)):\n",
        "    if skip_head:\n",
        "        skip_head = False\n",
        "        continue\n",
        "    line = line.rstrip('\\n').rstrip('\\r').split('\\t')\n",
        "    if id2index.get(line[sid1_index]) is None or id2index.get(line[sid2_index]) is None:\n",
        "        continue\n",
        "    if id2_aid.get(line[sid1_index]) is None:\n",
        "        id2_aid[line[sid1_index]] = sid\n",
        "        sid += 1\n",
        "        seq_array.append(seqs[id2index[line[sid1_index]]])\n",
        "    line[sid1_index] = id2_aid[line[sid1_index]]\n",
        "    if id2_aid.get(line[sid2_index]) is None:\n",
        "        id2_aid[line[sid2_index]] = sid\n",
        "        sid += 1\n",
        "        seq_array.append(seqs[id2index[line[sid2_index]]])\n",
        "    line[sid2_index] = id2_aid[line[sid2_index]]\n",
        "    raw_data.append(line)\n",
        "    if limit_data:\n",
        "        count += 1\n",
        "        if count >= max_data:\n",
        "            break\n",
        "\n",
        "len_m_seq = np.array([len(line.split()) for line in seq_array])\n",
        "avg_m_seq = int(np.average(len_m_seq)) + 1\n",
        "max_m_seq = max(len_m_seq)\n",
        "dim = seq2t.dim\n",
        "\n",
        "# seq_tensor is tensor representation of dataset having shape of (number_of_sequences, padding_length, embedding_dim_of_aa)\n",
        "# Random for distribution of class labels\n",
        "np.random.seed(42)\n",
        "np.random.shuffle(raw_data)\n",
        "seq_tensor = np.array([seq2t.embed_normalized(line, seq_size) for line in tqdm(seq_array)])\n",
        "\n",
        "# Extract index of 1st and 2nd sequences in pairs\n",
        "seq_index1 = np.array([line[sid1_index] for line in tqdm(raw_data)])\n",
        "seq_index2 = np.array([line[sid2_index] for line in tqdm(raw_data)])\n",
        "\n",
        "# Assign labels for pairs of sequences\n",
        "class_map = {'0':1,'1':0}\n",
        "class_labels = np.zeros((len(raw_data), 2))\n",
        "for i in range(len(raw_data)):\n",
        "    class_labels[i][class_map[raw_data[i][label_index]]] = 1\n"
      ]
    },
    {
      "cell_type": "markdown",
      "metadata": {
        "id": "OmteKDAZxszo"
      },
      "source": [
        "#### Create test dataset"
      ]
    },
    {
      "cell_type": "code",
      "execution_count": null,
      "metadata": {
        "colab": {
          "base_uri": "https://localhost:8080/"
        },
        "outputId": "8c3f7bd2-a4e6-451b-ccb3-82b33af45c0a",
        "id": "AgIUXuR_xszp"
      },
      "outputs": [
        {
          "output_type": "stream",
          "name": "stdout",
          "text": [
            "398/398 [==============================] - 52s 127ms/step\n"
          ]
        }
      ],
      "source": [
        "def generator_pair_general(seq_tensor, seq_index1, seq_index2, class_labels):\n",
        "  for index in range(len(seq_index1)):\n",
        "    yield {\"seq1\": seq_tensor[seq_index1[index]], \"seq2\": seq_tensor[seq_index2[index]]}, class_labels[index]\n",
        "pred_dataset = tf.data.Dataset.from_generator(generator_pair_general, args=[seq_tensor, seq_index1, seq_index2, class_labels], output_types=({\"seq1\": DTYPE, \"seq2\": DTYPE}, DTYPE), output_shapes = ({\"seq1\": (seq_size, dim), \"seq2\": (seq_size, dim)}, (2,)) )\n",
        "pred_dataset = pred_dataset.batch(BATCH_SIZE)\n",
        "pred_dataset = pred_dataset.prefetch(tf.data.AUTOTUNE)\n",
        "pred = merge_model.predict(pred_dataset)"
      ]
    },
    {
      "cell_type": "markdown",
      "source": [
        "#### Inference on test dataset"
      ],
      "metadata": {
        "id": "B9WEkiAjxszq"
      }
    },
    {
      "cell_type": "code",
      "execution_count": null,
      "metadata": {
        "colab": {
          "base_uri": "https://localhost:8080/"
        },
        "outputId": "6b295c93-9f3c-4bb3-c8ed-df8db0cfe133",
        "id": "khERXZ5pxszq"
      },
      "outputs": [
        {
          "output_type": "stream",
          "name": "stdout",
          "text": [
            "======================= manual compute ==============\n",
            "accuracy: 0.9034066323118681, precision: 1.0, recall: 0.9033967979229771, specificity: 0.0 ,f1-score: 0.9492469451548736, mcc: nan, auc: nan, prc: 1.0\n",
            "0.9034066323118681\t1.0\t0.9033967979229771\t0.0\t0.9492469451548736\tnan\tnan\t1.0\n"
          ]
        }
      ],
      "source": [
        "# Use for average score\n",
        "num_hit = 0.\n",
        "num_total = 0.\n",
        "num_pos = 0.\n",
        "num_true_pos = 0.\n",
        "num_false_pos = 0.\n",
        "num_true_neg = 0.\n",
        "num_false_neg = 0.\n",
        "\n",
        "# # Performance metrics\n",
        "for i in range(len(class_labels)):\n",
        "    num_total += 1\n",
        "    if np.argmax(class_labels[i]) == np.argmax(pred[i]):\n",
        "        num_hit += 1\n",
        "    if class_labels[i][0] > 0.:\n",
        "        num_pos += 1.\n",
        "        if pred[i][0] > pred[i][1]:\n",
        "            num_true_pos += 1              \n",
        "        else:                  \n",
        "            num_false_neg += 1\n",
        "    else:\n",
        "        if pred[i][0] > pred[i][1]:\n",
        "            num_false_pos += 1\n",
        "        else:\n",
        "            num_true_neg += 1\n",
        "\n",
        "accuracy = num_hit / num_total\n",
        "prec = num_true_pos / (num_true_pos + num_false_pos)\n",
        "recall = num_true_pos / num_pos\n",
        "spec = num_true_neg / (num_true_neg + num_false_neg)\n",
        "f1 = 2. * prec * recall / (prec + recall)\n",
        "\n",
        "try:\n",
        "  mcc = (num_true_pos * num_true_neg - num_false_pos * num_false_neg) / ((num_true_pos + num_true_neg) * (num_true_pos + num_false_neg) * (num_false_pos + num_true_neg) * (num_false_pos + num_false_neg)) ** 0.5\n",
        "except ZeroDivisionError:\n",
        "  mcc = 'nan'\n",
        "\n",
        "try:\n",
        "  auc = roc_auc_score(class_labels[:,0], pred[:,0])\n",
        "except ValueError:\n",
        "  auc = 'nan'\n",
        "prc = average_precision_score(class_labels[:,0], pred[:,0])\n",
        "\n",
        "print(\"======================= manual compute ==============\")\n",
        "print (f'accuracy: {accuracy}, precision: {prec}, recall: {recall}, specificity: {spec} ,f1-score: {f1}, mcc: {mcc}, auc: {auc}, prc: {prc}')\n",
        "\n",
        "print(str(accuracy) + \"\\t\" + str(prec) + \"\\t\" + str(recall) + \"\\t\" + str(spec) + \"\\t\" + str(f1) + '\\t' + str(mcc) + '\\t' + str(auc) + '\\t' + str(prc))\n"
      ]
    },
    {
      "cell_type": "markdown",
      "metadata": {
        "id": "FV67BcYZ6wc_"
      },
      "source": [
        "### Inference on cross-species datasets"
      ]
    },
    {
      "cell_type": "markdown",
      "metadata": {
        "id": "H1EJyKyLzH31"
      },
      "source": [
        "### E. coli\n"
      ]
    },
    {
      "cell_type": "markdown",
      "metadata": {
        "id": "0S__LLj5zH32"
      },
      "source": [
        "#### Read dataset"
      ]
    },
    {
      "cell_type": "code",
      "execution_count": null,
      "metadata": {
        "colab": {
          "base_uri": "https://localhost:8080/"
        },
        "outputId": "7e633256-11ae-43cc-cc8a-91dac24d47d8",
        "id": "4HJT-YFxzH32"
      },
      "outputs": [
        {
          "output_type": "stream",
          "name": "stdout",
          "text": [
            "--2022-12-21 06:14:00--  https://raw.githubusercontent.com/anhvt00/MCAPS/master/data/Independent-testsets/cross-species/pairs/ecoli_test.tsv\n",
            "Resolving raw.githubusercontent.com (raw.githubusercontent.com)... 185.199.108.133, 185.199.109.133, 185.199.110.133, ...\n",
            "Connecting to raw.githubusercontent.com (raw.githubusercontent.com)|185.199.108.133|:443... connected.\n",
            "HTTP request sent, awaiting response... 200 OK\n",
            "Length: 768468 (750K) [text/plain]\n",
            "Saving to: ‘ecoli_test.tsv’\n",
            "\n",
            "ecoli_test.tsv      100%[===================>] 750.46K  --.-KB/s    in 0.05s   \n",
            "\n",
            "2022-12-21 06:14:01 (13.8 MB/s) - ‘ecoli_test.tsv’ saved [768468/768468]\n",
            "\n",
            "--2022-12-21 06:14:01--  https://raw.githubusercontent.com/anhvt00/MCAPS/master/data/Independent-testsets/cross-species/seqs/ecoli_dict.tsv\n",
            "Resolving raw.githubusercontent.com (raw.githubusercontent.com)... 185.199.108.133, 185.199.109.133, 185.199.110.133, ...\n",
            "Connecting to raw.githubusercontent.com (raw.githubusercontent.com)|185.199.108.133|:443... connected.\n",
            "HTTP request sent, awaiting response... 200 OK\n",
            "Length: 5395789 (5.1M) [text/plain]\n",
            "Saving to: ‘ecoli_dict.tsv’\n",
            "\n",
            "ecoli_dict.tsv      100%[===================>]   5.15M  --.-KB/s    in 0.09s   \n",
            "\n",
            "2022-12-21 06:14:02 (57.3 MB/s) - ‘ecoli_dict.tsv’ saved [5395789/5395789]\n",
            "\n"
          ]
        },
        {
          "output_type": "stream",
          "name": "stderr",
          "text": [
            "22000it [00:00, 440489.82it/s]\n",
            "100%|██████████| 7138/7138 [00:01<00:00, 4828.35it/s]\n",
            "100%|██████████| 22000/22000 [00:00<00:00, 1650709.98it/s]\n",
            "100%|██████████| 22000/22000 [00:00<00:00, 1943197.74it/s]\n"
          ]
        }
      ],
      "source": [
        "id2seq_file = 'ecoli_dict.tsv'\n",
        "id2index = {}\n",
        "seqs = []\n",
        "index = 0\n",
        "sid1_index = 0\n",
        "sid2_index = 1\n",
        "ds_file = 'ecoli_test.tsv'\n",
        "label_index = 2\n",
        "use_emb = 'ac5_aph.txt'\n",
        "\n",
        "if not os.path.isfile(ds_file) or not os.path.isfile(id2seq_file):\n",
        "  !wget https://raw.githubusercontent.com/anhvt00/MCAPS/master/data/Independent-testsets/cross-species/pairs/ecoli_test.tsv\n",
        "  !wget https://raw.githubusercontent.com/anhvt00/MCAPS/master/data/Independent-testsets/cross-species/seqs/ecoli_dict.tsv\n",
        "\n",
        "\n",
        "# Create line variable as a list of protein sequences with index is the number of protein sequences\n",
        "# id2index is a dictionary of protein id and incremental index number \n",
        "for line in open(id2seq_file):\n",
        "    line = line.strip().split('\\t')\n",
        "    id2index[line[0]] = index\n",
        "    seqs.append(line[1])\n",
        "    index += 1\n",
        "\n",
        "seq_array = []\n",
        "id2_aid = {}\n",
        "sid = 0\n",
        "\n",
        "seq2t = s2t(use_emb)\n",
        "\n",
        "max_data = -1\n",
        "limit_data = max_data > 0\n",
        "raw_data = []\n",
        "skip_head = False\n",
        "x = None\n",
        "count = 0\n",
        "\n",
        "# Create sequence array as a list of protein strings\n",
        "for line in tqdm(open(ds_file)):\n",
        "    if skip_head:\n",
        "        skip_head = False\n",
        "        continue\n",
        "    line = line.rstrip('\\n').rstrip('\\r').split('\\t')\n",
        "    if id2index.get(line[sid1_index]) is None or id2index.get(line[sid2_index]) is None:\n",
        "        continue\n",
        "    if id2_aid.get(line[sid1_index]) is None:\n",
        "        id2_aid[line[sid1_index]] = sid\n",
        "        sid += 1\n",
        "        seq_array.append(seqs[id2index[line[sid1_index]]])\n",
        "    line[sid1_index] = id2_aid[line[sid1_index]]\n",
        "    if id2_aid.get(line[sid2_index]) is None:\n",
        "        id2_aid[line[sid2_index]] = sid\n",
        "        sid += 1\n",
        "        seq_array.append(seqs[id2index[line[sid2_index]]])\n",
        "    line[sid2_index] = id2_aid[line[sid2_index]]\n",
        "    raw_data.append(line)\n",
        "    if limit_data:\n",
        "        count += 1\n",
        "        if count >= max_data:\n",
        "            break\n",
        "\n",
        "len_m_seq = np.array([len(line.split()) for line in seq_array])\n",
        "avg_m_seq = int(np.average(len_m_seq)) + 1\n",
        "max_m_seq = max(len_m_seq)\n",
        "dim = seq2t.dim\n",
        "\n",
        "# seq_tensor is tensor representation of dataset having shape of (number_of_sequences, padding_length, embedding_dim_of_aa)\n",
        "# Random for distribution of class labels\n",
        "np.random.seed(42)\n",
        "np.random.shuffle(raw_data)\n",
        "seq_tensor = np.array([seq2t.embed_normalized(line, seq_size) for line in tqdm(seq_array)])\n",
        "\n",
        "# Extract index of 1st and 2nd sequences in pairs\n",
        "seq_index1 = np.array([line[sid1_index] for line in tqdm(raw_data)])\n",
        "seq_index2 = np.array([line[sid2_index] for line in tqdm(raw_data)])\n",
        "\n",
        "# Assign labels for pairs of sequences\n",
        "class_map = {'0':1,'1':0}\n",
        "class_labels = np.zeros((len(raw_data), 2))\n",
        "for i in range(len(raw_data)):\n",
        "    class_labels[i][class_map[raw_data[i][label_index]]] = 1\n"
      ]
    },
    {
      "cell_type": "markdown",
      "metadata": {
        "id": "ctmQUNu6zH33"
      },
      "source": [
        "#### Create test dataset"
      ]
    },
    {
      "cell_type": "code",
      "execution_count": null,
      "metadata": {
        "colab": {
          "base_uri": "https://localhost:8080/"
        },
        "outputId": "268ab10c-243c-4389-f696-9f3447a26b2a",
        "id": "QMI481LOzH34"
      },
      "outputs": [
        {
          "output_type": "stream",
          "name": "stdout",
          "text": [
            "86/86 [==============================] - 11s 127ms/step\n"
          ]
        }
      ],
      "source": [
        "def generator_pair_general(seq_tensor, seq_index1, seq_index2, class_labels):\n",
        "  for index in range(len(seq_index1)):\n",
        "    yield {\"seq1\": seq_tensor[seq_index1[index]], \"seq2\": seq_tensor[seq_index2[index]]}, class_labels[index]\n",
        "pred_dataset = tf.data.Dataset.from_generator(generator_pair_general, args=[seq_tensor, seq_index1, seq_index2, class_labels], output_types=({\"seq1\": DTYPE, \"seq2\": DTYPE}, DTYPE), output_shapes = ({\"seq1\": (seq_size, dim), \"seq2\": (seq_size, dim)}, (2,)) )\n",
        "pred_dataset = pred_dataset.batch(BATCH_SIZE)\n",
        "pred_dataset = pred_dataset.prefetch(tf.data.AUTOTUNE)\n",
        "pred = merge_model.predict(pred_dataset)"
      ]
    },
    {
      "cell_type": "markdown",
      "source": [
        "#### Inference on test dataset"
      ],
      "metadata": {
        "id": "EdO6J_h0zH34"
      }
    },
    {
      "cell_type": "code",
      "execution_count": null,
      "metadata": {
        "colab": {
          "base_uri": "https://localhost:8080/"
        },
        "outputId": "43f5bab1-e91d-49d0-c201-38da028540ba",
        "id": "Z8uzV3R8zH35"
      },
      "outputs": [
        {
          "output_type": "stream",
          "name": "stdout",
          "text": [
            "======================= manual compute ==============\n",
            "accuracy: 0.14477272727272728, precision: 0.08306471609223903, recall: 0.8375, specificity: 0.8228882833787466 ,f1-score: 0.1511391833972479, mcc: -0.0710791815817969, auc: 0.4141013125, prc: 0.07651187005188066\n",
            "0.14477272727272728\t0.08306471609223903\t0.8375\t0.8228882833787466\t0.1511391833972479\t-0.0710791815817969\t0.4141013125\t0.07651187005188066\n"
          ]
        }
      ],
      "source": [
        "# Use for average score\n",
        "num_hit = 0.\n",
        "num_total = 0.\n",
        "num_pos = 0.\n",
        "num_true_pos = 0.\n",
        "num_false_pos = 0.\n",
        "num_true_neg = 0.\n",
        "num_false_neg = 0.\n",
        "\n",
        "# # Performance metrics\n",
        "for i in range(len(class_labels)):\n",
        "    num_total += 1\n",
        "    if np.argmax(class_labels[i]) == np.argmax(pred[i]):\n",
        "        num_hit += 1\n",
        "    if class_labels[i][0] > 0.:\n",
        "        num_pos += 1.\n",
        "        if pred[i][0] > pred[i][1]:\n",
        "            num_true_pos += 1              \n",
        "        else:                  \n",
        "            num_false_neg += 1\n",
        "    else:\n",
        "        if pred[i][0] > pred[i][1]:\n",
        "            num_false_pos += 1\n",
        "        else:\n",
        "            num_true_neg += 1\n",
        "\n",
        "accuracy = num_hit / num_total\n",
        "prec = num_true_pos / (num_true_pos + num_false_pos)\n",
        "recall = num_true_pos / num_pos\n",
        "spec = num_true_neg / (num_true_neg + num_false_neg)\n",
        "f1 = 2. * prec * recall / (prec + recall)\n",
        "\n",
        "try:\n",
        "  mcc = (num_true_pos * num_true_neg - num_false_pos * num_false_neg) / ((num_true_pos + num_true_neg) * (num_true_pos + num_false_neg) * (num_false_pos + num_true_neg) * (num_false_pos + num_false_neg)) ** 0.5\n",
        "except ZeroDivisionError:\n",
        "  mcc = 'nan'\n",
        "\n",
        "try:\n",
        "  auc = roc_auc_score(class_labels[:,0], pred[:,0])\n",
        "except ValueError:\n",
        "  auc = 'nan'\n",
        "prc = average_precision_score(class_labels[:,0], pred[:,0])\n",
        "\n",
        "print(\"======================= manual compute ==============\")\n",
        "print (f'accuracy: {accuracy}, precision: {prec}, recall: {recall}, specificity: {spec} ,f1-score: {f1}, mcc: {mcc}, auc: {auc}, prc: {prc}')\n",
        "\n",
        "print(str(accuracy) + \"\\t\" + str(prec) + \"\\t\" + str(recall) + \"\\t\" + str(spec) + \"\\t\" + str(f1) + '\\t' + str(mcc) + '\\t' + str(auc) + '\\t' + str(prc))\n"
      ]
    },
    {
      "cell_type": "markdown",
      "metadata": {
        "id": "dyd-PCpkN0lU"
      },
      "source": [
        "### Fly\n"
      ]
    },
    {
      "cell_type": "markdown",
      "metadata": {
        "id": "9J7Y9c9wN0lU"
      },
      "source": [
        "#### Read dataset"
      ]
    },
    {
      "cell_type": "code",
      "execution_count": null,
      "metadata": {
        "colab": {
          "base_uri": "https://localhost:8080/"
        },
        "outputId": "8b5f298e-984d-4aec-c7fe-2b901747b08b",
        "id": "L2Xo8XWyN0lU"
      },
      "outputs": [
        {
          "output_type": "stream",
          "name": "stdout",
          "text": [
            "--2022-12-21 06:14:17--  https://raw.githubusercontent.com/anhvt00/MCAPS/master/data/Independent-testsets/cross-species/pairs/fly_test.tsv\n",
            "Resolving raw.githubusercontent.com (raw.githubusercontent.com)... 185.199.111.133, 185.199.108.133, 185.199.109.133, ...\n",
            "Connecting to raw.githubusercontent.com (raw.githubusercontent.com)|185.199.111.133|:443... connected.\n",
            "HTTP request sent, awaiting response... 200 OK\n",
            "Length: 1980000 (1.9M) [text/plain]\n",
            "Saving to: ‘fly_test.tsv’\n",
            "\n",
            "fly_test.tsv        100%[===================>]   1.89M  --.-KB/s    in 0.07s   \n",
            "\n",
            "2022-12-21 06:14:18 (27.6 MB/s) - ‘fly_test.tsv’ saved [1980000/1980000]\n",
            "\n",
            "--2022-12-21 06:14:18--  https://raw.githubusercontent.com/anhvt00/MCAPS/master/data/Independent-testsets/cross-species/seqs/fly_dict.tsv\n",
            "Resolving raw.githubusercontent.com (raw.githubusercontent.com)... 185.199.110.133, 185.199.111.133, 185.199.109.133, ...\n",
            "Connecting to raw.githubusercontent.com (raw.githubusercontent.com)|185.199.110.133|:443... connected.\n",
            "HTTP request sent, awaiting response... 200 OK\n",
            "Length: 7839133 (7.5M) [text/plain]\n",
            "Saving to: ‘fly_dict.tsv’\n",
            "\n",
            "fly_dict.tsv        100%[===================>]   7.48M  --.-KB/s    in 0.1s    \n",
            "\n",
            "2022-12-21 06:14:21 (71.8 MB/s) - ‘fly_dict.tsv’ saved [7839133/7839133]\n",
            "\n"
          ]
        },
        {
          "output_type": "stream",
          "name": "stderr",
          "text": [
            "55000it [00:00, 418805.24it/s]\n",
            "100%|██████████| 19213/19213 [00:04<00:00, 4112.11it/s]\n",
            "100%|██████████| 55000/55000 [00:00<00:00, 1688491.10it/s]\n",
            "100%|██████████| 55000/55000 [00:00<00:00, 2032177.74it/s]\n"
          ]
        }
      ],
      "source": [
        "id2seq_file = 'fly_dict.tsv'\n",
        "id2index = {}\n",
        "seqs = []\n",
        "index = 0\n",
        "sid1_index = 0\n",
        "sid2_index = 1\n",
        "ds_file = 'fly_test.tsv'\n",
        "label_index = 2\n",
        "use_emb = 'ac5_aph.txt'\n",
        "\n",
        "if not os.path.isfile(ds_file) or not os.path.isfile(id2seq_file):\n",
        "  !wget https://raw.githubusercontent.com/anhvt00/MCAPS/master/data/Independent-testsets/cross-species/pairs/fly_test.tsv\n",
        "  !wget https://raw.githubusercontent.com/anhvt00/MCAPS/master/data/Independent-testsets/cross-species/seqs/fly_dict.tsv\n",
        "\n",
        "\n",
        "# Create line variable as a list of protein sequences with index is the number of protein sequences\n",
        "# id2index is a dictionary of protein id and incremental index number \n",
        "for line in open(id2seq_file):\n",
        "    line = line.strip().split('\\t')\n",
        "    id2index[line[0]] = index\n",
        "    seqs.append(line[1])\n",
        "    index += 1\n",
        "\n",
        "seq_array = []\n",
        "id2_aid = {}\n",
        "sid = 0\n",
        "\n",
        "seq2t = s2t(use_emb)\n",
        "\n",
        "max_data = -1\n",
        "limit_data = max_data > 0\n",
        "raw_data = []\n",
        "skip_head = False\n",
        "x = None\n",
        "count = 0\n",
        "\n",
        "# Create sequence array as a list of protein strings\n",
        "for line in tqdm(open(ds_file)):\n",
        "    if skip_head:\n",
        "        skip_head = False\n",
        "        continue\n",
        "    line = line.rstrip('\\n').rstrip('\\r').split('\\t')\n",
        "    if id2index.get(line[sid1_index]) is None or id2index.get(line[sid2_index]) is None:\n",
        "        continue\n",
        "    if id2_aid.get(line[sid1_index]) is None:\n",
        "        id2_aid[line[sid1_index]] = sid\n",
        "        sid += 1\n",
        "        seq_array.append(seqs[id2index[line[sid1_index]]])\n",
        "    line[sid1_index] = id2_aid[line[sid1_index]]\n",
        "    if id2_aid.get(line[sid2_index]) is None:\n",
        "        id2_aid[line[sid2_index]] = sid\n",
        "        sid += 1\n",
        "        seq_array.append(seqs[id2index[line[sid2_index]]])\n",
        "    line[sid2_index] = id2_aid[line[sid2_index]]\n",
        "    raw_data.append(line)\n",
        "    if limit_data:\n",
        "        count += 1\n",
        "        if count >= max_data:\n",
        "            break\n",
        "\n",
        "len_m_seq = np.array([len(line.split()) for line in seq_array])\n",
        "avg_m_seq = int(np.average(len_m_seq)) + 1\n",
        "max_m_seq = max(len_m_seq)\n",
        "dim = seq2t.dim\n",
        "\n",
        "# seq_tensor is tensor representation of dataset having shape of (number_of_sequences, padding_length, embedding_dim_of_aa)\n",
        "# Random for distribution of class labels\n",
        "np.random.seed(42)\n",
        "np.random.shuffle(raw_data)\n",
        "seq_tensor = np.array([seq2t.embed_normalized(line, seq_size) for line in tqdm(seq_array)])\n",
        "\n",
        "# Extract index of 1st and 2nd sequences in pairs\n",
        "seq_index1 = np.array([line[sid1_index] for line in tqdm(raw_data)])\n",
        "seq_index2 = np.array([line[sid2_index] for line in tqdm(raw_data)])\n",
        "\n",
        "# Assign labels for pairs of sequences\n",
        "class_map = {'0':1,'1':0}\n",
        "class_labels = np.zeros((len(raw_data), 2))\n",
        "for i in range(len(raw_data)):\n",
        "    class_labels[i][class_map[raw_data[i][label_index]]] = 1\n"
      ]
    },
    {
      "cell_type": "markdown",
      "metadata": {
        "id": "aBHKIjFXN0lV"
      },
      "source": [
        "#### Create test dataset"
      ]
    },
    {
      "cell_type": "code",
      "execution_count": null,
      "metadata": {
        "colab": {
          "base_uri": "https://localhost:8080/"
        },
        "outputId": "f388f25a-7c03-4e20-9dd7-1b32e3921440",
        "id": "7qMZq8XMN0lV"
      },
      "outputs": [
        {
          "output_type": "stream",
          "name": "stdout",
          "text": [
            "215/215 [==============================] - 29s 124ms/step\n"
          ]
        }
      ],
      "source": [
        "def generator_pair_general(seq_tensor, seq_index1, seq_index2, class_labels):\n",
        "  for index in range(len(seq_index1)):\n",
        "    yield {\"seq1\": seq_tensor[seq_index1[index]], \"seq2\": seq_tensor[seq_index2[index]]}, class_labels[index]\n",
        "pred_dataset = tf.data.Dataset.from_generator(generator_pair_general, args=[seq_tensor, seq_index1, seq_index2, class_labels], output_types=({\"seq1\": DTYPE, \"seq2\": DTYPE}, DTYPE), output_shapes = ({\"seq1\": (seq_size, dim), \"seq2\": (seq_size, dim)}, (2,)) )\n",
        "pred_dataset = pred_dataset.batch(BATCH_SIZE)\n",
        "pred_dataset = pred_dataset.prefetch(tf.data.AUTOTUNE)\n",
        "pred = merge_model.predict(pred_dataset)"
      ]
    },
    {
      "cell_type": "markdown",
      "source": [
        "#### Inference on test dataset"
      ],
      "metadata": {
        "id": "_YD9OwgMN0lV"
      }
    },
    {
      "cell_type": "code",
      "execution_count": null,
      "metadata": {
        "colab": {
          "base_uri": "https://localhost:8080/"
        },
        "outputId": "95179b2d-5e2f-43df-f45b-3cd1c19a4544",
        "id": "PH906mqKN0lV"
      },
      "outputs": [
        {
          "output_type": "stream",
          "name": "stdout",
          "text": [
            "======================= manual compute ==============\n",
            "accuracy: 0.13318181818181818, precision: 0.08706674665686141, recall: 0.8998, specificity: 0.8494138863841298 ,f1-score: 0.15877049035696011, mcc: -0.03695757514871251, auc: 0.430104, prc: 0.07874267356685488\n",
            "0.13318181818181818\t0.08706674665686141\t0.8998\t0.8494138863841298\t0.15877049035696011\t-0.03695757514871251\t0.430104\t0.07874267356685488\n"
          ]
        }
      ],
      "source": [
        "# Use for average score\n",
        "num_hit = 0.\n",
        "num_total = 0.\n",
        "num_pos = 0.\n",
        "num_true_pos = 0.\n",
        "num_false_pos = 0.\n",
        "num_true_neg = 0.\n",
        "num_false_neg = 0.\n",
        "\n",
        "# # Performance metrics\n",
        "for i in range(len(class_labels)):\n",
        "    num_total += 1\n",
        "    if np.argmax(class_labels[i]) == np.argmax(pred[i]):\n",
        "        num_hit += 1\n",
        "    if class_labels[i][0] > 0.:\n",
        "        num_pos += 1.\n",
        "        if pred[i][0] > pred[i][1]:\n",
        "            num_true_pos += 1              \n",
        "        else:                  \n",
        "            num_false_neg += 1\n",
        "    else:\n",
        "        if pred[i][0] > pred[i][1]:\n",
        "            num_false_pos += 1\n",
        "        else:\n",
        "            num_true_neg += 1\n",
        "\n",
        "accuracy = num_hit / num_total\n",
        "prec = num_true_pos / (num_true_pos + num_false_pos)\n",
        "recall = num_true_pos / num_pos\n",
        "spec = num_true_neg / (num_true_neg + num_false_neg)\n",
        "f1 = 2. * prec * recall / (prec + recall)\n",
        "\n",
        "try:\n",
        "  mcc = (num_true_pos * num_true_neg - num_false_pos * num_false_neg) / ((num_true_pos + num_true_neg) * (num_true_pos + num_false_neg) * (num_false_pos + num_true_neg) * (num_false_pos + num_false_neg)) ** 0.5\n",
        "except ZeroDivisionError:\n",
        "  mcc = 'nan'\n",
        "\n",
        "try:\n",
        "  auc = roc_auc_score(class_labels[:,0], pred[:,0])\n",
        "except ValueError:\n",
        "  auc = 'nan'\n",
        "prc = average_precision_score(class_labels[:,0], pred[:,0])\n",
        "\n",
        "print(\"======================= manual compute ==============\")\n",
        "print (f'accuracy: {accuracy}, precision: {prec}, recall: {recall}, specificity: {spec} ,f1-score: {f1}, mcc: {mcc}, auc: {auc}, prc: {prc}')\n",
        "\n",
        "print(str(accuracy) + \"\\t\" + str(prec) + \"\\t\" + str(recall) + \"\\t\" + str(spec) + \"\\t\" + str(f1) + '\\t' + str(mcc) + '\\t' + str(auc) + '\\t' + str(prc))\n"
      ]
    },
    {
      "cell_type": "markdown",
      "metadata": {
        "id": "ODVSE77KN02H"
      },
      "source": [
        "### Mouse\n"
      ]
    },
    {
      "cell_type": "markdown",
      "metadata": {
        "id": "r7AC9oTYN02I"
      },
      "source": [
        "#### Read dataset"
      ]
    },
    {
      "cell_type": "code",
      "execution_count": null,
      "metadata": {
        "colab": {
          "base_uri": "https://localhost:8080/"
        },
        "outputId": "32207b49-442f-4268-ed97-d498fcb0eb7e",
        "id": "o7qEfZ8sN02I"
      },
      "outputs": [
        {
          "output_type": "stream",
          "name": "stderr",
          "text": [
            "55000it [00:00, 346905.67it/s]\n",
            "100%|██████████| 37497/37497 [00:10<00:00, 3665.79it/s]\n",
            "100%|██████████| 55000/55000 [00:00<00:00, 1700828.12it/s]\n",
            "100%|██████████| 55000/55000 [00:00<00:00, 1455960.31it/s]\n"
          ]
        }
      ],
      "source": [
        "id2seq_file = 'mouse_dict.tsv'\n",
        "id2index = {}\n",
        "seqs = []\n",
        "index = 0\n",
        "sid1_index = 0\n",
        "sid2_index = 1\n",
        "ds_file = 'mouse_test.tsv'\n",
        "label_index = 2\n",
        "use_emb = 'ac5_aph.txt'\n",
        "\n",
        "if not os.path.isfile(ds_file) or not os.path.isfile(id2seq_file):\n",
        "  !wget https://raw.githubusercontent.com/anhvt00/MCAPS/master/data/Independent-testsets/cross-species/pairs/mouse_test.tsv\n",
        "  !wget https://raw.githubusercontent.com/anhvt00/MCAPS/master/data/Independent-testsets/cross-species/seqs/mouse_dict.tsv\n",
        "\n",
        "\n",
        "# Create line variable as a list of protein sequences with index is the number of protein sequences\n",
        "# id2index is a dictionary of protein id and incremental index number \n",
        "for line in open(id2seq_file):\n",
        "    line = line.strip().split('\\t')\n",
        "    id2index[line[0]] = index\n",
        "    seqs.append(line[1])\n",
        "    index += 1\n",
        "\n",
        "seq_array = []\n",
        "id2_aid = {}\n",
        "sid = 0\n",
        "\n",
        "seq2t = s2t(use_emb)\n",
        "\n",
        "max_data = -1\n",
        "limit_data = max_data > 0\n",
        "raw_data = []\n",
        "skip_head = False\n",
        "x = None\n",
        "count = 0\n",
        "\n",
        "# Create sequence array as a list of protein strings\n",
        "for line in tqdm(open(ds_file)):\n",
        "    if skip_head:\n",
        "        skip_head = False\n",
        "        continue\n",
        "    line = line.rstrip('\\n').rstrip('\\r').split('\\t')\n",
        "    if id2index.get(line[sid1_index]) is None or id2index.get(line[sid2_index]) is None:\n",
        "        continue\n",
        "    if id2_aid.get(line[sid1_index]) is None:\n",
        "        id2_aid[line[sid1_index]] = sid\n",
        "        sid += 1\n",
        "        seq_array.append(seqs[id2index[line[sid1_index]]])\n",
        "    line[sid1_index] = id2_aid[line[sid1_index]]\n",
        "    if id2_aid.get(line[sid2_index]) is None:\n",
        "        id2_aid[line[sid2_index]] = sid\n",
        "        sid += 1\n",
        "        seq_array.append(seqs[id2index[line[sid2_index]]])\n",
        "    line[sid2_index] = id2_aid[line[sid2_index]]\n",
        "    raw_data.append(line)\n",
        "    if limit_data:\n",
        "        count += 1\n",
        "        if count >= max_data:\n",
        "            break\n",
        "\n",
        "len_m_seq = np.array([len(line.split()) for line in seq_array])\n",
        "avg_m_seq = int(np.average(len_m_seq)) + 1\n",
        "max_m_seq = max(len_m_seq)\n",
        "dim = seq2t.dim\n",
        "\n",
        "# seq_tensor is tensor representation of dataset having shape of (number_of_sequences, padding_length, embedding_dim_of_aa)\n",
        "# Random for distribution of class labels\n",
        "np.random.seed(42)\n",
        "np.random.shuffle(raw_data)\n",
        "seq_tensor = np.array([seq2t.embed_normalized(line, seq_size) for line in tqdm(seq_array)])\n",
        "\n",
        "# Extract index of 1st and 2nd sequences in pairs\n",
        "seq_index1 = np.array([line[sid1_index] for line in tqdm(raw_data)])\n",
        "seq_index2 = np.array([line[sid2_index] for line in tqdm(raw_data)])\n",
        "\n",
        "# Assign labels for pairs of sequences\n",
        "class_map = {'0':1,'1':0}\n",
        "class_labels = np.zeros((len(raw_data), 2))\n",
        "for i in range(len(raw_data)):\n",
        "    class_labels[i][class_map[raw_data[i][label_index]]] = 1\n"
      ]
    },
    {
      "cell_type": "markdown",
      "metadata": {
        "id": "I-HmbqlfN02I"
      },
      "source": [
        "#### Create test dataset"
      ]
    },
    {
      "cell_type": "code",
      "execution_count": null,
      "metadata": {
        "colab": {
          "base_uri": "https://localhost:8080/"
        },
        "outputId": "8d5ebf58-3802-4511-d079-08b849f8f1f6",
        "id": "8ljth-_yN02I"
      },
      "outputs": [
        {
          "output_type": "stream",
          "name": "stdout",
          "text": [
            "215/215 [==============================] - 38s 125ms/step\n"
          ]
        }
      ],
      "source": [
        "def generator_pair_general(seq_tensor, seq_index1, seq_index2, class_labels):\n",
        "  for index in range(len(seq_index1)):\n",
        "    yield {\"seq1\": seq_tensor[seq_index1[index]], \"seq2\": seq_tensor[seq_index2[index]]}, class_labels[index]\n",
        "pred_dataset = tf.data.Dataset.from_generator(generator_pair_general, args=[seq_tensor, seq_index1, seq_index2, class_labels], output_types=({\"seq1\": DTYPE, \"seq2\": DTYPE}, DTYPE), output_shapes = ({\"seq1\": (seq_size, dim), \"seq2\": (seq_size, dim)}, (2,)) )\n",
        "pred_dataset = pred_dataset.batch(BATCH_SIZE)\n",
        "pred_dataset = pred_dataset.prefetch(tf.data.AUTOTUNE)\n",
        "pred = merge_model.predict(pred_dataset)"
      ]
    },
    {
      "cell_type": "markdown",
      "source": [
        "#### Inference on test dataset"
      ],
      "metadata": {
        "id": "UjGWm1o6N02I"
      }
    },
    {
      "cell_type": "code",
      "execution_count": null,
      "metadata": {
        "colab": {
          "base_uri": "https://localhost:8080/"
        },
        "outputId": "ff8110a0-2e2c-4ce7-c324-266dc6ab857a",
        "id": "6is76GU5N02I"
      },
      "outputs": [
        {
          "output_type": "stream",
          "name": "stdout",
          "text": [
            "======================= manual compute ==============\n",
            "accuracy: 0.1343090909090909, precision: 0.08682245709298943, recall: 0.8954, specificity: 0.8477438136826783 ,f1-score: 0.15829576593299743, mcc: -0.03908111507915987, auc: 0.46004621800000006, prc: 0.0839567418757015\n",
            "0.1343090909090909\t0.08682245709298943\t0.8954\t0.8477438136826783\t0.15829576593299743\t-0.03908111507915987\t0.46004621800000006\t0.0839567418757015\n"
          ]
        }
      ],
      "source": [
        "# Use for average score\n",
        "num_hit = 0.\n",
        "num_total = 0.\n",
        "num_pos = 0.\n",
        "num_true_pos = 0.\n",
        "num_false_pos = 0.\n",
        "num_true_neg = 0.\n",
        "num_false_neg = 0.\n",
        "\n",
        "# # Performance metrics\n",
        "for i in range(len(class_labels)):\n",
        "    num_total += 1\n",
        "    if np.argmax(class_labels[i]) == np.argmax(pred[i]):\n",
        "        num_hit += 1\n",
        "    if class_labels[i][0] > 0.:\n",
        "        num_pos += 1.\n",
        "        if pred[i][0] > pred[i][1]:\n",
        "            num_true_pos += 1              \n",
        "        else:                  \n",
        "            num_false_neg += 1\n",
        "    else:\n",
        "        if pred[i][0] > pred[i][1]:\n",
        "            num_false_pos += 1\n",
        "        else:\n",
        "            num_true_neg += 1\n",
        "\n",
        "accuracy = num_hit / num_total\n",
        "prec = num_true_pos / (num_true_pos + num_false_pos)\n",
        "recall = num_true_pos / num_pos\n",
        "spec = num_true_neg / (num_true_neg + num_false_neg)\n",
        "f1 = 2. * prec * recall / (prec + recall)\n",
        "\n",
        "try:\n",
        "  mcc = (num_true_pos * num_true_neg - num_false_pos * num_false_neg) / ((num_true_pos + num_true_neg) * (num_true_pos + num_false_neg) * (num_false_pos + num_true_neg) * (num_false_pos + num_false_neg)) ** 0.5\n",
        "except ZeroDivisionError:\n",
        "  mcc = 'nan'\n",
        "\n",
        "try:\n",
        "  auc = roc_auc_score(class_labels[:,0], pred[:,0])\n",
        "except ValueError:\n",
        "  auc = 'nan'\n",
        "prc = average_precision_score(class_labels[:,0], pred[:,0])\n",
        "\n",
        "print(\"======================= manual compute ==============\")\n",
        "print (f'accuracy: {accuracy}, precision: {prec}, recall: {recall}, specificity: {spec} ,f1-score: {f1}, mcc: {mcc}, auc: {auc}, prc: {prc}')\n",
        "\n",
        "print(str(accuracy) + \"\\t\" + str(prec) + \"\\t\" + str(recall) + \"\\t\" + str(spec) + \"\\t\" + str(f1) + '\\t' + str(mcc) + '\\t' + str(auc) + '\\t' + str(prc))\n"
      ]
    },
    {
      "cell_type": "markdown",
      "metadata": {
        "id": "9iG2GLnRN1EG"
      },
      "source": [
        "### Worm\n"
      ]
    },
    {
      "cell_type": "markdown",
      "metadata": {
        "id": "CQx5oNXkN1EG"
      },
      "source": [
        "#### Read dataset"
      ]
    },
    {
      "cell_type": "code",
      "execution_count": null,
      "metadata": {
        "colab": {
          "base_uri": "https://localhost:8080/"
        },
        "outputId": "f3e09551-4523-4407-c25f-6252f5ef8e2c",
        "id": "tmpG2_DzN1EG"
      },
      "outputs": [
        {
          "output_type": "stream",
          "name": "stderr",
          "text": [
            "55000it [00:00, 132288.68it/s]\n",
            "100%|██████████| 25429/25429 [00:06<00:00, 3638.82it/s]\n",
            "100%|██████████| 55000/55000 [00:00<00:00, 1658292.44it/s]\n",
            "100%|██████████| 55000/55000 [00:00<00:00, 1927642.16it/s]\n"
          ]
        }
      ],
      "source": [
        "id2seq_file = 'worm_dict.tsv'\n",
        "id2index = {}\n",
        "seqs = []\n",
        "index = 0\n",
        "sid1_index = 0\n",
        "sid2_index = 1\n",
        "ds_file = 'worm_test.tsv'\n",
        "label_index = 2\n",
        "use_emb = 'ac5_aph.txt'\n",
        "\n",
        "if not os.path.isfile(ds_file) or not os.path.isfile(id2seq_file):\n",
        "  !wget https://raw.githubusercontent.com/anhvt00/MCAPS/master/data/Independent-testsets/cross-species/pairs/worm_test.tsv\n",
        "  !wget https://raw.githubusercontent.com/anhvt00/MCAPS/master/data/Independent-testsets/cross-species/seqs/worm_dict.tsv\n",
        "\n",
        "\n",
        "# Create line variable as a list of protein sequences with index is the number of protein sequences\n",
        "# id2index is a dictionary of protein id and incremental index number \n",
        "for line in open(id2seq_file):\n",
        "    line = line.strip().split('\\t')\n",
        "    id2index[line[0]] = index\n",
        "    seqs.append(line[1])\n",
        "    index += 1\n",
        "\n",
        "seq_array = []\n",
        "id2_aid = {}\n",
        "sid = 0\n",
        "\n",
        "seq2t = s2t(use_emb)\n",
        "\n",
        "max_data = -1\n",
        "limit_data = max_data > 0\n",
        "raw_data = []\n",
        "skip_head = False\n",
        "x = None\n",
        "count = 0\n",
        "\n",
        "# Create sequence array as a list of protein strings\n",
        "for line in tqdm(open(ds_file)):\n",
        "    if skip_head:\n",
        "        skip_head = False\n",
        "        continue\n",
        "    line = line.rstrip('\\n').rstrip('\\r').split('\\t')\n",
        "    if id2index.get(line[sid1_index]) is None or id2index.get(line[sid2_index]) is None:\n",
        "        continue\n",
        "    if id2_aid.get(line[sid1_index]) is None:\n",
        "        id2_aid[line[sid1_index]] = sid\n",
        "        sid += 1\n",
        "        seq_array.append(seqs[id2index[line[sid1_index]]])\n",
        "    line[sid1_index] = id2_aid[line[sid1_index]]\n",
        "    if id2_aid.get(line[sid2_index]) is None:\n",
        "        id2_aid[line[sid2_index]] = sid\n",
        "        sid += 1\n",
        "        seq_array.append(seqs[id2index[line[sid2_index]]])\n",
        "    line[sid2_index] = id2_aid[line[sid2_index]]\n",
        "    raw_data.append(line)\n",
        "    if limit_data:\n",
        "        count += 1\n",
        "        if count >= max_data:\n",
        "            break\n",
        "\n",
        "len_m_seq = np.array([len(line.split()) for line in seq_array])\n",
        "avg_m_seq = int(np.average(len_m_seq)) + 1\n",
        "max_m_seq = max(len_m_seq)\n",
        "dim = seq2t.dim\n",
        "\n",
        "# seq_tensor is tensor representation of dataset having shape of (number_of_sequences, padding_length, embedding_dim_of_aa)\n",
        "# Random for distribution of class labels\n",
        "np.random.seed(42)\n",
        "np.random.shuffle(raw_data)\n",
        "seq_tensor = np.array([seq2t.embed_normalized(line, seq_size) for line in tqdm(seq_array)])\n",
        "\n",
        "# Extract index of 1st and 2nd sequences in pairs\n",
        "seq_index1 = np.array([line[sid1_index] for line in tqdm(raw_data)])\n",
        "seq_index2 = np.array([line[sid2_index] for line in tqdm(raw_data)])\n",
        "\n",
        "# Assign labels for pairs of sequences\n",
        "class_map = {'0':1,'1':0}\n",
        "class_labels = np.zeros((len(raw_data), 2))\n",
        "for i in range(len(raw_data)):\n",
        "    class_labels[i][class_map[raw_data[i][label_index]]] = 1\n"
      ]
    },
    {
      "cell_type": "markdown",
      "metadata": {
        "id": "SDaWIKD8N1EH"
      },
      "source": [
        "#### Create test dataset"
      ]
    },
    {
      "cell_type": "code",
      "execution_count": null,
      "metadata": {
        "colab": {
          "base_uri": "https://localhost:8080/"
        },
        "outputId": "81ea8a54-5801-4ac2-ef03-e7e84b8b2c54",
        "id": "CpfByCh8N1EH"
      },
      "outputs": [
        {
          "output_type": "stream",
          "name": "stdout",
          "text": [
            "215/215 [==============================] - 37s 125ms/step\n"
          ]
        }
      ],
      "source": [
        "def generator_pair_general(seq_tensor, seq_index1, seq_index2, class_labels):\n",
        "  for index in range(len(seq_index1)):\n",
        "    yield {\"seq1\": seq_tensor[seq_index1[index]], \"seq2\": seq_tensor[seq_index2[index]]}, class_labels[index]\n",
        "pred_dataset = tf.data.Dataset.from_generator(generator_pair_general, args=[seq_tensor, seq_index1, seq_index2, class_labels], output_types=({\"seq1\": DTYPE, \"seq2\": DTYPE}, DTYPE), output_shapes = ({\"seq1\": (seq_size, dim), \"seq2\": (seq_size, dim)}, (2,)) )\n",
        "pred_dataset = pred_dataset.batch(BATCH_SIZE)\n",
        "pred_dataset = pred_dataset.prefetch(tf.data.AUTOTUNE)\n",
        "pred = merge_model.predict(pred_dataset)"
      ]
    },
    {
      "cell_type": "markdown",
      "source": [
        "#### Inference on test dataset"
      ],
      "metadata": {
        "id": "k4asGGMIN1EH"
      }
    },
    {
      "cell_type": "code",
      "execution_count": null,
      "metadata": {
        "colab": {
          "base_uri": "https://localhost:8080/"
        },
        "outputId": "db218ce5-cb52-43d7-ec4b-1807d5a69f5c",
        "id": "i-qOO59kN1EH"
      },
      "outputs": [
        {
          "output_type": "stream",
          "name": "stdout",
          "text": [
            "======================= manual compute ==============\n",
            "accuracy: 0.12303636363636364, precision: 0.08645163758800123, recall: 0.9038, specificity: 0.8236803519061584 ,f1-score: 0.1578083531219444, mcc: -0.04486482415874405, auc: 0.419656892, prc: 0.07734786532697413\n",
            "0.12303636363636364\t0.08645163758800123\t0.9038\t0.8236803519061584\t0.1578083531219444\t-0.04486482415874405\t0.419656892\t0.07734786532697413\n"
          ]
        }
      ],
      "source": [
        "# Use for average score\n",
        "num_hit = 0.\n",
        "num_total = 0.\n",
        "num_pos = 0.\n",
        "num_true_pos = 0.\n",
        "num_false_pos = 0.\n",
        "num_true_neg = 0.\n",
        "num_false_neg = 0.\n",
        "\n",
        "# # Performance metrics\n",
        "for i in range(len(class_labels)):\n",
        "    num_total += 1\n",
        "    if np.argmax(class_labels[i]) == np.argmax(pred[i]):\n",
        "        num_hit += 1\n",
        "    if class_labels[i][0] > 0.:\n",
        "        num_pos += 1.\n",
        "        if pred[i][0] > pred[i][1]:\n",
        "            num_true_pos += 1              \n",
        "        else:                  \n",
        "            num_false_neg += 1\n",
        "    else:\n",
        "        if pred[i][0] > pred[i][1]:\n",
        "            num_false_pos += 1\n",
        "        else:\n",
        "            num_true_neg += 1\n",
        "\n",
        "accuracy = num_hit / num_total\n",
        "prec = num_true_pos / (num_true_pos + num_false_pos)\n",
        "recall = num_true_pos / num_pos\n",
        "spec = num_true_neg / (num_true_neg + num_false_neg)\n",
        "f1 = 2. * prec * recall / (prec + recall)\n",
        "\n",
        "try:\n",
        "  mcc = (num_true_pos * num_true_neg - num_false_pos * num_false_neg) / ((num_true_pos + num_true_neg) * (num_true_pos + num_false_neg) * (num_false_pos + num_true_neg) * (num_false_pos + num_false_neg)) ** 0.5\n",
        "except ZeroDivisionError:\n",
        "  mcc = 'nan'\n",
        "\n",
        "try:\n",
        "  auc = roc_auc_score(class_labels[:,0], pred[:,0])\n",
        "except ValueError:\n",
        "  auc = 'nan'\n",
        "prc = average_precision_score(class_labels[:,0], pred[:,0])\n",
        "\n",
        "print(\"======================= manual compute ==============\")\n",
        "print (f'accuracy: {accuracy}, precision: {prec}, recall: {recall}, specificity: {spec} ,f1-score: {f1}, mcc: {mcc}, auc: {auc}, prc: {prc}')\n",
        "\n",
        "print(str(accuracy) + \"\\t\" + str(prec) + \"\\t\" + str(recall) + \"\\t\" + str(spec) + \"\\t\" + str(f1) + '\\t' + str(mcc) + '\\t' + str(auc) + '\\t' + str(prc))\n"
      ]
    },
    {
      "cell_type": "markdown",
      "metadata": {
        "id": "8ZGyiQGCN1Wq"
      },
      "source": [
        "### Yeast\n"
      ]
    },
    {
      "cell_type": "markdown",
      "metadata": {
        "id": "T_YKKK7ZN1Wr"
      },
      "source": [
        "#### Read dataset"
      ]
    },
    {
      "cell_type": "code",
      "execution_count": null,
      "metadata": {
        "colab": {
          "base_uri": "https://localhost:8080/"
        },
        "outputId": "c06a49a0-3959-4a88-cb14-cdda4760670f",
        "id": "wlNIIb1fN1Wr"
      },
      "outputs": [
        {
          "output_type": "stream",
          "name": "stdout",
          "text": [
            "--2022-12-21 06:21:14--  https://raw.githubusercontent.com/anhvt00/MCAPS/master/data/Independent-testsets/cross-species/pairs/yeast_test.tsv\n",
            "Resolving raw.githubusercontent.com (raw.githubusercontent.com)... 185.199.108.133, 185.199.109.133, 185.199.111.133, ...\n",
            "Connecting to raw.githubusercontent.com (raw.githubusercontent.com)|185.199.108.133|:443... connected.\n",
            "HTTP request sent, awaiting response... 200 OK\n",
            "Length: 1556676 (1.5M) [text/plain]\n",
            "Saving to: ‘yeast_test.tsv’\n",
            "\n",
            "yeast_test.tsv      100%[===================>]   1.48M  --.-KB/s    in 0.07s   \n",
            "\n",
            "2022-12-21 06:21:14 (22.4 MB/s) - ‘yeast_test.tsv’ saved [1556676/1556676]\n",
            "\n",
            "--2022-12-21 06:21:15--  https://raw.githubusercontent.com/anhvt00/MCAPS/master/data/Independent-testsets/cross-species/seqs/yeast_dict.tsv\n",
            "Resolving raw.githubusercontent.com (raw.githubusercontent.com)... 185.199.109.133, 185.199.108.133, 185.199.111.133, ...\n",
            "Connecting to raw.githubusercontent.com (raw.githubusercontent.com)|185.199.109.133|:443... connected.\n",
            "HTTP request sent, awaiting response... 200 OK\n",
            "Length: 2014626 (1.9M) [text/plain]\n",
            "Saving to: ‘yeast_dict.tsv’\n",
            "\n",
            "yeast_dict.tsv      100%[===================>]   1.92M  --.-KB/s    in 0.07s   \n",
            "\n",
            "2022-12-21 06:21:15 (28.0 MB/s) - ‘yeast_dict.tsv’ saved [2014626/2014626]\n",
            "\n"
          ]
        },
        {
          "output_type": "stream",
          "name": "stderr",
          "text": [
            "55000it [00:00, 392158.95it/s]\n",
            "100%|██████████| 5664/5664 [00:01<00:00, 4291.79it/s]\n",
            "100%|██████████| 55000/55000 [00:00<00:00, 1759771.76it/s]\n",
            "100%|██████████| 55000/55000 [00:00<00:00, 2063313.66it/s]\n"
          ]
        }
      ],
      "source": [
        "id2seq_file = 'yeast_dict.tsv'\n",
        "id2index = {}\n",
        "seqs = []\n",
        "index = 0\n",
        "sid1_index = 0\n",
        "sid2_index = 1\n",
        "ds_file = 'yeast_test.tsv'\n",
        "label_index = 2\n",
        "use_emb = 'ac5_aph.txt'\n",
        "\n",
        "if not os.path.isfile(ds_file) or not os.path.isfile(id2seq_file):\n",
        "  !wget https://raw.githubusercontent.com/anhvt00/MCAPS/master/data/Independent-testsets/cross-species/pairs/yeast_test.tsv\n",
        "  !wget https://raw.githubusercontent.com/anhvt00/MCAPS/master/data/Independent-testsets/cross-species/seqs/yeast_dict.tsv\n",
        "\n",
        "\n",
        "# Create line variable as a list of protein sequences with index is the number of protein sequences\n",
        "# id2index is a dictionary of protein id and incremental index number \n",
        "for line in open(id2seq_file):\n",
        "    line = line.strip().split('\\t')\n",
        "    id2index[line[0]] = index\n",
        "    seqs.append(line[1])\n",
        "    index += 1\n",
        "\n",
        "seq_array = []\n",
        "id2_aid = {}\n",
        "sid = 0\n",
        "\n",
        "seq2t = s2t(use_emb)\n",
        "\n",
        "max_data = -1\n",
        "limit_data = max_data > 0\n",
        "raw_data = []\n",
        "skip_head = False\n",
        "x = None\n",
        "count = 0\n",
        "\n",
        "# Create sequence array as a list of protein strings\n",
        "for line in tqdm(open(ds_file)):\n",
        "    if skip_head:\n",
        "        skip_head = False\n",
        "        continue\n",
        "    line = line.rstrip('\\n').rstrip('\\r').split('\\t')\n",
        "    if id2index.get(line[sid1_index]) is None or id2index.get(line[sid2_index]) is None:\n",
        "        continue\n",
        "    if id2_aid.get(line[sid1_index]) is None:\n",
        "        id2_aid[line[sid1_index]] = sid\n",
        "        sid += 1\n",
        "        seq_array.append(seqs[id2index[line[sid1_index]]])\n",
        "    line[sid1_index] = id2_aid[line[sid1_index]]\n",
        "    if id2_aid.get(line[sid2_index]) is None:\n",
        "        id2_aid[line[sid2_index]] = sid\n",
        "        sid += 1\n",
        "        seq_array.append(seqs[id2index[line[sid2_index]]])\n",
        "    line[sid2_index] = id2_aid[line[sid2_index]]\n",
        "    raw_data.append(line)\n",
        "    if limit_data:\n",
        "        count += 1\n",
        "        if count >= max_data:\n",
        "            break\n",
        "\n",
        "len_m_seq = np.array([len(line.split()) for line in seq_array])\n",
        "avg_m_seq = int(np.average(len_m_seq)) + 1\n",
        "max_m_seq = max(len_m_seq)\n",
        "dim = seq2t.dim\n",
        "\n",
        "# seq_tensor is tensor representation of dataset having shape of (number_of_sequences, padding_length, embedding_dim_of_aa)\n",
        "# Random for distribution of class labels\n",
        "np.random.seed(42)\n",
        "np.random.shuffle(raw_data)\n",
        "seq_tensor = np.array([seq2t.embed_normalized(line, seq_size) for line in tqdm(seq_array)])\n",
        "\n",
        "# Extract index of 1st and 2nd sequences in pairs\n",
        "seq_index1 = np.array([line[sid1_index] for line in tqdm(raw_data)])\n",
        "seq_index2 = np.array([line[sid2_index] for line in tqdm(raw_data)])\n",
        "\n",
        "# Assign labels for pairs of sequences\n",
        "class_map = {'0':1,'1':0}\n",
        "class_labels = np.zeros((len(raw_data), 2))\n",
        "for i in range(len(raw_data)):\n",
        "    class_labels[i][class_map[raw_data[i][label_index]]] = 1\n"
      ]
    },
    {
      "cell_type": "markdown",
      "metadata": {
        "id": "t4zMQCPlN1Wr"
      },
      "source": [
        "#### Create test dataset"
      ]
    },
    {
      "cell_type": "code",
      "execution_count": null,
      "metadata": {
        "colab": {
          "base_uri": "https://localhost:8080/"
        },
        "outputId": "98ee073c-f371-49ac-cc7c-54728f4565eb",
        "id": "ruxb3y0AN1Wr"
      },
      "outputs": [
        {
          "output_type": "stream",
          "name": "stdout",
          "text": [
            "215/215 [==============================] - 29s 131ms/step\n"
          ]
        }
      ],
      "source": [
        "def generator_pair_general(seq_tensor, seq_index1, seq_index2, class_labels):\n",
        "  for index in range(len(seq_index1)):\n",
        "    yield {\"seq1\": seq_tensor[seq_index1[index]], \"seq2\": seq_tensor[seq_index2[index]]}, class_labels[index]\n",
        "pred_dataset = tf.data.Dataset.from_generator(generator_pair_general, args=[seq_tensor, seq_index1, seq_index2, class_labels], output_types=({\"seq1\": DTYPE, \"seq2\": DTYPE}, DTYPE), output_shapes = ({\"seq1\": (seq_size, dim), \"seq2\": (seq_size, dim)}, (2,)) )\n",
        "pred_dataset = pred_dataset.batch(BATCH_SIZE)\n",
        "pred_dataset = pred_dataset.prefetch(tf.data.AUTOTUNE)\n",
        "pred = merge_model.predict(pred_dataset)"
      ]
    },
    {
      "cell_type": "markdown",
      "source": [
        "#### Inference on test dataset"
      ],
      "metadata": {
        "id": "z71EAjIxN1Wr"
      }
    },
    {
      "cell_type": "code",
      "execution_count": null,
      "metadata": {
        "colab": {
          "base_uri": "https://localhost:8080/"
        },
        "outputId": "eceb2080-152e-4e67-8635-1d9ae5d016c3",
        "id": "urIcyjylN1Wr"
      },
      "outputs": [
        {
          "output_type": "stream",
          "name": "stdout",
          "text": [
            "======================= manual compute ==============\n",
            "accuracy: 0.13652727272727272, precision: 0.08570425693726721, recall: 0.879, specificity: 0.8373218607152461 ,f1-score: 0.1561805938060802, mcc: -0.049165373397026396, auc: 0.43352650400000003, prc: 0.07943591585190962\n",
            "0.13652727272727272\t0.08570425693726721\t0.879\t0.8373218607152461\t0.1561805938060802\t-0.049165373397026396\t0.43352650400000003\t0.07943591585190962\n"
          ]
        }
      ],
      "source": [
        "# Use for average score\n",
        "num_hit = 0.\n",
        "num_total = 0.\n",
        "num_pos = 0.\n",
        "num_true_pos = 0.\n",
        "num_false_pos = 0.\n",
        "num_true_neg = 0.\n",
        "num_false_neg = 0.\n",
        "\n",
        "# # Performance metrics\n",
        "for i in range(len(class_labels)):\n",
        "    num_total += 1\n",
        "    if np.argmax(class_labels[i]) == np.argmax(pred[i]):\n",
        "        num_hit += 1\n",
        "    if class_labels[i][0] > 0.:\n",
        "        num_pos += 1.\n",
        "        if pred[i][0] > pred[i][1]:\n",
        "            num_true_pos += 1              \n",
        "        else:                  \n",
        "            num_false_neg += 1\n",
        "    else:\n",
        "        if pred[i][0] > pred[i][1]:\n",
        "            num_false_pos += 1\n",
        "        else:\n",
        "            num_true_neg += 1\n",
        "\n",
        "accuracy = num_hit / num_total\n",
        "prec = num_true_pos / (num_true_pos + num_false_pos)\n",
        "recall = num_true_pos / num_pos\n",
        "spec = num_true_neg / (num_true_neg + num_false_neg)\n",
        "f1 = 2. * prec * recall / (prec + recall)\n",
        "\n",
        "try:\n",
        "  mcc = (num_true_pos * num_true_neg - num_false_pos * num_false_neg) / ((num_true_pos + num_true_neg) * (num_true_pos + num_false_neg) * (num_false_pos + num_true_neg) * (num_false_pos + num_false_neg)) ** 0.5\n",
        "except ZeroDivisionError:\n",
        "  mcc = 'nan'\n",
        "\n",
        "try:\n",
        "  auc = roc_auc_score(class_labels[:,0], pred[:,0])\n",
        "except ValueError:\n",
        "  auc = 'nan'\n",
        "prc = average_precision_score(class_labels[:,0], pred[:,0])\n",
        "\n",
        "print(\"======================= manual compute ==============\")\n",
        "print (f'accuracy: {accuracy}, precision: {prec}, recall: {recall}, specificity: {spec} ,f1-score: {f1}, mcc: {mcc}, auc: {auc}, prc: {prc}')\n",
        "\n",
        "print(str(accuracy) + \"\\t\" + str(prec) + \"\\t\" + str(recall) + \"\\t\" + str(spec) + \"\\t\" + str(f1) + '\\t' + str(mcc) + '\\t' + str(auc) + '\\t' + str(prc))\n"
      ]
    },
    {
      "cell_type": "markdown",
      "metadata": {
        "id": "9NSb1G3bRSVI"
      },
      "source": [
        "### Guo-2008\n"
      ]
    },
    {
      "cell_type": "markdown",
      "metadata": {
        "id": "d7cdUGMSRSVJ"
      },
      "source": [
        "#### Read dataset"
      ]
    },
    {
      "cell_type": "code",
      "execution_count": null,
      "metadata": {
        "colab": {
          "base_uri": "https://localhost:8080/"
        },
        "outputId": "c9bff00a-ba79-4f3a-ce3d-e101c4a8f4c1",
        "id": "HX-yW6cnRSVJ"
      },
      "outputs": [
        {
          "output_type": "stream",
          "name": "stdout",
          "text": [
            "--2022-12-21 06:21:47--  https://raw.githubusercontent.com/anhvt00/MCAPS/master/data/Golden-standard-datasets/Guo-2008/guo_pairs.tsv\n",
            "Resolving raw.githubusercontent.com (raw.githubusercontent.com)... 185.199.108.133, 185.199.111.133, 185.199.109.133, ...\n",
            "Connecting to raw.githubusercontent.com (raw.githubusercontent.com)|185.199.108.133|:443... connected.\n",
            "HTTP request sent, awaiting response... 200 OK\n",
            "Length: 179008 (175K) [text/plain]\n",
            "Saving to: ‘guo_pairs.tsv’\n",
            "\n",
            "guo_pairs.tsv       100%[===================>] 174.81K  --.-KB/s    in 0.03s   \n",
            "\n",
            "2022-12-21 06:21:48 (5.58 MB/s) - ‘guo_pairs.tsv’ saved [179008/179008]\n",
            "\n",
            "--2022-12-21 06:21:48--  https://raw.githubusercontent.com/anhvt00/MCAPS/master/data/Golden-standard-datasets/Guo-2008/guo_dict.tsv\n",
            "Resolving raw.githubusercontent.com (raw.githubusercontent.com)... 185.199.108.133, 185.199.111.133, 185.199.109.133, ...\n",
            "Connecting to raw.githubusercontent.com (raw.githubusercontent.com)|185.199.108.133|:443... connected.\n",
            "HTTP request sent, awaiting response... 200 OK\n",
            "Length: 1415079 (1.3M) [text/plain]\n",
            "Saving to: ‘guo_dict.tsv’\n",
            "\n",
            "guo_dict.tsv        100%[===================>]   1.35M  --.-KB/s    in 0.07s   \n",
            "\n",
            "2022-12-21 06:21:49 (19.6 MB/s) - ‘guo_dict.tsv’ saved [1415079/1415079]\n",
            "\n"
          ]
        },
        {
          "output_type": "stream",
          "name": "stderr",
          "text": [
            "11188it [00:00, 437716.85it/s]\n",
            "100%|██████████| 2497/2497 [00:00<00:00, 3051.06it/s]\n",
            "100%|██████████| 11188/11188 [00:00<00:00, 1673115.60it/s]\n",
            "100%|██████████| 11188/11188 [00:00<00:00, 2138047.80it/s]\n"
          ]
        }
      ],
      "source": [
        "id2seq_file = 'guo_dict.tsv'\n",
        "id2index = {}\n",
        "seqs = []\n",
        "index = 0\n",
        "sid1_index = 0\n",
        "sid2_index = 1\n",
        "ds_file = 'guo_pairs.tsv'\n",
        "label_index = 2\n",
        "use_emb = 'ac5_aph.txt'\n",
        "\n",
        "if not os.path.isfile(ds_file) or not os.path.isfile(id2seq_file):\n",
        "  !wget https://raw.githubusercontent.com/anhvt00/MCAPS/master/data/Golden-standard-datasets/Guo-2008/guo_pairs.tsv\n",
        "  !wget https://raw.githubusercontent.com/anhvt00/MCAPS/master/data/Golden-standard-datasets/Guo-2008/guo_dict.tsv\n",
        "\n",
        "\n",
        "# Create line variable as a list of protein sequences with index is the number of protein sequences\n",
        "# id2index is a dictionary of protein id and incremental index number \n",
        "for line in open(id2seq_file):\n",
        "    line = line.strip().split('\\t')\n",
        "    id2index[line[0]] = index\n",
        "    seqs.append(line[1])\n",
        "    index += 1\n",
        "\n",
        "seq_array = []\n",
        "id2_aid = {}\n",
        "sid = 0\n",
        "\n",
        "seq2t = s2t(use_emb)\n",
        "\n",
        "max_data = -1\n",
        "limit_data = max_data > 0\n",
        "raw_data = []\n",
        "skip_head = False\n",
        "x = None\n",
        "count = 0\n",
        "\n",
        "# Create sequence array as a list of protein strings\n",
        "for line in tqdm(open(ds_file)):\n",
        "    if skip_head:\n",
        "        skip_head = False\n",
        "        continue\n",
        "    line = line.rstrip('\\n').rstrip('\\r').split('\\t')\n",
        "    if id2index.get(line[sid1_index]) is None or id2index.get(line[sid2_index]) is None:\n",
        "        continue\n",
        "    if id2_aid.get(line[sid1_index]) is None:\n",
        "        id2_aid[line[sid1_index]] = sid\n",
        "        sid += 1\n",
        "        seq_array.append(seqs[id2index[line[sid1_index]]])\n",
        "    line[sid1_index] = id2_aid[line[sid1_index]]\n",
        "    if id2_aid.get(line[sid2_index]) is None:\n",
        "        id2_aid[line[sid2_index]] = sid\n",
        "        sid += 1\n",
        "        seq_array.append(seqs[id2index[line[sid2_index]]])\n",
        "    line[sid2_index] = id2_aid[line[sid2_index]]\n",
        "    raw_data.append(line)\n",
        "    if limit_data:\n",
        "        count += 1\n",
        "        if count >= max_data:\n",
        "            break\n",
        "\n",
        "len_m_seq = np.array([len(line.split()) for line in seq_array])\n",
        "avg_m_seq = int(np.average(len_m_seq)) + 1\n",
        "max_m_seq = max(len_m_seq)\n",
        "dim = seq2t.dim\n",
        "\n",
        "# seq_tensor is tensor representation of dataset having shape of (number_of_sequences, padding_length, embedding_dim_of_aa)\n",
        "# Random for distribution of class labels\n",
        "np.random.seed(42)\n",
        "np.random.shuffle(raw_data)\n",
        "seq_tensor = np.array([seq2t.embed_normalized(line, seq_size) for line in tqdm(seq_array)])\n",
        "\n",
        "# Extract index of 1st and 2nd sequences in pairs\n",
        "seq_index1 = np.array([line[sid1_index] for line in tqdm(raw_data)])\n",
        "seq_index2 = np.array([line[sid2_index] for line in tqdm(raw_data)])\n",
        "\n",
        "# Assign labels for pairs of sequences\n",
        "class_map = {'0':1,'1':0}\n",
        "class_labels = np.zeros((len(raw_data), 2))\n",
        "for i in range(len(raw_data)):\n",
        "    class_labels[i][class_map[raw_data[i][label_index]]] = 1\n"
      ]
    },
    {
      "cell_type": "markdown",
      "metadata": {
        "id": "XISyMOw7RSVK"
      },
      "source": [
        "#### Create test dataset"
      ]
    },
    {
      "cell_type": "code",
      "execution_count": null,
      "metadata": {
        "colab": {
          "base_uri": "https://localhost:8080/"
        },
        "outputId": "a3fee228-ab64-4a34-e70a-69452264da15",
        "id": "juYYDMQERSVK"
      },
      "outputs": [
        {
          "output_type": "stream",
          "name": "stdout",
          "text": [
            "44/44 [==============================] - 6s 130ms/step\n"
          ]
        }
      ],
      "source": [
        "def generator_pair_general(seq_tensor, seq_index1, seq_index2, class_labels):\n",
        "  for index in range(len(seq_index1)):\n",
        "    yield {\"seq1\": seq_tensor[seq_index1[index]], \"seq2\": seq_tensor[seq_index2[index]]}, class_labels[index]\n",
        "pred_dataset = tf.data.Dataset.from_generator(generator_pair_general, args=[seq_tensor, seq_index1, seq_index2, class_labels], output_types=({\"seq1\": DTYPE, \"seq2\": DTYPE}, DTYPE), output_shapes = ({\"seq1\": (seq_size, dim), \"seq2\": (seq_size, dim)}, (2,)) )\n",
        "pred_dataset = pred_dataset.batch(BATCH_SIZE)\n",
        "pred_dataset = pred_dataset.prefetch(tf.data.AUTOTUNE)\n",
        "pred = merge_model.predict(pred_dataset)"
      ]
    },
    {
      "cell_type": "markdown",
      "source": [
        "#### Inference on test dataset"
      ],
      "metadata": {
        "id": "NSxtt2bARSVK"
      }
    },
    {
      "cell_type": "code",
      "execution_count": null,
      "metadata": {
        "colab": {
          "base_uri": "https://localhost:8080/"
        },
        "outputId": "cb74466e-232e-4217-e761-4823843fca07",
        "id": "dZ3mhVxhRSVL"
      },
      "outputs": [
        {
          "output_type": "stream",
          "name": "stdout",
          "text": [
            "======================= manual compute ==============\n",
            "accuracy: 0.5013407222023597, precision: 0.500710429099176, recall: 0.9449410082230961, specificity: 0.5118858954041204 ,f1-score: 0.6545724722927374, mcc: 0.0026814540447571544, auc: 0.4920608026706176, prc: 0.4947748400546665\n",
            "0.5013407222023597\t0.500710429099176\t0.9449410082230961\t0.5118858954041204\t0.6545724722927374\t0.0026814540447571544\t0.4920608026706176\t0.4947748400546665\n"
          ]
        }
      ],
      "source": [
        "# Use for average score\n",
        "num_hit = 0.\n",
        "num_total = 0.\n",
        "num_pos = 0.\n",
        "num_true_pos = 0.\n",
        "num_false_pos = 0.\n",
        "num_true_neg = 0.\n",
        "num_false_neg = 0.\n",
        "\n",
        "# # Performance metrics\n",
        "for i in range(len(class_labels)):\n",
        "    num_total += 1\n",
        "    if np.argmax(class_labels[i]) == np.argmax(pred[i]):\n",
        "        num_hit += 1\n",
        "    if class_labels[i][0] > 0.:\n",
        "        num_pos += 1.\n",
        "        if pred[i][0] > pred[i][1]:\n",
        "            num_true_pos += 1              \n",
        "        else:                  \n",
        "            num_false_neg += 1\n",
        "    else:\n",
        "        if pred[i][0] > pred[i][1]:\n",
        "            num_false_pos += 1\n",
        "        else:\n",
        "            num_true_neg += 1\n",
        "\n",
        "accuracy = num_hit / num_total\n",
        "prec = num_true_pos / (num_true_pos + num_false_pos)\n",
        "recall = num_true_pos / num_pos\n",
        "spec = num_true_neg / (num_true_neg + num_false_neg)\n",
        "f1 = 2. * prec * recall / (prec + recall)\n",
        "\n",
        "try:\n",
        "  mcc = (num_true_pos * num_true_neg - num_false_pos * num_false_neg) / ((num_true_pos + num_true_neg) * (num_true_pos + num_false_neg) * (num_false_pos + num_true_neg) * (num_false_pos + num_false_neg)) ** 0.5\n",
        "except ZeroDivisionError:\n",
        "  mcc = 'nan'\n",
        "\n",
        "try:\n",
        "  auc = roc_auc_score(class_labels[:,0], pred[:,0])\n",
        "except ValueError:\n",
        "  auc = 'nan'\n",
        "prc = average_precision_score(class_labels[:,0], pred[:,0])\n",
        "\n",
        "print(\"======================= manual compute ==============\")\n",
        "print (f'accuracy: {accuracy}, precision: {prec}, recall: {recall}, specificity: {spec} ,f1-score: {f1}, mcc: {mcc}, auc: {auc}, prc: {prc}')\n",
        "\n",
        "print(str(accuracy) + \"\\t\" + str(prec) + \"\\t\" + str(recall) + \"\\t\" + str(spec) + \"\\t\" + str(f1) + '\\t' + str(mcc) + '\\t' + str(auc) + '\\t' + str(prc))\n"
      ]
    },
    {
      "cell_type": "markdown",
      "metadata": {
        "id": "Q9zLYGC8RSyz"
      },
      "source": [
        "### Martin-2005\n"
      ]
    },
    {
      "cell_type": "markdown",
      "metadata": {
        "id": "IN9G3iEhRSyz"
      },
      "source": [
        "#### Read dataset"
      ]
    },
    {
      "cell_type": "code",
      "execution_count": null,
      "metadata": {
        "colab": {
          "base_uri": "https://localhost:8080/"
        },
        "outputId": "e91c46f9-2b36-4f8b-e632-738fc0d15bb8",
        "id": "9kZAHuLPRSyz"
      },
      "outputs": [
        {
          "output_type": "stream",
          "name": "stdout",
          "text": [
            "--2022-12-21 06:21:57--  https://raw.githubusercontent.com/anhvt00/MCAPS/master/data/Golden-standard-datasets/Martin-2005/martin_pairs.tsv\n",
            "Resolving raw.githubusercontent.com (raw.githubusercontent.com)... 185.199.109.133, 185.199.108.133, 185.199.111.133, ...\n",
            "Connecting to raw.githubusercontent.com (raw.githubusercontent.com)|185.199.109.133|:443... connected.\n",
            "HTTP request sent, awaiting response... 200 OK\n",
            "Length: 39040 (38K) [text/plain]\n",
            "Saving to: ‘martin_pairs.tsv’\n",
            "\n",
            "martin_pairs.tsv    100%[===================>]  38.12K  --.-KB/s    in 0.02s   \n",
            "\n",
            "2022-12-21 06:21:57 (2.13 MB/s) - ‘martin_pairs.tsv’ saved [39040/39040]\n",
            "\n",
            "--2022-12-21 06:21:58--  https://raw.githubusercontent.com/anhvt00/MCAPS/master/data/Golden-standard-datasets/Martin-2005/martin_dict.tsv\n",
            "Resolving raw.githubusercontent.com (raw.githubusercontent.com)... 185.199.109.133, 185.199.111.133, 185.199.108.133, ...\n",
            "Connecting to raw.githubusercontent.com (raw.githubusercontent.com)|185.199.109.133|:443... connected.\n",
            "HTTP request sent, awaiting response... 200 OK\n",
            "Length: 508100 (496K) [text/plain]\n",
            "Saving to: ‘martin_dict.tsv’\n",
            "\n",
            "martin_dict.tsv     100%[===================>] 496.19K  --.-KB/s    in 0.05s   \n",
            "\n",
            "2022-12-21 06:21:58 (10.4 MB/s) - ‘martin_dict.tsv’ saved [508100/508100]\n",
            "\n"
          ]
        },
        {
          "output_type": "stream",
          "name": "stderr",
          "text": [
            "2878it [00:00, 392470.23it/s]\n",
            "100%|██████████| 1414/1414 [00:00<00:00, 4367.22it/s]\n",
            "100%|██████████| 2878/2878 [00:00<00:00, 1598835.35it/s]\n",
            "100%|██████████| 2878/2878 [00:00<00:00, 1869186.58it/s]\n"
          ]
        }
      ],
      "source": [
        "id2seq_file = 'martin_dict.tsv'\n",
        "id2index = {}\n",
        "seqs = []\n",
        "index = 0\n",
        "sid1_index = 0\n",
        "sid2_index = 1\n",
        "ds_file = 'martin_pairs.tsv'\n",
        "label_index = 2\n",
        "use_emb = 'ac5_aph.txt'\n",
        "\n",
        "if not os.path.isfile(ds_file) or not os.path.isfile(id2seq_file):\n",
        "  !wget https://raw.githubusercontent.com/anhvt00/MCAPS/master/data/Golden-standard-datasets/Martin-2005/martin_pairs.tsv\n",
        "  !wget https://raw.githubusercontent.com/anhvt00/MCAPS/master/data/Golden-standard-datasets/Martin-2005/martin_dict.tsv\n",
        "\n",
        "\n",
        "# Create line variable as a list of protein sequences with index is the number of protein sequences\n",
        "# id2index is a dictionary of protein id and incremental index number \n",
        "for line in open(id2seq_file):\n",
        "    line = line.strip().split('\\t')\n",
        "    id2index[line[0]] = index\n",
        "    seqs.append(line[1])\n",
        "    index += 1\n",
        "\n",
        "seq_array = []\n",
        "id2_aid = {}\n",
        "sid = 0\n",
        "\n",
        "seq2t = s2t(use_emb)\n",
        "\n",
        "max_data = -1\n",
        "limit_data = max_data > 0\n",
        "raw_data = []\n",
        "skip_head = False\n",
        "x = None\n",
        "count = 0\n",
        "\n",
        "# Create sequence array as a list of protein strings\n",
        "for line in tqdm(open(ds_file)):\n",
        "    if skip_head:\n",
        "        skip_head = False\n",
        "        continue\n",
        "    line = line.rstrip('\\n').rstrip('\\r').split('\\t')\n",
        "    if id2index.get(line[sid1_index]) is None or id2index.get(line[sid2_index]) is None:\n",
        "        continue\n",
        "    if id2_aid.get(line[sid1_index]) is None:\n",
        "        id2_aid[line[sid1_index]] = sid\n",
        "        sid += 1\n",
        "        seq_array.append(seqs[id2index[line[sid1_index]]])\n",
        "    line[sid1_index] = id2_aid[line[sid1_index]]\n",
        "    if id2_aid.get(line[sid2_index]) is None:\n",
        "        id2_aid[line[sid2_index]] = sid\n",
        "        sid += 1\n",
        "        seq_array.append(seqs[id2index[line[sid2_index]]])\n",
        "    line[sid2_index] = id2_aid[line[sid2_index]]\n",
        "    raw_data.append(line)\n",
        "    if limit_data:\n",
        "        count += 1\n",
        "        if count >= max_data:\n",
        "            break\n",
        "\n",
        "len_m_seq = np.array([len(line.split()) for line in seq_array])\n",
        "avg_m_seq = int(np.average(len_m_seq)) + 1\n",
        "max_m_seq = max(len_m_seq)\n",
        "dim = seq2t.dim\n",
        "\n",
        "# seq_tensor is tensor representation of dataset having shape of (number_of_sequences, padding_length, embedding_dim_of_aa)\n",
        "# Random for distribution of class labels\n",
        "np.random.seed(42)\n",
        "np.random.shuffle(raw_data)\n",
        "seq_tensor = np.array([seq2t.embed_normalized(line, seq_size) for line in tqdm(seq_array)])\n",
        "\n",
        "# Extract index of 1st and 2nd sequences in pairs\n",
        "seq_index1 = np.array([line[sid1_index] for line in tqdm(raw_data)])\n",
        "seq_index2 = np.array([line[sid2_index] for line in tqdm(raw_data)])\n",
        "\n",
        "# Assign labels for pairs of sequences\n",
        "class_map = {'0':1,'1':0}\n",
        "class_labels = np.zeros((len(raw_data), 2))\n",
        "for i in range(len(raw_data)):\n",
        "    class_labels[i][class_map[raw_data[i][label_index]]] = 1\n"
      ]
    },
    {
      "cell_type": "markdown",
      "metadata": {
        "id": "zmLZlle9RSy0"
      },
      "source": [
        "#### Create test dataset"
      ]
    },
    {
      "cell_type": "code",
      "execution_count": null,
      "metadata": {
        "colab": {
          "base_uri": "https://localhost:8080/"
        },
        "outputId": "42e5f804-ad71-4932-9ca9-f6ef8a87bd5f",
        "id": "JrEHPDweRSy0"
      },
      "outputs": [
        {
          "output_type": "stream",
          "name": "stdout",
          "text": [
            "12/12 [==============================] - 2s 139ms/step\n"
          ]
        }
      ],
      "source": [
        "def generator_pair_general(seq_tensor, seq_index1, seq_index2, class_labels):\n",
        "  for index in range(len(seq_index1)):\n",
        "    yield {\"seq1\": seq_tensor[seq_index1[index]], \"seq2\": seq_tensor[seq_index2[index]]}, class_labels[index]\n",
        "pred_dataset = tf.data.Dataset.from_generator(generator_pair_general, args=[seq_tensor, seq_index1, seq_index2, class_labels], output_types=({\"seq1\": DTYPE, \"seq2\": DTYPE}, DTYPE), output_shapes = ({\"seq1\": (seq_size, dim), \"seq2\": (seq_size, dim)}, (2,)) )\n",
        "pred_dataset = pred_dataset.batch(BATCH_SIZE)\n",
        "pred_dataset = pred_dataset.prefetch(tf.data.AUTOTUNE)\n",
        "pred = merge_model.predict(pred_dataset)"
      ]
    },
    {
      "cell_type": "markdown",
      "source": [
        "#### Inference on test dataset"
      ],
      "metadata": {
        "id": "OTtw_KTxRSy0"
      }
    },
    {
      "cell_type": "code",
      "execution_count": null,
      "metadata": {
        "colab": {
          "base_uri": "https://localhost:8080/"
        },
        "outputId": "6799140f-10a2-4073-d7d8-5cc0bfe26aa9",
        "id": "w7Pw5oc5RSy0"
      },
      "outputs": [
        {
          "output_type": "stream",
          "name": "stdout",
          "text": [
            "======================= manual compute ==============\n",
            "accuracy: 0.4975677553856845, precision: 0.4951744617668894, recall: 0.9394366197183098, specificity: 0.532608695652174 ,f1-score: 0.6485172581429265, mcc: 0.006651482064900441, auc: 0.5266559921945941, prc: 0.5108383906523467\n",
            "0.4975677553856845\t0.4951744617668894\t0.9394366197183098\t0.532608695652174\t0.6485172581429265\t0.006651482064900441\t0.5266559921945941\t0.5108383906523467\n"
          ]
        }
      ],
      "source": [
        "# Use for average score\n",
        "num_hit = 0.\n",
        "num_total = 0.\n",
        "num_pos = 0.\n",
        "num_true_pos = 0.\n",
        "num_false_pos = 0.\n",
        "num_true_neg = 0.\n",
        "num_false_neg = 0.\n",
        "\n",
        "# # Performance metrics\n",
        "for i in range(len(class_labels)):\n",
        "    num_total += 1\n",
        "    if np.argmax(class_labels[i]) == np.argmax(pred[i]):\n",
        "        num_hit += 1\n",
        "    if class_labels[i][0] > 0.:\n",
        "        num_pos += 1.\n",
        "        if pred[i][0] > pred[i][1]:\n",
        "            num_true_pos += 1              \n",
        "        else:                  \n",
        "            num_false_neg += 1\n",
        "    else:\n",
        "        if pred[i][0] > pred[i][1]:\n",
        "            num_false_pos += 1\n",
        "        else:\n",
        "            num_true_neg += 1\n",
        "\n",
        "accuracy = num_hit / num_total\n",
        "prec = num_true_pos / (num_true_pos + num_false_pos)\n",
        "recall = num_true_pos / num_pos\n",
        "spec = num_true_neg / (num_true_neg + num_false_neg)\n",
        "f1 = 2. * prec * recall / (prec + recall)\n",
        "\n",
        "try:\n",
        "  mcc = (num_true_pos * num_true_neg - num_false_pos * num_false_neg) / ((num_true_pos + num_true_neg) * (num_true_pos + num_false_neg) * (num_false_pos + num_true_neg) * (num_false_pos + num_false_neg)) ** 0.5\n",
        "except ZeroDivisionError:\n",
        "  mcc = 'nan'\n",
        "\n",
        "try:\n",
        "  auc = roc_auc_score(class_labels[:,0], pred[:,0])\n",
        "except ValueError:\n",
        "  auc = 'nan'\n",
        "prc = average_precision_score(class_labels[:,0], pred[:,0])\n",
        "\n",
        "print(\"======================= manual compute ==============\")\n",
        "print (f'accuracy: {accuracy}, precision: {prec}, recall: {recall}, specificity: {spec} ,f1-score: {f1}, mcc: {mcc}, auc: {auc}, prc: {prc}')\n",
        "\n",
        "print(str(accuracy) + \"\\t\" + str(prec) + \"\\t\" + str(recall) + \"\\t\" + str(spec) + \"\\t\" + str(f1) + '\\t' + str(mcc) + '\\t' + str(auc) + '\\t' + str(prc))\n"
      ]
    },
    {
      "cell_type": "markdown",
      "metadata": {
        "id": "OfaN_75ARYcB"
      },
      "source": [
        "### Chen-2019 Multi-species\n"
      ]
    },
    {
      "cell_type": "markdown",
      "metadata": {
        "id": "z8SyC-pORYcB"
      },
      "source": [
        "#### Read dataset"
      ]
    },
    {
      "cell_type": "code",
      "execution_count": null,
      "metadata": {
        "colab": {
          "base_uri": "https://localhost:8080/"
        },
        "outputId": "683785ff-2a0d-4c4f-e0e4-b9d94a933914",
        "id": "yEZIiwltRYcB"
      },
      "outputs": [
        {
          "output_type": "stream",
          "name": "stdout",
          "text": [
            "--2022-12-21 06:22:01--  https://raw.githubusercontent.com/anhvt00/MCAPS/master/data/Independent-testsets/multi-species/dict.tsv\n",
            "Resolving raw.githubusercontent.com (raw.githubusercontent.com)... 185.199.108.133, 185.199.109.133, 185.199.110.133, ...\n",
            "Connecting to raw.githubusercontent.com (raw.githubusercontent.com)|185.199.108.133|:443... connected.\n",
            "HTTP request sent, awaiting response... 200 OK\n",
            "Length: 5878871 (5.6M) [text/plain]\n",
            "Saving to: ‘dict.tsv’\n",
            "\n",
            "dict.tsv            100%[===================>]   5.61M  --.-KB/s    in 0.09s   \n",
            "\n",
            "2022-12-21 06:22:02 (59.5 MB/s) - ‘dict.tsv’ saved [5878871/5878871]\n",
            "\n",
            "--2022-12-21 06:22:02--  https://raw.githubusercontent.com/anhvt00/MCAPS/master/data/Independent-testsets/multi-species/pairs.tsv\n",
            "Resolving raw.githubusercontent.com (raw.githubusercontent.com)... 185.199.110.133, 185.199.111.133, 185.199.109.133, ...\n",
            "Connecting to raw.githubusercontent.com (raw.githubusercontent.com)|185.199.110.133|:443... connected.\n",
            "HTTP request sent, awaiting response... 200 OK\n",
            "Length: 1346871 (1.3M) [text/plain]\n",
            "Saving to: ‘pairs.tsv’\n",
            "\n",
            "pairs.tsv           100%[===================>]   1.28M  --.-KB/s    in 0.07s   \n",
            "\n",
            "2022-12-21 06:22:03 (19.1 MB/s) - ‘pairs.tsv’ saved [1346871/1346871]\n",
            "\n"
          ]
        },
        {
          "output_type": "stream",
          "name": "stderr",
          "text": [
            "65918it [00:00, 121408.75it/s]\n",
            "100%|██████████| 11529/11529 [00:03<00:00, 3376.80it/s]\n",
            "100%|██████████| 65918/65918 [00:00<00:00, 1806186.10it/s]\n",
            "100%|██████████| 65918/65918 [00:00<00:00, 2014119.01it/s]\n"
          ]
        }
      ],
      "source": [
        "id2seq_file = 'dict.tsv'\n",
        "id2index = {}\n",
        "seqs = []\n",
        "index = 0\n",
        "sid1_index = 0\n",
        "sid2_index = 1\n",
        "ds_file = 'pairs.tsv'\n",
        "label_index = 2\n",
        "use_emb = 'ac5_aph.txt'\n",
        "\n",
        "if not os.path.isfile(ds_file) or not os.path.isfile(id2seq_file):\n",
        "  !wget https://raw.githubusercontent.com/anhvt00/MCAPS/master/data/Independent-testsets/multi-species/dict.tsv\n",
        "  !wget https://raw.githubusercontent.com/anhvt00/MCAPS/master/data/Independent-testsets/multi-species/pairs.tsv\n",
        "\n",
        "\n",
        "# Create line variable as a list of protein sequences with index is the number of protein sequences\n",
        "# id2index is a dictionary of protein id and incremental index number \n",
        "for line in open(id2seq_file):\n",
        "    line = line.strip().split('\\t')\n",
        "    id2index[line[0]] = index\n",
        "    seqs.append(line[1])\n",
        "    index += 1\n",
        "\n",
        "seq_array = []\n",
        "id2_aid = {}\n",
        "sid = 0\n",
        "\n",
        "seq2t = s2t(use_emb)\n",
        "\n",
        "max_data = -1\n",
        "limit_data = max_data > 0\n",
        "raw_data = []\n",
        "skip_head = False\n",
        "x = None\n",
        "count = 0\n",
        "\n",
        "# Create sequence array as a list of protein strings\n",
        "for line in tqdm(open(ds_file)):\n",
        "    if skip_head:\n",
        "        skip_head = False\n",
        "        continue\n",
        "    line = line.rstrip('\\n').rstrip('\\r').split('\\t')\n",
        "    if id2index.get(line[sid1_index]) is None or id2index.get(line[sid2_index]) is None:\n",
        "        continue\n",
        "    if id2_aid.get(line[sid1_index]) is None:\n",
        "        id2_aid[line[sid1_index]] = sid\n",
        "        sid += 1\n",
        "        seq_array.append(seqs[id2index[line[sid1_index]]])\n",
        "    line[sid1_index] = id2_aid[line[sid1_index]]\n",
        "    if id2_aid.get(line[sid2_index]) is None:\n",
        "        id2_aid[line[sid2_index]] = sid\n",
        "        sid += 1\n",
        "        seq_array.append(seqs[id2index[line[sid2_index]]])\n",
        "    line[sid2_index] = id2_aid[line[sid2_index]]\n",
        "    raw_data.append(line)\n",
        "    if limit_data:\n",
        "        count += 1\n",
        "        if count >= max_data:\n",
        "            break\n",
        "\n",
        "len_m_seq = np.array([len(line.split()) for line in seq_array])\n",
        "avg_m_seq = int(np.average(len_m_seq)) + 1\n",
        "max_m_seq = max(len_m_seq)\n",
        "dim = seq2t.dim\n",
        "\n",
        "# seq_tensor is tensor representation of dataset having shape of (number_of_sequences, padding_length, embedding_dim_of_aa)\n",
        "# Random for distribution of class labels\n",
        "np.random.seed(42)\n",
        "np.random.shuffle(raw_data)\n",
        "seq_tensor = np.array([seq2t.embed_normalized(line, seq_size) for line in tqdm(seq_array)])\n",
        "\n",
        "# Extract index of 1st and 2nd sequences in pairs\n",
        "seq_index1 = np.array([line[sid1_index] for line in tqdm(raw_data)])\n",
        "seq_index2 = np.array([line[sid2_index] for line in tqdm(raw_data)])\n",
        "\n",
        "# Assign labels for pairs of sequences\n",
        "class_map = {'0':1,'1':0}\n",
        "class_labels = np.zeros((len(raw_data), 2))\n",
        "for i in range(len(raw_data)):\n",
        "    class_labels[i][class_map[raw_data[i][label_index]]] = 1\n"
      ]
    },
    {
      "cell_type": "markdown",
      "metadata": {
        "id": "yVzWvjlrRYcC"
      },
      "source": [
        "#### Create test dataset"
      ]
    },
    {
      "cell_type": "code",
      "execution_count": null,
      "metadata": {
        "colab": {
          "base_uri": "https://localhost:8080/"
        },
        "outputId": "d8f77d66-abcf-462f-f051-252da8051c88",
        "id": "dQxWsqH2RYcC"
      },
      "outputs": [
        {
          "output_type": "stream",
          "name": "stdout",
          "text": [
            "258/258 [==============================] - 34s 127ms/step\n"
          ]
        }
      ],
      "source": [
        "def generator_pair_general(seq_tensor, seq_index1, seq_index2, class_labels):\n",
        "  for index in range(len(seq_index1)):\n",
        "    yield {\"seq1\": seq_tensor[seq_index1[index]], \"seq2\": seq_tensor[seq_index2[index]]}, class_labels[index]\n",
        "pred_dataset = tf.data.Dataset.from_generator(generator_pair_general, args=[seq_tensor, seq_index1, seq_index2, class_labels], output_types=({\"seq1\": DTYPE, \"seq2\": DTYPE}, DTYPE), output_shapes = ({\"seq1\": (seq_size, dim), \"seq2\": (seq_size, dim)}, (2,)) )\n",
        "pred_dataset = pred_dataset.batch(BATCH_SIZE)\n",
        "pred_dataset = pred_dataset.prefetch(tf.data.AUTOTUNE)\n",
        "pred = merge_model.predict(pred_dataset)"
      ]
    },
    {
      "cell_type": "markdown",
      "source": [
        "#### Inference on test dataset"
      ],
      "metadata": {
        "id": "NyINGXEORYcC"
      }
    },
    {
      "cell_type": "code",
      "execution_count": null,
      "metadata": {
        "colab": {
          "base_uri": "https://localhost:8080/"
        },
        "outputId": "09d939bd-e8b2-4ad6-f49b-29d51339cd4c",
        "id": "tsem6RXXRYcC"
      },
      "outputs": [
        {
          "output_type": "stream",
          "name": "stdout",
          "text": [
            "======================= manual compute ==============\n",
            "accuracy: 0.5081464850268516, precision: 0.5044685710502796, recall: 0.9248156800873812, specificity: 0.5491266375545851 ,f1-score: 0.6528308756599308, mcc: 0.016386191695721974, auc: 0.5106145326743685, prc: 0.5055447950188481\n",
            "0.5081464850268516\t0.5044685710502796\t0.9248156800873812\t0.5491266375545851\t0.6528308756599308\t0.016386191695721974\t0.5106145326743685\t0.5055447950188481\n"
          ]
        }
      ],
      "source": [
        "# Use for average score\n",
        "num_hit = 0.\n",
        "num_total = 0.\n",
        "num_pos = 0.\n",
        "num_true_pos = 0.\n",
        "num_false_pos = 0.\n",
        "num_true_neg = 0.\n",
        "num_false_neg = 0.\n",
        "\n",
        "# # Performance metrics\n",
        "for i in range(len(class_labels)):\n",
        "    num_total += 1\n",
        "    if np.argmax(class_labels[i]) == np.argmax(pred[i]):\n",
        "        num_hit += 1\n",
        "    if class_labels[i][0] > 0.:\n",
        "        num_pos += 1.\n",
        "        if pred[i][0] > pred[i][1]:\n",
        "            num_true_pos += 1              \n",
        "        else:                  \n",
        "            num_false_neg += 1\n",
        "    else:\n",
        "        if pred[i][0] > pred[i][1]:\n",
        "            num_false_pos += 1\n",
        "        else:\n",
        "            num_true_neg += 1\n",
        "\n",
        "accuracy = num_hit / num_total\n",
        "prec = num_true_pos / (num_true_pos + num_false_pos)\n",
        "recall = num_true_pos / num_pos\n",
        "spec = num_true_neg / (num_true_neg + num_false_neg)\n",
        "f1 = 2. * prec * recall / (prec + recall)\n",
        "\n",
        "try:\n",
        "  mcc = (num_true_pos * num_true_neg - num_false_pos * num_false_neg) / ((num_true_pos + num_true_neg) * (num_true_pos + num_false_neg) * (num_false_pos + num_true_neg) * (num_false_pos + num_false_neg)) ** 0.5\n",
        "except ZeroDivisionError:\n",
        "  mcc = 'nan'\n",
        "\n",
        "try:\n",
        "  auc = roc_auc_score(class_labels[:,0], pred[:,0])\n",
        "except ValueError:\n",
        "  auc = 'nan'\n",
        "prc = average_precision_score(class_labels[:,0], pred[:,0])\n",
        "\n",
        "print(\"======================= manual compute ==============\")\n",
        "print (f'accuracy: {accuracy}, precision: {prec}, recall: {recall}, specificity: {spec} ,f1-score: {f1}, mcc: {mcc}, auc: {auc}, prc: {prc}')\n",
        "\n",
        "print(str(accuracy) + \"\\t\" + str(prec) + \"\\t\" + str(recall) + \"\\t\" + str(spec) + \"\\t\" + str(f1) + '\\t' + str(mcc) + '\\t' + str(auc) + '\\t' + str(prc))\n"
      ]
    },
    {
      "cell_type": "markdown",
      "metadata": {
        "id": "qpIt0yBGv1eM"
      },
      "source": [
        "## Inference on inter-species datasets"
      ]
    },
    {
      "cell_type": "markdown",
      "metadata": {
        "id": "5IS8hiE-qPLN"
      },
      "source": [
        "### DENV\n"
      ]
    },
    {
      "cell_type": "markdown",
      "metadata": {
        "id": "ICcs5ck5qPLO"
      },
      "source": [
        "#### Read dataset"
      ]
    },
    {
      "cell_type": "code",
      "execution_count": null,
      "metadata": {
        "colab": {
          "base_uri": "https://localhost:8080/"
        },
        "outputId": "649fb2d4-5e0f-4e85-d0fe-a02cd778d40f",
        "id": "7KSOdZGaqPLO"
      },
      "outputs": [
        {
          "output_type": "stream",
          "name": "stdout",
          "text": [
            "--2022-12-21 06:22:44--  https://raw.githubusercontent.com/anhvt00/MCAPS/master/data/Interspecies-host-pathogen/human-virus/DENV/protein_pair_label.txt\n",
            "Resolving raw.githubusercontent.com (raw.githubusercontent.com)... 185.199.111.133, 185.199.108.133, 185.199.109.133, ...\n",
            "Connecting to raw.githubusercontent.com (raw.githubusercontent.com)|185.199.111.133|:443... connected.\n",
            "HTTP request sent, awaiting response... 200 OK\n",
            "Length: 316639 (309K) [text/plain]\n",
            "Saving to: ‘protein_pair_label.txt’\n",
            "\n",
            "protein_pair_label. 100%[===================>] 309.22K  --.-KB/s    in 0.04s   \n",
            "\n",
            "2022-12-21 06:22:44 (7.64 MB/s) - ‘protein_pair_label.txt’ saved [316639/316639]\n",
            "\n",
            "--2022-12-21 06:22:44--  https://raw.githubusercontent.com/anhvt00/MCAPS/master/data/Interspecies-host-pathogen/human-virus/DENV/pro_seq.txt\n",
            "Resolving raw.githubusercontent.com (raw.githubusercontent.com)... 185.199.108.133, 185.199.109.133, 185.199.110.133, ...\n",
            "Connecting to raw.githubusercontent.com (raw.githubusercontent.com)|185.199.108.133|:443... connected.\n",
            "HTTP request sent, awaiting response... 200 OK\n",
            "Length: 4489762 (4.3M) [text/plain]\n",
            "Saving to: ‘pro_seq.txt’\n",
            "\n",
            "pro_seq.txt         100%[===================>]   4.28M  --.-KB/s    in 0.08s   \n",
            "\n",
            "2022-12-21 06:22:46 (51.1 MB/s) - ‘pro_seq.txt’ saved [4489762/4489762]\n",
            "\n"
          ]
        },
        {
          "output_type": "stream",
          "name": "stderr",
          "text": [
            "10197it [00:00, 183074.51it/s]\n",
            "100%|██████████| 8028/8028 [00:02<00:00, 3321.42it/s]\n",
            "100%|██████████| 10197/10197 [00:00<00:00, 1600588.22it/s]\n",
            "100%|██████████| 10197/10197 [00:00<00:00, 2236655.05it/s]\n"
          ]
        }
      ],
      "source": [
        "!rm -rf pro_seq.txt protein_pair_label.txt\n",
        "id2seq_file = 'pro_seq.txt'\n",
        "id2index = {}\n",
        "seqs = []\n",
        "index = 0\n",
        "sid1_index = 0\n",
        "sid2_index = 1\n",
        "ds_file = 'protein_pair_label.txt'\n",
        "label_index = 2\n",
        "use_emb = 'ac5_aph.txt'\n",
        "\n",
        "if not os.path.isfile(ds_file) or not os.path.isfile(id2seq_file):\n",
        "  !wget https://raw.githubusercontent.com/anhvt00/MCAPS/master/data/Interspecies-host-pathogen/human-virus/DENV/protein_pair_label.txt\n",
        "  !wget https://raw.githubusercontent.com/anhvt00/MCAPS/master/data/Interspecies-host-pathogen/human-virus/DENV/pro_seq.txt\n",
        "\n",
        "\n",
        "# Create line variable as a list of protein sequences with index is the number of protein sequences\n",
        "# id2index is a dictionary of protein id and incremental index number \n",
        "for line in open(id2seq_file):\n",
        "    line = line.strip().split('\\t')\n",
        "    id2index[line[0]] = index\n",
        "    seqs.append(line[1])\n",
        "    index += 1\n",
        "\n",
        "seq_array = []\n",
        "id2_aid = {}\n",
        "sid = 0\n",
        "\n",
        "seq2t = s2t(use_emb)\n",
        "\n",
        "max_data = -1\n",
        "limit_data = max_data > 0\n",
        "raw_data = []\n",
        "skip_head = False\n",
        "x = None\n",
        "count = 0\n",
        "\n",
        "# Create sequence array as a list of protein strings\n",
        "for line in tqdm(open(ds_file)):\n",
        "    if skip_head:\n",
        "        skip_head = False\n",
        "        continue\n",
        "    line = line.rstrip('\\n').rstrip('\\r').split('\\t')\n",
        "    if id2index.get(line[sid1_index]) is None or id2index.get(line[sid2_index]) is None:\n",
        "        continue\n",
        "    if id2_aid.get(line[sid1_index]) is None:\n",
        "        id2_aid[line[sid1_index]] = sid\n",
        "        sid += 1\n",
        "        seq_array.append(seqs[id2index[line[sid1_index]]])\n",
        "    line[sid1_index] = id2_aid[line[sid1_index]]\n",
        "    if id2_aid.get(line[sid2_index]) is None:\n",
        "        id2_aid[line[sid2_index]] = sid\n",
        "        sid += 1\n",
        "        seq_array.append(seqs[id2index[line[sid2_index]]])\n",
        "    line[sid2_index] = id2_aid[line[sid2_index]]\n",
        "    raw_data.append(line)\n",
        "    if limit_data:\n",
        "        count += 1\n",
        "        if count >= max_data:\n",
        "            break\n",
        "\n",
        "len_m_seq = np.array([len(line.split()) for line in seq_array])\n",
        "avg_m_seq = int(np.average(len_m_seq)) + 1\n",
        "max_m_seq = max(len_m_seq)\n",
        "dim = seq2t.dim\n",
        "\n",
        "# seq_tensor is tensor representation of dataset having shape of (number_of_sequences, padding_length, embedding_dim_of_aa)\n",
        "# Random for distribution of class labels\n",
        "np.random.seed(42)\n",
        "np.random.shuffle(raw_data)\n",
        "seq_tensor = np.array([seq2t.embed_normalized(line, seq_size) for line in tqdm(seq_array)])\n",
        "\n",
        "# Extract index of 1st and 2nd sequences in pairs\n",
        "seq_index1 = np.array([line[sid1_index] for line in tqdm(raw_data)])\n",
        "seq_index2 = np.array([line[sid2_index] for line in tqdm(raw_data)])\n",
        "\n",
        "# Assign labels for pairs of sequences\n",
        "class_map = {'0':1,'1':0}\n",
        "class_labels = np.zeros((len(raw_data), 2))\n",
        "for i in range(len(raw_data)):\n",
        "    class_labels[i][class_map[raw_data[i][label_index]]] = 1\n"
      ]
    },
    {
      "cell_type": "markdown",
      "metadata": {
        "id": "N6isWD3vqPLO"
      },
      "source": [
        "#### Create test dataset"
      ]
    },
    {
      "cell_type": "code",
      "execution_count": null,
      "metadata": {
        "colab": {
          "base_uri": "https://localhost:8080/"
        },
        "outputId": "03e21483-e83c-45e5-cde2-acc5c46eb5f5",
        "id": "e46H8emGqPLO"
      },
      "outputs": [
        {
          "output_type": "stream",
          "name": "stdout",
          "text": [
            "40/40 [==============================] - 6s 131ms/step\n"
          ]
        }
      ],
      "source": [
        "def generator_pair_general(seq_tensor, seq_index1, seq_index2, class_labels):\n",
        "  for index in range(len(seq_index1)):\n",
        "    yield {\"seq1\": seq_tensor[seq_index1[index]], \"seq2\": seq_tensor[seq_index2[index]]}, class_labels[index]\n",
        "pred_dataset = tf.data.Dataset.from_generator(generator_pair_general, args=[seq_tensor, seq_index1, seq_index2, class_labels], output_types=({\"seq1\": DTYPE, \"seq2\": DTYPE}, DTYPE), output_shapes = ({\"seq1\": (seq_size, dim), \"seq2\": (seq_size, dim)}, (2,)) )\n",
        "pred_dataset = pred_dataset.batch(BATCH_SIZE)\n",
        "pred_dataset = pred_dataset.prefetch(tf.data.AUTOTUNE)\n",
        "pred = merge_model.predict(pred_dataset)"
      ]
    },
    {
      "cell_type": "markdown",
      "source": [
        "#### Inference on test dataset"
      ],
      "metadata": {
        "id": "qhLsyiQSqPLO"
      }
    },
    {
      "cell_type": "code",
      "execution_count": null,
      "metadata": {
        "colab": {
          "base_uri": "https://localhost:8080/"
        },
        "outputId": "d6929828-bc28-491c-c2d2-5612b9eb1bc2",
        "id": "283UBRpsqPLO"
      },
      "outputs": [
        {
          "output_type": "stream",
          "name": "stdout",
          "text": [
            "======================= manual compute ==============\n",
            "accuracy: 0.15318230852211434, precision: 0.07592429577464789, recall: 0.7443365695792881, specificity: 0.7862939585211902 ,f1-score: 0.1377933100349476, mcc: -0.12898527313132854, auc: 0.3983339908230723, prc: 0.07490886213035082\n",
            "0.15318230852211434\t0.07592429577464789\t0.7443365695792881\t0.7862939585211902\t0.1377933100349476\t-0.12898527313132854\t0.3983339908230723\t0.07490886213035082\n"
          ]
        }
      ],
      "source": [
        "# Use for average score\n",
        "num_hit = 0.\n",
        "num_total = 0.\n",
        "num_pos = 0.\n",
        "num_true_pos = 0.\n",
        "num_false_pos = 0.\n",
        "num_true_neg = 0.\n",
        "num_false_neg = 0.\n",
        "\n",
        "# # Performance metrics\n",
        "for i in range(len(class_labels)):\n",
        "    num_total += 1\n",
        "    if np.argmax(class_labels[i]) == np.argmax(pred[i]):\n",
        "        num_hit += 1\n",
        "    if class_labels[i][0] > 0.:\n",
        "        num_pos += 1.\n",
        "        if pred[i][0] > pred[i][1]:\n",
        "            num_true_pos += 1              \n",
        "        else:                  \n",
        "            num_false_neg += 1\n",
        "    else:\n",
        "        if pred[i][0] > pred[i][1]:\n",
        "            num_false_pos += 1\n",
        "        else:\n",
        "            num_true_neg += 1\n",
        "\n",
        "accuracy = num_hit / num_total\n",
        "prec = num_true_pos / (num_true_pos + num_false_pos)\n",
        "recall = num_true_pos / num_pos\n",
        "spec = num_true_neg / (num_true_neg + num_false_neg)\n",
        "f1 = 2. * prec * recall / (prec + recall)\n",
        "\n",
        "try:\n",
        "  mcc = (num_true_pos * num_true_neg - num_false_pos * num_false_neg) / ((num_true_pos + num_true_neg) * (num_true_pos + num_false_neg) * (num_false_pos + num_true_neg) * (num_false_pos + num_false_neg)) ** 0.5\n",
        "except ZeroDivisionError:\n",
        "  mcc = 'nan'\n",
        "\n",
        "try:\n",
        "  auc = roc_auc_score(class_labels[:,0], pred[:,0])\n",
        "except ValueError:\n",
        "  auc = 'nan'\n",
        "prc = average_precision_score(class_labels[:,0], pred[:,0])\n",
        "\n",
        "print(\"======================= manual compute ==============\")\n",
        "print (f'accuracy: {accuracy}, precision: {prec}, recall: {recall}, specificity: {spec} ,f1-score: {f1}, mcc: {mcc}, auc: {auc}, prc: {prc}')\n",
        "\n",
        "print(str(accuracy) + \"\\t\" + str(prec) + \"\\t\" + str(recall) + \"\\t\" + str(spec) + \"\\t\" + str(f1) + '\\t' + str(mcc) + '\\t' + str(auc) + '\\t' + str(prc))\n"
      ]
    },
    {
      "cell_type": "markdown",
      "metadata": {
        "id": "9ya-0F4pfVV-"
      },
      "source": [
        "### HIV\n"
      ]
    },
    {
      "cell_type": "markdown",
      "metadata": {
        "id": "bG4SMAtafVV_"
      },
      "source": [
        "#### Read dataset"
      ]
    },
    {
      "cell_type": "code",
      "execution_count": null,
      "metadata": {
        "colab": {
          "base_uri": "https://localhost:8080/"
        },
        "outputId": "4cab6e77-327f-402d-ab33-49fa6ca8c541",
        "id": "ue55uh0ifVV_"
      },
      "outputs": [
        {
          "output_type": "stream",
          "name": "stdout",
          "text": [
            "--2022-12-21 06:22:57--  https://raw.githubusercontent.com/anhvt00/MCAPS/master/data/Interspecies-host-pathogen/human-virus/HIV/protein_pair_label.txt\n",
            "Resolving raw.githubusercontent.com (raw.githubusercontent.com)... 185.199.108.133, 185.199.109.133, 185.199.110.133, ...\n",
            "Connecting to raw.githubusercontent.com (raw.githubusercontent.com)|185.199.108.133|:443... connected.\n",
            "HTTP request sent, awaiting response... 200 OK\n",
            "Length: 1797825 (1.7M) [text/plain]\n",
            "Saving to: ‘protein_pair_label.txt’\n",
            "\n",
            "protein_pair_label. 100%[===================>]   1.71M  --.-KB/s    in 0.07s   \n",
            "\n",
            "2022-12-21 06:22:57 (25.3 MB/s) - ‘protein_pair_label.txt’ saved [1797825/1797825]\n",
            "\n",
            "--2022-12-21 06:22:57--  https://raw.githubusercontent.com/anhvt00/MCAPS/master/data/Interspecies-host-pathogen/human-virus/HIV/pro_seq.txt\n",
            "Resolving raw.githubusercontent.com (raw.githubusercontent.com)... 185.199.111.133, 185.199.108.133, 185.199.109.133, ...\n",
            "Connecting to raw.githubusercontent.com (raw.githubusercontent.com)|185.199.111.133|:443... connected.\n",
            "HTTP request sent, awaiting response... 200 OK\n",
            "Length: 11354613 (11M) [text/plain]\n",
            "Saving to: ‘pro_seq.txt’\n",
            "\n",
            "pro_seq.txt         100%[===================>]  10.83M  --.-KB/s    in 0.1s    \n",
            "\n",
            "2022-12-21 06:22:59 (88.9 MB/s) - ‘pro_seq.txt’ saved [11354613/11354613]\n",
            "\n"
          ]
        },
        {
          "output_type": "stream",
          "name": "stderr",
          "text": [
            "108680it [00:00, 223940.62it/s]\n",
            "100%|██████████| 20464/20464 [00:05<00:00, 3459.34it/s]\n",
            "100%|██████████| 108680/108680 [00:00<00:00, 1728016.61it/s]\n",
            "100%|██████████| 108680/108680 [00:00<00:00, 1956852.11it/s]\n"
          ]
        }
      ],
      "source": [
        "!rm -rf pro_seq.txt protein_pair_label.txt\n",
        "id2seq_file = 'pro_seq.txt'\n",
        "id2index = {}\n",
        "seqs = []\n",
        "index = 0\n",
        "sid1_index = 0\n",
        "sid2_index = 1\n",
        "ds_file = 'protein_pair_label.txt'\n",
        "label_index = 2\n",
        "use_emb = 'ac5_aph.txt'\n",
        "\n",
        "if not os.path.isfile(ds_file) or not os.path.isfile(id2seq_file):\n",
        "  !wget https://raw.githubusercontent.com/anhvt00/MCAPS/master/data/Interspecies-host-pathogen/human-virus/HIV/protein_pair_label.txt\n",
        "  !wget https://raw.githubusercontent.com/anhvt00/MCAPS/master/data/Interspecies-host-pathogen/human-virus/HIV/pro_seq.txt\n",
        "\n",
        "\n",
        "# Create line variable as a list of protein sequences with index is the number of protein sequences\n",
        "# id2index is a dictionary of protein id and incremental index number \n",
        "for line in open(id2seq_file):\n",
        "    line = line.strip().split('\\t')\n",
        "    id2index[line[0]] = index\n",
        "    seqs.append(line[1])\n",
        "    index += 1\n",
        "\n",
        "seq_array = []\n",
        "id2_aid = {}\n",
        "sid = 0\n",
        "\n",
        "seq2t = s2t(use_emb)\n",
        "\n",
        "max_data = -1\n",
        "limit_data = max_data > 0\n",
        "raw_data = []\n",
        "skip_head = False\n",
        "x = None\n",
        "count = 0\n",
        "\n",
        "# Create sequence array as a list of protein strings\n",
        "for line in tqdm(open(ds_file)):\n",
        "    if skip_head:\n",
        "        skip_head = False\n",
        "        continue\n",
        "    line = line.rstrip('\\n').rstrip('\\r').split('\\t')\n",
        "    if id2index.get(line[sid1_index]) is None or id2index.get(line[sid2_index]) is None:\n",
        "        continue\n",
        "    if id2_aid.get(line[sid1_index]) is None:\n",
        "        id2_aid[line[sid1_index]] = sid\n",
        "        sid += 1\n",
        "        seq_array.append(seqs[id2index[line[sid1_index]]])\n",
        "    line[sid1_index] = id2_aid[line[sid1_index]]\n",
        "    if id2_aid.get(line[sid2_index]) is None:\n",
        "        id2_aid[line[sid2_index]] = sid\n",
        "        sid += 1\n",
        "        seq_array.append(seqs[id2index[line[sid2_index]]])\n",
        "    line[sid2_index] = id2_aid[line[sid2_index]]\n",
        "    raw_data.append(line)\n",
        "    if limit_data:\n",
        "        count += 1\n",
        "        if count >= max_data:\n",
        "            break\n",
        "\n",
        "len_m_seq = np.array([len(line.split()) for line in seq_array])\n",
        "avg_m_seq = int(np.average(len_m_seq)) + 1\n",
        "max_m_seq = max(len_m_seq)\n",
        "dim = seq2t.dim\n",
        "\n",
        "# seq_tensor is tensor representation of dataset having shape of (number_of_sequences, padding_length, embedding_dim_of_aa)\n",
        "# Random for distribution of class labels\n",
        "np.random.seed(42)\n",
        "np.random.shuffle(raw_data)\n",
        "seq_tensor = np.array([seq2t.embed_normalized(line, seq_size) for line in tqdm(seq_array)])\n",
        "\n",
        "# Extract index of 1st and 2nd sequences in pairs\n",
        "seq_index1 = np.array([line[sid1_index] for line in tqdm(raw_data)])\n",
        "seq_index2 = np.array([line[sid2_index] for line in tqdm(raw_data)])\n",
        "\n",
        "# Assign labels for pairs of sequences\n",
        "class_map = {'0':1,'1':0}\n",
        "class_labels = np.zeros((len(raw_data), 2))\n",
        "for i in range(len(raw_data)):\n",
        "    class_labels[i][class_map[raw_data[i][label_index]]] = 1\n"
      ]
    },
    {
      "cell_type": "markdown",
      "metadata": {
        "id": "K9k5d_ezfVV_"
      },
      "source": [
        "#### Create test dataset"
      ]
    },
    {
      "cell_type": "code",
      "execution_count": null,
      "metadata": {
        "colab": {
          "base_uri": "https://localhost:8080/"
        },
        "outputId": "122ad228-a351-43bb-9508-8fe9af1b6b7c",
        "id": "4OXJcHKifVV_"
      },
      "outputs": [
        {
          "output_type": "stream",
          "name": "stdout",
          "text": [
            "425/425 [==============================] - 56s 126ms/step\n"
          ]
        }
      ],
      "source": [
        "def generator_pair_general(seq_tensor, seq_index1, seq_index2, class_labels):\n",
        "  for index in range(len(seq_index1)):\n",
        "    yield {\"seq1\": seq_tensor[seq_index1[index]], \"seq2\": seq_tensor[seq_index2[index]]}, class_labels[index]\n",
        "pred_dataset = tf.data.Dataset.from_generator(generator_pair_general, args=[seq_tensor, seq_index1, seq_index2, class_labels], output_types=({\"seq1\": DTYPE, \"seq2\": DTYPE}, DTYPE), output_shapes = ({\"seq1\": (seq_size, dim), \"seq2\": (seq_size, dim)}, (2,)) )\n",
        "pred_dataset = pred_dataset.batch(BATCH_SIZE)\n",
        "pred_dataset = pred_dataset.prefetch(tf.data.AUTOTUNE)\n",
        "pred = merge_model.predict(pred_dataset)"
      ]
    },
    {
      "cell_type": "markdown",
      "source": [
        "#### Inference on test dataset"
      ],
      "metadata": {
        "id": "V6wqGhgWfVV_"
      }
    },
    {
      "cell_type": "code",
      "execution_count": null,
      "metadata": {
        "colab": {
          "base_uri": "https://localhost:8080/"
        },
        "outputId": "35cdf7b0-d920-4fce-eaec-9da1eaa7d267",
        "id": "FURbS9GTfVV_"
      },
      "outputs": [
        {
          "output_type": "stream",
          "name": "stdout",
          "text": [
            "======================= manual compute ==============\n",
            "accuracy: 0.1382315053367685, precision: 0.09175080893532415, recall: 0.952834008097166, specificity: 0.9233048057932851 ,f1-score: 0.16738380569681022, mcc: 0.008008718247810503, auc: 0.5240984470528939, prc: 0.09567330995797613\n",
            "0.1382315053367685\t0.09175080893532415\t0.952834008097166\t0.9233048057932851\t0.16738380569681022\t0.008008718247810503\t0.5240984470528939\t0.09567330995797613\n"
          ]
        }
      ],
      "source": [
        "# Use for average score\n",
        "num_hit = 0.\n",
        "num_total = 0.\n",
        "num_pos = 0.\n",
        "num_true_pos = 0.\n",
        "num_false_pos = 0.\n",
        "num_true_neg = 0.\n",
        "num_false_neg = 0.\n",
        "\n",
        "# # Performance metrics\n",
        "for i in range(len(class_labels)):\n",
        "    num_total += 1\n",
        "    if np.argmax(class_labels[i]) == np.argmax(pred[i]):\n",
        "        num_hit += 1\n",
        "    if class_labels[i][0] > 0.:\n",
        "        num_pos += 1.\n",
        "        if pred[i][0] > pred[i][1]:\n",
        "            num_true_pos += 1              \n",
        "        else:                  \n",
        "            num_false_neg += 1\n",
        "    else:\n",
        "        if pred[i][0] > pred[i][1]:\n",
        "            num_false_pos += 1\n",
        "        else:\n",
        "            num_true_neg += 1\n",
        "\n",
        "accuracy = num_hit / num_total\n",
        "prec = num_true_pos / (num_true_pos + num_false_pos)\n",
        "recall = num_true_pos / num_pos\n",
        "spec = num_true_neg / (num_true_neg + num_false_neg)\n",
        "f1 = 2. * prec * recall / (prec + recall)\n",
        "\n",
        "try:\n",
        "  mcc = (num_true_pos * num_true_neg - num_false_pos * num_false_neg) / ((num_true_pos + num_true_neg) * (num_true_pos + num_false_neg) * (num_false_pos + num_true_neg) * (num_false_pos + num_false_neg)) ** 0.5\n",
        "except ZeroDivisionError:\n",
        "  mcc = 'nan'\n",
        "\n",
        "try:\n",
        "  auc = roc_auc_score(class_labels[:,0], pred[:,0])\n",
        "except ValueError:\n",
        "  auc = 'nan'\n",
        "prc = average_precision_score(class_labels[:,0], pred[:,0])\n",
        "\n",
        "print(\"======================= manual compute ==============\")\n",
        "print (f'accuracy: {accuracy}, precision: {prec}, recall: {recall}, specificity: {spec} ,f1-score: {f1}, mcc: {mcc}, auc: {auc}, prc: {prc}')\n",
        "\n",
        "print(str(accuracy) + \"\\t\" + str(prec) + \"\\t\" + str(recall) + \"\\t\" + str(spec) + \"\\t\" + str(f1) + '\\t' + str(mcc) + '\\t' + str(auc) + '\\t' + str(prc))\n"
      ]
    },
    {
      "cell_type": "markdown",
      "metadata": {
        "id": "DnbagApSs9LC"
      },
      "source": [
        "### Hepatitis\n"
      ]
    },
    {
      "cell_type": "markdown",
      "metadata": {
        "id": "XAMK4AT_s9LC"
      },
      "source": [
        "#### Read dataset"
      ]
    },
    {
      "cell_type": "code",
      "execution_count": null,
      "metadata": {
        "colab": {
          "base_uri": "https://localhost:8080/"
        },
        "outputId": "cfa2242f-fe9f-49d8-c6a3-883d0d76f088",
        "id": "H0DHehGBs9LC"
      },
      "outputs": [
        {
          "output_type": "stream",
          "name": "stdout",
          "text": [
            "--2022-12-21 06:24:08--  https://raw.githubusercontent.com/anhvt00/MCAPS/master/data/Interspecies-host-pathogen/human-virus/Hepatitis/protein_pair_label.txt\n",
            "Resolving raw.githubusercontent.com (raw.githubusercontent.com)... 185.199.108.133, 185.199.109.133, 185.199.110.133, ...\n",
            "Connecting to raw.githubusercontent.com (raw.githubusercontent.com)|185.199.108.133|:443... connected.\n",
            "HTTP request sent, awaiting response... 200 OK\n",
            "Length: 342539 (335K) [text/plain]\n",
            "Saving to: ‘protein_pair_label.txt’\n",
            "\n",
            "protein_pair_label. 100%[===================>] 334.51K  --.-KB/s    in 0.04s   \n",
            "\n",
            "2022-12-21 06:24:08 (8.37 MB/s) - ‘protein_pair_label.txt’ saved [342539/342539]\n",
            "\n",
            "--2022-12-21 06:24:09--  https://raw.githubusercontent.com/anhvt00/MCAPS/master/data/Interspecies-host-pathogen/human-virus/Hepatitis/pro_seq.txt\n",
            "Resolving raw.githubusercontent.com (raw.githubusercontent.com)... 185.199.110.133, 185.199.109.133, 185.199.111.133, ...\n",
            "Connecting to raw.githubusercontent.com (raw.githubusercontent.com)|185.199.110.133|:443... connected.\n",
            "HTTP request sent, awaiting response... 200 OK\n",
            "Length: 5791140 (5.5M) [text/plain]\n",
            "Saving to: ‘pro_seq.txt’\n",
            "\n",
            "pro_seq.txt         100%[===================>]   5.52M  --.-KB/s    in 0.1s    \n",
            "\n",
            "2022-12-21 06:24:10 (57.2 MB/s) - ‘pro_seq.txt’ saved [5791140/5791140]\n",
            "\n"
          ]
        },
        {
          "output_type": "stream",
          "name": "stderr",
          "text": [
            "14300it [00:00, 378246.50it/s]\n",
            "100%|██████████| 10287/10287 [00:03<00:00, 3398.76it/s]\n",
            "100%|██████████| 14300/14300 [00:00<00:00, 1621041.82it/s]\n",
            "100%|██████████| 14300/14300 [00:00<00:00, 2025617.94it/s]\n"
          ]
        }
      ],
      "source": [
        "!rm -rf pro_seq.txt protein_pair_label.txt\n",
        "id2seq_file = 'pro_seq.txt'\n",
        "id2index = {}\n",
        "seqs = []\n",
        "index = 0\n",
        "sid1_index = 0\n",
        "sid2_index = 1\n",
        "ds_file = 'protein_pair_label.txt'\n",
        "label_index = 2\n",
        "use_emb = 'ac5_aph.txt'\n",
        "\n",
        "if not os.path.isfile(ds_file) or not os.path.isfile(id2seq_file):\n",
        "  !wget https://raw.githubusercontent.com/anhvt00/MCAPS/master/data/Interspecies-host-pathogen/human-virus/Hepatitis/protein_pair_label.txt\n",
        "  !wget https://raw.githubusercontent.com/anhvt00/MCAPS/master/data/Interspecies-host-pathogen/human-virus/Hepatitis/pro_seq.txt\n",
        "\n",
        "\n",
        "# Create line variable as a list of protein sequences with index is the number of protein sequences\n",
        "# id2index is a dictionary of protein id and incremental index number \n",
        "for line in open(id2seq_file):\n",
        "    line = line.strip().split('\\t')\n",
        "    id2index[line[0]] = index\n",
        "    seqs.append(line[1])\n",
        "    index += 1\n",
        "\n",
        "seq_array = []\n",
        "id2_aid = {}\n",
        "sid = 0\n",
        "\n",
        "seq2t = s2t(use_emb)\n",
        "\n",
        "max_data = -1\n",
        "limit_data = max_data > 0\n",
        "raw_data = []\n",
        "skip_head = False\n",
        "x = None\n",
        "count = 0\n",
        "\n",
        "# Create sequence array as a list of protein strings\n",
        "for line in tqdm(open(ds_file)):\n",
        "    if skip_head:\n",
        "        skip_head = False\n",
        "        continue\n",
        "    line = line.rstrip('\\n').rstrip('\\r').split('\\t')\n",
        "    if id2index.get(line[sid1_index]) is None or id2index.get(line[sid2_index]) is None:\n",
        "        continue\n",
        "    if id2_aid.get(line[sid1_index]) is None:\n",
        "        id2_aid[line[sid1_index]] = sid\n",
        "        sid += 1\n",
        "        seq_array.append(seqs[id2index[line[sid1_index]]])\n",
        "    line[sid1_index] = id2_aid[line[sid1_index]]\n",
        "    if id2_aid.get(line[sid2_index]) is None:\n",
        "        id2_aid[line[sid2_index]] = sid\n",
        "        sid += 1\n",
        "        seq_array.append(seqs[id2index[line[sid2_index]]])\n",
        "    line[sid2_index] = id2_aid[line[sid2_index]]\n",
        "    raw_data.append(line)\n",
        "    if limit_data:\n",
        "        count += 1\n",
        "        if count >= max_data:\n",
        "            break\n",
        "\n",
        "len_m_seq = np.array([len(line.split()) for line in seq_array])\n",
        "avg_m_seq = int(np.average(len_m_seq)) + 1\n",
        "max_m_seq = max(len_m_seq)\n",
        "dim = seq2t.dim\n",
        "\n",
        "# seq_tensor is tensor representation of dataset having shape of (number_of_sequences, padding_length, embedding_dim_of_aa)\n",
        "# Random for distribution of class labels\n",
        "np.random.seed(42)\n",
        "np.random.shuffle(raw_data)\n",
        "seq_tensor = np.array([seq2t.embed_normalized(line, seq_size) for line in tqdm(seq_array)])\n",
        "\n",
        "# Extract index of 1st and 2nd sequences in pairs\n",
        "seq_index1 = np.array([line[sid1_index] for line in tqdm(raw_data)])\n",
        "seq_index2 = np.array([line[sid2_index] for line in tqdm(raw_data)])\n",
        "\n",
        "# Assign labels for pairs of sequences\n",
        "class_map = {'0':1,'1':0}\n",
        "class_labels = np.zeros((len(raw_data), 2))\n",
        "for i in range(len(raw_data)):\n",
        "    class_labels[i][class_map[raw_data[i][label_index]]] = 1\n"
      ]
    },
    {
      "cell_type": "markdown",
      "metadata": {
        "id": "oMujWwxXs9LD"
      },
      "source": [
        "#### Create test dataset"
      ]
    },
    {
      "cell_type": "code",
      "execution_count": null,
      "metadata": {
        "colab": {
          "base_uri": "https://localhost:8080/"
        },
        "outputId": "d298e253-4250-409c-a58f-99a22eb5f5da",
        "id": "W4_6bAr1s9LD"
      },
      "outputs": [
        {
          "output_type": "stream",
          "name": "stdout",
          "text": [
            "56/56 [==============================] - 8s 131ms/step\n"
          ]
        }
      ],
      "source": [
        "def generator_pair_general(seq_tensor, seq_index1, seq_index2, class_labels):\n",
        "  for index in range(len(seq_index1)):\n",
        "    yield {\"seq1\": seq_tensor[seq_index1[index]], \"seq2\": seq_tensor[seq_index2[index]]}, class_labels[index]\n",
        "pred_dataset = tf.data.Dataset.from_generator(generator_pair_general, args=[seq_tensor, seq_index1, seq_index2, class_labels], output_types=({\"seq1\": DTYPE, \"seq2\": DTYPE}, DTYPE), output_shapes = ({\"seq1\": (seq_size, dim), \"seq2\": (seq_size, dim)}, (2,)) )\n",
        "pred_dataset = pred_dataset.batch(BATCH_SIZE)\n",
        "pred_dataset = pred_dataset.prefetch(tf.data.AUTOTUNE)\n",
        "pred = merge_model.predict(pred_dataset)"
      ]
    },
    {
      "cell_type": "markdown",
      "source": [
        "#### Inference on test dataset"
      ],
      "metadata": {
        "id": "3gteR9q5s9LD"
      }
    },
    {
      "cell_type": "code",
      "execution_count": null,
      "metadata": {
        "colab": {
          "base_uri": "https://localhost:8080/"
        },
        "outputId": "03a1f26e-b9e0-4df8-975b-39994c3a94d2",
        "id": "YEwPfZt2s9LD"
      },
      "outputs": [
        {
          "output_type": "stream",
          "name": "stdout",
          "text": [
            "======================= manual compute ==============\n",
            "accuracy: 0.15104895104895105, precision: 0.09119022476995021, recall: 0.93, specificity: 0.9126679462571977 ,f1-score: 0.16609424371479597, mcc: 0.0025319063487784627, auc: 0.5184400887573962, prc: 0.09485302047584714\n",
            "0.15104895104895105\t0.09119022476995021\t0.93\t0.9126679462571977\t0.16609424371479597\t0.0025319063487784627\t0.5184400887573962\t0.09485302047584714\n"
          ]
        }
      ],
      "source": [
        "# Use for average score\n",
        "num_hit = 0.\n",
        "num_total = 0.\n",
        "num_pos = 0.\n",
        "num_true_pos = 0.\n",
        "num_false_pos = 0.\n",
        "num_true_neg = 0.\n",
        "num_false_neg = 0.\n",
        "\n",
        "# # Performance metrics\n",
        "for i in range(len(class_labels)):\n",
        "    num_total += 1\n",
        "    if np.argmax(class_labels[i]) == np.argmax(pred[i]):\n",
        "        num_hit += 1\n",
        "    if class_labels[i][0] > 0.:\n",
        "        num_pos += 1.\n",
        "        if pred[i][0] > pred[i][1]:\n",
        "            num_true_pos += 1              \n",
        "        else:                  \n",
        "            num_false_neg += 1\n",
        "    else:\n",
        "        if pred[i][0] > pred[i][1]:\n",
        "            num_false_pos += 1\n",
        "        else:\n",
        "            num_true_neg += 1\n",
        "\n",
        "accuracy = num_hit / num_total\n",
        "prec = num_true_pos / (num_true_pos + num_false_pos)\n",
        "recall = num_true_pos / num_pos\n",
        "spec = num_true_neg / (num_true_neg + num_false_neg)\n",
        "f1 = 2. * prec * recall / (prec + recall)\n",
        "\n",
        "try:\n",
        "  mcc = (num_true_pos * num_true_neg - num_false_pos * num_false_neg) / ((num_true_pos + num_true_neg) * (num_true_pos + num_false_neg) * (num_false_pos + num_true_neg) * (num_false_pos + num_false_neg)) ** 0.5\n",
        "except ZeroDivisionError:\n",
        "  mcc = 'nan'\n",
        "\n",
        "try:\n",
        "  auc = roc_auc_score(class_labels[:,0], pred[:,0])\n",
        "except ValueError:\n",
        "  auc = 'nan'\n",
        "prc = average_precision_score(class_labels[:,0], pred[:,0])\n",
        "\n",
        "print(\"======================= manual compute ==============\")\n",
        "print (f'accuracy: {accuracy}, precision: {prec}, recall: {recall}, specificity: {spec} ,f1-score: {f1}, mcc: {mcc}, auc: {auc}, prc: {prc}')\n",
        "\n",
        "print(str(accuracy) + \"\\t\" + str(prec) + \"\\t\" + str(recall) + \"\\t\" + str(spec) + \"\\t\" + str(f1) + '\\t' + str(mcc) + '\\t' + str(auc) + '\\t' + str(prc))\n"
      ]
    },
    {
      "cell_type": "markdown",
      "metadata": {
        "id": "CYX6VOwwtF0I"
      },
      "source": [
        "### Herpes\n"
      ]
    },
    {
      "cell_type": "markdown",
      "metadata": {
        "id": "w3RgJejktF0J"
      },
      "source": [
        "#### Read dataset"
      ]
    },
    {
      "cell_type": "code",
      "execution_count": null,
      "metadata": {
        "colab": {
          "base_uri": "https://localhost:8080/"
        },
        "outputId": "165c7504-e911-4af7-d1fc-d1038f1092a5",
        "id": "Y_j_3S1RtF0J"
      },
      "outputs": [
        {
          "output_type": "stream",
          "name": "stdout",
          "text": [
            "--2022-12-21 06:24:25--  https://raw.githubusercontent.com/anhvt00/MCAPS/master/data/Interspecies-host-pathogen/human-virus/Herpes/protein_pair_label.txt\n",
            "Resolving raw.githubusercontent.com (raw.githubusercontent.com)... 185.199.108.133, 185.199.109.133, 185.199.110.133, ...\n",
            "Connecting to raw.githubusercontent.com (raw.githubusercontent.com)|185.199.108.133|:443... connected.\n",
            "HTTP request sent, awaiting response... 200 OK\n",
            "Length: 1056464 (1.0M) [text/plain]\n",
            "Saving to: ‘protein_pair_label.txt’\n",
            "\n",
            "protein_pair_label. 100%[===================>]   1.01M  --.-KB/s    in 0.06s   \n",
            "\n",
            "2022-12-21 06:24:25 (17.3 MB/s) - ‘protein_pair_label.txt’ saved [1056464/1056464]\n",
            "\n",
            "--2022-12-21 06:24:26--  https://raw.githubusercontent.com/anhvt00/MCAPS/master/data/Interspecies-host-pathogen/human-virus/Herpes/pro_seq.txt\n",
            "Resolving raw.githubusercontent.com (raw.githubusercontent.com)... 185.199.108.133, 185.199.109.133, 185.199.110.133, ...\n",
            "Connecting to raw.githubusercontent.com (raw.githubusercontent.com)|185.199.108.133|:443... connected.\n",
            "HTTP request sent, awaiting response... 200 OK\n",
            "Length: 11055682 (11M) [text/plain]\n",
            "Saving to: ‘pro_seq.txt’\n",
            "\n",
            "pro_seq.txt         100%[===================>]  10.54M  --.-KB/s    in 0.1s    \n",
            "\n",
            "2022-12-21 06:24:27 (87.3 MB/s) - ‘pro_seq.txt’ saved [11055682/11055682]\n",
            "\n"
          ]
        },
        {
          "output_type": "stream",
          "name": "stderr",
          "text": [
            "65626it [00:00, 376733.96it/s]\n",
            "100%|██████████| 19845/19845 [00:06<00:00, 3102.93it/s]\n",
            "100%|██████████| 65626/65626 [00:00<00:00, 1749030.31it/s]\n",
            "100%|██████████| 65626/65626 [00:00<00:00, 2111420.97it/s]\n"
          ]
        }
      ],
      "source": [
        "!rm -rf pro_seq.txt protein_pair_label.txt\n",
        "id2seq_file = 'pro_seq.txt'\n",
        "id2index = {}\n",
        "seqs = []\n",
        "index = 0\n",
        "sid1_index = 0\n",
        "sid2_index = 1\n",
        "ds_file = 'protein_pair_label.txt'\n",
        "label_index = 2\n",
        "use_emb = 'ac5_aph.txt'\n",
        "\n",
        "if not os.path.isfile(ds_file) or not os.path.isfile(id2seq_file):\n",
        "  !wget https://raw.githubusercontent.com/anhvt00/MCAPS/master/data/Interspecies-host-pathogen/human-virus/Herpes/protein_pair_label.txt\n",
        "  !wget https://raw.githubusercontent.com/anhvt00/MCAPS/master/data/Interspecies-host-pathogen/human-virus/Herpes/pro_seq.txt\n",
        "\n",
        "\n",
        "# Create line variable as a list of protein sequences with index is the number of protein sequences\n",
        "# id2index is a dictionary of protein id and incremental index number \n",
        "for line in open(id2seq_file):\n",
        "    line = line.strip().split('\\t')\n",
        "    id2index[line[0]] = index\n",
        "    seqs.append(line[1])\n",
        "    index += 1\n",
        "\n",
        "seq_array = []\n",
        "id2_aid = {}\n",
        "sid = 0\n",
        "\n",
        "seq2t = s2t(use_emb)\n",
        "\n",
        "max_data = -1\n",
        "limit_data = max_data > 0\n",
        "raw_data = []\n",
        "skip_head = False\n",
        "x = None\n",
        "count = 0\n",
        "\n",
        "# Create sequence array as a list of protein strings\n",
        "for line in tqdm(open(ds_file)):\n",
        "    if skip_head:\n",
        "        skip_head = False\n",
        "        continue\n",
        "    line = line.rstrip('\\n').rstrip('\\r').split('\\t')\n",
        "    if id2index.get(line[sid1_index]) is None or id2index.get(line[sid2_index]) is None:\n",
        "        continue\n",
        "    if id2_aid.get(line[sid1_index]) is None:\n",
        "        id2_aid[line[sid1_index]] = sid\n",
        "        sid += 1\n",
        "        seq_array.append(seqs[id2index[line[sid1_index]]])\n",
        "    line[sid1_index] = id2_aid[line[sid1_index]]\n",
        "    if id2_aid.get(line[sid2_index]) is None:\n",
        "        id2_aid[line[sid2_index]] = sid\n",
        "        sid += 1\n",
        "        seq_array.append(seqs[id2index[line[sid2_index]]])\n",
        "    line[sid2_index] = id2_aid[line[sid2_index]]\n",
        "    raw_data.append(line)\n",
        "    if limit_data:\n",
        "        count += 1\n",
        "        if count >= max_data:\n",
        "            break\n",
        "\n",
        "len_m_seq = np.array([len(line.split()) for line in seq_array])\n",
        "avg_m_seq = int(np.average(len_m_seq)) + 1\n",
        "max_m_seq = max(len_m_seq)\n",
        "dim = seq2t.dim\n",
        "\n",
        "# seq_tensor is tensor representation of dataset having shape of (number_of_sequences, padding_length, embedding_dim_of_aa)\n",
        "# Random for distribution of class labels\n",
        "np.random.seed(42)\n",
        "np.random.shuffle(raw_data)\n",
        "seq_tensor = np.array([seq2t.embed_normalized(line, seq_size) for line in tqdm(seq_array)])\n",
        "\n",
        "# Extract index of 1st and 2nd sequences in pairs\n",
        "seq_index1 = np.array([line[sid1_index] for line in tqdm(raw_data)])\n",
        "seq_index2 = np.array([line[sid2_index] for line in tqdm(raw_data)])\n",
        "\n",
        "# Assign labels for pairs of sequences\n",
        "class_map = {'0':1,'1':0}\n",
        "class_labels = np.zeros((len(raw_data), 2))\n",
        "for i in range(len(raw_data)):\n",
        "    class_labels[i][class_map[raw_data[i][label_index]]] = 1\n"
      ]
    },
    {
      "cell_type": "markdown",
      "metadata": {
        "id": "p2XHFdKNtF0J"
      },
      "source": [
        "#### Create test dataset"
      ]
    },
    {
      "cell_type": "code",
      "execution_count": null,
      "metadata": {
        "colab": {
          "base_uri": "https://localhost:8080/"
        },
        "outputId": "440c2983-6edc-4143-8574-a1ea25fa993a",
        "id": "aOVZerZrtF0J"
      },
      "outputs": [
        {
          "output_type": "stream",
          "name": "stdout",
          "text": [
            "257/257 [==============================] - 35s 127ms/step\n"
          ]
        }
      ],
      "source": [
        "def generator_pair_general(seq_tensor, seq_index1, seq_index2, class_labels):\n",
        "  for index in range(len(seq_index1)):\n",
        "    yield {\"seq1\": seq_tensor[seq_index1[index]], \"seq2\": seq_tensor[seq_index2[index]]}, class_labels[index]\n",
        "pred_dataset = tf.data.Dataset.from_generator(generator_pair_general, args=[seq_tensor, seq_index1, seq_index2, class_labels], output_types=({\"seq1\": DTYPE, \"seq2\": DTYPE}, DTYPE), output_shapes = ({\"seq1\": (seq_size, dim), \"seq2\": (seq_size, dim)}, (2,)) )\n",
        "pred_dataset = pred_dataset.batch(BATCH_SIZE)\n",
        "pred_dataset = pred_dataset.prefetch(tf.data.AUTOTUNE)\n",
        "pred = merge_model.predict(pred_dataset)"
      ]
    },
    {
      "cell_type": "markdown",
      "source": [
        "#### Inference on test dataset"
      ],
      "metadata": {
        "id": "Bt91x01rtF0J"
      }
    },
    {
      "cell_type": "code",
      "execution_count": null,
      "metadata": {
        "colab": {
          "base_uri": "https://localhost:8080/"
        },
        "outputId": "687985ae-97d6-4f70-f920-3efacf803daa",
        "id": "H2urTcmdtF0K"
      },
      "outputs": [
        {
          "output_type": "stream",
          "name": "stdout",
          "text": [
            "======================= manual compute ==============\n",
            "accuracy: 0.1268247340992899, precision: 0.089312, recall: 0.9356352665102247, specificity: 0.8771593090211133 ,f1-score: 0.1630590366021091, mcc: -0.015898326589499207, auc: 0.48513132552786264, prc: 0.08835222263568408\n",
            "0.1268247340992899\t0.089312\t0.9356352665102247\t0.8771593090211133\t0.1630590366021091\t-0.015898326589499207\t0.48513132552786264\t0.08835222263568408\n"
          ]
        }
      ],
      "source": [
        "# Use for average score\n",
        "num_hit = 0.\n",
        "num_total = 0.\n",
        "num_pos = 0.\n",
        "num_true_pos = 0.\n",
        "num_false_pos = 0.\n",
        "num_true_neg = 0.\n",
        "num_false_neg = 0.\n",
        "\n",
        "# # Performance metrics\n",
        "for i in range(len(class_labels)):\n",
        "    num_total += 1\n",
        "    if np.argmax(class_labels[i]) == np.argmax(pred[i]):\n",
        "        num_hit += 1\n",
        "    if class_labels[i][0] > 0.:\n",
        "        num_pos += 1.\n",
        "        if pred[i][0] > pred[i][1]:\n",
        "            num_true_pos += 1              \n",
        "        else:                  \n",
        "            num_false_neg += 1\n",
        "    else:\n",
        "        if pred[i][0] > pred[i][1]:\n",
        "            num_false_pos += 1\n",
        "        else:\n",
        "            num_true_neg += 1\n",
        "\n",
        "accuracy = num_hit / num_total\n",
        "prec = num_true_pos / (num_true_pos + num_false_pos)\n",
        "recall = num_true_pos / num_pos\n",
        "spec = num_true_neg / (num_true_neg + num_false_neg)\n",
        "f1 = 2. * prec * recall / (prec + recall)\n",
        "\n",
        "try:\n",
        "  mcc = (num_true_pos * num_true_neg - num_false_pos * num_false_neg) / ((num_true_pos + num_true_neg) * (num_true_pos + num_false_neg) * (num_false_pos + num_true_neg) * (num_false_pos + num_false_neg)) ** 0.5\n",
        "except ZeroDivisionError:\n",
        "  mcc = 'nan'\n",
        "\n",
        "try:\n",
        "  auc = roc_auc_score(class_labels[:,0], pred[:,0])\n",
        "except ValueError:\n",
        "  auc = 'nan'\n",
        "prc = average_precision_score(class_labels[:,0], pred[:,0])\n",
        "\n",
        "print(\"======================= manual compute ==============\")\n",
        "print (f'accuracy: {accuracy}, precision: {prec}, recall: {recall}, specificity: {spec} ,f1-score: {f1}, mcc: {mcc}, auc: {auc}, prc: {prc}')\n",
        "\n",
        "print(str(accuracy) + \"\\t\" + str(prec) + \"\\t\" + str(recall) + \"\\t\" + str(spec) + \"\\t\" + str(f1) + '\\t' + str(mcc) + '\\t' + str(auc) + '\\t' + str(prc))\n"
      ]
    },
    {
      "cell_type": "markdown",
      "metadata": {
        "id": "y4-I17lfvFfi"
      },
      "source": [
        "### Influenza\n"
      ]
    },
    {
      "cell_type": "markdown",
      "metadata": {
        "id": "EqJE05LTvFfj"
      },
      "source": [
        "#### Read dataset"
      ]
    },
    {
      "cell_type": "code",
      "execution_count": null,
      "metadata": {
        "colab": {
          "base_uri": "https://localhost:8080/"
        },
        "outputId": "f3ddf670-fe43-4ee0-f1d3-dd2048d073dc",
        "id": "RIxzIpzSvFfj"
      },
      "outputs": [
        {
          "output_type": "stream",
          "name": "stdout",
          "text": [
            "--2022-12-21 06:25:14--  https://raw.githubusercontent.com/anhvt00/MCAPS/master/data/Interspecies-host-pathogen/human-virus/Influenza/protein_pair_label.txt\n",
            "Resolving raw.githubusercontent.com (raw.githubusercontent.com)... 185.199.108.133, 185.199.109.133, 185.199.111.133, ...\n",
            "Connecting to raw.githubusercontent.com (raw.githubusercontent.com)|185.199.108.133|:443... connected.\n",
            "HTTP request sent, awaiting response... 200 OK\n",
            "Length: 538680 (526K) [text/plain]\n",
            "Saving to: ‘protein_pair_label.txt’\n",
            "\n",
            "protein_pair_label. 100%[===================>] 526.05K  --.-KB/s    in 0.05s   \n",
            "\n",
            "2022-12-21 06:25:15 (10.1 MB/s) - ‘protein_pair_label.txt’ saved [538680/538680]\n",
            "\n",
            "--2022-12-21 06:25:16--  https://raw.githubusercontent.com/anhvt00/MCAPS/master/data/Interspecies-host-pathogen/human-virus/Influenza/pro_seq.txt\n",
            "Resolving raw.githubusercontent.com (raw.githubusercontent.com)... 185.199.110.133, 185.199.109.133, 185.199.111.133, ...\n",
            "Connecting to raw.githubusercontent.com (raw.githubusercontent.com)|185.199.110.133|:443... connected.\n",
            "HTTP request sent, awaiting response... 200 OK\n",
            "Length: 9114445 (8.7M) [text/plain]\n",
            "Saving to: ‘pro_seq.txt’\n",
            "\n",
            "pro_seq.txt         100%[===================>]   8.69M  --.-KB/s    in 0.1s    \n",
            "\n",
            "2022-12-21 06:25:17 (83.6 MB/s) - ‘pro_seq.txt’ saved [9114445/9114445]\n",
            "\n"
          ]
        },
        {
          "output_type": "stream",
          "name": "stderr",
          "text": [
            "33484it [00:00, 90185.37it/s]\n",
            "100%|██████████| 16377/16377 [00:05<00:00, 3150.83it/s]\n",
            "100%|██████████| 33484/33484 [00:00<00:00, 1010898.27it/s]\n",
            "100%|██████████| 33484/33484 [00:00<00:00, 2010451.14it/s]\n"
          ]
        }
      ],
      "source": [
        "!rm -rf pro_seq.txt protein_pair_label.txt\n",
        "id2seq_file = 'pro_seq.txt'\n",
        "id2index = {}\n",
        "seqs = []\n",
        "index = 0\n",
        "sid1_index = 0\n",
        "sid2_index = 1\n",
        "ds_file = 'protein_pair_label.txt'\n",
        "label_index = 2\n",
        "use_emb = 'ac5_aph.txt'\n",
        "\n",
        "if not os.path.isfile(ds_file) or not os.path.isfile(id2seq_file):\n",
        "  !wget https://raw.githubusercontent.com/anhvt00/MCAPS/master/data/Interspecies-host-pathogen/human-virus/Influenza/protein_pair_label.txt\n",
        "  !wget https://raw.githubusercontent.com/anhvt00/MCAPS/master/data/Interspecies-host-pathogen/human-virus/Influenza/pro_seq.txt\n",
        "\n",
        "\n",
        "# Create line variable as a list of protein sequences with index is the number of protein sequences\n",
        "# id2index is a dictionary of protein id and incremental index number \n",
        "for line in open(id2seq_file):\n",
        "    line = line.strip().split('\\t')\n",
        "    id2index[line[0]] = index\n",
        "    seqs.append(line[1])\n",
        "    index += 1\n",
        "\n",
        "seq_array = []\n",
        "id2_aid = {}\n",
        "sid = 0\n",
        "\n",
        "seq2t = s2t(use_emb)\n",
        "\n",
        "max_data = -1\n",
        "limit_data = max_data > 0\n",
        "raw_data = []\n",
        "skip_head = False\n",
        "x = None\n",
        "count = 0\n",
        "\n",
        "# Create sequence array as a list of protein strings\n",
        "for line in tqdm(open(ds_file)):\n",
        "    if skip_head:\n",
        "        skip_head = False\n",
        "        continue\n",
        "    line = line.rstrip('\\n').rstrip('\\r').split('\\t')\n",
        "    if id2index.get(line[sid1_index]) is None or id2index.get(line[sid2_index]) is None:\n",
        "        continue\n",
        "    if id2_aid.get(line[sid1_index]) is None:\n",
        "        id2_aid[line[sid1_index]] = sid\n",
        "        sid += 1\n",
        "        seq_array.append(seqs[id2index[line[sid1_index]]])\n",
        "    line[sid1_index] = id2_aid[line[sid1_index]]\n",
        "    if id2_aid.get(line[sid2_index]) is None:\n",
        "        id2_aid[line[sid2_index]] = sid\n",
        "        sid += 1\n",
        "        seq_array.append(seqs[id2index[line[sid2_index]]])\n",
        "    line[sid2_index] = id2_aid[line[sid2_index]]\n",
        "    raw_data.append(line)\n",
        "    if limit_data:\n",
        "        count += 1\n",
        "        if count >= max_data:\n",
        "            break\n",
        "\n",
        "len_m_seq = np.array([len(line.split()) for line in seq_array])\n",
        "avg_m_seq = int(np.average(len_m_seq)) + 1\n",
        "max_m_seq = max(len_m_seq)\n",
        "dim = seq2t.dim\n",
        "\n",
        "# seq_tensor is tensor representation of dataset having shape of (number_of_sequences, padding_length, embedding_dim_of_aa)\n",
        "# Random for distribution of class labels\n",
        "np.random.seed(42)\n",
        "np.random.shuffle(raw_data)\n",
        "seq_tensor = np.array([seq2t.embed_normalized(line, seq_size) for line in tqdm(seq_array)])\n",
        "\n",
        "# Extract index of 1st and 2nd sequences in pairs\n",
        "seq_index1 = np.array([line[sid1_index] for line in tqdm(raw_data)])\n",
        "seq_index2 = np.array([line[sid2_index] for line in tqdm(raw_data)])\n",
        "\n",
        "# Assign labels for pairs of sequences\n",
        "class_map = {'0':1,'1':0}\n",
        "class_labels = np.zeros((len(raw_data), 2))\n",
        "for i in range(len(raw_data)):\n",
        "    class_labels[i][class_map[raw_data[i][label_index]]] = 1\n"
      ]
    },
    {
      "cell_type": "markdown",
      "metadata": {
        "id": "EgLpbjP1vFfj"
      },
      "source": [
        "#### Create test dataset"
      ]
    },
    {
      "cell_type": "code",
      "execution_count": null,
      "metadata": {
        "colab": {
          "base_uri": "https://localhost:8080/"
        },
        "outputId": "c030e131-f227-44cb-8cdc-af8e1686e95b",
        "id": "A7_Oh0PQvFfj"
      },
      "outputs": [
        {
          "output_type": "stream",
          "name": "stdout",
          "text": [
            "131/131 [==============================] - 19s 130ms/step\n"
          ]
        }
      ],
      "source": [
        "def generator_pair_general(seq_tensor, seq_index1, seq_index2, class_labels):\n",
        "  for index in range(len(seq_index1)):\n",
        "    yield {\"seq1\": seq_tensor[seq_index1[index]], \"seq2\": seq_tensor[seq_index2[index]]}, class_labels[index]\n",
        "pred_dataset = tf.data.Dataset.from_generator(generator_pair_general, args=[seq_tensor, seq_index1, seq_index2, class_labels], output_types=({\"seq1\": DTYPE, \"seq2\": DTYPE}, DTYPE), output_shapes = ({\"seq1\": (seq_size, dim), \"seq2\": (seq_size, dim)}, (2,)) )\n",
        "pred_dataset = pred_dataset.batch(BATCH_SIZE)\n",
        "pred_dataset = pred_dataset.prefetch(tf.data.AUTOTUNE)\n",
        "pred = merge_model.predict(pred_dataset)"
      ]
    },
    {
      "cell_type": "markdown",
      "source": [
        "#### Inference on test dataset"
      ],
      "metadata": {
        "id": "k0O113RYvFfj"
      }
    },
    {
      "cell_type": "code",
      "execution_count": null,
      "metadata": {
        "colab": {
          "base_uri": "https://localhost:8080/"
        },
        "outputId": "c3765fb5-ca9e-4cfc-f0bf-99f5f3eff420",
        "id": "L3CnVP0gvFfj"
      },
      "outputs": [
        {
          "output_type": "stream",
          "name": "stdout",
          "text": [
            "======================= manual compute ==============\n",
            "accuracy: 0.1523414167960817, precision: 0.08917280067447064, recall: 0.9034165571616294, specificity: 0.8888468809073724 ,f1-score: 0.1623232889649677, mcc: -0.01547955545681099, auc: 0.4830823890862186, prc: 0.0878169480690402\n",
            "0.1523414167960817\t0.08917280067447064\t0.9034165571616294\t0.8888468809073724\t0.1623232889649677\t-0.01547955545681099\t0.4830823890862186\t0.0878169480690402\n"
          ]
        }
      ],
      "source": [
        "# Use for average score\n",
        "num_hit = 0.\n",
        "num_total = 0.\n",
        "num_pos = 0.\n",
        "num_true_pos = 0.\n",
        "num_false_pos = 0.\n",
        "num_true_neg = 0.\n",
        "num_false_neg = 0.\n",
        "\n",
        "# # Performance metrics\n",
        "for i in range(len(class_labels)):\n",
        "    num_total += 1\n",
        "    if np.argmax(class_labels[i]) == np.argmax(pred[i]):\n",
        "        num_hit += 1\n",
        "    if class_labels[i][0] > 0.:\n",
        "        num_pos += 1.\n",
        "        if pred[i][0] > pred[i][1]:\n",
        "            num_true_pos += 1              \n",
        "        else:                  \n",
        "            num_false_neg += 1\n",
        "    else:\n",
        "        if pred[i][0] > pred[i][1]:\n",
        "            num_false_pos += 1\n",
        "        else:\n",
        "            num_true_neg += 1\n",
        "\n",
        "accuracy = num_hit / num_total\n",
        "prec = num_true_pos / (num_true_pos + num_false_pos)\n",
        "recall = num_true_pos / num_pos\n",
        "spec = num_true_neg / (num_true_neg + num_false_neg)\n",
        "f1 = 2. * prec * recall / (prec + recall)\n",
        "\n",
        "try:\n",
        "  mcc = (num_true_pos * num_true_neg - num_false_pos * num_false_neg) / ((num_true_pos + num_true_neg) * (num_true_pos + num_false_neg) * (num_false_pos + num_true_neg) * (num_false_pos + num_false_neg)) ** 0.5\n",
        "except ZeroDivisionError:\n",
        "  mcc = 'nan'\n",
        "\n",
        "try:\n",
        "  auc = roc_auc_score(class_labels[:,0], pred[:,0])\n",
        "except ValueError:\n",
        "  auc = 'nan'\n",
        "prc = average_precision_score(class_labels[:,0], pred[:,0])\n",
        "\n",
        "print(\"======================= manual compute ==============\")\n",
        "print (f'accuracy: {accuracy}, precision: {prec}, recall: {recall}, specificity: {spec} ,f1-score: {f1}, mcc: {mcc}, auc: {auc}, prc: {prc}')\n",
        "\n",
        "print(str(accuracy) + \"\\t\" + str(prec) + \"\\t\" + str(recall) + \"\\t\" + str(spec) + \"\\t\" + str(f1) + '\\t' + str(mcc) + '\\t' + str(auc) + '\\t' + str(prc))\n"
      ]
    },
    {
      "cell_type": "markdown",
      "metadata": {
        "id": "uK8UGR4MvF1d"
      },
      "source": [
        "### Papilloma\n"
      ]
    },
    {
      "cell_type": "markdown",
      "metadata": {
        "id": "noWzIrSZvF1e"
      },
      "source": [
        "#### Read dataset"
      ]
    },
    {
      "cell_type": "code",
      "execution_count": null,
      "metadata": {
        "colab": {
          "base_uri": "https://localhost:8080/"
        },
        "outputId": "d01679e7-3b07-41b8-c526-404781e9af4c",
        "id": "ZbdGTt_6vF1e"
      },
      "outputs": [
        {
          "output_type": "stream",
          "name": "stdout",
          "text": [
            "--2022-12-21 06:37:50--  https://raw.githubusercontent.com/anhvt00/MCAPS/master/data/Interspecies-host-pathogen/human-virus/Papilloma/protein_pair_label.txt\n",
            "Resolving raw.githubusercontent.com (raw.githubusercontent.com)... 185.199.109.133, 185.199.111.133, 185.199.108.133, ...\n",
            "Connecting to raw.githubusercontent.com (raw.githubusercontent.com)|185.199.109.133|:443... connected.\n",
            "HTTP request sent, awaiting response... 200 OK\n",
            "Length: 909090 (888K) [text/plain]\n",
            "Saving to: ‘protein_pair_label.txt’\n",
            "\n",
            "\rprotein_pair_label.   0%[                    ]       0  --.-KB/s               \rprotein_pair_label. 100%[===================>] 887.78K  --.-KB/s    in 0.05s   \n",
            "\n",
            "2022-12-21 06:37:50 (15.9 MB/s) - ‘protein_pair_label.txt’ saved [909090/909090]\n",
            "\n",
            "--2022-12-21 06:37:50--  https://raw.githubusercontent.com/anhvt00/MCAPS/master/data/Interspecies-host-pathogen/human-virus/Papilloma/pro_seq.txt\n",
            "Resolving raw.githubusercontent.com (raw.githubusercontent.com)... 185.199.108.133, 185.199.109.133, 185.199.111.133, ...\n",
            "Connecting to raw.githubusercontent.com (raw.githubusercontent.com)|185.199.108.133|:443... connected.\n",
            "HTTP request sent, awaiting response... 200 OK\n",
            "Length: 10618063 (10M) [text/plain]\n",
            "Saving to: ‘pro_seq.txt’\n",
            "\n",
            "pro_seq.txt         100%[===================>]  10.13M  --.-KB/s    in 0.1s    \n",
            "\n",
            "2022-12-21 06:37:50 (89.2 MB/s) - ‘pro_seq.txt’ saved [10618063/10618063]\n",
            "\n"
          ]
        },
        {
          "output_type": "stream",
          "name": "stderr",
          "text": [
            "56089it [00:00, 141934.59it/s]\n",
            "100%|██████████| 19087/19087 [00:06<00:00, 3162.58it/s]\n",
            "100%|██████████| 56089/56089 [00:00<00:00, 1632236.99it/s]\n",
            "100%|██████████| 56089/56089 [00:00<00:00, 2007357.91it/s]\n"
          ]
        }
      ],
      "source": [
        "!rm -rf pro_seq.txt protein_pair_label.txt\n",
        "id2seq_file = 'pro_seq.txt'\n",
        "id2index = {}\n",
        "seqs = []\n",
        "index = 0\n",
        "sid1_index = 0\n",
        "sid2_index = 1\n",
        "ds_file = 'protein_pair_label.txt'\n",
        "label_index = 2\n",
        "use_emb = 'ac5_aph.txt'\n",
        "\n",
        "if not os.path.isfile(ds_file) or not os.path.isfile(id2seq_file):\n",
        "  !wget https://raw.githubusercontent.com/anhvt00/MCAPS/master/data/Interspecies-host-pathogen/human-virus/Papilloma/protein_pair_label.txt\n",
        "  !wget https://raw.githubusercontent.com/anhvt00/MCAPS/master/data/Interspecies-host-pathogen/human-virus/Papilloma/pro_seq.txt\n",
        "\n",
        "\n",
        "# Create line variable as a list of protein sequences with index is the number of protein sequences\n",
        "# id2index is a dictionary of protein id and incremental index number \n",
        "for line in open(id2seq_file):\n",
        "    line = line.strip().split('\\t')\n",
        "    id2index[line[0]] = index\n",
        "    seqs.append(line[1])\n",
        "    index += 1\n",
        "\n",
        "seq_array = []\n",
        "id2_aid = {}\n",
        "sid = 0\n",
        "\n",
        "seq2t = s2t(use_emb)\n",
        "\n",
        "max_data = -1\n",
        "limit_data = max_data > 0\n",
        "raw_data = []\n",
        "skip_head = False\n",
        "x = None\n",
        "count = 0\n",
        "\n",
        "# Create sequence array as a list of protein strings\n",
        "for line in tqdm(open(ds_file)):\n",
        "    if skip_head:\n",
        "        skip_head = False\n",
        "        continue\n",
        "    line = line.rstrip('\\n').rstrip('\\r').split('\\t')\n",
        "    if id2index.get(line[sid1_index]) is None or id2index.get(line[sid2_index]) is None:\n",
        "        continue\n",
        "    if id2_aid.get(line[sid1_index]) is None:\n",
        "        id2_aid[line[sid1_index]] = sid\n",
        "        sid += 1\n",
        "        seq_array.append(seqs[id2index[line[sid1_index]]])\n",
        "    line[sid1_index] = id2_aid[line[sid1_index]]\n",
        "    if id2_aid.get(line[sid2_index]) is None:\n",
        "        id2_aid[line[sid2_index]] = sid\n",
        "        sid += 1\n",
        "        seq_array.append(seqs[id2index[line[sid2_index]]])\n",
        "    line[sid2_index] = id2_aid[line[sid2_index]]\n",
        "    raw_data.append(line)\n",
        "    if limit_data:\n",
        "        count += 1\n",
        "        if count >= max_data:\n",
        "            break\n",
        "\n",
        "len_m_seq = np.array([len(line.split()) for line in seq_array])\n",
        "avg_m_seq = int(np.average(len_m_seq)) + 1\n",
        "max_m_seq = max(len_m_seq)\n",
        "dim = seq2t.dim\n",
        "\n",
        "# seq_tensor is tensor representation of dataset having shape of (number_of_sequences, padding_length, embedding_dim_of_aa)\n",
        "# Random for distribution of class labels\n",
        "np.random.seed(42)\n",
        "np.random.shuffle(raw_data)\n",
        "seq_tensor = np.array([seq2t.embed_normalized(line, seq_size) for line in tqdm(seq_array)])\n",
        "\n",
        "# Extract index of 1st and 2nd sequences in pairs\n",
        "seq_index1 = np.array([line[sid1_index] for line in tqdm(raw_data)])\n",
        "seq_index2 = np.array([line[sid2_index] for line in tqdm(raw_data)])\n",
        "\n",
        "# Assign labels for pairs of sequences\n",
        "class_map = {'0':1,'1':0}\n",
        "class_labels = np.zeros((len(raw_data), 2))\n",
        "for i in range(len(raw_data)):\n",
        "    class_labels[i][class_map[raw_data[i][label_index]]] = 1\n"
      ]
    },
    {
      "cell_type": "markdown",
      "metadata": {
        "id": "l1bQKuHMvF1f"
      },
      "source": [
        "#### Create test dataset"
      ]
    },
    {
      "cell_type": "code",
      "execution_count": null,
      "metadata": {
        "colab": {
          "base_uri": "https://localhost:8080/"
        },
        "outputId": "3656990e-2174-4d03-d160-b744dc6fb8c7",
        "id": "15_K_TNuvF1f"
      },
      "outputs": [
        {
          "output_type": "stream",
          "name": "stdout",
          "text": [
            "220/220 [==============================] - 30s 128ms/step\n"
          ]
        }
      ],
      "source": [
        "def generator_pair_general(seq_tensor, seq_index1, seq_index2, class_labels):\n",
        "  for index in range(len(seq_index1)):\n",
        "    yield {\"seq1\": seq_tensor[seq_index1[index]], \"seq2\": seq_tensor[seq_index2[index]]}, class_labels[index]\n",
        "pred_dataset = tf.data.Dataset.from_generator(generator_pair_general, args=[seq_tensor, seq_index1, seq_index2, class_labels], output_types=({\"seq1\": DTYPE, \"seq2\": DTYPE}, DTYPE), output_shapes = ({\"seq1\": (seq_size, dim), \"seq2\": (seq_size, dim)}, (2,)) )\n",
        "pred_dataset = pred_dataset.batch(BATCH_SIZE)\n",
        "pred_dataset = pred_dataset.prefetch(tf.data.AUTOTUNE)\n",
        "pred = merge_model.predict(pred_dataset)"
      ]
    },
    {
      "cell_type": "markdown",
      "source": [
        "#### Inference on test dataset"
      ],
      "metadata": {
        "id": "2ZfnBJUlvF1f"
      }
    },
    {
      "cell_type": "code",
      "execution_count": null,
      "metadata": {
        "colab": {
          "base_uri": "https://localhost:8080/"
        },
        "outputId": "9bb08ace-cafb-42ee-d507-3edf3d4013ea",
        "id": "SM55dYl3vF1f"
      },
      "outputs": [
        {
          "output_type": "stream",
          "name": "stdout",
          "text": [
            "======================= manual compute ==============\n",
            "accuracy: 0.12972240546274671, precision: 0.0905855467725621, recall: 0.948421259070406, specificity: 0.9027007029226785 ,f1-score: 0.16537573736855607, mcc: -0.003188155574991697, auc: 0.4748923482145114, prc: 0.08633401423475827\n",
            "0.12972240546274671\t0.0905855467725621\t0.948421259070406\t0.9027007029226785\t0.16537573736855607\t-0.003188155574991697\t0.4748923482145114\t0.08633401423475827\n"
          ]
        }
      ],
      "source": [
        "# Use for average score\n",
        "num_hit = 0.\n",
        "num_total = 0.\n",
        "num_pos = 0.\n",
        "num_true_pos = 0.\n",
        "num_false_pos = 0.\n",
        "num_true_neg = 0.\n",
        "num_false_neg = 0.\n",
        "\n",
        "# # Performance metrics\n",
        "for i in range(len(class_labels)):\n",
        "    num_total += 1\n",
        "    if np.argmax(class_labels[i]) == np.argmax(pred[i]):\n",
        "        num_hit += 1\n",
        "    if class_labels[i][0] > 0.:\n",
        "        num_pos += 1.\n",
        "        if pred[i][0] > pred[i][1]:\n",
        "            num_true_pos += 1              \n",
        "        else:                  \n",
        "            num_false_neg += 1\n",
        "    else:\n",
        "        if pred[i][0] > pred[i][1]:\n",
        "            num_false_pos += 1\n",
        "        else:\n",
        "            num_true_neg += 1\n",
        "\n",
        "accuracy = num_hit / num_total\n",
        "prec = num_true_pos / (num_true_pos + num_false_pos)\n",
        "recall = num_true_pos / num_pos\n",
        "spec = num_true_neg / (num_true_neg + num_false_neg)\n",
        "f1 = 2. * prec * recall / (prec + recall)\n",
        "\n",
        "try:\n",
        "  mcc = (num_true_pos * num_true_neg - num_false_pos * num_false_neg) / ((num_true_pos + num_true_neg) * (num_true_pos + num_false_neg) * (num_false_pos + num_true_neg) * (num_false_pos + num_false_neg)) ** 0.5\n",
        "except ZeroDivisionError:\n",
        "  mcc = 'nan'\n",
        "\n",
        "try:\n",
        "  auc = roc_auc_score(class_labels[:,0], pred[:,0])\n",
        "except ValueError:\n",
        "  auc = 'nan'\n",
        "prc = average_precision_score(class_labels[:,0], pred[:,0])\n",
        "\n",
        "print(\"======================= manual compute ==============\")\n",
        "print (f'accuracy: {accuracy}, precision: {prec}, recall: {recall}, specificity: {spec} ,f1-score: {f1}, mcc: {mcc}, auc: {auc}, prc: {prc}')\n",
        "\n",
        "print(str(accuracy) + \"\\t\" + str(prec) + \"\\t\" + str(recall) + \"\\t\" + str(spec) + \"\\t\" + str(f1) + '\\t' + str(mcc) + '\\t' + str(auc) + '\\t' + str(prc))\n"
      ]
    },
    {
      "cell_type": "markdown",
      "metadata": {
        "id": "AjJWsrZGwIPX"
      },
      "source": [
        "### SARS2\n"
      ]
    },
    {
      "cell_type": "markdown",
      "metadata": {
        "id": "yYbHVAabwIPY"
      },
      "source": [
        "#### Read dataset"
      ]
    },
    {
      "cell_type": "code",
      "execution_count": null,
      "metadata": {
        "colab": {
          "base_uri": "https://localhost:8080/"
        },
        "outputId": "a86a0347-089a-44ab-fbaa-5326d1ba4d12",
        "id": "QArbo_iXwIPY"
      },
      "outputs": [
        {
          "output_type": "stream",
          "name": "stdout",
          "text": [
            "--2022-12-21 06:38:32--  https://raw.githubusercontent.com/anhvt00/MCAPS/master/data/Interspecies-host-pathogen/human-virus/SARS2/protein_pair_label.txt\n",
            "Resolving raw.githubusercontent.com (raw.githubusercontent.com)... 185.199.108.133, 185.199.109.133, 185.199.110.133, ...\n",
            "Connecting to raw.githubusercontent.com (raw.githubusercontent.com)|185.199.108.133|:443... connected.\n",
            "HTTP request sent, awaiting response... 200 OK\n",
            "Length: 157705 (154K) [text/plain]\n",
            "Saving to: ‘protein_pair_label.txt’\n",
            "\n",
            "\rprotein_pair_label.   0%[                    ]       0  --.-KB/s               \rprotein_pair_label. 100%[===================>] 154.01K  --.-KB/s    in 0.03s   \n",
            "\n",
            "2022-12-21 06:38:32 (5.37 MB/s) - ‘protein_pair_label.txt’ saved [157705/157705]\n",
            "\n",
            "--2022-12-21 06:38:33--  https://raw.githubusercontent.com/anhvt00/MCAPS/master/data/Interspecies-host-pathogen/human-virus/SARS2/pro_seq.txt\n",
            "Resolving raw.githubusercontent.com (raw.githubusercontent.com)... 185.199.109.133, 185.199.108.133, 185.199.111.133, ...\n",
            "Connecting to raw.githubusercontent.com (raw.githubusercontent.com)|185.199.109.133|:443... connected.\n",
            "HTTP request sent, awaiting response... 200 OK\n",
            "Length: 3054179 (2.9M) [text/plain]\n",
            "Saving to: ‘pro_seq.txt’\n",
            "\n",
            "pro_seq.txt         100%[===================>]   2.91M  --.-KB/s    in 0.08s   \n",
            "\n",
            "2022-12-21 06:38:33 (37.1 MB/s) - ‘pro_seq.txt’ saved [3054179/3054179]\n",
            "\n"
          ]
        },
        {
          "output_type": "stream",
          "name": "stderr",
          "text": [
            "6248it [00:00, 381023.17it/s]\n",
            "100%|██████████| 5360/5360 [00:01<00:00, 3019.20it/s]\n",
            "100%|██████████| 6248/6248 [00:00<00:00, 1776799.20it/s]\n",
            "100%|██████████| 6248/6248 [00:00<00:00, 2079842.17it/s]\n"
          ]
        }
      ],
      "source": [
        "!rm -rf pro_seq.txt protein_pair_label.txt\n",
        "id2seq_file = 'pro_seq.txt'\n",
        "id2index = {}\n",
        "seqs = []\n",
        "index = 0\n",
        "sid1_index = 0\n",
        "sid2_index = 1\n",
        "ds_file = 'protein_pair_label.txt'\n",
        "label_index = 2\n",
        "use_emb = 'ac5_aph.txt'\n",
        "\n",
        "if not os.path.isfile(ds_file) or not os.path.isfile(id2seq_file):\n",
        "  !wget https://raw.githubusercontent.com/anhvt00/MCAPS/master/data/Interspecies-host-pathogen/human-virus/SARS2/protein_pair_label.txt\n",
        "  !wget https://raw.githubusercontent.com/anhvt00/MCAPS/master/data/Interspecies-host-pathogen/human-virus/SARS2/pro_seq.txt\n",
        "\n",
        "\n",
        "# Create line variable as a list of protein sequences with index is the number of protein sequences\n",
        "# id2index is a dictionary of protein id and incremental index number \n",
        "for line in open(id2seq_file):\n",
        "    line = line.strip().split('\\t')\n",
        "    id2index[line[0]] = index\n",
        "    seqs.append(line[1])\n",
        "    index += 1\n",
        "\n",
        "seq_array = []\n",
        "id2_aid = {}\n",
        "sid = 0\n",
        "\n",
        "seq2t = s2t(use_emb)\n",
        "\n",
        "max_data = -1\n",
        "limit_data = max_data > 0\n",
        "raw_data = []\n",
        "skip_head = False\n",
        "x = None\n",
        "count = 0\n",
        "\n",
        "# Create sequence array as a list of protein strings\n",
        "for line in tqdm(open(ds_file)):\n",
        "    if skip_head:\n",
        "        skip_head = False\n",
        "        continue\n",
        "    line = line.rstrip('\\n').rstrip('\\r').split('\\t')\n",
        "    if id2index.get(line[sid1_index]) is None or id2index.get(line[sid2_index]) is None:\n",
        "        continue\n",
        "    if id2_aid.get(line[sid1_index]) is None:\n",
        "        id2_aid[line[sid1_index]] = sid\n",
        "        sid += 1\n",
        "        seq_array.append(seqs[id2index[line[sid1_index]]])\n",
        "    line[sid1_index] = id2_aid[line[sid1_index]]\n",
        "    if id2_aid.get(line[sid2_index]) is None:\n",
        "        id2_aid[line[sid2_index]] = sid\n",
        "        sid += 1\n",
        "        seq_array.append(seqs[id2index[line[sid2_index]]])\n",
        "    line[sid2_index] = id2_aid[line[sid2_index]]\n",
        "    raw_data.append(line)\n",
        "    if limit_data:\n",
        "        count += 1\n",
        "        if count >= max_data:\n",
        "            break\n",
        "\n",
        "len_m_seq = np.array([len(line.split()) for line in seq_array])\n",
        "avg_m_seq = int(np.average(len_m_seq)) + 1\n",
        "max_m_seq = max(len_m_seq)\n",
        "dim = seq2t.dim\n",
        "\n",
        "# seq_tensor is tensor representation of dataset having shape of (number_of_sequences, padding_length, embedding_dim_of_aa)\n",
        "# Random for distribution of class labels\n",
        "np.random.seed(42)\n",
        "np.random.shuffle(raw_data)\n",
        "seq_tensor = np.array([seq2t.embed_normalized(line, seq_size) for line in tqdm(seq_array)])\n",
        "\n",
        "# Extract index of 1st and 2nd sequences in pairs\n",
        "seq_index1 = np.array([line[sid1_index] for line in tqdm(raw_data)])\n",
        "seq_index2 = np.array([line[sid2_index] for line in tqdm(raw_data)])\n",
        "\n",
        "# Assign labels for pairs of sequences\n",
        "class_map = {'0':1,'1':0}\n",
        "class_labels = np.zeros((len(raw_data), 2))\n",
        "for i in range(len(raw_data)):\n",
        "    class_labels[i][class_map[raw_data[i][label_index]]] = 1\n"
      ]
    },
    {
      "cell_type": "markdown",
      "metadata": {
        "id": "z7mHnyoPwIPZ"
      },
      "source": [
        "#### Create test dataset"
      ]
    },
    {
      "cell_type": "code",
      "execution_count": null,
      "metadata": {
        "colab": {
          "base_uri": "https://localhost:8080/"
        },
        "outputId": "7773a1df-caac-485e-82cd-573633c2b500",
        "id": "YSq17cmlwIPa"
      },
      "outputs": [
        {
          "output_type": "stream",
          "name": "stdout",
          "text": [
            "25/25 [==============================] - 4s 132ms/step\n"
          ]
        }
      ],
      "source": [
        "def generator_pair_general(seq_tensor, seq_index1, seq_index2, class_labels):\n",
        "  for index in range(len(seq_index1)):\n",
        "    yield {\"seq1\": seq_tensor[seq_index1[index]], \"seq2\": seq_tensor[seq_index2[index]]}, class_labels[index]\n",
        "pred_dataset = tf.data.Dataset.from_generator(generator_pair_general, args=[seq_tensor, seq_index1, seq_index2, class_labels], output_types=({\"seq1\": DTYPE, \"seq2\": DTYPE}, DTYPE), output_shapes = ({\"seq1\": (seq_size, dim), \"seq2\": (seq_size, dim)}, (2,)) )\n",
        "pred_dataset = pred_dataset.batch(BATCH_SIZE)\n",
        "pred_dataset = pred_dataset.prefetch(tf.data.AUTOTUNE)\n",
        "pred = merge_model.predict(pred_dataset)"
      ]
    },
    {
      "cell_type": "markdown",
      "source": [
        "#### Inference on test dataset"
      ],
      "metadata": {
        "id": "ImINMfv7wIPa"
      }
    },
    {
      "cell_type": "code",
      "execution_count": null,
      "metadata": {
        "colab": {
          "base_uri": "https://localhost:8080/"
        },
        "outputId": "70d8509d-9b6f-4512-9288-608e044d8125",
        "id": "Z6K4i9STwIPa"
      },
      "outputs": [
        {
          "output_type": "stream",
          "name": "stdout",
          "text": [
            "======================= manual compute ==============\n",
            "accuracy: 0.11187580025608194, precision: 0.08990614193973324, recall: 0.9612676056338029, specificity: 0.8742857142857143 ,f1-score: 0.16443306730914017, mcc: -0.010757933426960565, auc: 0.5076107171196192, prc: 0.0925317244848024\n",
            "0.11187580025608194\t0.08990614193973324\t0.9612676056338029\t0.8742857142857143\t0.16443306730914017\t-0.010757933426960565\t0.5076107171196192\t0.0925317244848024\n"
          ]
        }
      ],
      "source": [
        "# Use for average score\n",
        "num_hit = 0.\n",
        "num_total = 0.\n",
        "num_pos = 0.\n",
        "num_true_pos = 0.\n",
        "num_false_pos = 0.\n",
        "num_true_neg = 0.\n",
        "num_false_neg = 0.\n",
        "\n",
        "# # Performance metrics\n",
        "for i in range(len(class_labels)):\n",
        "    num_total += 1\n",
        "    if np.argmax(class_labels[i]) == np.argmax(pred[i]):\n",
        "        num_hit += 1\n",
        "    if class_labels[i][0] > 0.:\n",
        "        num_pos += 1.\n",
        "        if pred[i][0] > pred[i][1]:\n",
        "            num_true_pos += 1              \n",
        "        else:                  \n",
        "            num_false_neg += 1\n",
        "    else:\n",
        "        if pred[i][0] > pred[i][1]:\n",
        "            num_false_pos += 1\n",
        "        else:\n",
        "            num_true_neg += 1\n",
        "\n",
        "accuracy = num_hit / num_total\n",
        "prec = num_true_pos / (num_true_pos + num_false_pos)\n",
        "recall = num_true_pos / num_pos\n",
        "spec = num_true_neg / (num_true_neg + num_false_neg)\n",
        "f1 = 2. * prec * recall / (prec + recall)\n",
        "\n",
        "try:\n",
        "  mcc = (num_true_pos * num_true_neg - num_false_pos * num_false_neg) / ((num_true_pos + num_true_neg) * (num_true_pos + num_false_neg) * (num_false_pos + num_true_neg) * (num_false_pos + num_false_neg)) ** 0.5\n",
        "except ZeroDivisionError:\n",
        "  mcc = 'nan'\n",
        "\n",
        "try:\n",
        "  auc = roc_auc_score(class_labels[:,0], pred[:,0])\n",
        "except ValueError:\n",
        "  auc = 'nan'\n",
        "prc = average_precision_score(class_labels[:,0], pred[:,0])\n",
        "\n",
        "print(\"======================= manual compute ==============\")\n",
        "print (f'accuracy: {accuracy}, precision: {prec}, recall: {recall}, specificity: {spec} ,f1-score: {f1}, mcc: {mcc}, auc: {auc}, prc: {prc}')\n",
        "\n",
        "print(str(accuracy) + \"\\t\" + str(prec) + \"\\t\" + str(recall) + \"\\t\" + str(spec) + \"\\t\" + str(f1) + '\\t' + str(mcc) + '\\t' + str(auc) + '\\t' + str(prc))\n"
      ]
    },
    {
      "cell_type": "markdown",
      "metadata": {
        "id": "ouIX0ONNwIht"
      },
      "source": [
        "### ZIKA\n"
      ]
    },
    {
      "cell_type": "markdown",
      "metadata": {
        "id": "bgZq-DKPwIhu"
      },
      "source": [
        "#### Read dataset"
      ]
    },
    {
      "cell_type": "code",
      "execution_count": null,
      "metadata": {
        "colab": {
          "base_uri": "https://localhost:8080/"
        },
        "outputId": "30642305-8184-4b61-c12b-9081828589f8",
        "id": "dQYn19TLwIhu"
      },
      "outputs": [
        {
          "output_type": "stream",
          "name": "stdout",
          "text": [
            "--2022-12-21 06:38:41--  https://raw.githubusercontent.com/anhvt00/MCAPS/master/data/Interspecies-host-pathogen/human-virus/ZIKV/protein_pair_label.txt\n",
            "Resolving raw.githubusercontent.com (raw.githubusercontent.com)... 185.199.108.133, 185.199.109.133, 185.199.110.133, ...\n",
            "Connecting to raw.githubusercontent.com (raw.githubusercontent.com)|185.199.108.133|:443... connected.\n",
            "HTTP request sent, awaiting response... 200 OK\n",
            "Length: 257373 (251K) [text/plain]\n",
            "Saving to: ‘protein_pair_label.txt’\n",
            "\n",
            "\rprotein_pair_label.   0%[                    ]       0  --.-KB/s               \rprotein_pair_label. 100%[===================>] 251.34K  --.-KB/s    in 0.04s   \n",
            "\n",
            "2022-12-21 06:38:41 (6.25 MB/s) - ‘protein_pair_label.txt’ saved [257373/257373]\n",
            "\n",
            "--2022-12-21 06:38:42--  https://raw.githubusercontent.com/anhvt00/MCAPS/master/data/Interspecies-host-pathogen/human-virus/ZIKV/pro_seq.txt\n",
            "Resolving raw.githubusercontent.com (raw.githubusercontent.com)... 185.199.109.133, 185.199.111.133, 185.199.108.133, ...\n",
            "Connecting to raw.githubusercontent.com (raw.githubusercontent.com)|185.199.109.133|:443... connected.\n",
            "HTTP request sent, awaiting response... 200 OK\n",
            "Length: 3654310 (3.5M) [text/plain]\n",
            "Saving to: ‘pro_seq.txt’\n",
            "\n",
            "pro_seq.txt         100%[===================>]   3.48M  --.-KB/s    in 0.08s   \n",
            "\n",
            "2022-12-21 06:38:42 (43.1 MB/s) - ‘pro_seq.txt’ saved [3654310/3654310]\n",
            "\n"
          ]
        },
        {
          "output_type": "stream",
          "name": "stderr",
          "text": [
            "7799it [00:00, 306065.64it/s]\n",
            "100%|██████████| 6480/6480 [00:02<00:00, 3107.51it/s]\n",
            "100%|██████████| 7799/7799 [00:00<00:00, 1647928.31it/s]\n",
            "100%|██████████| 7799/7799 [00:00<00:00, 2245118.52it/s]\n"
          ]
        }
      ],
      "source": [
        "!rm -rf pro_seq.txt protein_pair_label.txt\n",
        "id2seq_file = 'pro_seq.txt'\n",
        "id2index = {}\n",
        "seqs = []\n",
        "index = 0\n",
        "sid1_index = 0\n",
        "sid2_index = 1\n",
        "ds_file = 'protein_pair_label.txt'\n",
        "label_index = 2\n",
        "use_emb = 'ac5_aph.txt'\n",
        "\n",
        "if not os.path.isfile(ds_file) or not os.path.isfile(id2seq_file):\n",
        "  !wget https://raw.githubusercontent.com/anhvt00/MCAPS/master/data/Interspecies-host-pathogen/human-virus/ZIKV/protein_pair_label.txt\n",
        "  !wget https://raw.githubusercontent.com/anhvt00/MCAPS/master/data/Interspecies-host-pathogen/human-virus/ZIKV/pro_seq.txt\n",
        "\n",
        "\n",
        "# Create line variable as a list of protein sequences with index is the number of protein sequences\n",
        "# id2index is a dictionary of protein id and incremental index number \n",
        "for line in open(id2seq_file):\n",
        "    line = line.strip().split('\\t')\n",
        "    id2index[line[0]] = index\n",
        "    seqs.append(line[1])\n",
        "    index += 1\n",
        "\n",
        "seq_array = []\n",
        "id2_aid = {}\n",
        "sid = 0\n",
        "\n",
        "seq2t = s2t(use_emb)\n",
        "\n",
        "max_data = -1\n",
        "limit_data = max_data > 0\n",
        "raw_data = []\n",
        "skip_head = False\n",
        "x = None\n",
        "count = 0\n",
        "\n",
        "# Create sequence array as a list of protein strings\n",
        "for line in tqdm(open(ds_file)):\n",
        "    if skip_head:\n",
        "        skip_head = False\n",
        "        continue\n",
        "    line = line.rstrip('\\n').rstrip('\\r').split('\\t')\n",
        "    if id2index.get(line[sid1_index]) is None or id2index.get(line[sid2_index]) is None:\n",
        "        continue\n",
        "    if id2_aid.get(line[sid1_index]) is None:\n",
        "        id2_aid[line[sid1_index]] = sid\n",
        "        sid += 1\n",
        "        seq_array.append(seqs[id2index[line[sid1_index]]])\n",
        "    line[sid1_index] = id2_aid[line[sid1_index]]\n",
        "    if id2_aid.get(line[sid2_index]) is None:\n",
        "        id2_aid[line[sid2_index]] = sid\n",
        "        sid += 1\n",
        "        seq_array.append(seqs[id2index[line[sid2_index]]])\n",
        "    line[sid2_index] = id2_aid[line[sid2_index]]\n",
        "    raw_data.append(line)\n",
        "    if limit_data:\n",
        "        count += 1\n",
        "        if count >= max_data:\n",
        "            break\n",
        "\n",
        "len_m_seq = np.array([len(line.split()) for line in seq_array])\n",
        "avg_m_seq = int(np.average(len_m_seq)) + 1\n",
        "max_m_seq = max(len_m_seq)\n",
        "dim = seq2t.dim\n",
        "\n",
        "# seq_tensor is tensor representation of dataset having shape of (number_of_sequences, padding_length, embedding_dim_of_aa)\n",
        "# Random for distribution of class labels\n",
        "np.random.seed(42)\n",
        "np.random.shuffle(raw_data)\n",
        "seq_tensor = np.array([seq2t.embed_normalized(line, seq_size) for line in tqdm(seq_array)])\n",
        "\n",
        "# Extract index of 1st and 2nd sequences in pairs\n",
        "seq_index1 = np.array([line[sid1_index] for line in tqdm(raw_data)])\n",
        "seq_index2 = np.array([line[sid2_index] for line in tqdm(raw_data)])\n",
        "\n",
        "# Assign labels for pairs of sequences\n",
        "class_map = {'0':1,'1':0}\n",
        "class_labels = np.zeros((len(raw_data), 2))\n",
        "for i in range(len(raw_data)):\n",
        "    class_labels[i][class_map[raw_data[i][label_index]]] = 1\n"
      ]
    },
    {
      "cell_type": "markdown",
      "metadata": {
        "id": "y2cPSrjjwIhu"
      },
      "source": [
        "#### Create test dataset"
      ]
    },
    {
      "cell_type": "code",
      "execution_count": null,
      "metadata": {
        "colab": {
          "base_uri": "https://localhost:8080/"
        },
        "outputId": "102cb1af-9ea2-41e3-cf10-ab9ca861c918",
        "id": "h-y_2PrBwIhv"
      },
      "outputs": [
        {
          "output_type": "stream",
          "name": "stdout",
          "text": [
            "31/31 [==============================] - 5s 133ms/step\n"
          ]
        }
      ],
      "source": [
        "def generator_pair_general(seq_tensor, seq_index1, seq_index2, class_labels):\n",
        "  for index in range(len(seq_index1)):\n",
        "    yield {\"seq1\": seq_tensor[seq_index1[index]], \"seq2\": seq_tensor[seq_index2[index]]}, class_labels[index]\n",
        "pred_dataset = tf.data.Dataset.from_generator(generator_pair_general, args=[seq_tensor, seq_index1, seq_index2, class_labels], output_types=({\"seq1\": DTYPE, \"seq2\": DTYPE}, DTYPE), output_shapes = ({\"seq1\": (seq_size, dim), \"seq2\": (seq_size, dim)}, (2,)) )\n",
        "pred_dataset = pred_dataset.batch(BATCH_SIZE)\n",
        "pred_dataset = pred_dataset.prefetch(tf.data.AUTOTUNE)\n",
        "pred = merge_model.predict(pred_dataset)"
      ]
    },
    {
      "cell_type": "markdown",
      "source": [
        "#### Inference on test dataset"
      ],
      "metadata": {
        "id": "PHr5DlZ6wIhv"
      }
    },
    {
      "cell_type": "code",
      "execution_count": null,
      "metadata": {
        "colab": {
          "base_uri": "https://localhost:8080/"
        },
        "outputId": "b49a4506-fb58-4a2f-c5ad-13b68de5b48d",
        "id": "xVX0ugAFwIhv"
      },
      "outputs": [
        {
          "output_type": "stream",
          "name": "stdout",
          "text": [
            "======================= manual compute ==============\n",
            "accuracy: 0.1200153865880241, precision: 0.09006128430588863, recall: 0.9534555712270804, specificity: 0.8873720136518771 ,f1-score: 0.16457699330493, mcc: -0.008733797458949467, auc: 0.48941227140074917, prc: 0.08889833591983827\n",
            "0.1200153865880241\t0.09006128430588863\t0.9534555712270804\t0.8873720136518771\t0.16457699330493\t-0.008733797458949467\t0.48941227140074917\t0.08889833591983827\n"
          ]
        }
      ],
      "source": [
        "# Use for average score\n",
        "num_hit = 0.\n",
        "num_total = 0.\n",
        "num_pos = 0.\n",
        "num_true_pos = 0.\n",
        "num_false_pos = 0.\n",
        "num_true_neg = 0.\n",
        "num_false_neg = 0.\n",
        "\n",
        "# # Performance metrics\n",
        "for i in range(len(class_labels)):\n",
        "    num_total += 1\n",
        "    if np.argmax(class_labels[i]) == np.argmax(pred[i]):\n",
        "        num_hit += 1\n",
        "    if class_labels[i][0] > 0.:\n",
        "        num_pos += 1.\n",
        "        if pred[i][0] > pred[i][1]:\n",
        "            num_true_pos += 1              \n",
        "        else:                  \n",
        "            num_false_neg += 1\n",
        "    else:\n",
        "        if pred[i][0] > pred[i][1]:\n",
        "            num_false_pos += 1\n",
        "        else:\n",
        "            num_true_neg += 1\n",
        "\n",
        "accuracy = num_hit / num_total\n",
        "prec = num_true_pos / (num_true_pos + num_false_pos)\n",
        "recall = num_true_pos / num_pos\n",
        "spec = num_true_neg / (num_true_neg + num_false_neg)\n",
        "f1 = 2. * prec * recall / (prec + recall)\n",
        "\n",
        "try:\n",
        "  mcc = (num_true_pos * num_true_neg - num_false_pos * num_false_neg) / ((num_true_pos + num_true_neg) * (num_true_pos + num_false_neg) * (num_false_pos + num_true_neg) * (num_false_pos + num_false_neg)) ** 0.5\n",
        "except ZeroDivisionError:\n",
        "  mcc = 'nan'\n",
        "\n",
        "try:\n",
        "  auc = roc_auc_score(class_labels[:,0], pred[:,0])\n",
        "except ValueError:\n",
        "  auc = 'nan'\n",
        "prc = average_precision_score(class_labels[:,0], pred[:,0])\n",
        "\n",
        "print(\"======================= manual compute ==============\")\n",
        "print (f'accuracy: {accuracy}, precision: {prec}, recall: {recall}, specificity: {spec} ,f1-score: {f1}, mcc: {mcc}, auc: {auc}, prc: {prc}')\n",
        "\n",
        "print(str(accuracy) + \"\\t\" + str(prec) + \"\\t\" + str(recall) + \"\\t\" + str(spec) + \"\\t\" + str(f1) + '\\t' + str(mcc) + '\\t' + str(auc) + '\\t' + str(prc))\n"
      ]
    }
  ],
  "metadata": {
    "accelerator": "GPU",
    "colab": {
      "provenance": [],
      "machine_shape": "hm",
      "collapsed_sections": [
        "UtszNy1uyM1G",
        "ugPnBOFnwCNX",
        "1TyvqDqUwCNY",
        "FV67BcYZ6wc_"
      ],
      "toc_visible": true
    },
    "kernelspec": {
      "display_name": "Python 3",
      "name": "python3"
    },
    "language_info": {
      "name": "python"
    }
  },
  "nbformat": 4,
  "nbformat_minor": 0
}