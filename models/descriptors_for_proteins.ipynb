{
  "nbformat": 4,
  "nbformat_minor": 0,
  "metadata": {
    "colab": {
      "name": "descriptors-for-proteins.ipynb",
      "provenance": [],
      "collapsed_sections": []
    },
    "kernelspec": {
      "name": "python3",
      "display_name": "Python 3"
    },
    "language_info": {
      "name": "python"
    }
  },
  "cells": [
    {
      "cell_type": "markdown",
      "source": [
        "### Import libraries"
      ],
      "metadata": {
        "id": "7HH-e5IC_hGa"
      }
    },
    {
      "cell_type": "code",
      "source": [
        "import numpy as np"
      ],
      "metadata": {
        "id": "S-FZrex4_i2z"
      },
      "execution_count": 4,
      "outputs": []
    },
    {
      "cell_type": "markdown",
      "source": [
        "### Sample seq"
      ],
      "metadata": {
        "id": "-DoWrUQG82w2"
      }
    },
    {
      "cell_type": "code",
      "source": [
        "seq = \"VCCPPVCVVCPPVCVPVPPCCV\"\n",
        "truth_ct = \"0112201001220102022110\""
      ],
      "metadata": {
        "id": "44Ulg_0s846i"
      },
      "execution_count": 2,
      "outputs": []
    },
    {
      "cell_type": "markdown",
      "source": [
        "### Conjoint Triad"
      ],
      "metadata": {
        "id": "kiTiIFTn8Uyz"
      }
    },
    {
      "cell_type": "code",
      "source": [
        "# # https://sci-hub.se/https://doi.org/10.3390/ijms18112373\n",
        "# # After that, the conjoint triad method is introduced to extract the sequence information, which includes the properties of one amino acid and its vicinal amino acids and regards any \n",
        "# # three continuous amino acids as a unit. Firstly, they replaced each amino acid in the protein sequence by the index depending on its grouping. For instance, protein sequence\n",
        "# # “VCCPPVCVVCPPVCVPVPPCCV” is replaced by 0112201001220102022110. Then, binary space (V, F) stands for a protein sequence. Here, V is the vector sp… acids grouped into seven classes, the size V \n",
        "# # should be 7 × 7 × 7; therefore, i = 0, 1, · · · , 342. The detailed definition and description is shown in Figure 4. Clearly, each protein has a corresponding F vector. Nevertheless, the value\n",
        "# # of fi relates to the length of amino acid sequence. A longer amino acid sequence generally have a larger value of fi, which complicates the comparison between two heterogeneous proteins. \n",
        "# # As such they employed the normalization to solve this problem as follows: di = (fi - min fi) / max fi for i = 1 to 343, where the value of di is normalized in the range [0, 1]. fi is the\n",
        "# # frequency of conjoint triad unit vi appearing in the protein sequence. Finally, they connected the vector spaces of two proteins to present the interaction features. Thus, a 686-dimensional \n",
        "# # vector (343 for each protein) is generated for each pair of proteins.\n",
        "\n",
        "# # original paper: https://www.pnas.org/content/104/11/4337 (shen et al., 2007)\n",
        "# ct_encoding = {\n",
        "#     \"A\": 0,\n",
        "#     \"G\": 0,\n",
        "#     \"V\": 0,\n",
        "#     \"C\": 1,\n",
        "#     \"F\": 2,\n",
        "#     \"I\": 2,\n",
        "#     \"L\": 2,\n",
        "#     \"P\": 2,\n",
        "#     \"M\": 3,\n",
        "#     \"S\": 3,\n",
        "#     \"T\": 3,\n",
        "#     \"Y\": 3,\n",
        "#     \"H\": 4,\n",
        "#     \"N\": 4,\n",
        "#     \"Q\": 4,\n",
        "#     \"W\": 4,\n",
        "#     \"K\": 5,\n",
        "#     \"R\": 5,\n",
        "#     \"D\": 6,\n",
        "#     \"E\": 6,\n",
        "# }\n",
        "\n",
        "# f = open('encode_ct.txt', 'w')\n",
        "# for aa, value in ct_encoding.items():\n",
        "#   f.write(str(aa)+'\\t'+str(value)+'\\n')\n",
        "\n",
        "# f.close()"
      ],
      "metadata": {
        "id": "doTa8fDt_B3C"
      },
      "execution_count": 45,
      "outputs": []
    },
    {
      "cell_type": "code",
      "source": [
        "\"\"\"Implementation of CT coding method\n",
        "\"\"\"\n",
        "\n",
        "__all__ = ['ct_code_of']\n",
        "\n",
        "# AAC: Classification of amino acids.\n",
        "AAC = {\n",
        "    '1': ['A', 'G', 'V'],\n",
        "    '2': ['I', 'L', 'F', 'P'],\n",
        "    '3': ['Y', 'M', 'T', 'S'],\n",
        "    '4': ['H', 'N', 'Q', 'W'],\n",
        "    '5': ['R', 'K'],\n",
        "    '6': ['D', 'E'],\n",
        "    '7': ['C']\n",
        "}\n",
        "\n",
        "# AAC_R: Reverse of AAC.\n",
        "AAC_R = {}\n",
        "for C, AAS in AAC.items():\n",
        "    for AA in AAS:\n",
        "        AAC_R[AA] = C\n",
        "\n",
        "def classification_of(AA):\n",
        "    \"\"\"Get classification of amino acids.\"\"\"\n",
        "    return AAC_R[AA]\n",
        "\n",
        "def classification_sequence_of(PS):\n",
        "    \"\"\"Make classification sequence from protein sequence.\"\"\"\n",
        "    CS = ''\n",
        "    for I, CH in enumerate(PS):\n",
        "        CS = CS + classification_of(CH)\n",
        "    return CS\n",
        "\n",
        "def ct_code_of(PS):\n",
        "    \"\"\"Get CT Code of protein sequence.\"\"\"\n",
        "    CT_Code = [0]*343\n",
        "    CS = classification_sequence_of(PS)\n",
        "    for I in range(len(CS)-2):\n",
        "        SubCS = CS[I:I+3]\n",
        "        CT_Code_Index = int(SubCS[0]) + (int(SubCS[1])-1)*7 + (int(SubCS[2])-1)*7*7\n",
        "        CT_Code[CT_Code_Index-1] = CT_Code[CT_Code_Index-1] + 1\n",
        "    SUM = sum(CT_Code)\n",
        "    CT_Code = [N*1.0/SUM for N in CT_Code]\n",
        "    # Normalizing CT_Code\n",
        "    # MIN_CODE = min(CT_Code)\n",
        "    # MAX_CODE = max(CT_Code)\n",
        "    # CT_Code = [(N-MIN_CODE)*1.0/(MAX_CODE-MIN_CODE) for N in CT_Code]\n",
        "    return CT_Code\n",
        "\n",
        "if __name__==\"__main__\":\n",
        "    for I, Frequency in enumerate(ct_code_of('MREIVHIQAG')):\n",
        "        if Frequency>0 :\n",
        "            print(I+1, Frequency)"
      ],
      "metadata": {
        "colab": {
          "base_uri": "https://localhost:8080/"
        },
        "id": "w1QbOrTYesLt",
        "outputId": "11f9697d-864c-45f8-f214-8c49dc3720d3"
      },
      "execution_count": 53,
      "outputs": [
        {
          "output_type": "stream",
          "name": "stdout",
          "text": [
            "4 0.125\n",
            "13 0.125\n",
            "23 0.125\n",
            "71 0.125\n",
            "89 0.125\n",
            "149 0.125\n",
            "158 0.125\n",
            "276 0.125\n"
          ]
        }
      ]
    },
    {
      "cell_type": "code",
      "source": [
        "# 343-dimensional conjoint triad vector \n",
        "ct_code_of('MREIVHIQAG')"
      ],
      "metadata": {
        "id": "gCFza7fKfJAC"
      },
      "execution_count": null,
      "outputs": []
    },
    {
      "cell_type": "markdown",
      "source": [
        "### Local Descriptor"
      ],
      "metadata": {
        "id": "KEzG9WEi8g88"
      }
    },
    {
      "cell_type": "code",
      "source": [
        "\"\"\"Implementation of LD coding method\n",
        "\"\"\"\n",
        "\n",
        "__all__ = ['ld_code_of']\n",
        "\n",
        "# AAC: Classification of amino acids.\n",
        "AAC = {\n",
        "    '1': ['A', 'G', 'V'],\n",
        "    '2': ['I', 'L', 'F', 'P'],\n",
        "    '3': ['Y', 'M', 'T', 'S'],\n",
        "    '4': ['H', 'N', 'Q', 'W'],\n",
        "    '5': ['R', 'K'],\n",
        "    '6': ['D', 'E'],\n",
        "    '7': ['C']\n",
        "}\n",
        "\n",
        "# AAC_R: Reverse of AAC.\n",
        "AAC_R = {}\n",
        "for C, AAS in AAC.items():\n",
        "    for AA in AAS:\n",
        "        AAC_R[AA] = C\n",
        "\n",
        "def classification_of(AA):\n",
        "    \"\"\"Get classification of amino acids.\"\"\"\n",
        "    return AAC_R[AA]\n",
        "\n",
        "def classification_sequence_of(PS):\n",
        "    \"\"\"Make classification sequence from protein sequence.\"\"\"\n",
        "    CS = ''\n",
        "    for I, CH in enumerate(PS):\n",
        "        CS = CS + classification_of(CH)\n",
        "    return CS\n",
        "\n",
        "def ld_info_of(CS):\n",
        "    L = len(CS)\n",
        "    C = {}\n",
        "    T = {}\n",
        "    for I, CH in enumerate(CS):\n",
        "        if CH not in C:\n",
        "            C[CH] = []\n",
        "        C[CH].append(I+1)\n",
        "        if I > 0:\n",
        "            PCH = CS[I-1]\n",
        "            if PCH != CH:\n",
        "                if int(PCH)<int(CH):\n",
        "                    TIndex = PCH + CH\n",
        "                else:\n",
        "                    TIndex = CH + PCH\n",
        "                if TIndex not in T:\n",
        "                    T[TIndex] = 0\n",
        "                T[TIndex] = T[TIndex]+1\n",
        "    return L, C, T\n",
        "\n",
        "def ld_code_of_0(CS):\n",
        "    RC = [0]*7\n",
        "    RT = [0]*21\n",
        "    RD = [0]*35\n",
        "    L, C, T = ld_info_of(CS)\n",
        "    for Class, Indexs in C.items():\n",
        "        Len = len(Indexs)\n",
        "        RC[int(Class)-1]=Len*1.0/L\n",
        "        Residues = [1, int(Len*0.25), int(Len*0.5), int(Len*0.75), Len]\n",
        "        # Residues = list(map(lambda x:x*1.0/L, Residues))\n",
        "        Residues = list(map(lambda x:Indexs[x-1]*1.0/L, Residues))\n",
        "        RD[(int(Class)-1)*5:int(Class)*5] = Residues\n",
        "    for Trans, Frequency in T.items():\n",
        "        PI, I = int(Trans[0])-1, int(Trans[1])-1\n",
        "        Index = int((21-(6-PI)*(6-PI+1)/2)+(I-PI-1))\n",
        "        RT[Index] = Frequency*1.0/(L-1)\n",
        "    # return RC, RT, RD\n",
        "    return RC+RT+RD\n",
        "\n",
        "def ld_code_of(PS):\n",
        "    \"\"\"Get LD Code of protein sequence.\"\"\"\n",
        "    CS = classification_sequence_of(PS)\n",
        "    L = len(CS)\n",
        "    A = ld_code_of_0(CS[          0:int(L*0.25)])\n",
        "    B = ld_code_of_0(CS[int(L*0.25):int(L*0.50)])\n",
        "    C = ld_code_of_0(CS[int(L*0.50):int(L*0.75)])\n",
        "    D = ld_code_of_0(CS[int(L*0.75):L          ])\n",
        "    E = ld_code_of_0(CS[          0:int(L*0.50)])\n",
        "    F = ld_code_of_0(CS[int(L*0.50):L          ])\n",
        "    G = ld_code_of_0(CS[int(L*0.25):int(L*0.75)])\n",
        "    H = ld_code_of_0(CS[          0:int(L*0.75)])\n",
        "    I = ld_code_of_0(CS[int(L*0.25):L          ])\n",
        "    J = ld_code_of_0(CS[int(L*0.125):int(L*0.875)])\n",
        "    return A+B+C+D+E+F+G+H+I+J\n",
        "\n",
        "if __name__==\"__main__\":\n",
        "    PS = 'VCCPPVCVVCPPVCVPVPPCCV'\n",
        "    print('PS=', PS)\n",
        "    CS = classification_sequence_of(PS)\n",
        "    print('CS=', CS)\n",
        "    LD_INFO = ld_info_of(CS)\n",
        "    print('LD_INFO=', LD_INFO)\n",
        "    LD_CODE = ld_code_of_0(CS)\n",
        "    print('LD_CODE=', LD_CODE)\n",
        "    LD_CODE = ld_code_of(PS)\n",
        "    print('LD_CODE=', LD_CODE)"
      ],
      "metadata": {
        "colab": {
          "base_uri": "https://localhost:8080/"
        },
        "id": "39B9qBKQLWxk",
        "outputId": "07e50e95-bcd4-4cef-d490-ddb5cd91b11c"
      },
      "execution_count": 50,
      "outputs": [
        {
          "output_type": "stream",
          "name": "stdout",
          "text": [
            "PS= VCCPPVCVVCPPVCVPVPPCCV\n",
            "CS= 1772217117221712122771\n",
            "LD_INFO= (22, {'1': [1, 6, 8, 9, 13, 15, 17, 22], '7': [2, 3, 7, 10, 14, 20, 21], '2': [4, 5, 11, 12, 16, 18, 19]}, {'17': 7, '27': 3, '12': 5})\n",
            "LD_CODE= [0.36363636363636365, 0.3181818181818182, 0, 0, 0, 0, 0.3181818181818182, 0.23809523809523808, 0, 0, 0, 0, 0.3333333333333333, 0, 0, 0, 0, 0.14285714285714285, 0, 0, 0, 0, 0, 0, 0, 0, 0, 0, 0.045454545454545456, 0.2727272727272727, 0.4090909090909091, 0.6818181818181818, 1.0, 0.18181818181818182, 0.18181818181818182, 0.5, 0.7272727272727273, 0.8636363636363636, 0, 0, 0, 0, 0, 0, 0, 0, 0, 0, 0, 0, 0, 0, 0, 0, 0, 0, 0, 0, 0.09090909090909091, 0.09090909090909091, 0.3181818181818182, 0.6363636363636364, 0.9545454545454546]\n",
            "LD_CODE= [0.2, 0.4, 0, 0, 0, 0, 0.4, 0, 0, 0, 0, 0, 0.25, 0, 0, 0, 0, 0.25, 0, 0, 0, 0, 0, 0, 0, 0, 0, 0, 0.2, 0.2, 0.2, 0.2, 0.2, 0.8, 1.0, 0.8, 0.8, 1.0, 0, 0, 0, 0, 0, 0, 0, 0, 0, 0, 0, 0, 0, 0, 0, 0, 0, 0, 0, 0, 0.4, 0.6, 0.4, 0.4, 0.6, 0.5, 0.16666666666666666, 0, 0, 0, 0, 0.3333333333333333, 0, 0, 0, 0, 0, 0.6, 0, 0, 0, 0, 0.2, 0, 0, 0, 0, 0, 0, 0, 0, 0, 0, 0.16666666666666666, 0.6666666666666666, 0.16666666666666666, 0.5, 0.6666666666666666, 1.0, 1.0, 1.0, 1.0, 1.0, 0, 0, 0, 0, 0, 0, 0, 0, 0, 0, 0, 0, 0, 0, 0, 0, 0, 0, 0, 0, 0.3333333333333333, 0.8333333333333334, 0.3333333333333333, 0.3333333333333333, 0.8333333333333334, 0.4, 0.4, 0, 0, 0, 0, 0.2, 0.5, 0, 0, 0, 0, 0.5, 0, 0, 0, 0, 0, 0, 0, 0, 0, 0, 0, 0, 0, 0, 0, 0.4, 0.8, 0.4, 0.4, 0.8, 0.2, 1.0, 0.2, 0.2, 1.0, 0, 0, 0, 0, 0, 0, 0, 0, 0, 0, 0, 0, 0, 0, 0, 0, 0, 0, 0, 0, 0.6, 0.6, 0.6, 0.6, 0.6, 0.3333333333333333, 0.3333333333333333, 0, 0, 0, 0, 0.3333333333333333, 0.2, 0, 0, 0, 0, 0.2, 0, 0, 0, 0, 0.2, 0, 0, 0, 0, 0, 0, 0, 0, 0, 0, 0.16666666666666666, 1.0, 0.16666666666666666, 0.16666666666666666, 1.0, 0.3333333333333333, 0.5, 0.3333333333333333, 0.3333333333333333, 0.5, 0, 0, 0, 0, 0, 0, 0, 0, 0, 0, 0, 0, 0, 0, 0, 0, 0, 0, 0, 0, 0.6666666666666666, 0.8333333333333334, 0.6666666666666666, 0.6666666666666666, 0.8333333333333334, 0.36363636363636365, 0.2727272727272727, 0, 0, 0, 0, 0.36363636363636365, 0.1, 0, 0, 0, 0, 0.4, 0, 0, 0, 0, 0.2, 0, 0, 0, 0, 0, 0, 0, 0, 0, 0, 0.09090909090909091, 0.09090909090909091, 0.5454545454545454, 0.7272727272727273, 0.8181818181818182, 0.36363636363636365, 1.0, 0.36363636363636365, 0.45454545454545453, 1.0, 0, 0, 0, 0, 0, 0, 0, 0, 0, 0, 0, 0, 0, 0, 0, 0, 0, 0, 0, 0, 0.18181818181818182, 0.18181818181818182, 0.2727272727272727, 0.6363636363636364, 0.9090909090909091, 0.36363636363636365, 0.36363636363636365, 0, 0, 0, 0, 0.2727272727272727, 0.4, 0, 0, 0, 0, 0.3, 0, 0, 0, 0, 0.1, 0, 0, 0, 0, 0, 0, 0, 0, 0, 0, 0.18181818181818182, 0.18181818181818182, 0.36363636363636365, 0.5454545454545454, 1.0, 0.09090909090909091, 0.09090909090909091, 0.45454545454545453, 0.6363636363636364, 0.7272727272727273, 0, 0, 0, 0, 0, 0, 0, 0, 0, 0, 0, 0, 0, 0, 0, 0, 0, 0, 0, 0, 0.2727272727272727, 0.9090909090909091, 0.2727272727272727, 0.8181818181818182, 0.9090909090909091, 0.45454545454545453, 0.2727272727272727, 0, 0, 0, 0, 0.2727272727272727, 0.2, 0, 0, 0, 0, 0.5, 0, 0, 0, 0, 0.1, 0, 0, 0, 0, 0, 0, 0, 0, 0, 0, 0.09090909090909091, 0.09090909090909091, 0.2727272727272727, 0.36363636363636365, 0.9090909090909091, 0.5454545454545454, 1.0, 0.5454545454545454, 0.6363636363636364, 1.0, 0, 0, 0, 0, 0, 0, 0, 0, 0, 0, 0, 0, 0, 0, 0, 0, 0, 0, 0, 0, 0.18181818181818182, 0.8181818181818182, 0.18181818181818182, 0.45454545454545453, 0.8181818181818182, 0.375, 0.3125, 0, 0, 0, 0, 0.3125, 0.2, 0, 0, 0, 0, 0.4, 0, 0, 0, 0, 0.13333333333333333, 0, 0, 0, 0, 0, 0, 0, 0, 0, 0, 0.0625, 0.0625, 0.5, 0.5625, 0.9375, 0.25, 0.25, 0.3125, 0.6875, 1.0, 0, 0, 0, 0, 0, 0, 0, 0, 0, 0, 0, 0, 0, 0, 0, 0, 0, 0, 0, 0, 0.125, 0.125, 0.1875, 0.4375, 0.875, 0.4117647058823529, 0.29411764705882354, 0, 0, 0, 0, 0.29411764705882354, 0.25, 0, 0, 0, 0, 0.375, 0, 0, 0, 0, 0.125, 0, 0, 0, 0, 0, 0, 0, 0, 0, 0, 0.058823529411764705, 0.058823529411764705, 0.23529411764705882, 0.5882352941176471, 1.0, 0.35294117647058826, 0.35294117647058826, 0.4117647058823529, 0.6470588235294118, 0.8235294117647058, 0, 0, 0, 0, 0, 0, 0, 0, 0, 0, 0, 0, 0, 0, 0, 0, 0, 0, 0, 0, 0.11764705882352941, 0.11764705882352941, 0.29411764705882354, 0.5294117647058824, 0.9411764705882353, 0.35294117647058826, 0.4117647058823529, 0, 0, 0, 0, 0.23529411764705882, 0.3125, 0, 0, 0, 0, 0.3125, 0, 0, 0, 0, 0.125, 0, 0, 0, 0, 0, 0, 0, 0, 0, 0, 0.23529411764705882, 0.23529411764705882, 0.4117647058823529, 0.6470588235294118, 0.8823529411764706, 0.11764705882352941, 0.11764705882352941, 0.5294117647058824, 0.8235294117647058, 1.0, 0, 0, 0, 0, 0, 0, 0, 0, 0, 0, 0, 0, 0, 0, 0, 0, 0, 0, 0, 0, 0.058823529411764705, 0.058823529411764705, 0.29411764705882354, 0.47058823529411764, 0.7058823529411765]\n"
          ]
        }
      ]
    },
    {
      "cell_type": "code",
      "source": [
        "# 630-dimensional local descriptor vector\n",
        "ld_code_of('VCCPPVCVVCPPVCVPVPPCCV')"
      ],
      "metadata": {
        "id": "ImrE95uFfSDe"
      },
      "execution_count": null,
      "outputs": []
    },
    {
      "cell_type": "markdown",
      "source": [
        "### Auto Covariance"
      ],
      "metadata": {
        "id": "Ihzqb1mB8j6B"
      }
    },
    {
      "cell_type": "code",
      "source": [
        "# alphabet = [\"A\", \"C\", \"D\", \"E\", \"F\", \"G\", \"H\", \"I\", \"K\", \"L\", \"M\", \"N\", \"P\", \"Q\", \"R\", \"S\", \"T\", \"V\", \"W\", \"Y\"]\n",
        "# chem_props = np.array([0.62, -0.5,0.007187,8.1,0.046,1.181,27.5,0.29,-1,-0.03661,5.5,0.128,1.461,44.6,-0.9,3,-0.02382,13,0.105,1.587,40,-0.74,3,0.006802,12.3,0.151,1.862,62,1.19,-2.5,0.037552,5.2,0.29,2.228,115.5,0.48,0,0.179052,9,0,0.881,0,-0.4,-0.5,-0.01069,10.4,0.23,2.025,79,1.38,-1.8,0.021631,5.2,0.186,1.81,93.5,-1.5,3,0.017708,11.3,0.219,2.258,100,1.06,-1.8,0.051672,4.9,0.186,1.931,93.5,0.64,-1.3,0.002683,5.7,0.221,2.034,94.1,-0.78,2,0.005392,11.6,0.134,1.655,58.7,0.12,0,0.239531,8,0.131,1.468,41.9,-0.85,0.2,0.049211,10.5,0.18,1.932,80.7,-2.53,3,0.043587,10.5,0.291,2.56,105,-0.18,0.3,0.004627,9.2,0.062,1.298,29.3,-0.05,-0.4,0.003352,8.6,0.108,1.525,51.3,1.08,-1.5,0.057004,5.9,0.14,1.645,71.5,0.81,-3.4,0.037977,5.4,0.409,2.663,145.5,0.26,-2.3,117.3,6.2,0.298,2.368,0.023599])\n",
        "# chem_props = chem_props.reshape(len(alphabet),7)\n",
        "\n",
        "# # a = np.asarray([ [1,2,3], [4,5,6], [7,8,9] ])\n",
        "# # for i in range(7):\n",
        "# import pandas as pd \n",
        "# df = pd.DataFrame(chem_props)\n",
        "# df = df.rename(index={0: \"A\", 1: \"C\", 2: \"D\", 3: \"E\", 4: \"F\", 5: \"G\", 6: \"H\", 7: \"I\", 8: \"K\", 9: \"L\", 10: \"M\", 11: \"N\", 12: \"P\", 13:\"Q\", 14:\"R\", 15: \"S\", 16:\"T\", 17: \"V\", 18: \"W\", 19: \"Y\"})\n",
        "# df.to_csv(\"encode_ac.txt\", sep='\\t', header=None)\n",
        "# # df"
      ],
      "metadata": {
        "id": "4Ri4QqyxGwL0"
      },
      "execution_count": 49,
      "outputs": []
    },
    {
      "cell_type": "code",
      "source": [
        "'''Implementation of AC coding method\n",
        "'''\n",
        "\n",
        "__all__ = ['ac_code_of']\n",
        "\n",
        "# PCPNS: Physicochemical property names\n",
        "PCPNS = ['H1', 'H2', 'NCI', 'P1', 'P2', 'SASA', 'V']\n",
        "\n",
        "# AAPCPVS: Physicochemical property values of amino acid\n",
        "AAPCPVS = {\n",
        "    'A': { 'H1': 0.62, 'H2':-0.5, 'NCI': 0.007187, 'P1': 8.1, 'P2':0.046, 'SASA':1.181, 'V': 27.5 },\n",
        "    'C': { 'H1': 0.29, 'H2':-1.0, 'NCI':-0.036610, 'P1': 5.5, 'P2':0.128, 'SASA':1.461, 'V': 44.6 },\n",
        "    'D': { 'H1':-0.90, 'H2': 3.0, 'NCI':-0.023820, 'P1':13.0, 'P2':0.105, 'SASA':1.587, 'V': 40.0 },\n",
        "    'E': { 'H1': 0.74, 'H2': 3.0, 'NCI': 0.006802, 'P1':12.3, 'P2':0.151, 'SASA':1.862, 'V': 62.0 },\n",
        "    'F': { 'H1': 1.19, 'H2':-2.5, 'NCI': 0.037552, 'P1': 5.2, 'P2':0.290, 'SASA':2.228, 'V':115.5 },\n",
        "    'G': { 'H1': 0.48, 'H2': 0.0, 'NCI': 0.179052, 'P1': 9.0, 'P2':0.000, 'SASA':0.881, 'V':  0.0 },\n",
        "    'H': { 'H1':-0.40, 'H2':-0.5, 'NCI':-0.010690, 'P1':10.4, 'P2':0.230, 'SASA':2.025, 'V': 79.0 },\n",
        "    'I': { 'H1': 1.38, 'H2':-1.8, 'NCI': 0.021631, 'P1': 5.2, 'P2':0.186, 'SASA':1.810, 'V': 93.5 },\n",
        "    'K': { 'H1':-1.50, 'H2': 3.0, 'NCI': 0.017708, 'P1':11.3, 'P2':0.219, 'SASA':2.258, 'V':100.0 },\n",
        "    'L': { 'H1': 1.06, 'H2':-1.8, 'NCI': 0.051672, 'P1': 4.9, 'P2':0.186, 'SASA':1.931, 'V': 93.5 },\n",
        "    'M': { 'H1': 0.64, 'H2':-1.3, 'NCI': 0.002683, 'P1': 5.7, 'P2':0.221, 'SASA':2.034, 'V': 94.1 },\n",
        "    'N': { 'H1':-0.78, 'H2': 2.0, 'NCI': 0.005392, 'P1':11.6, 'P2':0.134, 'SASA':1.655, 'V': 58.7 },\n",
        "    'P': { 'H1': 0.12, 'H2': 0.0, 'NCI': 0.239531, 'P1': 8.0, 'P2':0.131, 'SASA':1.468, 'V': 41.9 },\n",
        "    'Q': { 'H1':-0.85, 'H2': 0.2, 'NCI': 0.049211, 'P1':10.5, 'P2':0.180, 'SASA':1.932, 'V': 80.7 },\n",
        "    'R': { 'H1':-2.53, 'H2': 3.0, 'NCI': 0.043587, 'P1':10.5, 'P2':0.291, 'SASA':2.560, 'V':105.0 },\n",
        "    'S': { 'H1':-0.18, 'H2': 0.3, 'NCI': 0.004627, 'P1': 9.2, 'P2':0.062, 'SASA':1.298, 'V': 29.3 },\n",
        "    'T': { 'H1':-0.05, 'H2':-0.4, 'NCI': 0.003352, 'P1': 8.6, 'P2':0.108, 'SASA':1.525, 'V': 51.3 },\n",
        "    'V': { 'H1': 1.08, 'H2':-1.5, 'NCI': 0.057004, 'P1': 5.9, 'P2':0.140, 'SASA':1.645, 'V': 71.5 },\n",
        "    'W': { 'H1': 0.81, 'H2':-3.4, 'NCI': 0.037977, 'P1': 5.4, 'P2':0.409, 'SASA':2.663, 'V':145.5 },\n",
        "    'Y': { 'H1': 0.26, 'H2':-2.3, 'NCI': 117.3000, 'P1': 6.2, 'P2':0.298, 'SASA':2.368, 'V':  0.023599 },\n",
        "}\n",
        "\n",
        "import math\n",
        "\n",
        "def avg_sd(NUMBERS):\n",
        "    AVG = sum(NUMBERS)/len(NUMBERS)\n",
        "    TEM = [pow(NUMBER-AVG, 2) for NUMBER in NUMBERS]\n",
        "    DEV = sum(TEM)/len(TEM)\n",
        "    SD = math.sqrt(DEV)\n",
        "    return (AVG, SD)\n",
        "\n",
        "# PCPVS: Physicochemical property values\n",
        "PCPVS = {'H1':[], 'H2':[], 'NCI':[], 'P1':[], 'P2':[], 'SASA':[], 'V':[]}\n",
        "for AA, PCPS in AAPCPVS.items():\n",
        "    for PCPN in PCPNS:\n",
        "        PCPVS[PCPN].append(PCPS[PCPN])\n",
        "\n",
        "# PCPASDS: Physicochemical property avg and sds\n",
        "PCPASDS = {}\n",
        "for PCP, VS in PCPVS.items():\n",
        "    PCPASDS[PCP] = avg_sd(VS)\n",
        "\n",
        "# NORMALIZED_AAPCPVS\n",
        "NORMALIZED_AAPCPVS = {}\n",
        "for AA, PCPS in AAPCPVS.items():\n",
        "    NORMALIZED_PCPVS = {}\n",
        "    for PCP, V in PCPS.items():\n",
        "        NORMALIZED_PCPVS[PCP] = (V-PCPASDS[PCP][0])/PCPASDS[PCP][1]\n",
        "    NORMALIZED_AAPCPVS[AA] = NORMALIZED_PCPVS\n",
        "\n",
        "def pcp_value_of(AA, PCP):\n",
        "    \"\"\"Get physicochemical properties value of amino acid.\"\"\"\n",
        "    return NORMALIZED_AAPCPVS[AA][PCP];\n",
        "\n",
        "def pcp_sequence_of(PS, PCP):\n",
        "    \"\"\"Make physicochemical properties sequence of protein sequence.\"\"\"\n",
        "    PCPS = []\n",
        "    for I, CH in enumerate(PS):\n",
        "        PCPS.append(pcp_value_of(CH, PCP))\n",
        "    # Centralization\n",
        "    AVG = sum(PCPS)/len(PCPS)\n",
        "    for I, PCP in enumerate(PCPS):\n",
        "        PCPS[I] = PCP - AVG\n",
        "    return PCPS\n",
        "\n",
        "def ac_values_of(PS, PCP, LAG):\n",
        "    \"\"\"Get ac values of protein sequence.\"\"\"\n",
        "    AVS = []\n",
        "    PCPS = pcp_sequence_of(PS, PCP)\n",
        "    for LG in range(1, LAG+1):\n",
        "        SUM = 0\n",
        "        for I in range(len(PCPS)-LG):\n",
        "            SUM = SUM + PCPS[I]*PCPS[I+LG]\n",
        "        SUM = SUM / (len(PCPS)-LG)\n",
        "        AVS.append(SUM)\n",
        "    return AVS\n",
        "\n",
        "def all_ac_values_of(PS, LAG):\n",
        "    \"\"\"Get all ac values of protein sequence.\"\"\"\n",
        "    AAVS = []\n",
        "    for PCP in PCPS:\n",
        "        AVS = ac_values_of(PS, PCP, LAG)\n",
        "        AAVS = AAVS + AVS\n",
        "    return AAVS\n",
        "\n",
        "def ac_code_of(PS):\n",
        "    \"\"\"Get ac code of protein sequence.\"\"\"\n",
        "    AC_Code = all_ac_values_of(PS, 30)\n",
        "    # Normalizing AC_Code\n",
        "    # MIN_CODE = min(AC_Code)\n",
        "    # MAX_CODE = max(AC_Code)\n",
        "    # AC_Code = [(N-MIN_CODE)*1.0/(MAX_CODE-MIN_CODE) for N in AC_Code]\n",
        "    return AC_Code\n",
        "\n",
        "if __name__==\"__main__\":\n",
        "    AC = ac_code_of('MKFVYKEEHPFEKRRSEGEKIRKKYPDRVPVIVEKAPKARIGDLDKKKYLVPSDLTVGQFYFLIRKRIHLRAEDALFFFVNNVIPPTSATMGQLYQEHHEEDFFLYIAYSDESVYGL')\n",
        "    print(AC)"
      ],
      "metadata": {
        "colab": {
          "base_uri": "https://localhost:8080/"
        },
        "id": "GXJI0Myaf0Rj",
        "outputId": "5fed2426-6e7d-4d0c-8000-9ff06f159be6"
      },
      "execution_count": 57,
      "outputs": [
        {
          "output_type": "stream",
          "name": "stdout",
          "text": [
            "[0.10790803428842154, 0.11173882903839012, -0.14460761970272953, -0.07535489086506163, 0.006237248073411141, 0.0013678539469620598, 0.05270459435279943, 0.1828958100504284, -0.06548284241673244, -0.06356580523179726, -0.0827079689124269, 0.0017860602217885661, 0.13334465990147337, -0.024160265667395202, -0.037172464278242986, -0.06483520719302295, -0.13815087172208335, 0.0897187757953958, -0.040758691200317373, 0.18293023336208467, 0.12094364277218479, 0.09689785077692985, 0.049025209707293, 0.06979361502005867, 0.218261048339127, 0.1893236184497817, 0.018408227449015546, 0.08829965543046875, 0.052992276171663556, -0.12454362437003005, 0.32508896178416097, 0.06277731652196941, -0.17305532936980655, -0.06880909521329583, 0.007179034232072711, -0.0009166973877763069, 0.10437143296785639, 0.21149735698003105, -0.05294867285423665, 0.04381139122214881, 0.17104549428953786, 0.032328074948299, -0.07969681488713316, -0.051078254991167714, 0.07857539050459156, 0.006677363314985386, -0.16450598856132026, -0.005023355716242042, 0.13447492229141475, 0.2725606506999623, 0.06972775465272221, -0.10439079233878017, -0.042462529041505166, -0.06525527769839443, -0.007620719414048265, 0.2929423870463783, 0.1698837839119438, 0.34368375048203115, 0.05364604359784541, 0.0865836477533407, -0.09979393067695948, -0.1023334318205191, 0.09404673973154629, -0.09341365460725153, -0.08143986121176419, 0.10615002323508783, -0.08491195292088012, -0.08693758734869886, 0.12068427066929377, -0.07602626943625378, 0.12012154373173536, 0.134815923662001, -0.06800504219689996, 0.13491253696728084, -0.07093044946192124, -0.07318664579059081, -0.0742398973620677, -0.07670748508358097, -0.07744721943693919, 0.3542482387516324, -0.08082791763539843, -0.08396376436926489, -0.06936817429741346, 0.1553165092704602, -0.057744888658659295, -0.06009246184686986, -0.06153552146714124, -0.06366557817467383, -0.06522554712943501, -0.06681398915483294, 0.2742891805951771, 0.0230304043317034, -0.12292307987298794, -0.10812428048967351, -0.07140079055430806, -0.12313018528106721, 0.029119289807633546, 0.12958368953587043, -0.0781614311723816, 0.02444938842952771, 0.17196013425884496, 0.013359731523309278, -0.05043821949700768, -0.05622880675505674, 0.09371760849494398, -0.03494851113768867, -0.24735071296973993, -0.06242874059343693, 0.08926891500575204, 0.1498449073149161, 0.007879507848047874, -0.13648669759815008, -0.04722946844876689, -0.08230829240123116, -0.08349532175232492, 0.2327225476156886, 0.1705090730041967, 0.29656740391166486, 0.124518743273069, 0.053158802172273534, 0.08429033960587115, 0.0784269594239277, 0.09858020626009595, -0.11899949623741407, -0.04247129246150611, 0.07352898646383896, -0.20920354321570217, 0.041066825607296874, -0.019035819330898193, -0.05140892548426074, 0.0026747731573285812, -0.011297630148535838, -0.08553000724400059, -0.016733659903766872, -0.04098354508224823, 0.08220009310606198, 0.01349952571069666, -0.0030177472257386824, 0.011802538631382685, -0.012382573878674481, -0.039488829507421226, -0.021417524901129907, -0.13347769450074365, 0.023441603483421957, -0.0648941442216763, -0.03879933455225307, 0.06554742475995017, -0.09162228182983588, 0.0007407293592178221, 0.007811157463376443, 0.08901384659482531, 0.09686261607218066, 0.13941681960649904, -0.13000565009692766, -0.021766381430552543, 0.13660769049296473, -0.20453043142370772, 0.027468349774399044, -0.03435692650993974, -0.054976281770174794, -0.004913069849397187, -0.015493718156269785, -0.07198828822266251, -0.032557246717684354, -0.041356143651355044, 0.07391663877343498, -0.016644490035137377, -0.018413903228021555, -0.015284487422400444, -0.02969323181356979, 0.0032449767663577257, -0.016378731691578895, -0.11054490073761429, 0.03452649153659403, -0.05347842900159755, 0.009133573842133277, 0.09119946731010772, -0.10786912443540668, -0.03945050855068204, -0.026254579235587553, 0.046881420880807656, 0.014121866300099857, 0.10260631465175607, -0.08728678622993302, -0.037565207510200496, -0.007288668744566924, 0.1007613325881951, -0.05234734188176808, 0.05612806804452678, -0.06486998122640711, -0.029519493378660673, -0.029339986264426934, 0.025886588935373107, 0.06350573350290536, -0.0925061804413994, 0.023658082282278073, -0.00022690216577556002, -0.0049267887928321295, 0.016573618705815727, 0.12849803544634225, 0.02032403430626441, -0.07137030432764936, -0.043789209010392544, 0.05080259733110751, -0.05631605447914313, -0.00287696514061479, 0.10973743165259096, -0.07342673761532045, -0.06931273815410258, -0.14370165374581315]\n"
          ]
        }
      ]
    },
    {
      "cell_type": "markdown",
      "source": [
        "### Pseudo amino acid composition"
      ],
      "metadata": {
        "id": "M8ncX7ZW8ma7"
      }
    },
    {
      "cell_type": "code",
      "source": [
        "def paac(str_, lambda_):\n",
        "  # str_=\"ATTRCDEQGGGMFSTQW\"\n",
        "  # lambda_ = 3\n",
        "  len_=len(str_)\n",
        "  tt=['A', 'R', 'N', 'D', 'C', 'E', 'Q', 'G', 'H', 'I',  'L', 'K', 'M', 'F', 'P', 'S', 'T', 'W', 'Y', 'V']\n",
        "  A = [0.62,  -0.5, 15]\n",
        "  R = [-2.53,   3, 101]\n",
        "  N = [-0.78,  0.2, 58]\n",
        "  D = [-0.9,    3, 59]\n",
        "  C = [0.29,    -1, 47]\n",
        "  E = [-0.74,   3, 73]\n",
        "  Q = [-0.85,  0.2, 72]\n",
        "  G =[0.48,    0, 1]\n",
        "  H = [-0.4,  -0.5, 82]\n",
        "  I = [1.38, -1.8, 57]\n",
        "  L = [1.06,  -1.8, 57]\n",
        "  K = [-1.5,    3, 73]\n",
        "  M = [0.64,  -1.3, 75]\n",
        "  F =[1.19, -2.5, 91]\n",
        "  P = [0.12,     0, 42]\n",
        "  S = [-0.18, 0.3, 31]\n",
        "  T = [-0.05, -0.4, 45]\n",
        "  W = [0.81, -3.4, 130] \n",
        "  Y = [0.26,  -2.3, 107]\n",
        "  V = [1.08, -1.5, 43]\n",
        "  H1=[A[0],R[0],N[0],D[0],C[0],E[0],Q[0],G[0],H[0],I[0],L[0],K[0],M[0],F[0],P[0],S[0],T[0],W[0],Y[0],V[0]]\n",
        "  H2=[A[1],R[1],N[1],D[1],C[1],E[1],Q[1],G[1],H[1],I[1],L[1],K[1],M[1],F[1],P[1],S[1],T[1],W[1],Y[1],V[1]]\n",
        "  M=[A[2],R[2],N[2],D[2],C[2],E[2],Q[2],G[2],H[2],I[2],L[2],K[2],M[2],F[2],P[2],S[2],T[2],W[2],Y[2],V[2]]\n",
        "  # Normalization\n",
        "  mean_H1=np.mean(H1)\n",
        "  std_H1=np.std(H1)\n",
        "  H1=(H1-mean_H1)/(std_H1)\n",
        "\n",
        "\n",
        "\n",
        "  mean_H2=np.mean(H2)\n",
        "  std_H2=np.std(H2)\n",
        "  H2=(H2-mean_H2)/(std_H2)\n",
        "\n",
        "  mean_M=np.mean(M)\n",
        "  std_M=np.std(M)\n",
        "  M=(M-mean_M)/(std_M)\n",
        "  data=np.zeros((1,len_))\n",
        "  f=np.zeros((1,20))\n",
        "\n",
        "  for j in range(len_):\n",
        "      for k in range(20):\n",
        "          # if strcmp(str(j),tt(k))==1\n",
        "          if str_[j] == tt[k]:\n",
        "              # print(j, k)\n",
        "              data[:,j]=int(k)+1\n",
        "              f[:,k]=f[:,k]+1\n",
        "  data = data.astype('int32')\n",
        "  Theta=np.zeros((lambda_,len_))\n",
        "  H=np.hstack((H1,H2,M))\n",
        "  H=H.reshape(3,-1)\n",
        "  for i in range(lambda_):\n",
        "      # for j=1:len-i\n",
        "      for j in range(len_-i):\n",
        "          if j+i+1<len_:\n",
        "              Theta[i,j]=np.mean(np.mean((H[:, data[:,j]-1]-H[:, data[:,j+i+1]-1])**2))\n",
        "\n",
        "  theta=np.zeros((1,lambda_))\n",
        "  for j in range(lambda_):\n",
        "      theta[:,j]=np.mean(Theta[j,:(len_-j-1)])\n",
        "\n",
        "  f=f/len_\n",
        "  XC=f/(1+0.05*np.sum(theta))\n",
        "  XC2=(0.05*theta)/(1+0.05*np.sum(theta))\n",
        "\n",
        "  paac = np.hstack((XC, XC2))\n",
        "  return paac\n",
        "\n",
        "paac(seq, 3)"
      ],
      "metadata": {
        "colab": {
          "base_uri": "https://localhost:8080/"
        },
        "id": "CHIsFXbi07ja",
        "outputId": "b411596b-dd89-4184-d09c-25383cec74fa"
      },
      "execution_count": 282,
      "outputs": [
        {
          "output_type": "execute_result",
          "data": {
            "text/plain": [
              "array([[0.        , 0.        , 0.        , 0.        , 0.3069464 ,\n",
              "        0.        , 0.        , 0.        , 0.        , 0.        ,\n",
              "        0.        , 0.        , 0.        , 0.        , 0.3069464 ,\n",
              "        0.        , 0.        , 0.        , 0.        , 0.35079589,\n",
              "        0.01094859, 0.00977698, 0.01458574]])"
            ]
          },
          "metadata": {},
          "execution_count": 282
        }
      ]
    }
  ]
}