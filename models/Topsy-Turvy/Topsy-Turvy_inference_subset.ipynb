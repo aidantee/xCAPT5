{
  "cells": [
    {
      "cell_type": "markdown",
      "metadata": {
        "id": "-6CM-cOfY7fq"
      },
      "source": [
        "### Check GPU hardware"
      ]
    },
    {
      "cell_type": "code",
      "execution_count": 1,
      "metadata": {
        "colab": {
          "base_uri": "https://localhost:8080/"
        },
        "id": "cNNQihr0y9Tv",
        "outputId": "e83fb728-6ccc-433e-d827-daafa151a96b"
      },
      "outputs": [
        {
          "output_type": "stream",
          "name": "stdout",
          "text": [
            "Wed Jun  7 16:13:07 2023       \n",
            "+-----------------------------------------------------------------------------+\n",
            "| NVIDIA-SMI 525.85.12    Driver Version: 525.85.12    CUDA Version: 12.0     |\n",
            "|-------------------------------+----------------------+----------------------+\n",
            "| GPU  Name        Persistence-M| Bus-Id        Disp.A | Volatile Uncorr. ECC |\n",
            "| Fan  Temp  Perf  Pwr:Usage/Cap|         Memory-Usage | GPU-Util  Compute M. |\n",
            "|                               |                      |               MIG M. |\n",
            "|===============================+======================+======================|\n",
            "|   0  Tesla T4            Off  | 00000000:00:04.0 Off |                    0 |\n",
            "| N/A   51C    P8    10W /  70W |      0MiB / 15360MiB |      0%      Default |\n",
            "|                               |                      |                  N/A |\n",
            "+-------------------------------+----------------------+----------------------+\n",
            "                                                                               \n",
            "+-----------------------------------------------------------------------------+\n",
            "| Processes:                                                                  |\n",
            "|  GPU   GI   CI        PID   Type   Process name                  GPU Memory |\n",
            "|        ID   ID                                                   Usage      |\n",
            "|=============================================================================|\n",
            "|  No running processes found                                                 |\n",
            "+-----------------------------------------------------------------------------+\n"
          ]
        }
      ],
      "source": [
        "!nvidia-smi"
      ]
    },
    {
      "cell_type": "markdown",
      "metadata": {
        "id": "B77iZSygodDK"
      },
      "source": [
        "### Save hardware configuration"
      ]
    },
    {
      "cell_type": "code",
      "execution_count": 2,
      "metadata": {
        "id": "-UeVguvkodDK"
      },
      "outputs": [],
      "source": [
        "# Create the summary file\n",
        "!echo \"Hardware Summary\" > hardware_summary.txt\n",
        "\n",
        "# Fetch and write CPU Information\n",
        "!echo \"\\nCPU Information:\" >> hardware_summary.txt\n",
        "!echo \"-----------------\" >> hardware_summary.txt\n",
        "!lscpu | egrep 'Model name|Socket|Thread|CPU\\(s\\)' >> hardware_summary.txt\n",
        "\n",
        "# Fetch and write Total RAM Information\n",
        "!echo \"\\nTotal RAM Information:\" >> hardware_summary.txt\n",
        "!echo \"-----------------\" >> hardware_summary.txt\n",
        "!free -h | grep Mem | awk '{print $2}' >> hardware_summary.txt\n",
        "\n",
        "\n",
        "# Fetch and write GPU Information\n",
        "!echo \"\\nGPU Information:\" >> hardware_summary.txt\n",
        "!echo \"-----------------\" >> hardware_summary.txt\n",
        "\n",
        "# If you have a Nvidia GPU\n",
        "!nvidia-smi --query-gpu=gpu_name,driver_version,memory.total --format=csv >> hardware_summary.txt\n",
        "\n",
        "# Alternatively for other GPUs\n",
        "# !lspci | grep VGA >> hardware_summary.txt\n"
      ]
    },
    {
      "cell_type": "markdown",
      "metadata": {
        "id": "EEnKElYqY_-n"
      },
      "source": [
        "### Install D-SCRIPT"
      ]
    },
    {
      "cell_type": "code",
      "execution_count": 3,
      "metadata": {
        "colab": {
          "base_uri": "https://localhost:8080/"
        },
        "id": "CgXp5ZBzqqTK",
        "outputId": "86538b6c-c678-4dfd-e71c-bf979cfa6b1e"
      },
      "outputs": [
        {
          "output_type": "stream",
          "name": "stdout",
          "text": [
            "Looking in indexes: https://pypi.org/simple, https://us-python.pkg.dev/colab-wheels/public/simple/\n",
            "Collecting dscript\n",
            "  Downloading dscript-0.2.4-py3-none-any.whl (121 kB)\n",
            "\u001b[2K     \u001b[90m━━━━━━━━━━━━━━━━━━━━━━━━━━━━━━━━━━━━━━━\u001b[0m \u001b[32m121.8/121.8 kB\u001b[0m \u001b[31m7.2 MB/s\u001b[0m eta \u001b[36m0:00:00\u001b[0m\n",
            "\u001b[?25hRequirement already satisfied: numpy in /usr/local/lib/python3.10/dist-packages (from dscript) (1.22.4)\n",
            "Requirement already satisfied: scipy in /usr/local/lib/python3.10/dist-packages (from dscript) (1.10.1)\n",
            "Requirement already satisfied: pandas in /usr/local/lib/python3.10/dist-packages (from dscript) (1.5.3)\n",
            "Requirement already satisfied: torch>=1.11 in /usr/local/lib/python3.10/dist-packages (from dscript) (2.0.1+cu118)\n",
            "Collecting biopython (from dscript)\n",
            "  Downloading biopython-1.81-cp310-cp310-manylinux_2_17_x86_64.manylinux2014_x86_64.whl (3.1 MB)\n",
            "\u001b[2K     \u001b[90m━━━━━━━━━━━━━━━━━━━━━━━━━━━━━━━━━━━━━━━━\u001b[0m \u001b[32m3.1/3.1 MB\u001b[0m \u001b[31m84.7 MB/s\u001b[0m eta \u001b[36m0:00:00\u001b[0m\n",
            "\u001b[?25hRequirement already satisfied: matplotlib in /usr/local/lib/python3.10/dist-packages (from dscript) (3.7.1)\n",
            "Requirement already satisfied: seaborn in /usr/local/lib/python3.10/dist-packages (from dscript) (0.12.2)\n",
            "Requirement already satisfied: tqdm in /usr/local/lib/python3.10/dist-packages (from dscript) (4.65.0)\n",
            "Requirement already satisfied: scikit-learn in /usr/local/lib/python3.10/dist-packages (from dscript) (1.2.2)\n",
            "Requirement already satisfied: h5py in /usr/local/lib/python3.10/dist-packages (from dscript) (3.8.0)\n",
            "Requirement already satisfied: filelock in /usr/local/lib/python3.10/dist-packages (from torch>=1.11->dscript) (3.12.0)\n",
            "Requirement already satisfied: typing-extensions in /usr/local/lib/python3.10/dist-packages (from torch>=1.11->dscript) (4.5.0)\n",
            "Requirement already satisfied: sympy in /usr/local/lib/python3.10/dist-packages (from torch>=1.11->dscript) (1.11.1)\n",
            "Requirement already satisfied: networkx in /usr/local/lib/python3.10/dist-packages (from torch>=1.11->dscript) (3.1)\n",
            "Requirement already satisfied: jinja2 in /usr/local/lib/python3.10/dist-packages (from torch>=1.11->dscript) (3.1.2)\n",
            "Requirement already satisfied: triton==2.0.0 in /usr/local/lib/python3.10/dist-packages (from torch>=1.11->dscript) (2.0.0)\n",
            "Requirement already satisfied: cmake in /usr/local/lib/python3.10/dist-packages (from triton==2.0.0->torch>=1.11->dscript) (3.25.2)\n",
            "Requirement already satisfied: lit in /usr/local/lib/python3.10/dist-packages (from triton==2.0.0->torch>=1.11->dscript) (16.0.5)\n",
            "Requirement already satisfied: contourpy>=1.0.1 in /usr/local/lib/python3.10/dist-packages (from matplotlib->dscript) (1.0.7)\n",
            "Requirement already satisfied: cycler>=0.10 in /usr/local/lib/python3.10/dist-packages (from matplotlib->dscript) (0.11.0)\n",
            "Requirement already satisfied: fonttools>=4.22.0 in /usr/local/lib/python3.10/dist-packages (from matplotlib->dscript) (4.39.3)\n",
            "Requirement already satisfied: kiwisolver>=1.0.1 in /usr/local/lib/python3.10/dist-packages (from matplotlib->dscript) (1.4.4)\n",
            "Requirement already satisfied: packaging>=20.0 in /usr/local/lib/python3.10/dist-packages (from matplotlib->dscript) (23.1)\n",
            "Requirement already satisfied: pillow>=6.2.0 in /usr/local/lib/python3.10/dist-packages (from matplotlib->dscript) (8.4.0)\n",
            "Requirement already satisfied: pyparsing>=2.3.1 in /usr/local/lib/python3.10/dist-packages (from matplotlib->dscript) (3.0.9)\n",
            "Requirement already satisfied: python-dateutil>=2.7 in /usr/local/lib/python3.10/dist-packages (from matplotlib->dscript) (2.8.2)\n",
            "Requirement already satisfied: pytz>=2020.1 in /usr/local/lib/python3.10/dist-packages (from pandas->dscript) (2022.7.1)\n",
            "Requirement already satisfied: joblib>=1.1.1 in /usr/local/lib/python3.10/dist-packages (from scikit-learn->dscript) (1.2.0)\n",
            "Requirement already satisfied: threadpoolctl>=2.0.0 in /usr/local/lib/python3.10/dist-packages (from scikit-learn->dscript) (3.1.0)\n",
            "Requirement already satisfied: six>=1.5 in /usr/local/lib/python3.10/dist-packages (from python-dateutil>=2.7->matplotlib->dscript) (1.16.0)\n",
            "Requirement already satisfied: MarkupSafe>=2.0 in /usr/local/lib/python3.10/dist-packages (from jinja2->torch>=1.11->dscript) (2.1.2)\n",
            "Requirement already satisfied: mpmath>=0.19 in /usr/local/lib/python3.10/dist-packages (from sympy->torch>=1.11->dscript) (1.3.0)\n",
            "Installing collected packages: biopython, dscript\n",
            "Successfully installed biopython-1.81 dscript-0.2.4\n"
          ]
        }
      ],
      "source": [
        "!pip install dscript"
      ]
    },
    {
      "cell_type": "markdown",
      "metadata": {
        "id": "CWbtOrgFiwtm"
      },
      "source": [
        "### Download trained models"
      ]
    },
    {
      "cell_type": "code",
      "execution_count": 5,
      "metadata": {
        "colab": {
          "base_uri": "https://localhost:8080/"
        },
        "id": "6zpdGarDi1EC",
        "outputId": "d19f68b0-d168-40d3-ffad-8bd0ca81e02b"
      },
      "outputs": [
        {
          "output_type": "stream",
          "name": "stdout",
          "text": [
            "--2023-06-07 16:14:01--  http://cb.csail.mit.edu/cb/dscript/data/models/topsy_turvy_v1.sav\n",
            "Resolving cb.csail.mit.edu (cb.csail.mit.edu)... 128.30.2.148\n",
            "Connecting to cb.csail.mit.edu (cb.csail.mit.edu)|128.30.2.148|:80... connected.\n",
            "HTTP request sent, awaiting response... 200 OK\n",
            "Length: 2543014 (2.4M)\n",
            "Saving to: ‘topsy_turvy_v1.sav’\n",
            "\n",
            "topsy_turvy_v1.sav  100%[===================>]   2.42M  1.56MB/s    in 1.6s    \n",
            "\n",
            "2023-06-07 16:14:04 (1.56 MB/s) - ‘topsy_turvy_v1.sav’ saved [2543014/2543014]\n",
            "\n"
          ]
        }
      ],
      "source": [
        "# Download Human Topsy-Turvy model\n",
        "!wget http://cb.csail.mit.edu/cb/dscript/data/models/topsy_turvy_v1.sav"
      ]
    },
    {
      "cell_type": "markdown",
      "metadata": {
        "id": "r1kMZHiUJWv1"
      },
      "source": [
        "### Download sequence and interaction files for test datasets"
      ]
    },
    {
      "cell_type": "code",
      "execution_count": 6,
      "metadata": {
        "colab": {
          "base_uri": "https://localhost:8080/"
        },
        "id": "JdLmVxtpgpQB",
        "outputId": "fb19f798-f155-4cc4-936c-8397c4e5acff"
      },
      "outputs": [
        {
          "output_type": "stream",
          "name": "stdout",
          "text": [
            "--2023-06-07 16:14:09--  https://raw.githubusercontent.com/anhvt00/MCAPS/master/data/Dscript-data/pairs/ecoli_test.tsv\n",
            "Resolving raw.githubusercontent.com (raw.githubusercontent.com)... 185.199.108.133, 185.199.109.133, 185.199.110.133, ...\n",
            "Connecting to raw.githubusercontent.com (raw.githubusercontent.com)|185.199.108.133|:443... connected.\n",
            "HTTP request sent, awaiting response... 200 OK\n",
            "Length: 812468 (793K) [text/plain]\n",
            "Saving to: ‘ecoli_test.tsv’\n",
            "\n",
            "ecoli_test.tsv      100%[===================>] 793.43K  --.-KB/s    in 0.01s   \n",
            "\n",
            "2023-06-07 16:14:09 (80.2 MB/s) - ‘ecoli_test.tsv’ saved [812468/812468]\n",
            "\n",
            "--2023-06-07 16:14:09--  https://raw.githubusercontent.com/anhvt00/MCAPS/master/data/Dscript-data/seqs/ecoli.fasta\n",
            "Resolving raw.githubusercontent.com (raw.githubusercontent.com)... 185.199.108.133, 185.199.111.133, 185.199.110.133, ...\n",
            "Connecting to raw.githubusercontent.com (raw.githubusercontent.com)|185.199.108.133|:443... connected.\n",
            "HTTP request sent, awaiting response... 200 OK\n",
            "Length: 5413511 (5.2M) [text/plain]\n",
            "Saving to: ‘ecoli.fasta’\n",
            "\n",
            "ecoli.fasta         100%[===================>]   5.16M  --.-KB/s    in 0.02s   \n",
            "\n",
            "2023-06-07 16:14:10 (334 MB/s) - ‘ecoli.fasta’ saved [5413511/5413511]\n",
            "\n"
          ]
        }
      ],
      "source": [
        "!wget https://raw.githubusercontent.com/anhvt00/MCAPS/master/data/Dscript-data/pairs/ecoli_test.tsv\n",
        "!wget https://raw.githubusercontent.com/anhvt00/MCAPS/master/data/Dscript-data/seqs/ecoli.fasta\n"
      ]
    },
    {
      "cell_type": "markdown",
      "metadata": {
        "id": "fn8-sz2dodDN"
      },
      "source": [
        "### Chooose a subset of the dataset"
      ]
    },
    {
      "cell_type": "code",
      "execution_count": 43,
      "metadata": {
        "id": "zcGBAazVodDN"
      },
      "outputs": [],
      "source": [
        "import pandas as pd\n",
        "df_pairs = pd.read_csv('ecoli_test.tsv', sep='\\t', header=None)\n",
        "\n",
        "# select a random subset of the data\n",
        "df_sub = df_pairs.sample(n=1000).reset_index(drop=True)  # change n to the number of samples you want\n",
        "\n",
        "# save the subset tsv file\n",
        "df_sub.to_csv('ecoli_test_sub.tsv', sep='\\t', index=False, header=None)"
      ]
    },
    {
      "cell_type": "markdown",
      "source": [
        "### Create a new subset fasta file"
      ],
      "metadata": {
        "id": "5NJt-3V_tpix"
      }
    },
    {
      "cell_type": "code",
      "execution_count": 47,
      "metadata": {
        "colab": {
          "base_uri": "https://localhost:8080/"
        },
        "id": "blcS4oDGodDN",
        "outputId": "2bed8770-c68a-4d72-f935-f9739f5806bf"
      },
      "outputs": [
        {
          "output_type": "stream",
          "name": "stdout",
          "text": [
            "Number of sequences in the interaction subset: 1638\n"
          ]
        }
      ],
      "source": [
        "from Bio import SeqIO\n",
        "from Bio.SeqRecord import SeqRecord\n",
        "\n",
        "# read the identifiers from the subset tsv file\n",
        "unique_ids = set(df_sub.iloc[:,0]) | set(df_sub.iloc[:,1])  \n",
        "print(\"Number of sequences in the interaction subset:\", len(unique_ids))\n",
        "\n",
        "# read the original fasta file and extract sequences\n",
        "records = SeqIO.parse('ecoli.fasta', 'fasta')\n",
        "\n",
        "# create a dictionary to hold unique records\n",
        "record_dict = {rec.id: rec for rec in records if rec.id in unique_ids}\n",
        "\n",
        "# open the output file\n",
        "with open('ecoli_sub.fasta', 'w') as output_file:\n",
        "    for rec in record_dict.values():\n",
        "        # manually construct the FASTA record and write it to file\n",
        "        output_file.write('>' + rec.description + '\\n' + str(rec.seq) + '\\n')"
      ]
    },
    {
      "cell_type": "markdown",
      "metadata": {
        "id": "00w2RRSsq10I"
      },
      "source": [
        "### Generate embeddings"
      ]
    },
    {
      "cell_type": "code",
      "execution_count": 45,
      "metadata": {
        "colab": {
          "base_uri": "https://localhost:8080/"
        },
        "id": "JYx8fl6Eq4fi",
        "outputId": "66974528-3f2c-430f-d3e9-e844557b013d"
      },
      "outputs": [
        {
          "output_type": "stream",
          "name": "stdout",
          "text": [
            "[2023-06-07-16:33:15] # Using CUDA device 0 - Tesla T4\n",
            "[2023-06-07-16:33:15] # Loading Model...\n",
            "[2023-06-07-16:33:19] # Loading Sequences...\n",
            "100% 1638/1638 [00:00<00:00, 32510.29it/s]\n",
            "[2023-06-07-16:33:19] # 1638 Sequences Loaded\n",
            "[2023-06-07-16:33:19] # Approximate Storage Required (varies by average sequence length): ~13.104000000000001GB\n",
            "[2023-06-07-16:33:19] # Storing to ecoli.h5...\n",
            "100% 1638/1638 [04:39<00:00,  5.85it/s]\n"
          ]
        }
      ],
      "source": [
        "!dscript embed --seqs ecoli_sub.fasta -o ecoli.h5 -d 0"
      ]
    },
    {
      "cell_type": "markdown",
      "metadata": {
        "id": "3v5ZkUXlr5DK"
      },
      "source": [
        "### Evaluate on test dataset"
      ]
    },
    {
      "cell_type": "code",
      "execution_count": 49,
      "metadata": {
        "id": "dJLNH1IZvi2N",
        "colab": {
          "base_uri": "https://localhost:8080/"
        },
        "outputId": "603ef169-b815-4fbe-86bb-b861cc52a152"
      },
      "outputs": [
        {
          "output_type": "stream",
          "name": "stdout",
          "text": [
            "[2023-06-07-16:48:12] Using CUDA device 0 - Tesla T4\n",
            " 54% 884/1638 [00:29<00:24, 30.44it/s]\n",
            "Traceback (most recent call last):\n",
            "  File \"/usr/local/bin/dscript\", line 8, in <module>\n",
            "    sys.exit(main())\n",
            "  File \"/usr/local/lib/python3.10/dist-packages/dscript/__main__.py\", line 77, in main\n",
            "    args.func(args)\n",
            "  File \"/usr/local/lib/python3.10/dist-packages/dscript/commands/evaluate.py\", line 217, in main\n",
            "    embeddings = load_hdf5_parallel(embPath, allProteins)\n",
            "  File \"/usr/local/lib/python3.10/dist-packages/dscript/utils.py\", line 75, in load_hdf5_parallel\n",
            "    all_embs = list(\n",
            "  File \"/usr/local/lib/python3.10/dist-packages/tqdm/std.py\", line 1178, in __iter__\n",
            "    for obj in iterable:\n",
            "  File \"/usr/lib/python3.10/multiprocessing/pool.py\", line 873, in next\n",
            "    raise value\n",
            "multiprocessing.pool.MaybeEncodingError: Error sending result: 'tensor([[[ 0.0000e+00,  0.0000e+00,  0.0000e+00,  ..., -4.5643e-01,\n",
            "           3.9842e-02,  5.7106e-04],\n",
            "         [ 0.0000e+00,  0.0000e+00,  1.0000e+00,  ..., -4.0061e-01,\n",
            "           4.4626e-02,  1.5524e-04],\n",
            "         [ 0.0000e+00,  0.0000e+00,  0.0000e+00,  ..., -3.3636e-01,\n",
            "           6.1903e-02, -1.3981e-03],\n",
            "         ...,\n",
            "         [ 0.0000e+00,  0.0000e+00,  0.0000e+00,  ..., -2.6603e-02,\n",
            "          -4.4126e-02, -2.1554e-02],\n",
            "         [ 0.0000e+00,  0.0000e+00,  0.0000e+00,  ..., -1.5848e-02,\n",
            "          -4.5853e-02, -1.0534e-02],\n",
            "         [ 0.0000e+00,  0.0000e+00,  0.0000e+00,  ..., -2.8360e-02,\n",
            "          -2.7435e-02, -1.0661e-02]]])'. Reason: 'RuntimeError('unable to write to file </torch_9533_3554486948_430>: No space left on device (28)')'\n"
          ]
        }
      ],
      "source": [
        "# Evaluate with Human Topsy-Turvy model \n",
        "!dscript evaluate --model topsy_turvy_v1.sav --test ecoli_test_sub.tsv --embedding ecoli.h5 --outfile ecoli_topsy_turvy -d 1"
      ]
    },
    {
      "cell_type": "markdown",
      "metadata": {
        "id": "_CN6ux6KodDO"
      },
      "source": [
        "### Read prediction file"
      ]
    },
    {
      "cell_type": "code",
      "execution_count": 41,
      "metadata": {
        "colab": {
          "base_uri": "https://localhost:8080/",
          "height": 112
        },
        "id": "3E7S3f9LodDP",
        "outputId": "d4b738f5-a641-42a7-e3b1-5d70a6b69077"
      },
      "outputs": [
        {
          "output_type": "execute_result",
          "data": {
            "text/plain": [
              "                     0                1    2         3\n",
              "0      362663.ECP_2819  362663.ECP_2750  0.0  0.430100\n",
              "1  362663.ecp:ECP_3270  362663.ECP_0479  0.0  0.007664"
            ],
            "text/html": [
              "\n",
              "  <div id=\"df-b5cb5758-28ea-4a55-8385-a89852eb82a9\">\n",
              "    <div class=\"colab-df-container\">\n",
              "      <div>\n",
              "<style scoped>\n",
              "    .dataframe tbody tr th:only-of-type {\n",
              "        vertical-align: middle;\n",
              "    }\n",
              "\n",
              "    .dataframe tbody tr th {\n",
              "        vertical-align: top;\n",
              "    }\n",
              "\n",
              "    .dataframe thead th {\n",
              "        text-align: right;\n",
              "    }\n",
              "</style>\n",
              "<table border=\"1\" class=\"dataframe\">\n",
              "  <thead>\n",
              "    <tr style=\"text-align: right;\">\n",
              "      <th></th>\n",
              "      <th>0</th>\n",
              "      <th>1</th>\n",
              "      <th>2</th>\n",
              "      <th>3</th>\n",
              "    </tr>\n",
              "  </thead>\n",
              "  <tbody>\n",
              "    <tr>\n",
              "      <th>0</th>\n",
              "      <td>362663.ECP_2819</td>\n",
              "      <td>362663.ECP_2750</td>\n",
              "      <td>0.0</td>\n",
              "      <td>0.430100</td>\n",
              "    </tr>\n",
              "    <tr>\n",
              "      <th>1</th>\n",
              "      <td>362663.ecp:ECP_3270</td>\n",
              "      <td>362663.ECP_0479</td>\n",
              "      <td>0.0</td>\n",
              "      <td>0.007664</td>\n",
              "    </tr>\n",
              "  </tbody>\n",
              "</table>\n",
              "</div>\n",
              "      <button class=\"colab-df-convert\" onclick=\"convertToInteractive('df-b5cb5758-28ea-4a55-8385-a89852eb82a9')\"\n",
              "              title=\"Convert this dataframe to an interactive table.\"\n",
              "              style=\"display:none;\">\n",
              "        \n",
              "  <svg xmlns=\"http://www.w3.org/2000/svg\" height=\"24px\"viewBox=\"0 0 24 24\"\n",
              "       width=\"24px\">\n",
              "    <path d=\"M0 0h24v24H0V0z\" fill=\"none\"/>\n",
              "    <path d=\"M18.56 5.44l.94 2.06.94-2.06 2.06-.94-2.06-.94-.94-2.06-.94 2.06-2.06.94zm-11 1L8.5 8.5l.94-2.06 2.06-.94-2.06-.94L8.5 2.5l-.94 2.06-2.06.94zm10 10l.94 2.06.94-2.06 2.06-.94-2.06-.94-.94-2.06-.94 2.06-2.06.94z\"/><path d=\"M17.41 7.96l-1.37-1.37c-.4-.4-.92-.59-1.43-.59-.52 0-1.04.2-1.43.59L10.3 9.45l-7.72 7.72c-.78.78-.78 2.05 0 2.83L4 21.41c.39.39.9.59 1.41.59.51 0 1.02-.2 1.41-.59l7.78-7.78 2.81-2.81c.8-.78.8-2.07 0-2.86zM5.41 20L4 18.59l7.72-7.72 1.47 1.35L5.41 20z\"/>\n",
              "  </svg>\n",
              "      </button>\n",
              "      \n",
              "  <style>\n",
              "    .colab-df-container {\n",
              "      display:flex;\n",
              "      flex-wrap:wrap;\n",
              "      gap: 12px;\n",
              "    }\n",
              "\n",
              "    .colab-df-convert {\n",
              "      background-color: #E8F0FE;\n",
              "      border: none;\n",
              "      border-radius: 50%;\n",
              "      cursor: pointer;\n",
              "      display: none;\n",
              "      fill: #1967D2;\n",
              "      height: 32px;\n",
              "      padding: 0 0 0 0;\n",
              "      width: 32px;\n",
              "    }\n",
              "\n",
              "    .colab-df-convert:hover {\n",
              "      background-color: #E2EBFA;\n",
              "      box-shadow: 0px 1px 2px rgba(60, 64, 67, 0.3), 0px 1px 3px 1px rgba(60, 64, 67, 0.15);\n",
              "      fill: #174EA6;\n",
              "    }\n",
              "\n",
              "    [theme=dark] .colab-df-convert {\n",
              "      background-color: #3B4455;\n",
              "      fill: #D2E3FC;\n",
              "    }\n",
              "\n",
              "    [theme=dark] .colab-df-convert:hover {\n",
              "      background-color: #434B5C;\n",
              "      box-shadow: 0px 1px 3px 1px rgba(0, 0, 0, 0.15);\n",
              "      filter: drop-shadow(0px 1px 2px rgba(0, 0, 0, 0.3));\n",
              "      fill: #FFFFFF;\n",
              "    }\n",
              "  </style>\n",
              "\n",
              "      <script>\n",
              "        const buttonEl =\n",
              "          document.querySelector('#df-b5cb5758-28ea-4a55-8385-a89852eb82a9 button.colab-df-convert');\n",
              "        buttonEl.style.display =\n",
              "          google.colab.kernel.accessAllowed ? 'block' : 'none';\n",
              "\n",
              "        async function convertToInteractive(key) {\n",
              "          const element = document.querySelector('#df-b5cb5758-28ea-4a55-8385-a89852eb82a9');\n",
              "          const dataTable =\n",
              "            await google.colab.kernel.invokeFunction('convertToInteractive',\n",
              "                                                     [key], {});\n",
              "          if (!dataTable) return;\n",
              "\n",
              "          const docLinkHtml = 'Like what you see? Visit the ' +\n",
              "            '<a target=\"_blank\" href=https://colab.research.google.com/notebooks/data_table.ipynb>data table notebook</a>'\n",
              "            + ' to learn more about interactive tables.';\n",
              "          element.innerHTML = '';\n",
              "          dataTable['output_type'] = 'display_data';\n",
              "          await google.colab.output.renderOutput(dataTable, element);\n",
              "          const docLink = document.createElement('div');\n",
              "          docLink.innerHTML = docLinkHtml;\n",
              "          element.appendChild(docLink);\n",
              "        }\n",
              "      </script>\n",
              "    </div>\n",
              "  </div>\n",
              "  "
            ]
          },
          "metadata": {},
          "execution_count": 41
        }
      ],
      "source": [
        "import pandas as pd\n",
        "df = pd.read_csv('ecoli_topsy_turvy.predictions.tsv', sep='\\t', header=None)\n",
        "df"
      ]
    },
    {
      "cell_type": "markdown",
      "metadata": {
        "id": "3F29NJBwodDP"
      },
      "source": [
        "### Compute performance metrics"
      ]
    },
    {
      "cell_type": "code",
      "execution_count": 42,
      "metadata": {
        "colab": {
          "base_uri": "https://localhost:8080/",
          "height": 337
        },
        "id": "KEjrtRewodDP",
        "outputId": "b5804553-b54a-4c77-9b93-a1bb5c36b1ca"
      },
      "outputs": [
        {
          "output_type": "stream",
          "name": "stderr",
          "text": [
            "/usr/local/lib/python3.10/dist-packages/sklearn/metrics/_classification.py:1344: UndefinedMetricWarning: Precision is ill-defined and being set to 0.0 due to no predicted samples. Use `zero_division` parameter to control this behavior.\n",
            "  _warn_prf(average, modifier, msg_start, len(result))\n",
            "/usr/local/lib/python3.10/dist-packages/sklearn/metrics/_classification.py:1344: UndefinedMetricWarning: Recall is ill-defined and being set to 0.0 due to no true samples. Use `zero_division` parameter to control this behavior.\n",
            "  _warn_prf(average, modifier, msg_start, len(result))\n"
          ]
        },
        {
          "output_type": "error",
          "ename": "ValueError",
          "evalue": "ignored",
          "traceback": [
            "\u001b[0;31m---------------------------------------------------------------------------\u001b[0m",
            "\u001b[0;31mValueError\u001b[0m                                Traceback (most recent call last)",
            "\u001b[0;32m<ipython-input-42-cfcca6bcb5f2>\u001b[0m in \u001b[0;36m<cell line: 22>\u001b[0;34m()\u001b[0m\n\u001b[1;32m     20\u001b[0m \u001b[0;31m# Specificity\u001b[0m\u001b[0;34m\u001b[0m\u001b[0;34m\u001b[0m\u001b[0m\n\u001b[1;32m     21\u001b[0m \u001b[0mcm\u001b[0m \u001b[0;34m=\u001b[0m \u001b[0mconfusion_matrix\u001b[0m\u001b[0;34m(\u001b[0m\u001b[0my_true\u001b[0m\u001b[0;34m,\u001b[0m \u001b[0my_pred\u001b[0m\u001b[0;34m)\u001b[0m\u001b[0;34m\u001b[0m\u001b[0;34m\u001b[0m\u001b[0m\n\u001b[0;32m---> 22\u001b[0;31m \u001b[0mtn\u001b[0m\u001b[0;34m,\u001b[0m \u001b[0mfp\u001b[0m\u001b[0;34m,\u001b[0m \u001b[0mfn\u001b[0m\u001b[0;34m,\u001b[0m \u001b[0mtp\u001b[0m \u001b[0;34m=\u001b[0m \u001b[0mcm\u001b[0m\u001b[0;34m.\u001b[0m\u001b[0mravel\u001b[0m\u001b[0;34m(\u001b[0m\u001b[0;34m)\u001b[0m\u001b[0;34m\u001b[0m\u001b[0;34m\u001b[0m\u001b[0m\n\u001b[0m\u001b[1;32m     23\u001b[0m \u001b[0mspec\u001b[0m \u001b[0;34m=\u001b[0m \u001b[0mtn\u001b[0m \u001b[0;34m/\u001b[0m \u001b[0;34m(\u001b[0m\u001b[0mtn\u001b[0m\u001b[0;34m+\u001b[0m\u001b[0mfp\u001b[0m\u001b[0;34m)\u001b[0m\u001b[0;34m\u001b[0m\u001b[0;34m\u001b[0m\u001b[0m\n\u001b[1;32m     24\u001b[0m \u001b[0;34m\u001b[0m\u001b[0m\n",
            "\u001b[0;31mValueError\u001b[0m: not enough values to unpack (expected 4, got 1)"
          ]
        }
      ],
      "source": [
        "# Import necessary libraries\n",
        "from sklearn.metrics import accuracy_score, precision_score, recall_score, f1_score, roc_auc_score, confusion_matrix, average_precision_score, matthews_corrcoef\n",
        "\n",
        "import numpy as np\n",
        "\n",
        "# Extract prediction and true labels\n",
        "y_true = df.iloc[:, 2]\n",
        "y_prob = df.iloc[:, 3]\n",
        "y_pred = np.round(y_prob)\n",
        "\n",
        "# Accuracy\n",
        "acc = accuracy_score(y_true, y_pred)\n",
        "\n",
        "# Precision\n",
        "prec = precision_score(y_true, y_pred)\n",
        "\n",
        "# Recall\n",
        "rec = recall_score(y_true, y_pred)\n",
        "\n",
        "# Specificity\n",
        "cm = confusion_matrix(y_true, y_pred)\n",
        "tn, fp, fn, tp = cm.ravel()\n",
        "spec = tn / (tn+fp)\n",
        "\n",
        "# MCC score\n",
        "mcc = matthews_corrcoef(y_true, y_pred)\n",
        "\n",
        "# F1 score\n",
        "f1 = f1_score(y_true, y_pred)\n",
        "\n",
        "# AUC-ROC\n",
        "auroc = roc_auc_score(y_true, y_prob)\n",
        "\n",
        "# AUPRC\n",
        "auprc = average_precision_score(y_true, y_prob)\n",
        "\n",
        "print (f'accuracy: {acc}, precision: {prec}, recall: {rec}, specificity: {spec}, mcc: {mcc} ,f1-score: {f1}, auc: {auroc}, prc: {auprc}')\n",
        "\n"
      ]
    }
  ],
  "metadata": {
    "accelerator": "GPU",
    "colab": {
      "machine_shape": "hm",
      "provenance": []
    },
    "kernelspec": {
      "display_name": "Python 3 (ipykernel)",
      "language": "python",
      "name": "python3"
    },
    "language_info": {
      "codemirror_mode": {
        "name": "ipython",
        "version": 3
      },
      "file_extension": ".py",
      "mimetype": "text/x-python",
      "name": "python",
      "nbconvert_exporter": "python",
      "pygments_lexer": "ipython3",
      "version": "3.8.10"
    },
    "vscode": {
      "interpreter": {
        "hash": "916dbcbb3f70747c44a77c7bcd40155683ae19c65e1c03b4aa3499c5328201f1"
      }
    }
  },
  "nbformat": 4,
  "nbformat_minor": 0
}