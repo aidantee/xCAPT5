{
 "cells": [
  {
   "cell_type": "markdown",
   "metadata": {
    "id": "-6CM-cOfY7fq"
   },
   "source": [
    "### Check GPU hardware"
   ]
  },
  {
   "cell_type": "code",
   "execution_count": 1,
   "metadata": {
    "colab": {
     "base_uri": "https://localhost:8080/"
    },
    "id": "cNNQihr0y9Tv",
    "outputId": "7086f3d5-7841-4d2c-d945-fe58225821c4"
   },
   "outputs": [
    {
     "name": "stdout",
     "output_type": "stream",
     "text": [
      "Wed Jun  7 10:10:04 2023       \n",
      "+-----------------------------------------------------------------------------+\n",
      "| NVIDIA-SMI 525.105.17   Driver Version: 525.105.17   CUDA Version: 12.0     |\n",
      "|-------------------------------+----------------------+----------------------+\n",
      "| GPU  Name        Persistence-M| Bus-Id        Disp.A | Volatile Uncorr. ECC |\n",
      "| Fan  Temp  Perf  Pwr:Usage/Cap|         Memory-Usage | GPU-Util  Compute M. |\n",
      "|                               |                      |               MIG M. |\n",
      "|===============================+======================+======================|\n",
      "|   0  NVIDIA A100-SXM...  On   | 00000000:4E:00.0 Off |                    0 |\n",
      "| N/A   27C    P0    58W / 400W |      0MiB / 81920MiB |      0%      Default |\n",
      "|                               |                      |             Disabled |\n",
      "+-------------------------------+----------------------+----------------------+\n",
      "                                                                               \n",
      "+-----------------------------------------------------------------------------+\n",
      "| Processes:                                                                  |\n",
      "|  GPU   GI   CI        PID   Type   Process name                  GPU Memory |\n",
      "|        ID   ID                                                   Usage      |\n",
      "|=============================================================================|\n",
      "|  No running processes found                                                 |\n",
      "+-----------------------------------------------------------------------------+\n"
     ]
    }
   ],
   "source": [
    "!nvidia-smi"
   ]
  },
  {
   "cell_type": "markdown",
   "metadata": {},
   "source": [
    "### Save hardware configuration"
   ]
  },
  {
   "cell_type": "code",
   "execution_count": 2,
   "metadata": {},
   "outputs": [],
   "source": [
    "# Create the summary file\n",
    "!echo \"Hardware Summary\" > hardware_summary.txt\n",
    "\n",
    "# Fetch and write CPU Information\n",
    "!echo \"\\nCPU Information:\" >> hardware_summary.txt\n",
    "!echo \"-----------------\" >> hardware_summary.txt\n",
    "!lscpu | egrep 'Model name|Socket|Thread|CPU\\(s\\)' >> hardware_summary.txt\n",
    "\n",
    "# Fetch and write Total RAM Information\n",
    "!echo \"\\nTotal RAM Information:\" >> hardware_summary.txt\n",
    "!echo \"-----------------\" >> hardware_summary.txt\n",
    "!free -h | grep Mem | awk '{print $2}' >> hardware_summary.txt\n",
    "\n",
    "\n",
    "# Fetch and write GPU Information\n",
    "!echo \"\\nGPU Information:\" >> hardware_summary.txt\n",
    "!echo \"-----------------\" >> hardware_summary.txt\n",
    "\n",
    "# If you have a Nvidia GPU\n",
    "!nvidia-smi --query-gpu=gpu_name,driver_version,memory.total --format=csv >> hardware_summary.txt\n",
    "\n",
    "# Alternatively for other GPUs\n",
    "# !lspci | grep VGA >> hardware_summary.txt\n"
   ]
  },
  {
   "cell_type": "markdown",
   "metadata": {
    "id": "EEnKElYqY_-n"
   },
   "source": [
    "### Install D-SCRIPT"
   ]
  },
  {
   "cell_type": "code",
   "execution_count": 1,
   "metadata": {
    "colab": {
     "base_uri": "https://localhost:8080/"
    },
    "id": "CgXp5ZBzqqTK",
    "outputId": "4d18eefb-c1ae-4afa-ae3d-dcaa30f2768f"
   },
   "outputs": [
    {
     "name": "stdout",
     "output_type": "stream",
     "text": [
      "Requirement already satisfied: dscript in /usr/local/lib/python3.8/dist-packages (0.2.4)\n",
      "Requirement already satisfied: scikit-learn in /usr/local/lib/python3.8/dist-packages (from dscript) (1.2.2)\n",
      "Requirement already satisfied: matplotlib in /usr/local/lib/python3.8/dist-packages (from dscript) (3.7.1)\n",
      "Requirement already satisfied: scipy in /usr/local/lib/python3.8/dist-packages (from dscript) (1.10.1)\n",
      "Requirement already satisfied: h5py in /usr/local/lib/python3.8/dist-packages (from dscript) (3.8.0)\n",
      "Requirement already satisfied: tqdm in /usr/local/lib/python3.8/dist-packages (from dscript) (4.65.0)\n",
      "Requirement already satisfied: pandas in /usr/local/lib/python3.8/dist-packages (from dscript) (2.0.2)\n",
      "Requirement already satisfied: biopython in /usr/local/lib/python3.8/dist-packages (from dscript) (1.81)\n",
      "Requirement already satisfied: numpy in /usr/local/lib/python3.8/dist-packages (from dscript) (1.23.5)\n",
      "Requirement already satisfied: seaborn in /usr/local/lib/python3.8/dist-packages (from dscript) (0.12.2)\n",
      "Requirement already satisfied: torch>=1.11 in /usr/local/lib/python3.8/dist-packages (from dscript) (2.0.1)\n",
      "Requirement already satisfied: triton==2.0.0 in /usr/local/lib/python3.8/dist-packages (from torch>=1.11->dscript) (2.0.0)\n",
      "Requirement already satisfied: nvidia-cuda-cupti-cu11==11.7.101 in /usr/local/lib/python3.8/dist-packages (from torch>=1.11->dscript) (11.7.101)\n",
      "Requirement already satisfied: typing-extensions in /usr/local/lib/python3.8/dist-packages (from torch>=1.11->dscript) (4.5.0)\n",
      "Requirement already satisfied: nvidia-nccl-cu11==2.14.3 in /usr/local/lib/python3.8/dist-packages (from torch>=1.11->dscript) (2.14.3)\n",
      "Requirement already satisfied: sympy in /usr/local/lib/python3.8/dist-packages (from torch>=1.11->dscript) (1.12)\n",
      "Requirement already satisfied: nvidia-nvtx-cu11==11.7.91 in /usr/local/lib/python3.8/dist-packages (from torch>=1.11->dscript) (11.7.91)\n",
      "Requirement already satisfied: filelock in /usr/local/lib/python3.8/dist-packages (from torch>=1.11->dscript) (3.12.0)\n",
      "Requirement already satisfied: jinja2 in /usr/local/lib/python3.8/dist-packages (from torch>=1.11->dscript) (3.1.2)\n",
      "Requirement already satisfied: nvidia-cuda-nvrtc-cu11==11.7.99 in /usr/local/lib/python3.8/dist-packages (from torch>=1.11->dscript) (11.7.99)\n",
      "Requirement already satisfied: nvidia-cusolver-cu11==11.4.0.1 in /usr/local/lib/python3.8/dist-packages (from torch>=1.11->dscript) (11.4.0.1)\n",
      "Requirement already satisfied: nvidia-curand-cu11==10.2.10.91 in /usr/local/lib/python3.8/dist-packages (from torch>=1.11->dscript) (10.2.10.91)\n",
      "Requirement already satisfied: nvidia-cufft-cu11==10.9.0.58 in /usr/local/lib/python3.8/dist-packages (from torch>=1.11->dscript) (10.9.0.58)\n",
      "Requirement already satisfied: nvidia-cuda-runtime-cu11==11.7.99 in /usr/local/lib/python3.8/dist-packages (from torch>=1.11->dscript) (11.7.99)\n",
      "Requirement already satisfied: nvidia-cusparse-cu11==11.7.4.91 in /usr/local/lib/python3.8/dist-packages (from torch>=1.11->dscript) (11.7.4.91)\n",
      "Requirement already satisfied: networkx in /usr/local/lib/python3.8/dist-packages (from torch>=1.11->dscript) (3.1)\n",
      "Requirement already satisfied: nvidia-cudnn-cu11==8.5.0.96 in /usr/local/lib/python3.8/dist-packages (from torch>=1.11->dscript) (8.5.0.96)\n",
      "Requirement already satisfied: nvidia-cublas-cu11==11.10.3.66 in /usr/local/lib/python3.8/dist-packages (from torch>=1.11->dscript) (11.10.3.66)\n",
      "Requirement already satisfied: setuptools in /usr/local/lib/python3.8/dist-packages (from nvidia-cublas-cu11==11.10.3.66->torch>=1.11->dscript) (67.6.0)\n",
      "Requirement already satisfied: wheel in /usr/local/lib/python3.8/dist-packages (from nvidia-cublas-cu11==11.10.3.66->torch>=1.11->dscript) (0.40.0)\n",
      "Requirement already satisfied: lit in /usr/local/lib/python3.8/dist-packages (from triton==2.0.0->torch>=1.11->dscript) (16.0.5.post0)\n",
      "Requirement already satisfied: cmake in /usr/local/lib/python3.8/dist-packages (from triton==2.0.0->torch>=1.11->dscript) (3.26.3)\n",
      "Requirement already satisfied: pillow>=6.2.0 in /usr/local/lib/python3.8/dist-packages (from matplotlib->dscript) (9.5.0)\n",
      "Requirement already satisfied: kiwisolver>=1.0.1 in /usr/local/lib/python3.8/dist-packages (from matplotlib->dscript) (1.4.4)\n",
      "Requirement already satisfied: pyparsing>=2.3.1 in /usr/local/lib/python3.8/dist-packages (from matplotlib->dscript) (3.0.9)\n",
      "Requirement already satisfied: contourpy>=1.0.1 in /usr/local/lib/python3.8/dist-packages (from matplotlib->dscript) (1.0.7)\n",
      "Requirement already satisfied: packaging>=20.0 in /usr/local/lib/python3.8/dist-packages (from matplotlib->dscript) (23.0)\n",
      "Requirement already satisfied: importlib-resources>=3.2.0 in /usr/local/lib/python3.8/dist-packages (from matplotlib->dscript) (5.12.0)\n",
      "Requirement already satisfied: cycler>=0.10 in /usr/local/lib/python3.8/dist-packages (from matplotlib->dscript) (0.11.0)\n",
      "Requirement already satisfied: python-dateutil>=2.7 in /usr/local/lib/python3.8/dist-packages (from matplotlib->dscript) (2.8.2)\n",
      "Requirement already satisfied: fonttools>=4.22.0 in /usr/local/lib/python3.8/dist-packages (from matplotlib->dscript) (4.39.4)\n",
      "Requirement already satisfied: tzdata>=2022.1 in /usr/local/lib/python3.8/dist-packages (from pandas->dscript) (2023.3)\n",
      "Requirement already satisfied: pytz>=2020.1 in /usr/local/lib/python3.8/dist-packages (from pandas->dscript) (2023.3)\n",
      "Requirement already satisfied: threadpoolctl>=2.0.0 in /usr/local/lib/python3.8/dist-packages (from scikit-learn->dscript) (3.1.0)\n",
      "Requirement already satisfied: joblib>=1.1.1 in /usr/local/lib/python3.8/dist-packages (from scikit-learn->dscript) (1.2.0)\n",
      "Requirement already satisfied: zipp>=3.1.0 in /usr/local/lib/python3.8/dist-packages (from importlib-resources>=3.2.0->matplotlib->dscript) (3.15.0)\n",
      "Requirement already satisfied: six>=1.5 in /usr/lib/python3/dist-packages (from python-dateutil>=2.7->matplotlib->dscript) (1.14.0)\n",
      "Requirement already satisfied: MarkupSafe>=2.0 in /usr/local/lib/python3.8/dist-packages (from jinja2->torch>=1.11->dscript) (2.1.2)\n",
      "Requirement already satisfied: mpmath>=0.19 in /usr/local/lib/python3.8/dist-packages (from sympy->torch>=1.11->dscript) (1.3.0)\n",
      "\u001b[33mWARNING: Running pip as the 'root' user can result in broken permissions and conflicting behaviour with the system package manager. It is recommended to use a virtual environment instead: https://pip.pypa.io/warnings/venv\u001b[0m\u001b[33m\n",
      "\u001b[0m\n",
      "\u001b[1m[\u001b[0m\u001b[34;49mnotice\u001b[0m\u001b[1;39;49m]\u001b[0m\u001b[39;49m A new release of pip is available: \u001b[0m\u001b[31;49m23.0.1\u001b[0m\u001b[39;49m -> \u001b[0m\u001b[32;49m23.1.2\u001b[0m\n",
      "\u001b[1m[\u001b[0m\u001b[34;49mnotice\u001b[0m\u001b[1;39;49m]\u001b[0m\u001b[39;49m To update, run: \u001b[0m\u001b[32;49mpython3 -m pip install --upgrade pip\u001b[0m\n"
     ]
    }
   ],
   "source": [
    "!pip install dscript"
   ]
  },
  {
   "cell_type": "code",
   "execution_count": 1,
   "metadata": {},
   "outputs": [
    {
     "name": "stdout",
     "output_type": "stream",
     "text": [
      "Looking in links: https://download.pytorch.org/whl/torch_stable.html\n",
      "Collecting torch==1.9.0+cu111\n",
      "  Downloading https://download.pytorch.org/whl/cu111/torch-1.9.0%2Bcu111-cp38-cp38-linux_x86_64.whl (2041.3 MB)\n",
      "\u001b[2K     \u001b[90m━━━━━━━━━━━━━━━━━━━━━━━━━━━━━━━━━━━━━━━━\u001b[0m \u001b[32m2.0/2.0 GB\u001b[0m \u001b[31m2.9 MB/s\u001b[0m eta \u001b[36m0:00:00\u001b[0m:00:01\u001b[0m00:02\u001b[0m\n",
      "\u001b[?25hCollecting torchvision==0.10.0+cu111\n",
      "  Downloading https://download.pytorch.org/whl/cu111/torchvision-0.10.0%2Bcu111-cp38-cp38-linux_x86_64.whl (23.2 MB)\n",
      "\u001b[2K     \u001b[90m━━━━━━━━━━━━━━━━━━━━━━━━━━━━━━━━━━━━━━━━\u001b[0m \u001b[32m23.2/23.2 MB\u001b[0m \u001b[31m36.2 MB/s\u001b[0m eta \u001b[36m0:00:00\u001b[0m00:01\u001b[0m00:01\u001b[0m\n",
      "\u001b[?25hCollecting torchaudio==0.9.0\n",
      "  Downloading torchaudio-0.9.0-cp38-cp38-manylinux1_x86_64.whl (1.9 MB)\n",
      "\u001b[2K     \u001b[90m━━━━━━━━━━━━━━━━━━━━━━━━━━━━━━━━━━━━━━━━\u001b[0m \u001b[32m1.9/1.9 MB\u001b[0m \u001b[31m9.6 MB/s\u001b[0m eta \u001b[36m0:00:00\u001b[0ma \u001b[36m0:00:01\u001b[0m\n",
      "\u001b[?25hRequirement already satisfied: typing-extensions in /usr/local/lib/python3.8/dist-packages (from torch==1.9.0+cu111) (4.5.0)\n",
      "Requirement already satisfied: pillow>=5.3.0 in /usr/local/lib/python3.8/dist-packages (from torchvision==0.10.0+cu111) (9.5.0)\n",
      "Requirement already satisfied: numpy in /usr/local/lib/python3.8/dist-packages (from torchvision==0.10.0+cu111) (1.23.5)\n",
      "Installing collected packages: torch, torchvision, torchaudio\n",
      "  Attempting uninstall: torch\n",
      "    Found existing installation: torch 2.0.1\n",
      "    Uninstalling torch-2.0.1:\n",
      "      Successfully uninstalled torch-2.0.1\n",
      "\u001b[31mERROR: pip's dependency resolver does not currently take into account all the packages that are installed. This behaviour is the source of the following dependency conflicts.\n",
      "dscript 0.2.4 requires torch>=1.11, but you have torch 1.9.0+cu111 which is incompatible.\u001b[0m\u001b[31m\n",
      "\u001b[0mSuccessfully installed torch-1.9.0+cu111 torchaudio-0.9.0 torchvision-0.10.0+cu111\n",
      "\u001b[33mWARNING: Running pip as the 'root' user can result in broken permissions and conflicting behaviour with the system package manager. It is recommended to use a virtual environment instead: https://pip.pypa.io/warnings/venv\u001b[0m\u001b[33m\n",
      "\u001b[0m\n",
      "\u001b[1m[\u001b[0m\u001b[34;49mnotice\u001b[0m\u001b[1;39;49m]\u001b[0m\u001b[39;49m A new release of pip is available: \u001b[0m\u001b[31;49m23.0.1\u001b[0m\u001b[39;49m -> \u001b[0m\u001b[32;49m23.1.2\u001b[0m\n",
      "\u001b[1m[\u001b[0m\u001b[34;49mnotice\u001b[0m\u001b[1;39;49m]\u001b[0m\u001b[39;49m To update, run: \u001b[0m\u001b[32;49mpython3 -m pip install --upgrade pip\u001b[0m\n"
     ]
    }
   ],
   "source": [
    "import os\n",
    "# Set OMP_NUM_THREADS to \"1\", limiting OpenMP to single-threaded operation\n",
    "os.environ[\"OMP_NUM_THREADS\"] = \"1\""
   ]
  },
  {
   "cell_type": "markdown",
   "metadata": {
    "id": "CWbtOrgFiwtm"
   },
   "source": [
    "### Download trained models"
   ]
  },
  {
   "cell_type": "code",
   "execution_count": 2,
   "metadata": {
    "colab": {
     "base_uri": "https://localhost:8080/"
    },
    "id": "6zpdGarDi1EC",
    "outputId": "afa1634c-69a2-4bb0-b49f-0c2d2f82d27b"
   },
   "outputs": [
    {
     "name": "stdout",
     "output_type": "stream",
     "text": [
      "--2023-06-07 10:13:59--  http://cb.csail.mit.edu/cb/dscript/data/models/topsy_turvy_v1.sav\n",
      "Resolving cb.csail.mit.edu (cb.csail.mit.edu)... 128.30.2.148\n",
      "Connecting to cb.csail.mit.edu (cb.csail.mit.edu)|128.30.2.148|:80... connected.\n",
      "HTTP request sent, awaiting response... 200 OK\n",
      "Length: 2543014 (2.4M)\n",
      "Saving to: ‘topsy_turvy_v1.sav.1’\n",
      "\n",
      "topsy_turvy_v1.sav. 100%[===================>]   2.42M  3.19MB/s    in 0.8s    \n",
      "\n",
      "2023-06-07 10:14:00 (3.19 MB/s) - ‘topsy_turvy_v1.sav.1’ saved [2543014/2543014]\n",
      "\n"
     ]
    }
   ],
   "source": [
    "# Download Human Topsy-Turvy model\n",
    "!wget http://cb.csail.mit.edu/cb/dscript/data/models/topsy_turvy_v1.sav"
   ]
  },
  {
   "cell_type": "markdown",
   "metadata": {
    "id": "r1kMZHiUJWv1"
   },
   "source": [
    "### Download sequence and interaction files for test datasets"
   ]
  },
  {
   "cell_type": "code",
   "execution_count": 3,
   "metadata": {
    "colab": {
     "base_uri": "https://localhost:8080/"
    },
    "id": "JdLmVxtpgpQB",
    "outputId": "ba1f732c-42e0-4f7d-a330-e427379f4c8d"
   },
   "outputs": [
    {
     "name": "stdout",
     "output_type": "stream",
     "text": [
      "--2023-06-07 10:14:02--  https://raw.githubusercontent.com/anhvt00/MCAPS/master/data/Dscript-data/pairs/ecoli_test.tsv\n",
      "Resolving raw.githubusercontent.com (raw.githubusercontent.com)... 185.199.109.133, 185.199.111.133, 185.199.108.133, ...\n",
      "Connecting to raw.githubusercontent.com (raw.githubusercontent.com)|185.199.109.133|:443... connected.\n",
      "HTTP request sent, awaiting response... 200 OK\n",
      "Length: 812468 (793K) [text/plain]\n",
      "Saving to: ‘ecoli_test.tsv’\n",
      "\n",
      "ecoli_test.tsv      100%[===================>] 793.43K  4.89MB/s    in 0.2s    \n",
      "\n",
      "2023-06-07 10:14:03 (4.89 MB/s) - ‘ecoli_test.tsv’ saved [812468/812468]\n",
      "\n",
      "--2023-06-07 10:14:03--  https://raw.githubusercontent.com/anhvt00/MCAPS/master/data/Dscript-data/seqs/ecoli.fasta\n",
      "Resolving raw.githubusercontent.com (raw.githubusercontent.com)... 185.199.110.133, 185.199.109.133, 185.199.111.133, ...\n",
      "Connecting to raw.githubusercontent.com (raw.githubusercontent.com)|185.199.110.133|:443... connected.\n",
      "HTTP request sent, awaiting response... 200 OK\n",
      "Length: 5413511 (5.2M) [text/plain]\n",
      "Saving to: ‘ecoli.fasta’\n",
      "\n",
      "ecoli.fasta         100%[===================>]   5.16M  14.7MB/s    in 0.4s    \n",
      "\n",
      "2023-06-07 10:14:04 (14.7 MB/s) - ‘ecoli.fasta’ saved [5413511/5413511]\n",
      "\n"
     ]
    }
   ],
   "source": [
    "!wget https://raw.githubusercontent.com/anhvt00/MCAPS/master/data/Dscript-data/pairs/ecoli_test.tsv\n",
    "!wget https://raw.githubusercontent.com/anhvt00/MCAPS/master/data/Dscript-data/seqs/ecoli.fasta\n"
   ]
  },
  {
   "cell_type": "markdown",
   "metadata": {
    "id": "00w2RRSsq10I"
   },
   "source": [
    "### Generate embeddings"
   ]
  },
  {
   "cell_type": "code",
   "execution_count": 4,
   "metadata": {
    "colab": {
     "base_uri": "https://localhost:8080/"
    },
    "id": "JYx8fl6Eq4fi",
    "outputId": "e94ac97c-c87b-4afa-b15b-165c1bd92f0f"
   },
   "outputs": [
    {
     "name": "stdout",
     "output_type": "stream",
     "text": [
      "[2023-06-07-10:14:10] # Using CUDA device 0 - NVIDIA A100-SXM4-80GB\n",
      "[2023-06-07-10:14:10] # Loading Model...\n",
      "[2023-06-07-10:14:10] Downloading model lm_v1 from http://cb.csail.mit.edu/cb/dscript/data/models/dscript_lm_v1.pt...\n",
      "[2023-06-07-10:14:43] # Loading Sequences...\n",
      "100%|██████████████████████████████████| 17722/17722 [00:00<00:00, 18486.14it/s]\n",
      "[2023-06-07-10:14:45] # 17722 Sequences Loaded\n",
      "[2023-06-07-10:14:45] # Approximate Storage Required (varies by average sequence length): ~141.776GB\n",
      "[2023-06-07-10:14:45] # Storing to ecoli.h5...\n",
      "100%|█████████████████████████████████████| 17722/17722 [10:02<00:00, 29.40it/s]\n"
     ]
    }
   ],
   "source": [
    "!dscript embed --seqs ecoli.fasta -o ecoli.h5 -d 0"
   ]
  },
  {
   "cell_type": "markdown",
   "metadata": {
    "id": "3v5ZkUXlr5DK"
   },
   "source": [
    "### Evaluate on test dataset"
   ]
  },
  {
   "cell_type": "code",
   "execution_count": 2,
   "metadata": {
    "id": "dJLNH1IZvi2N"
   },
   "outputs": [
    {
     "name": "stdout",
     "output_type": "stream",
     "text": [
      "[2023-06-07-10:31:30] Using CUDA device 0 - NVIDIA A100-SXM4-80GB\n",
      "100%|██████████████████████████████████████| 7138/7138 [00:27<00:00, 257.18it/s]\n",
      "Predicting pairs:   0%|                               | 0/22000 [00:00<?, ?it/s]/usr/local/lib/python3.8/dist-packages/torch/nn/functional.py:718: UserWarning: Named tensors and all their associated APIs are an experimental feature and subject to change. Please do not use them for anything important until they are released as stable. (Triggered internally at  /pytorch/c10/core/TensorImpl.h:1156.)\n",
      "  return torch.max_pool2d(input, kernel_size, stride, padding, dilation, ceil_mode)\n",
      "Predicting pairs: 100%|██████████████████| 22000/22000 [01:42<00:00, 214.21it/s]\n",
      "[2023-06-07-10:33:56] AUPR: 0.371926875057703\n",
      "[2023-06-07-10:33:56] AUROC: 0.6429879125\n"
     ]
    }
   ],
   "source": [
    "# Evaluate with Human Topsy_turvy model \n",
    "!dscript evaluate --model topsy_turvy_v1.sav --test ecoli_test.tsv --embedding ecoli.h5 --outfile ecoli_topsy_turvy -d 0"
   ]
  },
  {
   "cell_type": "markdown",
   "metadata": {},
   "source": [
    "### Read prediction file"
   ]
  },
  {
   "cell_type": "code",
   "execution_count": 5,
   "metadata": {},
   "outputs": [
    {
     "data": {
      "text/html": [
       "<div>\n",
       "<style scoped>\n",
       "    .dataframe tbody tr th:only-of-type {\n",
       "        vertical-align: middle;\n",
       "    }\n",
       "\n",
       "    .dataframe tbody tr th {\n",
       "        vertical-align: top;\n",
       "    }\n",
       "\n",
       "    .dataframe thead th {\n",
       "        text-align: right;\n",
       "    }\n",
       "</style>\n",
       "<table border=\"1\" class=\"dataframe\">\n",
       "  <thead>\n",
       "    <tr style=\"text-align: right;\">\n",
       "      <th></th>\n",
       "      <th>id_1</th>\n",
       "      <th>id_2</th>\n",
       "      <th>true_label</th>\n",
       "      <th>predicted_label</th>\n",
       "    </tr>\n",
       "  </thead>\n",
       "  <tbody>\n",
       "    <tr>\n",
       "      <th>0</th>\n",
       "      <td>362663.ECP_3406</td>\n",
       "      <td>362663.ECP_4448</td>\n",
       "      <td>1.0</td>\n",
       "      <td>0.792360</td>\n",
       "    </tr>\n",
       "    <tr>\n",
       "      <th>1</th>\n",
       "      <td>362663.ECP_0442</td>\n",
       "      <td>362663.ecp:ECP_0985</td>\n",
       "      <td>1.0</td>\n",
       "      <td>0.672620</td>\n",
       "    </tr>\n",
       "    <tr>\n",
       "      <th>2</th>\n",
       "      <td>362663.ECP_3384</td>\n",
       "      <td>362663.ECP_4447</td>\n",
       "      <td>1.0</td>\n",
       "      <td>0.947100</td>\n",
       "    </tr>\n",
       "    <tr>\n",
       "      <th>3</th>\n",
       "      <td>362663.ECP_0161</td>\n",
       "      <td>362663.ecp:ECP_3117</td>\n",
       "      <td>1.0</td>\n",
       "      <td>0.004833</td>\n",
       "    </tr>\n",
       "    <tr>\n",
       "      <th>4</th>\n",
       "      <td>362663.ecp:ECP_1481</td>\n",
       "      <td>362663.ECP_2475</td>\n",
       "      <td>1.0</td>\n",
       "      <td>0.953230</td>\n",
       "    </tr>\n",
       "    <tr>\n",
       "      <th>...</th>\n",
       "      <td>...</td>\n",
       "      <td>...</td>\n",
       "      <td>...</td>\n",
       "      <td>...</td>\n",
       "    </tr>\n",
       "    <tr>\n",
       "      <th>21995</th>\n",
       "      <td>362663.ECP_2384</td>\n",
       "      <td>362663.ECP_2922</td>\n",
       "      <td>0.0</td>\n",
       "      <td>0.016239</td>\n",
       "    </tr>\n",
       "    <tr>\n",
       "      <th>21996</th>\n",
       "      <td>362663.ECP_1743</td>\n",
       "      <td>362663.ECP_1562</td>\n",
       "      <td>0.0</td>\n",
       "      <td>0.490990</td>\n",
       "    </tr>\n",
       "    <tr>\n",
       "      <th>21997</th>\n",
       "      <td>362663.ECP_3662</td>\n",
       "      <td>362663.ECP_4685</td>\n",
       "      <td>0.0</td>\n",
       "      <td>0.402600</td>\n",
       "    </tr>\n",
       "    <tr>\n",
       "      <th>21998</th>\n",
       "      <td>362663.ECP_3212</td>\n",
       "      <td>362663.ECP_3077</td>\n",
       "      <td>0.0</td>\n",
       "      <td>0.491800</td>\n",
       "    </tr>\n",
       "    <tr>\n",
       "      <th>21999</th>\n",
       "      <td>362663.ECP_3645</td>\n",
       "      <td>362663.ECP_0650</td>\n",
       "      <td>0.0</td>\n",
       "      <td>0.060940</td>\n",
       "    </tr>\n",
       "  </tbody>\n",
       "</table>\n",
       "<p>22000 rows × 4 columns</p>\n",
       "</div>"
      ],
      "text/plain": [
       "                      id_1                 id_2  true_label  predicted_label\n",
       "0          362663.ECP_3406      362663.ECP_4448         1.0         0.792360\n",
       "1          362663.ECP_0442  362663.ecp:ECP_0985         1.0         0.672620\n",
       "2          362663.ECP_3384      362663.ECP_4447         1.0         0.947100\n",
       "3          362663.ECP_0161  362663.ecp:ECP_3117         1.0         0.004833\n",
       "4      362663.ecp:ECP_1481      362663.ECP_2475         1.0         0.953230\n",
       "...                    ...                  ...         ...              ...\n",
       "21995      362663.ECP_2384      362663.ECP_2922         0.0         0.016239\n",
       "21996      362663.ECP_1743      362663.ECP_1562         0.0         0.490990\n",
       "21997      362663.ECP_3662      362663.ECP_4685         0.0         0.402600\n",
       "21998      362663.ECP_3212      362663.ECP_3077         0.0         0.491800\n",
       "21999      362663.ECP_3645      362663.ECP_0650         0.0         0.060940\n",
       "\n",
       "[22000 rows x 4 columns]"
      ]
     },
     "execution_count": 5,
     "metadata": {},
     "output_type": "execute_result"
    }
   ],
   "source": [
    "import pandas as pd\n",
    "df = pd.read_csv('ecoli_topsy_turvy.predictions.tsv', sep='\\t', header=None)\n",
    "df.columns = ['id_1', 'id_2', 'true_label', 'predicted_label']\n",
    "df"
   ]
  },
  {
   "cell_type": "markdown",
   "metadata": {},
   "source": [
    "### Compute performance metrics"
   ]
  },
  {
   "cell_type": "code",
   "execution_count": 6,
   "metadata": {},
   "outputs": [
    {
     "name": "stdout",
     "output_type": "stream",
     "text": [
      "accuracy: 0.8875, precision: 0.3981123981123981, recall: 0.464, specificity: 0.92985, mcc: 0.36787355443507613 ,f1-score: 0.4285384437774186, auc: 0.642992375, prc: 0.37191866467616624\n"
     ]
    }
   ],
   "source": [
    "# Import necessary libraries\n",
    "from sklearn.metrics import accuracy_score, precision_score, recall_score, f1_score, roc_auc_score, confusion_matrix, average_precision_score, matthews_corrcoef\n",
    "\n",
    "import numpy as np\n",
    "\n",
    "# Extract prediction and true labels\n",
    "y_true = df.iloc[:, 2]\n",
    "y_prob = df.iloc[:, 3]\n",
    "y_pred = np.round(y_prob)\n",
    "\n",
    "# Accuracy\n",
    "acc = accuracy_score(y_true, y_pred)\n",
    "\n",
    "# Precision\n",
    "prec = precision_score(y_true, y_pred)\n",
    "\n",
    "# Recall\n",
    "rec = recall_score(y_true, y_pred)\n",
    "\n",
    "# Specificity\n",
    "cm = confusion_matrix(y_true, y_pred)\n",
    "tn, fp, fn, tp = cm.ravel()\n",
    "spec = tn / (tn+fp)\n",
    "\n",
    "# MCC score\n",
    "mcc = matthews_corrcoef(y_true, y_pred)\n",
    "\n",
    "# F1 score\n",
    "f1 = f1_score(y_true, y_pred)\n",
    "\n",
    "# AUC-ROC\n",
    "auroc = roc_auc_score(y_true, y_prob)\n",
    "\n",
    "# AUPRC\n",
    "auprc = average_precision_score(y_true, y_prob)\n",
    "\n",
    "print (f'accuracy: {acc}, precision: {prec}, recall: {rec}, specificity: {spec}, mcc: {mcc} ,f1-score: {f1}, auc: {auroc}, prc: {auprc}')\n",
    "\n"
   ]
  }
 ],
 "metadata": {
  "accelerator": "GPU",
  "colab": {
   "machine_shape": "hm",
   "provenance": []
  },
  "kernelspec": {
   "display_name": "Python 3 (ipykernel)",
   "language": "python",
   "name": "python3"
  },
  "language_info": {
   "codemirror_mode": {
    "name": "ipython",
    "version": 3
   },
   "file_extension": ".py",
   "mimetype": "text/x-python",
   "name": "python",
   "nbconvert_exporter": "python",
   "pygments_lexer": "ipython3",
   "version": "3.8.10"
  }
 },
 "nbformat": 4,
 "nbformat_minor": 1
}
