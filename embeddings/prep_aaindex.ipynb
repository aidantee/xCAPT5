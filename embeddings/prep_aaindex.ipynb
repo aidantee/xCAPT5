{
 "cells": [
  {
   "cell_type": "code",
   "execution_count": 1,
   "metadata": {},
   "outputs": [],
   "source": [
    "import pandas as pd\n",
    "import numpy as np"
   ]
  },
  {
   "cell_type": "code",
   "execution_count": 22,
   "metadata": {},
   "outputs": [],
   "source": [
    "df = pd.read_csv(\"AAidx.txt\", sep='\\t')\n",
    "list_amino_acids = df.columns[1:]\n",
    "\n",
    "df_transpose = df.T\n",
    "df_transpose.iloc[1:, :].to_csv('aaidx.txt', header=None, sep='\\t')"
   ]
  }
 ],
 "metadata": {
  "interpreter": {
   "hash": "e7bd760b05497710bf53f80c0ec7300a1e0138a492c59321878284c883f3e91e"
  },
  "kernelspec": {
   "display_name": "Python 3.9.7 ('base')",
   "language": "python",
   "name": "python3"
  },
  "language_info": {
   "codemirror_mode": {
    "name": "ipython",
    "version": 3
   },
   "file_extension": ".py",
   "mimetype": "text/x-python",
   "name": "python",
   "nbconvert_exporter": "python",
   "pygments_lexer": "ipython3",
   "version": "3.9.7"
  },
  "orig_nbformat": 4
 },
 "nbformat": 4,
 "nbformat_minor": 2
}
